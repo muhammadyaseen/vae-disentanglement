{
 "cells": [
  {
   "cell_type": "code",
   "execution_count": 73,
   "metadata": {},
   "outputs": [],
   "source": [
    "import matplotlib.pyplot as plt\n",
    "import numpy as np"
   ]
  },
  {
   "cell_type": "code",
   "execution_count": 74,
   "metadata": {},
   "outputs": [],
   "source": [
    "def draw_svd_separately(M, xs, ys): \n",
    "    # now plot individual transformations\n",
    "    U,S, Vt = np.linalg.svd(M)\n",
    "\n",
    "    print(U)\n",
    "    print(S)\n",
    "    print(Vt)\n",
    "\n",
    "    S_mat = np.array([\n",
    "        [S[0] , 0],\n",
    "        [0,    S[1]]\n",
    "    ])\n",
    "\n",
    "    Vx = np.matmul(Vt, v.T)\n",
    "    SVx = np.matmul(S_mat, Vx)\n",
    "    USVx = np.matmul(U, SVx)\n",
    "\n",
    "    figure, axes = plt.subplots(1)\n",
    "\n",
    "    axes.scatter(v.T[0], v.T[1], marker='.', c='black')\n",
    "    axes.scatter(Vx[0], Vx[1], marker='.', c='red')\n",
    "    axes.scatter(SVx[0], SVx[1], marker='.', c='green')\n",
    "    axes.scatter(USVx[0], USVx[1], marker='.', c='blue')\n",
    "\n",
    "    #axes.set_ylim(-2,2)\n",
    "    #axes.set_xlim(-3,3)\n",
    "\n",
    "    axes.set_aspect('equal', adjustable='box')"
   ]
  },
  {
   "cell_type": "code",
   "execution_count": 75,
   "metadata": {},
   "outputs": [
    {
     "name": "stdout",
     "output_type": "stream",
     "text": [
      "[[-0.59025263 -0.80721858]\n",
      " [-0.80721858  0.59025263]]\n",
      "[7.07720233 1.97818281]\n",
      "[[-0.73709891 -0.67578487]\n",
      " [ 0.67578487 -0.73709891]]\n"
     ]
    },
    {
     "data": {
      "image/png": "[encoded data removed]",
      "text/plain": [
       "<Figure size 432x288 with 1 Axes>"
      ]
     },
     "metadata": {
      "needs_background": "light"
     },
     "output_type": "display_data"
    },
    {
     "data": {
      "image/png": "[encoded data removed]",
      "text/plain": [
       "<Figure size 432x288 with 1 Axes>"
      ]
     },
     "metadata": {
      "needs_background": "light"
     },
     "output_type": "display_data"
    }
   ],
   "source": [
    "M = np.array([\n",
    "    [2, 4],\n",
    "    [5, 3]\n",
    "])\n",
    "\n",
    "# For circle\n",
    "# theta = np.linspace(0, 2*np.pi, 30)\n",
    "# radius = 0.3\n",
    "# xs = radius * np.cos(theta)\n",
    "# ys = radius * np.sin(theta)\n",
    "\n",
    "# for square \n",
    "a = np.linspace(-2,2, num=10)\n",
    "b = np.array([-2]*10)\n",
    "xs = np.concatenate([a, a, b, b+4])\n",
    "ys = np.concatenate([b, b+4, a, a])\n",
    "\n",
    "figure, axes = plt.subplots(1)\n",
    "axes.scatter(xs, ys, marker='.')\n",
    "\n",
    "xs = np.expand_dims(xs, axis=1)\n",
    "ys = np.expand_dims(ys, axis=1)\n",
    "v = np.concatenate([xs, ys],axis=1)\n",
    "\n",
    "transformedVs = np.matmul(M, v.T)\n",
    "axes.scatter(transformedVs[0], transformedVs[1], marker='.')\n",
    "axes.set_aspect('equal', adjustable='box')\n",
    "\n",
    "draw_svd_separately(M, xs, ys)"
   ]
  },
  {
   "cell_type": "code",
   "execution_count": 76,
   "metadata": {},
   "outputs": [
    {
     "name": "stdout",
     "output_type": "stream",
     "text": [
      "[[-0.59025263 -0.80721858]\n",
      " [-0.80721858  0.59025263]]\n",
      "[7.07720233 1.97818281]\n",
      "[[-0.73709891 -0.67578487]\n",
      " [ 0.67578487 -0.73709891]]\n"
     ]
    },
    {
     "data": {
      "image/png": "[encoded data removed]",
      "text/plain": [
       "<Figure size 432x288 with 1 Axes>"
      ]
     },
     "metadata": {
      "needs_background": "light"
     },
     "output_type": "display_data"
    },
    {
     "data": {
      "image/png": "[encoded data removed]",
      "text/plain": [
       "<Figure size 432x288 with 1 Axes>"
      ]
     },
     "metadata": {
      "needs_background": "light"
     },
     "output_type": "display_data"
    }
   ],
   "source": [
    "M = np.array([\n",
    "    [2, 4],\n",
    "    [5, 3]\n",
    "])\n",
    "\n",
    "# For circle\n",
    "theta = np.linspace(0, 2*np.pi, 30)\n",
    "radius = 0.3\n",
    "xs = radius * np.cos(theta)\n",
    "ys = radius * np.sin(theta)\n",
    "\n",
    "figure, axes = plt.subplots(1)\n",
    "axes.scatter(xs, ys, marker='.')\n",
    "\n",
    "xs = np.expand_dims(xs, axis=1)\n",
    "ys = np.expand_dims(ys, axis=1)\n",
    "v = np.concatenate([xs, ys],axis=1)\n",
    "\n",
    "transformedVs = np.matmul(M, v.T)\n",
    "axes.scatter(transformedVs[0], transformedVs[1], marker='.')\n",
    "axes.set_aspect('equal', adjustable='box')\n",
    "\n",
    "draw_svd_separately(M, xs, ys)"
   ]
  },
  {
   "cell_type": "code",
   "execution_count": null,
   "metadata": {},
   "outputs": [],
   "source": []
  }
 ],
 "metadata": {
  "kernelspec": {
   "display_name": "Python 3",
   "language": "python",
   "name": "python3"
  },
  "language_info": {
   "codemirror_mode": {
    "name": "ipython",
    "version": 3
   },
   "file_extension": ".py",
   "mimetype": "text/x-python",
   "name": "python",
   "nbconvert_exporter": "python",
   "pygments_lexer": "ipython3",
   "version": "3.8.5"
  }
 },
 "nbformat": 4,
 "nbformat_minor": 4
}
