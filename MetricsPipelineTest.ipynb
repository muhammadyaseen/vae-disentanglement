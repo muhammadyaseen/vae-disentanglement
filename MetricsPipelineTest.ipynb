{
 "cells": [
  {
   "cell_type": "code",
   "execution_count": 1,
   "id": "3178d662",
   "metadata": {},
   "outputs": [
    {
     "name": "stdout",
     "output_type": "stream",
     "text": [
      "/home/c01muya/vae-disentanglement/disentanglement_lib_pl\n"
     ]
    }
   ],
   "source": [
    "cd /home/c01muya/vae-disentanglement/disentanglement_lib_pl/"
   ]
  },
  {
   "cell_type": "code",
   "execution_count": 2,
   "id": "4cc0264a",
   "metadata": {},
   "outputs": [],
   "source": [
    "\n",
    "import random\n",
    "import os\n",
    "import numpy as np\n",
    "import matplotlib.pyplot as plt\n",
    "from matplotlib.offsetbox import OffsetImage, AnnotationBbox\n",
    "import seaborn as sns\n",
    "\n",
    "import torch\n",
    "import torchvision.utils as vutils\n",
    "import torchvision.transforms.functional as T\n",
    "from torch.utils.data import DataLoader\n",
    "from torchvision import transforms\n",
    "\n",
    "from vae_experiment import VAEExperiment\n",
    "from common.data_loader import DSpritesDataset, ThreeShapesDataset, ContinumDataset\n",
    "from notebook_utils import *\n",
    "from evaluation import evaluation_utils\n",
    "\n",
    "# Change figure aesthetics\n",
    "%matplotlib inline\n",
    "sns.set_context('talk', font_scale=1.2, rc={'lines.linewidth': 1.5})\n"
   ]
  },
  {
   "cell_type": "code",
   "execution_count": 3,
   "id": "8370f477",
   "metadata": {},
   "outputs": [],
   "source": [
    "curr_dev = torch.device(\"cuda:2\")\n",
    "batch_size = 144\n",
    "seed = 123\n",
    "\n",
    "torch.manual_seed(seed)\n",
    "random.seed(seed)\n",
    "np.random.seed(seed)"
   ]
  },
  {
   "cell_type": "code",
   "execution_count": 4,
   "id": "cf5bb906",
   "metadata": {},
   "outputs": [
    {
     "name": "stderr",
     "output_type": "stream",
     "text": [
      "100%|████████████████████████████████████████████| 140/140 [00:02<00:00, 52.41it/s]\n"
     ]
    }
   ],
   "source": [
    "# load model\n",
    "beta = 1.0\n",
    "z_dim = 2\n",
    "batch_size = 64\n",
    "checkpoint_path=\"../pl-dt-test/3shapesnoisy_beta1/version_0/checkpoints/epoch=99-step=13999.ckpt\"\n",
    "\n",
    "\n",
    "acts_for_threeshapesn, threeshapesn_dataset, model_threeshapesn = load_model_and_data_and_get_activations(\n",
    "                    dset_name='threeshapesnoisy', dset_path='../datasets', \n",
    "                    batch_size=batch_size, z_dim=z_dim , beta=beta, \n",
    "                    checkpoint_path=checkpoint_path, current_device=curr_dev, \n",
    "                    activation_with_label=True, seed=123,  batches=None\n",
    "    )"
   ]
  },
  {
   "cell_type": "code",
   "execution_count": 6,
   "id": "6c103015",
   "metadata": {},
   "outputs": [
    {
     "name": "stderr",
     "output_type": "stream",
     "text": [
      "WARNING:root:Argument blacklist is deprecated. Please use denylist.\n",
      "WARNING:root:Argument blacklist is deprecated. Please use denylist.\n",
      "WARNING:root:Argument blacklist is deprecated. Please use denylist.\n",
      "WARNING:root:Argument blacklist is deprecated. Please use denylist.\n",
      "WARNING:root:Argument blacklist is deprecated. Please use denylist.\n",
      "WARNING:root:Argument blacklist is deprecated. Please use denylist.\n",
      "WARNING:root:Argument blacklist is deprecated. Please use denylist.\n",
      "WARNING:root:Argument blacklist is deprecated. Please use denylist.\n",
      "WARNING:root:Argument blacklist is deprecated. Please use denylist.\n",
      "WARNING:root:Argument blacklist is deprecated. Please use denylist.\n",
      "WARNING:root:Argument blacklist is deprecated. Please use denylist.\n",
      "WARNING:root:Argument blacklist is deprecated. Please use denylist.\n",
      "WARNING:root:Argument blacklist is deprecated. Please use denylist.\n",
      "WARNING:root:Argument blacklist is deprecated. Please use denylist.\n",
      "WARNING:root:Argument blacklist is deprecated. Please use denylist.\n",
      "WARNING:root:Argument blacklist is deprecated. Please use denylist.\n",
      "WARNING:root:Argument blacklist is deprecated. Please use denylist.\n"
     ]
    },
    {
     "name": "stdout",
     "output_type": "stream",
     "text": [
      "Getting non-builtin dataset [threeshapesnoisy] for eval... \n"
     ]
    },
    {
     "name": "stderr",
     "output_type": "stream",
     "text": [
      "/home/c01muya/anaconda3/envs/pytorch-env/lib/python3.9/site-packages/scipy/stats/_entropy.py:82: RuntimeWarning: invalid value encountered in true_divide\n",
      "  S /= np.log(base)\n"
     ]
    },
    {
     "name": "stdout",
     "output_type": "stream",
     "text": [
      "{'informativeness_train': 1.0, 'informativeness_test': 0.9994, 'disentanglement': nan, 'completeness': 0.7989257199470422, 'elapsed_time': 15.72533106803894, 'uuid': '3b8aa55f-60b1-4ae4-b0f6-331e0c36c35d'}\n",
      "Getting non-builtin dataset [threeshapesnoisy] for eval... \n",
      "{'discrete_mig': 0.4201960447251299, 'elapsed_time': 6.02137017250061, 'uuid': '8c68ed83-ad1d-4a93-b4bc-d0751b848015'}\n"
     ]
    }
   ],
   "source": [
    "import os\n",
    "os.environ['DATASET_NAME'] = \"threeshapesnoisy\"\n",
    "os.environ['DISENTANGLEMENT_LIB_DATA'] = \"/home/c01muya/vae-disentanglement/datasets/\"\n",
    "\n",
    "evaluation_results = evaluation_utils.evaluate_disentanglement_metric(model_threeshapesn.model, \n",
    "                                                eval_results_dir=\".\",\n",
    "                                                metric_names=['dci','mig'],\n",
    "                                                dataset_name='threeshapesnoisy'\n",
    "                            )"
   ]
  },
  {
   "cell_type": "code",
   "execution_count": 6,
   "id": "ce0d9f5c",
   "metadata": {},
   "outputs": [
    {
     "data": {
      "text/plain": [
       "{'eval_dci': 0.7989257199470422, 'eval_mig': 0.4201960447251299}"
      ]
     },
     "execution_count": 6,
     "metadata": {},
     "output_type": "execute_result"
    }
   ],
   "source": [
    "evaluation_results"
   ]
  },
  {
   "cell_type": "code",
   "execution_count": null,
   "id": "51dae790",
   "metadata": {},
   "outputs": [],
   "source": [
    "from common.evaluation_datasets import ThreeShapesData\n",
    "tsd = ThreeShapesData(is_noisy=True)\n",
    "random_state = np.random.RandomState(seed)\n",
    "tsd.sample(5, random_state)\n",
    "fs = tsd.sample_factors(10, random_state)\n",
    "N =10000\n",
    "one_third = N // 3\n",
    "shape_ranges = {\n",
    "    'triangle': range(0, one_third),\n",
    "    'square':   range(one_third, 2*one_third),\n",
    "    'circle':   range(2*one_third, N)\n",
    "}\n",
    "t=np.array([\n",
    "                [0, one_third],\n",
    "                [one_third, 2*one_third],\n",
    "                [2*one_third, N]\n",
    "            ])\n",
    "\n",
    "code_to_name = {0: 'triangle', 1: 'square', 2: 'circle'}\n",
    "fs = tsd.sample_factors(10, random_state)\n",
    "indices = [random_state.choice( range(t[shape_code.item()][0],t[shape_code.item()][1])) for shape_code in fs]"
   ]
  },
  {
   "cell_type": "code",
   "execution_count": null,
   "id": "4cf1e022",
   "metadata": {},
   "outputs": [],
   "source": []
  }
 ],
 "metadata": {
  "kernelspec": {
   "display_name": "Python 3 (ipykernel)",
   "language": "python",
   "name": "python3"
  },
  "language_info": {
   "codemirror_mode": {
    "name": "ipython",
    "version": 3
   },
   "file_extension": ".py",
   "mimetype": "text/x-python",
   "name": "python",
   "nbconvert_exporter": "python",
   "pygments_lexer": "ipython3",
   "version": "3.9.6"
  }
 },
 "nbformat": 4,
 "nbformat_minor": 5
}
