{
 "cells": [
  {
   "cell_type": "code",
   "execution_count": 2,
   "metadata": {},
   "outputs": [
    {
     "name": "stdout",
     "output_type": "stream",
     "text": [
      "/media/DATA/Saarbrucken/EDA_Research/thesis_code/disent-vaes\n"
     ]
    }
   ],
   "source": [
    "cd /media/DATA/Saarbrucken/EDA_Research/thesis_code/disent-vaes"
   ]
  },
  {
   "cell_type": "code",
   "execution_count": 12,
   "metadata": {},
   "outputs": [],
   "source": [
    "import PIL\n",
    "from PIL import Image, ImageDraw\n",
    "from IPython.display import display\n",
    "import numpy as np\n",
    "import json\n",
    "import matplotlib.pyplot as plt\n",
    "\n",
    "#from continum_dataloader import ContinumDataset\n",
    "#from torch.utils.data import DataLoader\n",
    "from tqdm import tqdm\n",
    "\n",
    "%matplotlib inline"
   ]
  },
  {
   "cell_type": "markdown",
   "metadata": {},
   "source": [
    "## Draw Ellipse or Rectangle"
   ]
  },
  {
   "cell_type": "code",
   "execution_count": 2,
   "metadata": {},
   "outputs": [],
   "source": [
    "fill_color = (255, 255, 255)\n",
    "outline_color = (0, 0, 0)\n",
    "bg_color = (0, 0, 0)\n",
    "W,H = 64, 64\n",
    "\n",
    "save_path = \"D:\\\\Saarbrucken\\\\EDA_Research\\\\thesis_code\\\\1dvaetestdata\\\\testdata\\\\\"\n",
    "\n",
    "#draw.ellipse((50, 50, 150, 150), fill=fill_color, outline=outline_color)\n",
    "\n",
    "for i in range(1000):\n",
    "    continue\n",
    "    x_offset, y_offset = 4 * np.random.randn() + 1,  2 * np.random.randn() + 1\n",
    "    #print(x_offset, y_offset)\n",
    "    im = Image.new('RGB', (W, H), bg_color)\n",
    "    draw = ImageDraw.Draw(im)\n",
    "    rect_bounds = (W/4 + x_offset, W/4 + y_offset, W/2 + x_offset, W/2 + y_offset)\n",
    "    \n",
    "    what_to_gen = np.random.randint(low=0,high=2) # 0 = circle, 1 = square, high is exclusive\n",
    "    \n",
    "    draw.rectangle(ellipse_bounds if what_to_gen == 1 else rect_bounds, \n",
    "                   fill=fill_color, \n",
    "                   outline=outline_color)\n",
    "    \n",
    "    im.save(save_path + f'image{i}_{what_to_gen}.jpg')\n",
    "    #display(im)\n"
   ]
  },
  {
   "cell_type": "markdown",
   "metadata": {},
   "source": [
    "## Draw Rounded Rectangle, morphing into Circle"
   ]
  },
  {
   "cell_type": "code",
   "execution_count": 24,
   "metadata": {},
   "outputs": [],
   "source": [
    "fill_color = 255\n",
    "outline_color = 0\n",
    "bg_color = 0\n",
    "W,H = 64, 64\n",
    "\n",
    "save_path = \"D:\\\\Saarbrucken\\\\EDA_Research\\\\thesis_code\\\\datasets\\\\OneDimContinumData\\\\\"\n",
    "\n",
    "for i in tqdm(range(20000)):\n",
    "\n",
    "    im = Image.new('L', (W, H), bg_color)\n",
    "    draw = ImageDraw.Draw(im)\n",
    "    x_offset, y_offset = 0, 0\n",
    "    rect_bounds = (W / 4 + x_offset,\n",
    "                   W / 4 + y_offset,\n",
    "                   W / (4/3) + x_offset,\n",
    "                   W / (4/3) + y_offset)\n",
    "    #rnd_radius = np.random.randint(low=0, high=9)\n",
    "    rnd_radius = np.random.choice(range(1,20,4))\n",
    "    draw.rounded_rectangle(rect_bounds,\n",
    "               radius=rnd_radius,\n",
    "               fill=fill_color, \n",
    "               outline=outline_color)\n",
    "    #display(im)\n",
    "    im.save(save_path + f'image_{i}_{rnd_radius}.jpg')"
   ]
  },
  {
   "cell_type": "markdown",
   "metadata": {},
   "source": [
    "## Three shapes: Triangle, Rectanle, Circle"
   ]
  },
  {
   "cell_type": "code",
   "execution_count": 11,
   "metadata": {},
   "outputs": [
    {
     "name": "stderr",
     "output_type": "stream",
     "text": [
      "\r",
      "  0%|          | 0/20 [00:00<?, ?it/s]"
     ]
    },
    {
     "data": {
      "image/png": "[encoded data removed]",
      "text/plain": [
       "<PIL.Image.Image image mode=L size=64x64 at 0x7FF6DC775940>"
      ]
     },
     "metadata": {},
     "output_type": "display_data"
    },
    {
     "data": {
      "image/png": "[encoded data removed]",
      "text/plain": [
       "<PIL.Image.Image image mode=L size=64x64 at 0x7FF6CC0FCB80>"
      ]
     },
     "metadata": {},
     "output_type": "display_data"
    },
    {
     "data": {
      "image/png": "[encoded data removed]",
      "text/plain": [
       "<PIL.Image.Image image mode=L size=64x64 at 0x7FF6DC775760>"
      ]
     },
     "metadata": {},
     "output_type": "display_data"
    },
    {
     "data": {
      "image/png": "[encoded data removed]",
      "text/plain": [
       "<PIL.Image.Image image mode=L size=64x64 at 0x7FF6CC170E50>"
      ]
     },
     "metadata": {},
     "output_type": "display_data"
    },
    {
     "data": {
      "image/png": "[encoded data removed]",
      "text/plain": [
       "<PIL.Image.Image image mode=L size=64x64 at 0x7FF6DC775940>"
      ]
     },
     "metadata": {},
     "output_type": "display_data"
    },
    {
     "data": {
      "image/png": "[encoded data removed]",
      "text/plain": [
       "<PIL.Image.Image image mode=L size=64x64 at 0x7FF6CC137430>"
      ]
     },
     "metadata": {},
     "output_type": "display_data"
    },
    {
     "data": {
      "image/png": "[encoded data removed]",
      "text/plain": [
       "<PIL.Image.Image image mode=L size=64x64 at 0x7FF6CC137610>"
      ]
     },
     "metadata": {},
     "output_type": "display_data"
    },
    {
     "data": {
      "image/png": "[encoded data removed]",
      "text/plain": [
       "<PIL.Image.Image image mode=L size=64x64 at 0x7FF6DC775940>"
      ]
     },
     "metadata": {},
     "output_type": "display_data"
    },
    {
     "data": {
      "image/png": "[encoded data removed]",
      "text/plain": [
       "<PIL.Image.Image image mode=L size=64x64 at 0x7FF6CC137610>"
      ]
     },
     "metadata": {},
     "output_type": "display_data"
    },
    {
     "data": {
      "image/png": "[encoded data removed]",
      "text/plain": [
       "<PIL.Image.Image image mode=L size=64x64 at 0x7FF6CC137400>"
      ]
     },
     "metadata": {},
     "output_type": "display_data"
    },
    {
     "data": {
      "image/png": "[encoded data removed]",
      "text/plain": [
       "<PIL.Image.Image image mode=L size=64x64 at 0x7FF6CC170A00>"
      ]
     },
     "metadata": {},
     "output_type": "display_data"
    },
    {
     "data": {
      "image/png": "[encoded data removed]",
      "text/plain": [
       "<PIL.Image.Image image mode=L size=64x64 at 0x7FF6CC137610>"
      ]
     },
     "metadata": {},
     "output_type": "display_data"
    },
    {
     "data": {
      "image/png": "[encoded data removed]",
      "text/plain": [
       "<PIL.Image.Image image mode=L size=64x64 at 0x7FF6CC0FCB80>"
      ]
     },
     "metadata": {},
     "output_type": "display_data"
    },
    {
     "data": {
      "image/png": "[encoded data removed]",
      "text/plain": [
       "<PIL.Image.Image image mode=L size=64x64 at 0x7FF6CC137610>"
      ]
     },
     "metadata": {},
     "output_type": "display_data"
    },
    {
     "data": {
      "image/png": "[encoded data removed]",
      "text/plain": [
       "<PIL.Image.Image image mode=L size=64x64 at 0x7FF6DC775760>"
      ]
     },
     "metadata": {},
     "output_type": "display_data"
    },
    {
     "data": {
      "image/png": "[encoded data removed]",
      "text/plain": [
       "<PIL.Image.Image image mode=L size=64x64 at 0x7FF6CC137400>"
      ]
     },
     "metadata": {},
     "output_type": "display_data"
    },
    {
     "data": {
      "image/png": "[encoded data removed]",
      "text/plain": [
       "<PIL.Image.Image image mode=L size=64x64 at 0x7FF6CC137430>"
      ]
     },
     "metadata": {},
     "output_type": "display_data"
    },
    {
     "data": {
      "image/png": "[encoded data removed]",
      "text/plain": [
       "<PIL.Image.Image image mode=L size=64x64 at 0x7FF6CC1376D0>"
      ]
     },
     "metadata": {},
     "output_type": "display_data"
    },
    {
     "data": {
      "image/png": "[encoded data removed]",
      "text/plain": [
       "<PIL.Image.Image image mode=L size=64x64 at 0x7FF6CC0FCB80>"
      ]
     },
     "metadata": {},
     "output_type": "display_data"
    },
    {
     "data": {
      "image/png": "[encoded data removed]",
      "text/plain": [
       "<PIL.Image.Image image mode=L size=64x64 at 0x7FF6CC137400>"
      ]
     },
     "metadata": {},
     "output_type": "display_data"
    },
    {
     "name": "stderr",
     "output_type": "stream",
     "text": [
      "100%|██████████| 20/20 [00:00<00:00, 480.60it/s]\n"
     ]
    }
   ],
   "source": [
    "fill_color = 255\n",
    "outline_color = 0\n",
    "bg_color = 0\n",
    "W,H = 64, 64\n",
    "\n",
    "add_noise = True\n",
    "\n",
    "save_path = \"/media/DATA/Saarbrucken/EDA_Research/thesis_code/datasets/ThreeShapesData/\"\n",
    "\n",
    "# defines the bounding circle inside which our polygons are drawn\n",
    "circle_radius = 24\n",
    "circle_center = (W/2,H/2)\n",
    "bounding_circle = (circle_center, circle_radius)\n",
    "\n",
    "n_sides = { 'triangle': 3,\n",
    "            'square': 4,\n",
    "            'circle': 500\n",
    "          }\n",
    "\n",
    "for i in tqdm(range(20)):\n",
    "    \n",
    "    im = Image.new('L', (W, H), bg_color)\n",
    "    draw = ImageDraw.Draw(im)\n",
    "\n",
    "    chosen_shape = np.random.choice(list(n_sides.keys()))\n",
    "\n",
    "    if add_noise:\n",
    "        \n",
    "        # add N(2,1)\n",
    "        noise_mu, noise_s = 3, 1\n",
    "        x_offset = noise_mu * np.random.randn() + noise_s  \n",
    "        y_offset = noise_mu * np.random.randn() + noise_s\n",
    "        \n",
    "        circle_center = (W/2 + x_offset, H/2 + y_offset)\n",
    "        \n",
    "        bounding_circle = (circle_center, circle_radius)\n",
    "\n",
    "        \n",
    "    draw.regular_polygon( bounding_circle, n_sides[chosen_shape], \n",
    "                         rotation=0,\n",
    "                         fill=fill_color, \n",
    "                         outline=outline_color)\n",
    "\n",
    "    display(im)\n",
    "    #im.save(save_path + f'image_{i}_{chosen_shape}.jpg')\n"
   ]
  },
  {
   "cell_type": "code",
   "execution_count": 7,
   "metadata": {},
   "outputs": [
    {
     "data": {
      "text/plain": [
       "(4.632802053765503, 6.277814959271515)"
      ]
     },
     "execution_count": 7,
     "metadata": {},
     "output_type": "execute_result"
    }
   ],
   "source": [
    "(10/2 + np.random.randn(),10/2 + np.random.randn())"
   ]
  },
  {
   "cell_type": "code",
   "execution_count": null,
   "metadata": {},
   "outputs": [],
   "source": []
  }
 ],
 "metadata": {
  "kernelspec": {
   "display_name": "Python 3",
   "language": "python",
   "name": "python3"
  },
  "language_info": {
   "codemirror_mode": {
    "name": "ipython",
    "version": 3
   },
   "file_extension": ".py",
   "mimetype": "text/x-python",
   "name": "python",
   "nbconvert_exporter": "python",
   "pygments_lexer": "ipython3",
   "version": "3.8.8"
  }
 },
 "nbformat": 4,
 "nbformat_minor": 4
}
