{
 "cells": [
  {
   "cell_type": "code",
   "execution_count": 1,
   "id": "b053d40e",
   "metadata": {},
   "outputs": [
    {
     "name": "stdout",
     "output_type": "stream",
     "text": [
      "/home/c01muya/vae-disentanglement/disentanglement_lib_pl\n"
     ]
    }
   ],
   "source": [
    "cd /home/c01muya/vae-disentanglement/disentanglement_lib_pl"
   ]
  },
  {
   "cell_type": "code",
   "execution_count": 2,
   "id": "997811d0",
   "metadata": {},
   "outputs": [],
   "source": [
    "import yaml\n",
    "import numpy as np\n",
    "import os\n",
    "import matplotlib.pyplot as plt\n",
    "from matplotlib.pyplot import figure\n",
    "import seaborn as sns\n",
    "from collections import defaultdict, namedtuple\n",
    "from tqdm import tqdm\n",
    "\n",
    "import torch\n",
    "import torchvision.utils as vutils\n",
    "import torchvision.transforms.functional as T\n",
    "from torch.utils.data import DataLoader\n",
    "from torchvision import transforms\n",
    "\n",
    "from vae_experiment import VAEExperiment\n",
    "from common.data_loader import DSpritesDataset\n",
    "# import (correlated)dsprites\n",
    "\n",
    "# Change figure aesthetics\n",
    "%matplotlib inline\n",
    "sns.set_context('talk', font_scale=1.2, rc={'lines.linewidth': 1.5})"
   ]
  },
  {
   "cell_type": "code",
   "execution_count": 58,
   "id": "7363deb7",
   "metadata": {},
   "outputs": [],
   "source": [
    "curr_dev = torch.device(\"cuda:2\")\n",
    "dset_name = 'dsprites_correlated'\n",
    "dset_dir = '../datasets'\n",
    "batch_size = 144\n",
    "seed = 2048\n",
    "\n",
    "ModelParams = namedtuple('ModelParams', [\"z_dim\", \"l_dim\", \"num_labels\" , \"in_channels\", \n",
    "                                        \"image_size\", \"batch_size\", \"w_recon\", \"w_kld\", \n",
    "                                         \"controlled_capacity_increase\", \"max_c\", \"iterations_c\",\n",
    "                                        \"w_tc\", \"w_infovae\", \"w_dipvae\", \"lambda_od\", \"lambda_d_factor\",\n",
    "                                        \"encoder\", \"decoder\", \"loss_terms\"])\n",
    "\n",
    "\n",
    "experiment_config = dict(\n",
    "        in_channels=1,\n",
    "        image_size=64,\n",
    "        LR=1e-4,\n",
    "        weight_decay=0.0,       \n",
    "        dataset=dset_name,\n",
    "        datapath=dset_dir,\n",
    "        droplast=True,        \n",
    "        batch_size=batch_size,\n",
    "        num_workers=8,\n",
    "        pin_memory=True,\n",
    "        seed=seed,\n",
    "        evaluation_metrics=None,\n",
    "        visdom_on=False\n",
    ")\n",
    "\n",
    "def load_vae_model(algo_name, checkpoint_path, curr_dev, \n",
    "                   model_params, exp_params):\n",
    "    \n",
    "    import models\n",
    "    \n",
    "    vae_model_class = getattr(models, algo_name)\n",
    "    vae_model = vae_model_class(model_params)\n",
    "        \n",
    "    vae_experiment = VAEExperiment.load_from_checkpoint(\n",
    "        checkpoint_path,\n",
    "        map_location=curr_dev,\n",
    "        vae_model=vae_model, \n",
    "        params=exp_params)\n",
    "\n",
    "    vae_experiment = vae_experiment.to(curr_dev)\n",
    "\n",
    "    return vae_experiment\n",
    "\n",
    "def get_latent_activations(dataset, vae_model):\n",
    "\n",
    "    batch_size = 32\n",
    "    \n",
    "    loader = DataLoader(dataset, batch_size=batch_size, shuffle = True, drop_last=True)\n",
    "    latent_act_dict = defaultdict(list)\n",
    "    batch_no = 0\n",
    "    for x_batch, label_batch in tqdm(loader):\n",
    "        #batch_no += 1\n",
    "        #if batch_no > 2000:\n",
    "        #    break\n",
    "        # First we encode this batch\n",
    "        x_batch = x_batch.to(curr_dev)\n",
    "        #print(x_batch.shape)\n",
    "        mu_batch, log_var_batch = vae_model.model.encode(x_batch)\n",
    "\n",
    "        # Then, we get \\mu and \\sigma for this batch\n",
    "        mu_batch = mu_batch.detach().cpu().numpy()\n",
    "        log_var_batch = log_var_batch.detach().cpu().numpy()\n",
    "\n",
    "        # and labels\n",
    "        label_batch = label_batch.cpu().numpy()\n",
    "\n",
    "        # using labels, we place all \\mu's belonging to same class together\n",
    "        for b in range(batch_size):\n",
    "\n",
    "            label_of_this_x = label_batch[b]\n",
    "            \n",
    "            # for reach dimension\n",
    "            for g, g_dim in enumerate(label_of_this_x): \n",
    "                \n",
    "                latent_act_dict[g].append(g_dim.item())\n",
    "                \n",
    "                #g_dim_val = g_dim.item()\n",
    "                #if g_dim_val in latent_act_dict[g].keys(): \n",
    "                #    latent_act_dict[g][g_dim_val].append(mu_batch[b][g].item())\n",
    "                #else:\n",
    "                #    latent_act_dict[g][g_dim_val] = []\n",
    "                #    latent_act_dict[g][g_dim_val].append(mu_batch[b][g].item())\n",
    "    \n",
    "    return latent_act_dict"
   ]
  },
  {
   "cell_type": "markdown",
   "id": "6e902eea",
   "metadata": {},
   "source": [
    "# $\\beta$-VAE on dsprites with $\\beta$-VAE metric"
   ]
  },
  {
   "cell_type": "code",
   "execution_count": null,
   "id": "7abd070b",
   "metadata": {},
   "outputs": [],
   "source": []
  },
  {
   "cell_type": "markdown",
   "id": "c0f2b9d0",
   "metadata": {},
   "source": [
    "# $\\beta$-VAE on dsprites_correlated with $\\beta$-VAE metric"
   ]
  },
  {
   "cell_type": "code",
   "execution_count": 4,
   "id": "c592b2da",
   "metadata": {},
   "outputs": [],
   "source": [
    "beta = 1.0\n",
    "bvae_model_params = ModelParams(\n",
    "    6, 6, 0, 1, 64, batch_size, 1.0, beta,\n",
    "    False, 0, 0,\n",
    "    0, 0, 0, 0, 0,\n",
    "    ['SimpleGaussianConv64'],['SimpleConv64'], None\n",
    ")\n",
    "\n",
    "model_for_correlated_dsprites = load_vae_model(\n",
    "    algo_name='BetaVAE', \n",
    "    checkpoint_path=\"../pl-dt-test/dsprites_correlated_beta1_vae/version_5/checkpoints/epoch=30-step=119039.ckpt\", \n",
    "    curr_dev=curr_dev,\n",
    "    model_params=bvae_model_params,\n",
    "    exp_params=experiment_config\n",
    ")\n",
    "\n",
    "correlated_dsprites_dataset = DSpritesDataset(root=\"../datasets/dsprites/\", split=\"train\", correlated=True, transforms=transforms.ToTensor())"
   ]
  },
  {
   "cell_type": "code",
   "execution_count": 59,
   "id": "cf581490",
   "metadata": {},
   "outputs": [
    {
     "name": "stderr",
     "output_type": "stream",
     "text": [
      "100%|█████████████████████████████████████████| 20736/20736 [00:42<00:00, 489.56it/s]\n"
     ]
    }
   ],
   "source": [
    "activations_for_correlated_dsprites = get_latent_activations(correlated_dsprites_dataset, \n",
    "                                                             model_for_correlated_dsprites)"
   ]
  },
  {
   "cell_type": "code",
   "execution_count": 60,
   "id": "f6cf5526",
   "metadata": {},
   "outputs": [
    {
     "data": {
      "text/plain": [
       "dict_keys([0, 1, 2, 3, 4, 5])"
      ]
     },
     "execution_count": 60,
     "metadata": {},
     "output_type": "execute_result"
    }
   ],
   "source": [
    "activations_for_correlated_dsprites.keys()"
   ]
  },
  {
   "cell_type": "code",
   "execution_count": 61,
   "id": "59322016",
   "metadata": {},
   "outputs": [
    {
     "data": {
      "image/png": "[encoded data removed]",
      "text/plain": [
       "<Figure size 864x1296 with 6 Axes>"
      ]
     },
     "metadata": {
      "needs_background": "light"
     },
     "output_type": "display_data"
    }
   ],
   "source": [
    "# plot hist of latent code\n",
    "from matplotlib.pyplot import figure\n",
    "\n",
    "#hist_figure = figure()\n",
    "\n",
    "fig, axes = plt.subplots(len(activations_for_correlated_dsprites.keys()), figsize=(12,18))\n",
    "\n",
    "for factor, value_dict  in activations_for_correlated_dsprites.items():\n",
    "    \n",
    "    axes[factor].hist(value_dict, label=f\" Factor [{factor}]\")\n",
    "    axes[factor].legend(prop={'size': 10},loc='upper left')\n",
    "        \n",
    "# for factor, value_dict  in activations_for_correlated_dsprites.items():\n",
    "    \n",
    "#     for value, encoded_values in value_dict.items():\n",
    "        \n",
    "#         axes[factor].hist(encoded_values, label=f\" Factor [{factor}] - Value [{value}]\")\n",
    "#         axes[factor].legend(prop={'size': 10},loc='upper left')\n",
    "\n"
   ]
  },
  {
   "cell_type": "markdown",
   "id": "c39e54b5",
   "metadata": {},
   "source": [
    "# Factor-VAE on dsprites with Factor-VAE metric"
   ]
  },
  {
   "cell_type": "code",
   "execution_count": null,
   "id": "9a0a922c",
   "metadata": {},
   "outputs": [],
   "source": []
  },
  {
   "cell_type": "markdown",
   "id": "2728921d",
   "metadata": {},
   "source": [
    "# Factor-VAE on dsprites_correlated with Factor-VAE metric"
   ]
  },
  {
   "cell_type": "code",
   "execution_count": null,
   "id": "5b8e6925",
   "metadata": {},
   "outputs": [],
   "source": []
  },
  {
   "cell_type": "code",
   "execution_count": null,
   "id": "71f618d5",
   "metadata": {},
   "outputs": [],
   "source": []
  }
 ],
 "metadata": {
  "kernelspec": {
   "display_name": "Python 3 (ipykernel)",
   "language": "python",
   "name": "python3"
  },
  "language_info": {
   "codemirror_mode": {
    "name": "ipython",
    "version": 3
   },
   "file_extension": ".py",
   "mimetype": "text/x-python",
   "name": "python",
   "nbconvert_exporter": "python",
   "pygments_lexer": "ipython3",
   "version": "3.9.6"
  }
 },
 "nbformat": 4,
 "nbformat_minor": 5
}
