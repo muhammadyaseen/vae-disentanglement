{
 "cells": [
  {
   "cell_type": "code",
   "execution_count": 2,
   "metadata": {},
   "outputs": [
    {
     "name": "stdout",
     "output_type": "stream",
     "text": [
      "/media/DATA/Saarbrucken/EDA_Research/thesis_code/disent-vaes\n"
     ]
    }
   ],
   "source": [
    "cd ../../disent-vaes"
   ]
  },
  {
   "cell_type": "code",
   "execution_count": 22,
   "metadata": {},
   "outputs": [],
   "source": [
    "\n",
    "import PIL\n",
    "from PIL import Image, ImageDraw\n",
    "from IPython.display import display\n",
    "import numpy as np\n",
    "import json\n",
    "import matplotlib.pyplot as plt\n",
    "\n",
    "#from continum_dataloader import ContinumDataset\n",
    "#from torch.utils.data import DataLoader\n",
    "from tqdm import tqdm\n",
    "\n",
    "%matplotlib inline"
   ]
  },
  {
   "cell_type": "markdown",
   "metadata": {},
   "source": [
    "## Draw Ellipse or Rectangle"
   ]
  },
  {
   "cell_type": "code",
   "execution_count": 2,
   "metadata": {},
   "outputs": [],
   "source": [
    "fill_color = (255, 255, 255)\n",
    "outline_color = (0, 0, 0)\n",
    "bg_color = (0, 0, 0)\n",
    "W,H = 64, 64\n",
    "\n",
    "save_path = \"D:\\\\Saarbrucken\\\\EDA_Research\\\\thesis_code\\\\1dvaetestdata\\\\testdata\\\\\"\n",
    "\n",
    "#draw.ellipse((50, 50, 150, 150), fill=fill_color, outline=outline_color)\n",
    "\n",
    "for i in range(1000):\n",
    "    continue\n",
    "    x_offset, y_offset = 4 * np.random.randn() + 1,  2 * np.random.randn() + 1\n",
    "    #print(x_offset, y_offset)\n",
    "    im = Image.new('RGB', (W, H), bg_color)\n",
    "    draw = ImageDraw.Draw(im)\n",
    "    rect_bounds = (W/4 + x_offset, W/4 + y_offset, W/2 + x_offset, W/2 + y_offset)\n",
    "    \n",
    "    what_to_gen = np.random.randint(low=0,high=2) # 0 = circle, 1 = square, high is exclusive\n",
    "    \n",
    "    draw.rectangle(ellipse_bounds if what_to_gen == 1 else rect_bounds, \n",
    "                   fill=fill_color, \n",
    "                   outline=outline_color)\n",
    "    \n",
    "    im.save(save_path + f'image{i}_{what_to_gen}.jpg')\n",
    "    #display(im)\n"
   ]
  },
  {
   "cell_type": "markdown",
   "metadata": {},
   "source": [
    "## Draw Rounded Rectangle, morphing into Circle"
   ]
  },
  {
   "cell_type": "code",
   "execution_count": 24,
   "metadata": {},
   "outputs": [],
   "source": [
    "fill_color = 255\n",
    "outline_color = 0\n",
    "bg_color = 0\n",
    "W,H = 64, 64\n",
    "\n",
    "save_path = \"D:\\\\Saarbrucken\\\\EDA_Research\\\\thesis_code\\\\datasets\\\\OneDimContinumData\\\\\"\n",
    "\n",
    "for i in tqdm(range(20000)):\n",
    "\n",
    "    im = Image.new('L', (W, H), bg_color)\n",
    "    draw = ImageDraw.Draw(im)\n",
    "    x_offset, y_offset = 0, 0\n",
    "    rect_bounds = (W / 4 + x_offset,\n",
    "                   W / 4 + y_offset,\n",
    "                   W / (4/3) + x_offset,\n",
    "                   W / (4/3) + y_offset)\n",
    "    #rnd_radius = np.random.randint(low=0, high=9)\n",
    "    rnd_radius = np.random.choice(range(1,20,4))\n",
    "    draw.rounded_rectangle(rect_bounds,\n",
    "               radius=rnd_radius,\n",
    "               fill=fill_color, \n",
    "               outline=outline_color)\n",
    "    #display(im)\n",
    "    im.save(save_path + f'image_{i}_{rnd_radius}.jpg')"
   ]
  },
  {
   "cell_type": "markdown",
   "metadata": {},
   "source": [
    "## Three shapes: Triangle, Rectanle, Circle"
   ]
  },
  {
   "cell_type": "code",
   "execution_count": 25,
   "metadata": {},
   "outputs": [
    {
     "name": "stderr",
     "output_type": "stream",
     "text": [
      "100%|██████████| 10000/10000 [00:10<00:00, 962.65it/s]\n"
     ]
    }
   ],
   "source": [
    "fill_color = 255\n",
    "outline_color = 0\n",
    "bg_color = 0\n",
    "W,H = 64, 64\n",
    "\n",
    "save_path = \"/media/DATA/Saarbrucken/EDA_Research/thesis_code/datasets/ThreeShapesData/\"\n",
    "\n",
    "# defines the bounding circle inside which our polygons are drawn\n",
    "circle_radius = 24\n",
    "circle_center = (32,32)\n",
    "bounding_circle = (circle_center, circle_radius)\n",
    "\n",
    "n_sides = { 'triangle': 3,\n",
    "            'square': 4,\n",
    "            'circle': 500\n",
    "          }\n",
    "\n",
    "for i in tqdm(range(10000)):\n",
    "    \n",
    "    im = Image.new('L', (W, H), bg_color)\n",
    "    draw = ImageDraw.Draw(im)\n",
    "\n",
    "    chosen_shape = np.random.choice(list(n_sides.keys()))\n",
    "\n",
    "    draw.regular_polygon( bounding_circle, n_sides[chosen_shape], \n",
    "                         rotation=0,\n",
    "                         fill=fill_color, \n",
    "                         outline=outline_color)\n",
    "\n",
    "    #display(im)\n",
    "    im.save(save_path + f'image_{i}_{chosen_shape}.jpg')\n"
   ]
  },
  {
   "cell_type": "code",
   "execution_count": 15,
   "metadata": {},
   "outputs": [
    {
     "data": {
      "text/plain": [
       "['triangle', 'square', 'circle']"
      ]
     },
     "execution_count": 15,
     "metadata": {},
     "output_type": "execute_result"
    }
   ],
   "source": [
    "list(n_sides.keys())"
   ]
  },
  {
   "cell_type": "code",
   "execution_count": 7,
   "metadata": {},
   "outputs": [
    {
     "data": {
      "text/plain": [
       "(array([21.,  0.,  0.,  0.,  0., 15.,  0.,  0.,  0., 14.]),\n",
       " array([-0.09133868, -0.08587217, -0.08040567, -0.07493916, -0.06947266,\n",
       "        -0.06400615, -0.05853965, -0.05307314, -0.04760664, -0.04214013,\n",
       "        -0.03667362]),\n",
       " <BarContainer object of 10 artists>)"
      ]
     },
     "execution_count": 7,
     "metadata": {},
     "output_type": "execute_result"
    },
    {
     "data": {
      "image/png": "[encoded data removed]",
      "text/plain": [
       "<Figure size 432x288 with 1 Axes>"
      ]
     },
     "metadata": {
      "needs_background": "light"
     },
     "output_type": "display_data"
    }
   ],
   "source": [
    "latent_codes = json.load(open(\"D:\\\\Saarbrucken\\\\EDA_Research\\\\thesis_code\\\\PyTorch-VAE\\\\logs\\\\latent_codes.pt\",'r'))\n",
    "\n",
    "plt.hist(latent_codes['circle_mus'])\n",
    "plt.hist(latent_codes['square_mus'])"
   ]
  },
  {
   "cell_type": "code",
   "execution_count": 8,
   "metadata": {},
   "outputs": [
    {
     "data": {
      "text/plain": [
       "(array([15.,  0.,  0., 14.,  0.,  0.,  0.,  0.,  0., 21.]),\n",
       " array([-7.9953804 , -7.99081125, -7.9862421 , -7.98167295, -7.97710381,\n",
       "        -7.97253466, -7.96796551, -7.96339636, -7.95882721, -7.95425806,\n",
       "        -7.94968891]),\n",
       " <BarContainer object of 10 artists>)"
      ]
     },
     "execution_count": 8,
     "metadata": {},
     "output_type": "execute_result"
    },
    {
     "data": {
      "image/png": "[encoded data removed]",
      "text/plain": [
       "<Figure size 432x288 with 1 Axes>"
      ]
     },
     "metadata": {
      "needs_background": "light"
     },
     "output_type": "display_data"
    }
   ],
   "source": [
    "\n",
    "plt.hist(latent_codes['circle_logvars'])\n",
    "plt.hist(latent_codes['square_logvars'])"
   ]
  },
  {
   "cell_type": "code",
   "execution_count": 12,
   "metadata": {},
   "outputs": [],
   "source": [
    "from __future__ import print_function\n",
    "from ipywidgets import interact, interactive, fixed, interact_manual\n",
    "import ipywidgets as widgets\n",
    "import torch\n",
    "import torchvision.utils as vutils\n",
    "from PIL import Image, ImageDraw, ImageFont, ImageColor"
   ]
  },
  {
   "cell_type": "code",
   "execution_count": 53,
   "metadata": {},
   "outputs": [
    {
     "data": {
      "application/vnd.jupyter.widget-view+json": {
       "model_id": "3c9680c906904a288c0cf98a4f7ac566",
       "version_major": 2,
       "version_minor": 0
      },
      "text/plain": [
       "interactive(children=(FloatSlider(value=0.10000000000000009, description='z', max=1.0, min=-0.75, step=0.05), …"
      ]
     },
     "metadata": {},
     "output_type": "display_data"
    },
    {
     "data": {
      "text/plain": [
       "<function __main__.generate_images_from_model(z)>"
      ]
     },
     "execution_count": 53,
     "metadata": {},
     "output_type": "execute_result"
    }
   ],
   "source": [
    "def generate_images_from_model(z):\n",
    "    \n",
    "    z = torch.Tensor([z])\n",
    "    x = run.experiment.model.decode(z)\n",
    "    x = x.squeeze().permute(1, 2, 0).detach().cpu().numpy()\n",
    "    #im = Image.fromarray(x)\n",
    "    plt.imshow(x)\n",
    "    \n",
    "\n",
    "interact(generate_images_from_model, z=(-0.75,1.0,0.05))"
   ]
  },
  {
   "cell_type": "code",
   "execution_count": 3,
   "metadata": {},
   "outputs": [
    {
     "name": "stdout",
     "output_type": "stream",
     "text": [
      "Total images : 20\n",
      "Max train idx:  18\n",
      "Selected for train:  18\n"
     ]
    }
   ],
   "source": [
    "cont_dataset = ContinumDataset(root=\"D:\\\\Saarbrucken\\\\EDA_Research\\\\thesis_code\\\\datasets\\\\OneDimContinumData\\\\\", \n",
    "                               split=\"train\")\n",
    "\n",
    "cont_loader = DataLoader(cont_dataset, batch_size=2, shuffle = True, drop_last=True)\n",
    "\n"
   ]
  },
  {
   "cell_type": "code",
   "execution_count": 14,
   "metadata": {},
   "outputs": [
    {
     "name": "stdout",
     "output_type": "stream",
     "text": [
      "tensor([[1.],\n",
      "        [3.]], dtype=torch.float64)\n"
     ]
    },
    {
     "data": {
      "text/plain": [
       "<matplotlib.image.AxesImage at 0x194364f6df0>"
      ]
     },
     "execution_count": 14,
     "metadata": {},
     "output_type": "execute_result"
    },
    {
     "data": {
      "image/png": "[encoded data removed]",
      "text/plain": [
       "<Figure size 432x288 with 1 Axes>"
      ]
     },
     "metadata": {
      "needs_background": "light"
     },
     "output_type": "display_data"
    }
   ],
   "source": [
    "imgs, labels = next(iter(cont_loader))\n",
    "print(labels)\n",
    "t = imgs[0].numpy()\n",
    "# chw to hwc\n",
    "plt.imshow(t.transpose(1,2,0),cmap='gray')"
   ]
  },
  {
   "cell_type": "code",
   "execution_count": null,
   "metadata": {},
   "outputs": [],
   "source": []
  }
 ],
 "metadata": {
  "kernelspec": {
   "display_name": "Python 3",
   "language": "python",
   "name": "python3"
  },
  "language_info": {
   "codemirror_mode": {
    "name": "ipython",
    "version": 3
   },
   "file_extension": ".py",
   "mimetype": "text/x-python",
   "name": "python",
   "nbconvert_exporter": "python",
   "pygments_lexer": "ipython3",
   "version": "3.8.8"
  }
 },
 "nbformat": 4,
 "nbformat_minor": 4
}
