{
 "cells": [
  {
   "cell_type": "code",
   "execution_count": 1,
   "id": "f92afacf",
   "metadata": {},
   "outputs": [
    {
     "name": "stdout",
     "output_type": "stream",
     "text": [
      "/home/c01muya/vae-disentanglement/disentanglement_lib_pl\n"
     ]
    }
   ],
   "source": [
    "cd /home/c01muya/vae-disentanglement/disentanglement_lib_pl"
   ]
  },
  {
   "cell_type": "code",
   "execution_count": 2,
   "id": "57db9dd3",
   "metadata": {},
   "outputs": [],
   "source": [
    "import numpy as np\n",
    "import matplotlib.pyplot as plt\n",
    "from matplotlib.offsetbox import OffsetImage, AnnotationBbox\n",
    "import seaborn as sns\n",
    "\n",
    "import torch\n",
    "import torchvision.utils as vutils\n",
    "import torchvision.transforms.functional as T\n",
    "from torch.utils.data import DataLoader\n",
    "from torchvision import transforms\n",
    "\n",
    "from vae_experiment import VAEExperiment\n",
    "from common.data_loader import DSpritesDataset, ThreeShapesDataset, ContinumDataset\n",
    "from notebook_utils import *\n",
    "\n",
    "# Change figure aesthetics\n",
    "%matplotlib inline\n",
    "sns.set_context('talk', font_scale=1.2, rc={'lines.linewidth': 1.5})\n",
    "np.set_printoptions(suppress=True,precision=4)"
   ]
  },
  {
   "cell_type": "code",
   "execution_count": 3,
   "id": "8c5a500f",
   "metadata": {},
   "outputs": [],
   "source": [
    "npz_path = \"../datasets/dsprites/dsprites_ndarray_co1sh3sc6or40x32y32_64x64.npz\"\n",
    "dsprites = load_dsprites(npz_path)"
   ]
  },
  {
   "cell_type": "code",
   "execution_count": 4,
   "id": "e1c37700",
   "metadata": {},
   "outputs": [],
   "source": [
    "curr_dev = torch.device(\"cuda:4\")\n",
    "batch_size = 144\n",
    "seed = 123"
   ]
  },
  {
   "cell_type": "code",
   "execution_count": 5,
   "id": "ab21fcc3",
   "metadata": {},
   "outputs": [
    {
     "name": "stderr",
     "output_type": "stream",
     "text": [
      " 43%|█████████████████▊                       | 2000/4608 [00:11<00:14, 180.30it/s]\n"
     ]
    }
   ],
   "source": [
    "beta = 1.0\n",
    "z_dim = 6\n",
    "batch_size = 144\n",
    "checkpoint_path=\"../pl-dt-test/dsprites_full_beta1/version_0/checkpoints/epoch=51-step=539135.ckpt\"\n",
    "\n",
    "acts_for_dsprites_full, dsprites_full_dataset, model_dsprites_full  = load_model_and_data_and_get_activations(\n",
    "                    dset_name='dsprites_full', dset_path='../datasets', \n",
    "                    batch_size=batch_size, z_dim=z_dim , beta=beta, \n",
    "                    checkpoint_path=checkpoint_path, current_device=curr_dev, \n",
    "                    activation_with_label=False, seed=123,  batches=2000\n",
    "    )"
   ]
  },
  {
   "cell_type": "code",
   "execution_count": 6,
   "id": "054b5c36",
   "metadata": {},
   "outputs": [
    {
     "name": "stdout",
     "output_type": "stream",
     "text": [
      "For factor 1 (shape) estimated responsible dim is 1.\n",
      "For factor 2 (scale) estimated responsible dim is 3.\n",
      "For factor 3 (orientation) estimated responsible dim is 1.\n",
      "For factor 4 (posX) estimated responsible dim is 2.\n",
      "For factor 5 (posY) estimated responsible dim is 4.\n"
     ]
    },
    {
     "data": {
      "image/png": "[encoded data removed]",
      "text/plain": [
       "<Figure size 432x288 with 5 Axes>"
      ]
     },
     "metadata": {},
     "output_type": "display_data"
    }
   ],
   "source": [
    "factors = ('color', 'shape', 'scale', 'orientation', 'posX', 'posY')\n",
    "dimwise_variances = np.zeros(shape=(5,6))\n",
    "\n",
    "for factor_idx in range(1,6):\n",
    "    \n",
    "    pairs = sample_latent_pairs_differing_in_one_factor(factor_idx, dsprites, how_many_pairs=10000)\n",
    "    _, dimwise_variance, est_resp_dim = estimate_responsible_dimension(pairs, model_dsprites_full, curr_dev)\n",
    "    dimwise_variances[factor_idx - 1, :] = dimwise_variance\n",
    "    print(f\"For factor {factor_idx} ({factors[factor_idx]}) estimated responsible dim is {est_resp_dim + 1}.\")\n",
    "\n",
    "fig, axs = plt.subplots(1,5)\n",
    "for i, dv in enumerate(dimwise_variances):\n",
    "    \n",
    "    axs[i].imshow(np.expand_dims(dv, axis=1), cmap='Reds', interpolation='nearest')\n",
    "    axs[i].set_yticklabels([])\n",
    "    axs[i].set_yticks([])\n",
    "    axs[i].set_xticks([])\n",
    "    axs[i].set_xticklabels([])\n",
    "    axs[i].set_xlabel('c'+str(i+2))"
   ]
  },
  {
   "cell_type": "markdown",
   "id": "5eb484c4",
   "metadata": {},
   "source": [
    "Note that 5th dimension is dead for this network and 6th dimension was not attributed to any 1 factor but still shows significant variance for `factor 2 (scale)` and `factor 5 (posY)`\n",
    "\n",
    "1. **[Shape]** Semantic tr doesn't make sense for categorical vars e.g. `shape`. The notion of maximally different doesn't apply here. However, we see that changing `shape` also changes `rotation` in most cases. This could be because estimated resp. dim for both `shape` and `rotation` is dim 1\n",
    "2. **[Scale]**  We are largely successful in changing `scale`, but it can lead to a change of `shape` as well. This could be because changes in `shape` also perturb dim 3 (to a lesser extent). \n",
    "3. **[Orientation]**  Change of `orientation` not successful. `orientation` change can also affect `shape`. This makes sense as change of `shape` is associated with dim 1 and dim 3 which are both affected strongly by `orientation`\n",
    "4. **[PosX]** We are largely successful in changing `PosX` but it can also affect `shape`. This is strange because there is only very slight variantion in dim 1 because of change in `posX`, certainly not proportional to the number of examples we see affected.\n",
    "5. **[PosY]** Change of `PosY`leads to strange results. It always changes `shape` or some other attribute as well or fails. We can see that variation in `posY` leads to variation in dims 1,3,4,6 so this behaviour is basically what we'd expect. Interesting is to ask why this happens with `posY`... It can't be more complicated to disentangle than `posX` which is very clearnly separated."
   ]
  },
  {
   "cell_type": "code",
   "execution_count": 1,
   "id": "6dacdb21",
   "metadata": {},
   "outputs": [],
   "source": [
    "# normalized_responsibilities = dimwise_variances.T / np.linalg.norm(dimwise_variances, ord=1, axis=1)\n",
    "# fig, axs = plt.subplots(1,5)\n",
    "# for i, dv in enumerate(normalized_responsibilities.T):\n",
    "    \n",
    "#     axs[i].imshow(np.expand_dims(dv, axis=1), cmap='Reds', interpolation='nearest')\n",
    "#     axs[i].set_yticklabels([])\n",
    "#     axs[i].set_yticks([])\n",
    "#     axs[i].set_xticks([])\n",
    "#     axs[i].set_xticklabels([])\n",
    "#     axs[i].set_xlabel('c'+str(i+2))"
   ]
  },
  {
   "cell_type": "markdown",
   "id": "e711ae99",
   "metadata": {},
   "source": [
    "### Transferring shape"
   ]
  },
  {
   "cell_type": "code",
   "execution_count": 7,
   "id": "4a39dc42",
   "metadata": {},
   "outputs": [
    {
     "data": {
      "image/png": "[encoded data removed]",
      "text/plain": [
       "<Figure size 432x288 with 4 Axes>"
      ]
     },
     "metadata": {
      "needs_background": "light"
     },
     "output_type": "display_data"
    },
    {
     "data": {
      "image/png": "[encoded data removed]",
      "text/plain": [
       "<Figure size 432x288 with 4 Axes>"
      ]
     },
     "metadata": {
      "needs_background": "light"
     },
     "output_type": "display_data"
    },
    {
     "data": {
      "image/png": "[encoded data removed]",
      "text/plain": [
       "<Figure size 432x288 with 4 Axes>"
      ]
     },
     "metadata": {
      "needs_background": "light"
     },
     "output_type": "display_data"
    },
    {
     "data": {
      "image/png": "[encoded data removed]",
      "text/plain": [
       "<Figure size 432x288 with 4 Axes>"
      ]
     },
     "metadata": {
      "needs_background": "light"
     },
     "output_type": "display_data"
    },
    {
     "data": {
      "image/png": "[encoded data removed]",
      "text/plain": [
       "<Figure size 432x288 with 4 Axes>"
      ]
     },
     "metadata": {
      "needs_background": "light"
     },
     "output_type": "display_data"
    },
    {
     "data": {
      "image/png": "[encoded data removed]",
      "text/plain": [
       "<Figure size 432x288 with 4 Axes>"
      ]
     },
     "metadata": {
      "needs_background": "light"
     },
     "output_type": "display_data"
    },
    {
     "data": {
      "image/png": "[encoded data removed]",
      "text/plain": [
       "<Figure size 432x288 with 4 Axes>"
      ]
     },
     "metadata": {
      "needs_background": "light"
     },
     "output_type": "display_data"
    },
    {
     "data": {
      "image/png": "[encoded data removed]",
      "text/plain": [
       "<Figure size 432x288 with 4 Axes>"
      ]
     },
     "metadata": {
      "needs_background": "light"
     },
     "output_type": "display_data"
    },
    {
     "data": {
      "image/png": "[encoded data removed]",
      "text/plain": [
       "<Figure size 432x288 with 4 Axes>"
      ]
     },
     "metadata": {
      "needs_background": "light"
     },
     "output_type": "display_data"
    },
    {
     "data": {
      "image/png": "[encoded data removed]",
      "text/plain": [
       "<Figure size 432x288 with 4 Axes>"
      ]
     },
     "metadata": {
      "needs_background": "light"
     },
     "output_type": "display_data"
    }
   ],
   "source": [
    "max_diff_pairs = sample_latent_pairs_maximally_differing_in_one_factor(\n",
    "    diff_factor_idx=1, \n",
    "    npz_dataset=dsprites, \n",
    "    direction='min-to-max', \n",
    "    how_many_pairs=10,\n",
    "    latent_max_val=dsprites['latents_sizes'][1]-1)\n",
    "\n",
    "# we do a semantic tr for every pair\n",
    "for pairs in max_diff_pairs:\n",
    "    \n",
    "    mus, logvars, new_img = do_semantic_manipulation(pairs['images'], model_dsprites_full, curr_dev)"
   ]
  },
  {
   "cell_type": "markdown",
   "id": "942224ce",
   "metadata": {},
   "source": [
    "### Transferring scale"
   ]
  },
  {
   "cell_type": "code",
   "execution_count": 8,
   "id": "fc860b94",
   "metadata": {},
   "outputs": [
    {
     "data": {
      "image/png": "[encoded data removed]",
      "text/plain": [
       "<Figure size 432x288 with 4 Axes>"
      ]
     },
     "metadata": {
      "needs_background": "light"
     },
     "output_type": "display_data"
    },
    {
     "data": {
      "image/png": "[encoded data removed]",
      "text/plain": [
       "<Figure size 432x288 with 4 Axes>"
      ]
     },
     "metadata": {
      "needs_background": "light"
     },
     "output_type": "display_data"
    },
    {
     "data": {
      "image/png": "[encoded data removed]",
      "text/plain": [
       "<Figure size 432x288 with 4 Axes>"
      ]
     },
     "metadata": {
      "needs_background": "light"
     },
     "output_type": "display_data"
    },
    {
     "data": {
      "image/png": "[encoded data removed]",
      "text/plain": [
       "<Figure size 432x288 with 4 Axes>"
      ]
     },
     "metadata": {
      "needs_background": "light"
     },
     "output_type": "display_data"
    },
    {
     "data": {
      "image/png": "[encoded data removed]",
      "text/plain": [
       "<Figure size 432x288 with 4 Axes>"
      ]
     },
     "metadata": {
      "needs_background": "light"
     },
     "output_type": "display_data"
    },
    {
     "data": {
      "image/png": "[encoded data removed]",
      "text/plain": [
       "<Figure size 432x288 with 4 Axes>"
      ]
     },
     "metadata": {
      "needs_background": "light"
     },
     "output_type": "display_data"
    },
    {
     "data": {
      "image/png": "[encoded data removed]",
      "text/plain": [
       "<Figure size 432x288 with 4 Axes>"
      ]
     },
     "metadata": {
      "needs_background": "light"
     },
     "output_type": "display_data"
    },
    {
     "data": {
      "image/png": "[encoded data removed]",
      "text/plain": [
       "<Figure size 432x288 with 4 Axes>"
      ]
     },
     "metadata": {
      "needs_background": "light"
     },
     "output_type": "display_data"
    },
    {
     "data": {
      "image/png": "[encoded data removed]",
      "text/plain": [
       "<Figure size 432x288 with 4 Axes>"
      ]
     },
     "metadata": {
      "needs_background": "light"
     },
     "output_type": "display_data"
    },
    {
     "data": {
      "image/png": "[encoded data removed]",
      "text/plain": [
       "<Figure size 432x288 with 4 Axes>"
      ]
     },
     "metadata": {
      "needs_background": "light"
     },
     "output_type": "display_data"
    }
   ],
   "source": [
    "max_diff_pairs = sample_latent_pairs_maximally_differing_in_one_factor(\n",
    "    diff_factor_idx=2, \n",
    "    npz_dataset=dsprites, \n",
    "    direction='min-to-max', \n",
    "    how_many_pairs=10,\n",
    "    latent_max_val=dsprites['latents_sizes'][2]-1)\n",
    "\n",
    "# we do a semantic tr for every pair\n",
    "for pairs in max_diff_pairs:\n",
    "    \n",
    "    mus, logvars, new_img = do_semantic_manipulation(pairs['images'], model_dsprites_full, curr_dev)"
   ]
  },
  {
   "cell_type": "markdown",
   "id": "b59deb08",
   "metadata": {},
   "source": [
    "### Transferring orientation"
   ]
  },
  {
   "cell_type": "code",
   "execution_count": 9,
   "id": "65f06587",
   "metadata": {},
   "outputs": [
    {
     "data": {
      "image/png": "[encoded data removed]",
      "text/plain": [
       "<Figure size 432x288 with 4 Axes>"
      ]
     },
     "metadata": {
      "needs_background": "light"
     },
     "output_type": "display_data"
    },
    {
     "data": {
      "image/png": "[encoded data removed]",
      "text/plain": [
       "<Figure size 432x288 with 4 Axes>"
      ]
     },
     "metadata": {
      "needs_background": "light"
     },
     "output_type": "display_data"
    },
    {
     "data": {
      "image/png": "[encoded data removed]",
      "text/plain": [
       "<Figure size 432x288 with 4 Axes>"
      ]
     },
     "metadata": {
      "needs_background": "light"
     },
     "output_type": "display_data"
    },
    {
     "data": {
      "image/png": "[encoded data removed]",
      "text/plain": [
       "<Figure size 432x288 with 4 Axes>"
      ]
     },
     "metadata": {
      "needs_background": "light"
     },
     "output_type": "display_data"
    },
    {
     "data": {
      "image/png": "[encoded data removed]",
      "text/plain": [
       "<Figure size 432x288 with 4 Axes>"
      ]
     },
     "metadata": {
      "needs_background": "light"
     },
     "output_type": "display_data"
    },
    {
     "data": {
      "image/png": "[encoded data removed]",
      "text/plain": [
       "<Figure size 432x288 with 4 Axes>"
      ]
     },
     "metadata": {
      "needs_background": "light"
     },
     "output_type": "display_data"
    },
    {
     "data": {
      "image/png": "[encoded data removed]",
      "text/plain": [
       "<Figure size 432x288 with 4 Axes>"
      ]
     },
     "metadata": {
      "needs_background": "light"
     },
     "output_type": "display_data"
    },
    {
     "data": {
      "image/png": "[encoded data removed]",
      "text/plain": [
       "<Figure size 432x288 with 4 Axes>"
      ]
     },
     "metadata": {
      "needs_background": "light"
     },
     "output_type": "display_data"
    },
    {
     "data": {
      "image/png": "[encoded data removed]",
      "text/plain": [
       "<Figure size 432x288 with 4 Axes>"
      ]
     },
     "metadata": {
      "needs_background": "light"
     },
     "output_type": "display_data"
    },
    {
     "data": {
      "image/png": "[encoded data removed]",
      "text/plain": [
       "<Figure size 432x288 with 4 Axes>"
      ]
     },
     "metadata": {
      "needs_background": "light"
     },
     "output_type": "display_data"
    }
   ],
   "source": [
    "max_diff_pairs = sample_latent_pairs_maximally_differing_in_one_factor(\n",
    "    diff_factor_idx=3, \n",
    "    npz_dataset=dsprites, \n",
    "    direction='min-to-max', \n",
    "    how_many_pairs=10,\n",
    "    latent_max_val=dsprites['latents_sizes'][3]//3)\n",
    "\n",
    "# we do a semantic tr for every pair\n",
    "for pairs in max_diff_pairs:\n",
    "    \n",
    "    mus, logvars, new_img = do_semantic_manipulation(pairs['images'], model_dsprites_full, curr_dev)"
   ]
  },
  {
   "cell_type": "markdown",
   "id": "53a1ec70",
   "metadata": {},
   "source": [
    "### Transferring posX"
   ]
  },
  {
   "cell_type": "code",
   "execution_count": 10,
   "id": "eb4940e9",
   "metadata": {},
   "outputs": [
    {
     "data": {
      "image/png": "[encoded data removed]",
      "text/plain": [
       "<Figure size 432x288 with 4 Axes>"
      ]
     },
     "metadata": {
      "needs_background": "light"
     },
     "output_type": "display_data"
    },
    {
     "data": {
      "image/png": "[encoded data removed]",
      "text/plain": [
       "<Figure size 432x288 with 4 Axes>"
      ]
     },
     "metadata": {
      "needs_background": "light"
     },
     "output_type": "display_data"
    },
    {
     "data": {
      "image/png": "[encoded data removed]",
      "text/plain": [
       "<Figure size 432x288 with 4 Axes>"
      ]
     },
     "metadata": {
      "needs_background": "light"
     },
     "output_type": "display_data"
    },
    {
     "data": {
      "image/png": "[encoded data removed]",
      "text/plain": [
       "<Figure size 432x288 with 4 Axes>"
      ]
     },
     "metadata": {
      "needs_background": "light"
     },
     "output_type": "display_data"
    },
    {
     "data": {
      "image/png": "[encoded data removed]",
      "text/plain": [
       "<Figure size 432x288 with 4 Axes>"
      ]
     },
     "metadata": {
      "needs_background": "light"
     },
     "output_type": "display_data"
    },
    {
     "data": {
      "image/png": "[encoded data removed]",
      "text/plain": [
       "<Figure size 432x288 with 4 Axes>"
      ]
     },
     "metadata": {
      "needs_background": "light"
     },
     "output_type": "display_data"
    },
    {
     "data": {
      "image/png": "[encoded data removed]",
      "text/plain": [
       "<Figure size 432x288 with 4 Axes>"
      ]
     },
     "metadata": {
      "needs_background": "light"
     },
     "output_type": "display_data"
    },
    {
     "data": {
      "image/png": "[encoded data removed]",
      "text/plain": [
       "<Figure size 432x288 with 4 Axes>"
      ]
     },
     "metadata": {
      "needs_background": "light"
     },
     "output_type": "display_data"
    },
    {
     "data": {
      "image/png": "[encoded data removed]",
      "text/plain": [
       "<Figure size 432x288 with 4 Axes>"
      ]
     },
     "metadata": {
      "needs_background": "light"
     },
     "output_type": "display_data"
    },
    {
     "data": {
      "image/png": "[encoded data removed]",
      "text/plain": [
       "<Figure size 432x288 with 4 Axes>"
      ]
     },
     "metadata": {
      "needs_background": "light"
     },
     "output_type": "display_data"
    }
   ],
   "source": [
    "max_diff_pairs = sample_latent_pairs_maximally_differing_in_one_factor(\n",
    "    diff_factor_idx=4, \n",
    "    npz_dataset=dsprites, \n",
    "    direction='min-to-max', \n",
    "    how_many_pairs=10,\n",
    "    latent_max_val=dsprites['latents_sizes'][4]-1)\n",
    "\n",
    "# we do a semantic tr for every pair\n",
    "for pairs in max_diff_pairs:\n",
    "    \n",
    "    mus, logvars, new_img = do_semantic_manipulation(pairs['images'], model_dsprites_full, curr_dev)\n",
    "    "
   ]
  },
  {
   "cell_type": "markdown",
   "id": "a36fe25c",
   "metadata": {},
   "source": [
    "### Transferring posY"
   ]
  },
  {
   "cell_type": "code",
   "execution_count": 12,
   "id": "676da7c2",
   "metadata": {},
   "outputs": [
    {
     "data": {
      "image/png": "[encoded data removed]",
      "text/plain": [
       "<Figure size 432x288 with 4 Axes>"
      ]
     },
     "metadata": {
      "needs_background": "light"
     },
     "output_type": "display_data"
    },
    {
     "data": {
      "image/png": "[encoded data removed]",
      "text/plain": [
       "<Figure size 432x288 with 4 Axes>"
      ]
     },
     "metadata": {
      "needs_background": "light"
     },
     "output_type": "display_data"
    },
    {
     "data": {
      "image/png": "[encoded data removed]",
      "text/plain": [
       "<Figure size 432x288 with 4 Axes>"
      ]
     },
     "metadata": {
      "needs_background": "light"
     },
     "output_type": "display_data"
    },
    {
     "data": {
      "image/png": "[encoded data removed]",
      "text/plain": [
       "<Figure size 432x288 with 4 Axes>"
      ]
     },
     "metadata": {
      "needs_background": "light"
     },
     "output_type": "display_data"
    },
    {
     "data": {
      "image/png": "[encoded data removed]",
      "text/plain": [
       "<Figure size 432x288 with 4 Axes>"
      ]
     },
     "metadata": {
      "needs_background": "light"
     },
     "output_type": "display_data"
    },
    {
     "data": {
      "image/png": "[encoded data removed]",
      "text/plain": [
       "<Figure size 432x288 with 4 Axes>"
      ]
     },
     "metadata": {
      "needs_background": "light"
     },
     "output_type": "display_data"
    },
    {
     "data": {
      "image/png": "[encoded data removed]",
      "text/plain": [
       "<Figure size 432x288 with 4 Axes>"
      ]
     },
     "metadata": {
      "needs_background": "light"
     },
     "output_type": "display_data"
    },
    {
     "data": {
      "image/png": "[encoded data removed]",
      "text/plain": [
       "<Figure size 432x288 with 4 Axes>"
      ]
     },
     "metadata": {
      "needs_background": "light"
     },
     "output_type": "display_data"
    },
    {
     "data": {
      "image/png": "[encoded data removed]",
      "text/plain": [
       "<Figure size 432x288 with 4 Axes>"
      ]
     },
     "metadata": {
      "needs_background": "light"
     },
     "output_type": "display_data"
    },
    {
     "data": {
      "image/png": "[encoded data removed]",
      "text/plain": [
       "<Figure size 432x288 with 4 Axes>"
      ]
     },
     "metadata": {
      "needs_background": "light"
     },
     "output_type": "display_data"
    }
   ],
   "source": [
    "max_diff_pairs = sample_latent_pairs_maximally_differing_in_one_factor(\n",
    "    diff_factor_idx=5, \n",
    "    npz_dataset=dsprites, \n",
    "    direction='min-to-max', \n",
    "    how_many_pairs=10,\n",
    "    latent_max_val=dsprites['latents_sizes'][5]-1\n",
    ")\n",
    "\n",
    "# we do a semantic tr for every pair\n",
    "for pairs in max_diff_pairs:\n",
    "    \n",
    "    mus, logvars, new_img = do_semantic_manipulation(pairs['images'], model_dsprites_full, curr_dev)\n"
   ]
  },
  {
   "cell_type": "code",
   "execution_count": 3,
   "id": "460bd504",
   "metadata": {},
   "outputs": [],
   "source": [
    "t = torch.Tensor([1,2,3])"
   ]
  },
  {
   "cell_type": "code",
   "execution_count": 4,
   "id": "be492af0",
   "metadata": {},
   "outputs": [
    {
     "data": {
      "text/plain": [
       "tensor([1., 2., 3.])"
      ]
     },
     "execution_count": 4,
     "metadata": {},
     "output_type": "execute_result"
    }
   ],
   "source": [
    "t"
   ]
  },
  {
   "cell_type": "code",
   "execution_count": 5,
   "id": "b842b3e7",
   "metadata": {},
   "outputs": [],
   "source": [
    "t[2] = 5"
   ]
  },
  {
   "cell_type": "code",
   "execution_count": 6,
   "id": "6dba5991",
   "metadata": {},
   "outputs": [
    {
     "data": {
      "text/plain": [
       "tensor([1., 2., 5.])"
      ]
     },
     "execution_count": 6,
     "metadata": {},
     "output_type": "execute_result"
    }
   ],
   "source": [
    "t"
   ]
  },
  {
   "cell_type": "code",
   "execution_count": 9,
   "id": "225c3173",
   "metadata": {},
   "outputs": [
    {
     "data": {
      "text/plain": [
       "<AxesSubplot:>"
      ]
     },
     "execution_count": 9,
     "metadata": {},
     "output_type": "execute_result"
    },
    {
     "data": {
      "image/png": "[encoded data removed]",
      "text/plain": [
       "<Figure size 432x288 with 1 Axes>"
      ]
     },
     "metadata": {
      "needs_background": "light"
     },
     "output_type": "display_data"
    }
   ],
   "source": [
    "sns.scatterplot(x=[1,2,3,4],y=[1,2,3,4],hue=['g1','g2','g2','g1'])"
   ]
  },
  {
   "cell_type": "code",
   "execution_count": null,
   "id": "486d7cb8",
   "metadata": {},
   "outputs": [],
   "source": []
  }
 ],
 "metadata": {
  "kernelspec": {
   "display_name": "Python 3 (ipykernel)",
   "language": "python",
   "name": "python3"
  },
  "language_info": {
   "codemirror_mode": {
    "name": "ipython",
    "version": 3
   },
   "file_extension": ".py",
   "mimetype": "text/x-python",
   "name": "python",
   "nbconvert_exporter": "python",
   "pygments_lexer": "ipython3",
   "version": "3.9.6"
  }
 },
 "nbformat": 4,
 "nbformat_minor": 5
}
