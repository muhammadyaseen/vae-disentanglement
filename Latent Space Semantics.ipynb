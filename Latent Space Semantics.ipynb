{
 "cells": [
  {
   "cell_type": "code",
   "execution_count": 1,
   "id": "f92afacf",
   "metadata": {},
   "outputs": [
    {
     "name": "stdout",
     "output_type": "stream",
     "text": [
      "/home/c01muya/vae-disentanglement/disentanglement_lib_pl\n"
     ]
    }
   ],
   "source": [
    "cd /home/c01muya/vae-disentanglement/disentanglement_lib_pl"
   ]
  },
  {
   "cell_type": "code",
   "execution_count": 2,
   "id": "57db9dd3",
   "metadata": {},
   "outputs": [],
   "source": [
    "import numpy as np\n",
    "import matplotlib.pyplot as plt\n",
    "from matplotlib.offsetbox import OffsetImage, AnnotationBbox\n",
    "import seaborn as sns\n",
    "\n",
    "import torch\n",
    "import torchvision.utils as vutils\n",
    "import torchvision.transforms.functional as T\n",
    "from torch.utils.data import DataLoader\n",
    "from torchvision import transforms\n",
    "\n",
    "from vae_experiment import VAEExperiment\n",
    "from common.data_loader import DSpritesDataset, ThreeShapesDataset, ContinumDataset\n",
    "from notebook_utils import *\n",
    "\n",
    "# Change figure aesthetics\n",
    "%matplotlib inline\n",
    "sns.set_context('talk', font_scale=1.2, rc={'lines.linewidth': 1.5})"
   ]
  },
  {
   "cell_type": "code",
   "execution_count": 3,
   "id": "8c5a500f",
   "metadata": {},
   "outputs": [],
   "source": [
    "npz_path = \"../datasets/dsprites/dsprites_ndarray_co1sh3sc6or40x32y32_64x64.npz\"\n",
    "dsprites = load_dsprites(npz_path)"
   ]
  },
  {
   "cell_type": "code",
   "execution_count": 4,
   "id": "e1c37700",
   "metadata": {},
   "outputs": [],
   "source": [
    "curr_dev = torch.device(\"cuda:4\")\n",
    "batch_size = 144\n",
    "seed = 123"
   ]
  },
  {
   "cell_type": "code",
   "execution_count": 5,
   "id": "ab21fcc3",
   "metadata": {},
   "outputs": [
    {
     "name": "stderr",
     "output_type": "stream",
     "text": [
      " 43%|█████████████████▊                       | 2000/4608 [00:09<00:12, 205.51it/s]\n"
     ]
    }
   ],
   "source": [
    "beta = 1.0\n",
    "z_dim = 6\n",
    "batch_size = 144\n",
    "checkpoint_path=\"../pl-dt-test/dsprites_full_beta1/version_0/checkpoints/epoch=51-step=539135.ckpt\"\n",
    "\n",
    "acts_for_dsprites_full, dsprites_full_dataset, model_dsprites_full  = load_model_and_data_and_get_activations(\n",
    "                    dset_name='dsprites_full', dset_path='../datasets', \n",
    "                    batch_size=batch_size, z_dim=z_dim , beta=beta, \n",
    "                    checkpoint_path=checkpoint_path, current_device=curr_dev, \n",
    "                    activation_with_label=False, seed=123,  batches=2000\n",
    "    )"
   ]
  },
  {
   "cell_type": "code",
   "execution_count": 6,
   "id": "3daf4190",
   "metadata": {},
   "outputs": [
    {
     "name": "stdout",
     "output_type": "stream",
     "text": [
      "Moving heart from right to left\n"
     ]
    },
    {
     "data": {
      "image/png": "[encoded data removed]",
      "text/plain": [
       "<Figure size 432x288 with 4 Axes>"
      ]
     },
     "metadata": {
      "needs_background": "light"
     },
     "output_type": "display_data"
    }
   ],
   "source": [
    "latents_sampled = np.array([ \n",
    "    [0, 0, 2, 3, 0, 5],\n",
    "    [0, 0, 2, 3, 30, 5],\n",
    "    [0, 2, 2, 3, 0, 5]\n",
    "])\n",
    "indices_sampled = latent_to_index(latents_sampled, dsprites['latents_bases'])\n",
    "imgs_sampled = dsprites['images'][indices_sampled]\n",
    "print(\"Moving heart from right to left\")\n",
    "mus, logvars, new_img = do_semantic_manipulation(imgs_sampled, model_dsprites_full, curr_dev)"
   ]
  },
  {
   "cell_type": "code",
   "execution_count": 7,
   "id": "2e79c81d",
   "metadata": {},
   "outputs": [
    {
     "name": "stdout",
     "output_type": "stream",
     "text": [
      "Transferring rotation to an unrotated ellipse\n"
     ]
    },
    {
     "data": {
      "image/png": "[encoded data removed]",
      "text/plain": [
       "<Figure size 432x288 with 4 Axes>"
      ]
     },
     "metadata": {
      "needs_background": "light"
     },
     "output_type": "display_data"
    }
   ],
   "source": [
    "latents_sampled = np.array([ \n",
    "    [0, 0, 2, 0, 10, 3],\n",
    "    [0, 0, 2, 25, 10, 3],\n",
    "    [0, 1, 2, 0, 10, 3]\n",
    "])\n",
    "indices_sampled = latent_to_index(latents_sampled, dsprites['latents_bases'])\n",
    "imgs_sampled = dsprites['images'][indices_sampled]\n",
    "\n",
    "print(\"Transferring rotation to an unrotated ellipse\")\n",
    "mus, logvars, new_img = do_semantic_manipulation(imgs_sampled, model_dsprites_full, curr_dev)"
   ]
  },
  {
   "cell_type": "code",
   "execution_count": 10,
   "id": "e5e5de66",
   "metadata": {},
   "outputs": [
    {
     "name": "stdout",
     "output_type": "stream",
     "text": [
      "Transferring rotation to an unrotated heart\n"
     ]
    },
    {
     "data": {
      "image/png": "[encoded data removed]",
      "text/plain": [
       "<Figure size 432x288 with 4 Axes>"
      ]
     },
     "metadata": {
      "needs_background": "light"
     },
     "output_type": "display_data"
    }
   ],
   "source": [
    "latents_sampled = np.array([ \n",
    "    [0, 0, 2, 0, 10, 3],\n",
    "    [0, 0, 2, 25, 10, 3],\n",
    "    [0, 2, 2, 0, 10, 3]\n",
    "])\n",
    "indices_sampled = latent_to_index(latents_sampled, dsprites['latents_bases'])\n",
    "imgs_sampled = dsprites['images'][indices_sampled]\n",
    "\n",
    "print(\"Transferring rotation to an unrotated heart\")\n",
    "mus, logvars, new_img = do_semantic_manipulation(imgs_sampled, model_dsprites_full, curr_dev)"
   ]
  },
  {
   "cell_type": "code",
   "execution_count": 8,
   "id": "3a7c3bba",
   "metadata": {},
   "outputs": [
    {
     "name": "stdout",
     "output_type": "stream",
     "text": [
      "Changing scale of heart from smallest to largest\n"
     ]
    },
    {
     "data": {
      "image/png": "[encoded data removed]",
      "text/plain": [
       "<Figure size 432x288 with 4 Axes>"
      ]
     },
     "metadata": {
      "needs_background": "light"
     },
     "output_type": "display_data"
    }
   ],
   "source": [
    "latents_sampled = np.array([ \n",
    "    [0, 0, 0, 0, 10, 10],\n",
    "    [0, 0, 5, 0, 10, 10],\n",
    "    [0, 2, 0, 0, 10, 10]\n",
    "])\n",
    "indices_sampled = latent_to_index(latents_sampled, dsprites['latents_bases'])\n",
    "imgs_sampled = dsprites['images'][indices_sampled]\n",
    "\n",
    "print(\"Changing scale of heart from smallest to largest\")\n",
    "mus, logvars, new_img = do_semantic_manipulation(imgs_sampled, model_dsprites_full, curr_dev)"
   ]
  },
  {
   "cell_type": "code",
   "execution_count": 9,
   "id": "2c51d8fd",
   "metadata": {},
   "outputs": [
    {
     "name": "stdout",
     "output_type": "stream",
     "text": [
      "Changing scale of ellipse from smallest to largest\n"
     ]
    },
    {
     "data": {
      "image/png": "[encoded data removed]",
      "text/plain": [
       "<Figure size 432x288 with 4 Axes>"
      ]
     },
     "metadata": {
      "needs_background": "light"
     },
     "output_type": "display_data"
    }
   ],
   "source": [
    "latents_sampled = np.array([ \n",
    "    [0, 0, 0, 0, 10, 10],\n",
    "    [0, 0, 5, 0, 10, 10],\n",
    "    [0, 1, 0, 0, 10, 10]\n",
    "])\n",
    "indices_sampled = latent_to_index(latents_sampled, dsprites['latents_bases'])\n",
    "imgs_sampled = dsprites['images'][indices_sampled]\n",
    "\n",
    "print(\"Changing scale of ellipse from smallest to largest\")\n",
    "mus, logvars, new_img = do_semantic_manipulation(imgs_sampled, model_dsprites_full, curr_dev)"
   ]
  },
  {
   "cell_type": "code",
   "execution_count": 16,
   "id": "054b5c36",
   "metadata": {},
   "outputs": [
    {
     "name": "stdout",
     "output_type": "stream",
     "text": [
      "For factor 1 (shape) estimated responsible dim is 1.\n",
      "For factor 2 (scale) estimated responsible dim is 3.\n",
      "For factor 3 (orientation) estimated responsible dim is 1.\n",
      "For factor 4 (posX) estimated responsible dim is 2.\n",
      "For factor 5 (posY) estimated responsible dim is 4.\n"
     ]
    },
    {
     "data": {
      "image/png": "[encoded data removed]",
      "text/plain": [
       "<Figure size 432x288 with 5 Axes>"
      ]
     },
     "metadata": {},
     "output_type": "display_data"
    }
   ],
   "source": [
    "factors = ('color', 'shape', 'scale', 'orientation', 'posX', 'posY')\n",
    "dimwise_variances = np.zeros(shape=(5,6))\n",
    "\n",
    "for factor_idx in range(1,6):\n",
    "    \n",
    "    pairs = sample_latent_pairs_differing_in_one_factor(factor_idx, dsprites, how_many_pairs=10000)\n",
    "    _, dimwise_variance, est_resp_dim = estimate_responsible_dimension(pairs, model_dsprites_full, curr_dev)\n",
    "    dimwise_variances[factor_idx - 1, :] = dimwise_variance\n",
    "    print(f\"For factor {factor_idx} ({factors[factor_idx]}) estimated responsible dim is {est_resp_dim + 1}.\")\n",
    "\n",
    "fig, axs = plt.subplots(1,5)\n",
    "for i, dv in enumerate(dimwise_variances):\n",
    "    \n",
    "    axs[i].imshow(np.expand_dims(dv, axis=1), cmap='Reds', interpolation='nearest')\n",
    "    axs[i].set_yticklabels([])\n",
    "    axs[i].set_yticks([])\n",
    "    axs[i].set_xticks([])\n",
    "    axs[i].set_xticklabels([])\n",
    "    axs[i].set_xlabel('c'+str(i+2))"
   ]
  },
  {
   "cell_type": "code",
   "execution_count": 13,
   "id": "eb4940e9",
   "metadata": {},
   "outputs": [
    {
     "data": {
      "image/png": "[encoded data removed]",
      "text/plain": [
       "<Figure size 432x288 with 4 Axes>"
      ]
     },
     "metadata": {
      "needs_background": "light"
     },
     "output_type": "display_data"
    },
    {
     "data": {
      "image/png": "[encoded data removed]",
      "text/plain": [
       "<Figure size 432x288 with 4 Axes>"
      ]
     },
     "metadata": {
      "needs_background": "light"
     },
     "output_type": "display_data"
    },
    {
     "data": {
      "image/png": "[encoded data removed]",
      "text/plain": [
       "<Figure size 432x288 with 4 Axes>"
      ]
     },
     "metadata": {
      "needs_background": "light"
     },
     "output_type": "display_data"
    },
    {
     "data": {
      "image/png": "[encoded data removed]",
      "text/plain": [
       "<Figure size 432x288 with 4 Axes>"
      ]
     },
     "metadata": {
      "needs_background": "light"
     },
     "output_type": "display_data"
    },
    {
     "data": {
      "image/png": "[encoded data removed]",
      "text/plain": [
       "<Figure size 432x288 with 4 Axes>"
      ]
     },
     "metadata": {
      "needs_background": "light"
     },
     "output_type": "display_data"
    },
    {
     "data": {
      "image/png": "[encoded data removed]",
      "text/plain": [
       "<Figure size 432x288 with 4 Axes>"
      ]
     },
     "metadata": {
      "needs_background": "light"
     },
     "output_type": "display_data"
    },
    {
     "data": {
      "image/png": "[encoded data removed]",
      "text/plain": [
       "<Figure size 432x288 with 4 Axes>"
      ]
     },
     "metadata": {
      "needs_background": "light"
     },
     "output_type": "display_data"
    },
    {
     "data": {
      "image/png": "[encoded data removed]",
      "text/plain": [
       "<Figure size 432x288 with 4 Axes>"
      ]
     },
     "metadata": {
      "needs_background": "light"
     },
     "output_type": "display_data"
    },
    {
     "data": {
      "image/png": "[encoded data removed]",
      "text/plain": [
       "<Figure size 432x288 with 4 Axes>"
      ]
     },
     "metadata": {
      "needs_background": "light"
     },
     "output_type": "display_data"
    },
    {
     "data": {
      "image/png": "[encoded data removed]",
      "text/plain": [
       "<Figure size 432x288 with 4 Axes>"
      ]
     },
     "metadata": {
      "needs_background": "light"
     },
     "output_type": "display_data"
    }
   ],
   "source": [
    "max_diff_pairs = sample_latent_pairs_maximally_differing_in_one_factor(\n",
    "    diff_factor_idx=4, \n",
    "    npz_dataset=dsprites, \n",
    "    direction='min-to-max', \n",
    "    how_many_pairs=10,\n",
    "    latent_max_val=dsprites['latents_sizes'][4]-1)\n",
    "\n",
    "# we do a semantic tr for every pair\n",
    "\n",
    "for pairs in max_diff_pairs:\n",
    "    \n",
    "    mus, logvars, new_img = do_semantic_manipulation(pairs['images'], model_dsprites_full, curr_dev)\n",
    "    "
   ]
  },
  {
   "cell_type": "code",
   "execution_count": 13,
   "id": "9a1bc40a",
   "metadata": {},
   "outputs": [
    {
     "data": {
      "image/png": "[encoded data removed]",
      "text/plain": [
       "<Figure size 432x288 with 4 Axes>"
      ]
     },
     "metadata": {
      "needs_background": "light"
     },
     "output_type": "display_data"
    },
    {
     "data": {
      "image/png": "[encoded data removed]",
      "text/plain": [
       "<Figure size 432x288 with 4 Axes>"
      ]
     },
     "metadata": {
      "needs_background": "light"
     },
     "output_type": "display_data"
    },
    {
     "data": {
      "image/png": "[encoded data removed]",
      "text/plain": [
       "<Figure size 432x288 with 4 Axes>"
      ]
     },
     "metadata": {
      "needs_background": "light"
     },
     "output_type": "display_data"
    },
    {
     "data": {
      "image/png": "[encoded data removed]",
      "text/plain": [
       "<Figure size 432x288 with 4 Axes>"
      ]
     },
     "metadata": {
      "needs_background": "light"
     },
     "output_type": "display_data"
    },
    {
     "data": {
      "image/png": "[encoded data removed]",
      "text/plain": [
       "<Figure size 432x288 with 4 Axes>"
      ]
     },
     "metadata": {
      "needs_background": "light"
     },
     "output_type": "display_data"
    },
    {
     "data": {
      "image/png": "[encoded data removed]",
      "text/plain": [
       "<Figure size 432x288 with 4 Axes>"
      ]
     },
     "metadata": {
      "needs_background": "light"
     },
     "output_type": "display_data"
    },
    {
     "data": {
      "image/png": "[encoded data removed]",
      "text/plain": [
       "<Figure size 432x288 with 4 Axes>"
      ]
     },
     "metadata": {
      "needs_background": "light"
     },
     "output_type": "display_data"
    },
    {
     "data": {
      "image/png": "[encoded data removed]",
      "text/plain": [
       "<Figure size 432x288 with 4 Axes>"
      ]
     },
     "metadata": {
      "needs_background": "light"
     },
     "output_type": "display_data"
    },
    {
     "data": {
      "image/png": "[encoded data removed]",
      "text/plain": [
       "<Figure size 432x288 with 4 Axes>"
      ]
     },
     "metadata": {
      "needs_background": "light"
     },
     "output_type": "display_data"
    },
    {
     "data": {
      "image/png": "[encoded data removed]",
      "text/plain": [
       "<Figure size 432x288 with 4 Axes>"
      ]
     },
     "metadata": {
      "needs_background": "light"
     },
     "output_type": "display_data"
    }
   ],
   "source": [
    "max_diff_pairs = sample_latent_pairs_maximally_differing_in_one_factor(\n",
    "    diff_factor_idx=5, \n",
    "    npz_dataset=dsprites, \n",
    "    direction='min-to-max', \n",
    "    how_many_pairs=10)\n",
    "\n",
    "# we do a semantic tr for every pair\n",
    "\n",
    "for pairs in max_diff_pairs:\n",
    "    \n",
    "    mus, logvars, new_img = do_semantic_manipulation(pairs['images'], model_dsprites_full, curr_dev)"
   ]
  },
  {
   "cell_type": "code",
   "execution_count": 14,
   "id": "ec5a9a2e",
   "metadata": {},
   "outputs": [
    {
     "data": {
      "image/png": "[encoded data removed]",
      "text/plain": [
       "<Figure size 432x288 with 4 Axes>"
      ]
     },
     "metadata": {
      "needs_background": "light"
     },
     "output_type": "display_data"
    },
    {
     "data": {
      "image/png": "[encoded data removed]",
      "text/plain": [
       "<Figure size 432x288 with 4 Axes>"
      ]
     },
     "metadata": {
      "needs_background": "light"
     },
     "output_type": "display_data"
    },
    {
     "data": {
      "image/png": "[encoded data removed]",
      "text/plain": [
       "<Figure size 432x288 with 4 Axes>"
      ]
     },
     "metadata": {
      "needs_background": "light"
     },
     "output_type": "display_data"
    },
    {
     "data": {
      "image/png": "[encoded data removed]",
      "text/plain": [
       "<Figure size 432x288 with 4 Axes>"
      ]
     },
     "metadata": {
      "needs_background": "light"
     },
     "output_type": "display_data"
    },
    {
     "data": {
      "image/png": "[encoded data removed]",
      "text/plain": [
       "<Figure size 432x288 with 4 Axes>"
      ]
     },
     "metadata": {
      "needs_background": "light"
     },
     "output_type": "display_data"
    },
    {
     "data": {
      "image/png": "[encoded data removed]",
      "text/plain": [
       "<Figure size 432x288 with 4 Axes>"
      ]
     },
     "metadata": {
      "needs_background": "light"
     },
     "output_type": "display_data"
    },
    {
     "data": {
      "image/png": "[encoded data removed]",
      "text/plain": [
       "<Figure size 432x288 with 4 Axes>"
      ]
     },
     "metadata": {
      "needs_background": "light"
     },
     "output_type": "display_data"
    },
    {
     "data": {
      "image/png": "[encoded data removed]",
      "text/plain": [
       "<Figure size 432x288 with 4 Axes>"
      ]
     },
     "metadata": {
      "needs_background": "light"
     },
     "output_type": "display_data"
    },
    {
     "data": {
      "image/png": "[encoded data removed]",
      "text/plain": [
       "<Figure size 432x288 with 4 Axes>"
      ]
     },
     "metadata": {
      "needs_background": "light"
     },
     "output_type": "display_data"
    },
    {
     "data": {
      "image/png": "[encoded data removed]",
      "text/plain": [
       "<Figure size 432x288 with 4 Axes>"
      ]
     },
     "metadata": {
      "needs_background": "light"
     },
     "output_type": "display_data"
    }
   ],
   "source": [
    "max_diff_pairs = sample_latent_pairs_maximally_differing_in_one_factor(\n",
    "    diff_factor_idx=2, \n",
    "    npz_dataset=dsprites, \n",
    "    direction='min-to-max', \n",
    "    how_many_pairs=10)\n",
    "\n",
    "# we do a semantic tr for every pair\n",
    "\n",
    "for pairs in max_diff_pairs:\n",
    "    \n",
    "    mus, logvars, new_img = do_semantic_manipulation(pairs['images'], model_dsprites_full, curr_dev)"
   ]
  },
  {
   "cell_type": "code",
   "execution_count": 15,
   "id": "676da7c2",
   "metadata": {},
   "outputs": [
    {
     "data": {
      "image/png": "[encoded data removed]",
      "text/plain": [
       "<Figure size 432x288 with 4 Axes>"
      ]
     },
     "metadata": {
      "needs_background": "light"
     },
     "output_type": "display_data"
    },
    {
     "data": {
      "image/png": "[encoded data removed]",
      "text/plain": [
       "<Figure size 432x288 with 4 Axes>"
      ]
     },
     "metadata": {
      "needs_background": "light"
     },
     "output_type": "display_data"
    },
    {
     "data": {
      "image/png": "[encoded data removed]",
      "text/plain": [
       "<Figure size 432x288 with 4 Axes>"
      ]
     },
     "metadata": {
      "needs_background": "light"
     },
     "output_type": "display_data"
    },
    {
     "data": {
      "image/png": "[encoded data removed]",
      "text/plain": [
       "<Figure size 432x288 with 4 Axes>"
      ]
     },
     "metadata": {
      "needs_background": "light"
     },
     "output_type": "display_data"
    },
    {
     "data": {
      "image/png": "[encoded data removed]",
      "text/plain": [
       "<Figure size 432x288 with 4 Axes>"
      ]
     },
     "metadata": {
      "needs_background": "light"
     },
     "output_type": "display_data"
    },
    {
     "data": {
      "image/png": "[encoded data removed]",
      "text/plain": [
       "<Figure size 432x288 with 4 Axes>"
      ]
     },
     "metadata": {
      "needs_background": "light"
     },
     "output_type": "display_data"
    },
    {
     "data": {
      "image/png": "[encoded data removed]",
      "text/plain": [
       "<Figure size 432x288 with 4 Axes>"
      ]
     },
     "metadata": {
      "needs_background": "light"
     },
     "output_type": "display_data"
    },
    {
     "data": {
      "image/png": "[encoded data removed]",
      "text/plain": [
       "<Figure size 432x288 with 4 Axes>"
      ]
     },
     "metadata": {
      "needs_background": "light"
     },
     "output_type": "display_data"
    },
    {
     "data": {
      "image/png": "[encoded data removed]",
      "text/plain": [
       "<Figure size 432x288 with 4 Axes>"
      ]
     },
     "metadata": {
      "needs_background": "light"
     },
     "output_type": "display_data"
    },
    {
     "data": {
      "image/png": "[encoded data removed]",
      "text/plain": [
       "<Figure size 432x288 with 4 Axes>"
      ]
     },
     "metadata": {
      "needs_background": "light"
     },
     "output_type": "display_data"
    }
   ],
   "source": [
    "max_diff_pairs = sample_latent_pairs_maximally_differing_in_one_factor(\n",
    "    diff_factor_idx=1, \n",
    "    npz_dataset=dsprites, \n",
    "    direction='min-to-max', \n",
    "    how_many_pairs=10)\n",
    "\n",
    "# we do a semantic tr for every pair\n",
    "\n",
    "for pairs in max_diff_pairs:\n",
    "    \n",
    "    mus, logvars, new_img = do_semantic_manipulation(pairs['images'], model_dsprites_full, curr_dev)"
   ]
  },
  {
   "cell_type": "code",
   "execution_count": 15,
   "id": "65f06587",
   "metadata": {},
   "outputs": [
    {
     "data": {
      "image/png": "[encoded data removed]",
      "text/plain": [
       "<Figure size 432x288 with 4 Axes>"
      ]
     },
     "metadata": {
      "needs_background": "light"
     },
     "output_type": "display_data"
    },
    {
     "data": {
      "image/png": "[encoded data removed]",
      "text/plain": [
       "<Figure size 432x288 with 4 Axes>"
      ]
     },
     "metadata": {
      "needs_background": "light"
     },
     "output_type": "display_data"
    },
    {
     "data": {
      "image/png": "[encoded data removed]",
      "text/plain": [
       "<Figure size 432x288 with 4 Axes>"
      ]
     },
     "metadata": {
      "needs_background": "light"
     },
     "output_type": "display_data"
    },
    {
     "data": {
      "image/png": "[encoded data removed]",
      "text/plain": [
       "<Figure size 432x288 with 4 Axes>"
      ]
     },
     "metadata": {
      "needs_background": "light"
     },
     "output_type": "display_data"
    },
    {
     "data": {
      "image/png": "[encoded data removed]",
      "text/plain": [
       "<Figure size 432x288 with 4 Axes>"
      ]
     },
     "metadata": {
      "needs_background": "light"
     },
     "output_type": "display_data"
    },
    {
     "data": {
      "image/png": "[encoded data removed]",
      "text/plain": [
       "<Figure size 432x288 with 4 Axes>"
      ]
     },
     "metadata": {
      "needs_background": "light"
     },
     "output_type": "display_data"
    },
    {
     "data": {
      "image/png": "[encoded data removed]",
      "text/plain": [
       "<Figure size 432x288 with 4 Axes>"
      ]
     },
     "metadata": {
      "needs_background": "light"
     },
     "output_type": "display_data"
    },
    {
     "data": {
      "image/png": "[encoded data removed]",
      "text/plain": [
       "<Figure size 432x288 with 4 Axes>"
      ]
     },
     "metadata": {
      "needs_background": "light"
     },
     "output_type": "display_data"
    },
    {
     "data": {
      "image/png": "[encoded data removed]",
      "text/plain": [
       "<Figure size 432x288 with 4 Axes>"
      ]
     },
     "metadata": {
      "needs_background": "light"
     },
     "output_type": "display_data"
    },
    {
     "data": {
      "image/png": "[encoded data removed]",
      "text/plain": [
       "<Figure size 432x288 with 4 Axes>"
      ]
     },
     "metadata": {
      "needs_background": "light"
     },
     "output_type": "display_data"
    }
   ],
   "source": [
    "max_diff_pairs = sample_latent_pairs_maximally_differing_in_one_factor(\n",
    "    diff_factor_idx=3, \n",
    "    npz_dataset=dsprites, \n",
    "    direction='min-to-max', \n",
    "    how_many_pairs=10,\n",
    "    latent_max_val=dsprites['latents_sizes'][3]//3)\n",
    "\n",
    "# we do a semantic tr for every pair\n",
    "\n",
    "for pairs in max_diff_pairs:\n",
    "    \n",
    "    mus, logvars, new_img = do_semantic_manipulation(pairs['images'], model_dsprites_full, curr_dev)"
   ]
  },
  {
   "cell_type": "code",
   "execution_count": null,
   "id": "def724d7",
   "metadata": {},
   "outputs": [],
   "source": []
  }
 ],
 "metadata": {
  "kernelspec": {
   "display_name": "Python 3 (ipykernel)",
   "language": "python",
   "name": "python3"
  },
  "language_info": {
   "codemirror_mode": {
    "name": "ipython",
    "version": 3
   },
   "file_extension": ".py",
   "mimetype": "text/x-python",
   "name": "python",
   "nbconvert_exporter": "python",
   "pygments_lexer": "ipython3",
   "version": "3.9.6"
  }
 },
 "nbformat": 4,
 "nbformat_minor": 5
}
