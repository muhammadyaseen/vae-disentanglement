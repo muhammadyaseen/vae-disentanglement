{
 "cells": [
  {
   "cell_type": "code",
   "execution_count": 1,
   "id": "3aaf4444",
   "metadata": {},
   "outputs": [
    {
     "name": "stdout",
     "output_type": "stream",
     "text": [
      "/home/c01muya/vae-disentanglement/disentanglement_lib_pl\n"
     ]
    }
   ],
   "source": [
    "cd /home/c01muya/vae-disentanglement/disentanglement_lib_pl"
   ]
  },
  {
   "cell_type": "code",
   "execution_count": 2,
   "id": "bde8c60d",
   "metadata": {},
   "outputs": [],
   "source": [
    "import numpy as np\n",
    "import matplotlib.pyplot as plt\n",
    "from matplotlib.offsetbox import OffsetImage, AnnotationBbox\n",
    "import seaborn as sns\n",
    "\n",
    "import torch, torchvision\n",
    "import torchvision.utils as vutils\n",
    "import torchvision.transforms.functional as T\n",
    "from torch.utils.data import DataLoader\n",
    "from torchvision import transforms\n",
    "\n",
    "from vae_experiment import VAEExperiment\n",
    "from common.data_loader import DSpritesDataset, ThreeShapesDataset, ContinumDataset\n",
    "from notebook_utils import *\n",
    "\n",
    "# Change figure aesthetics\n",
    "%matplotlib inline\n",
    "sns.set_context('talk', font_scale=1.2, rc={'lines.linewidth': 1.5})"
   ]
  },
  {
   "cell_type": "code",
   "execution_count": 3,
   "id": "820e1f44",
   "metadata": {},
   "outputs": [],
   "source": [
    "curr_dev = torch.device(\"cuda:2\")\n",
    "batch_size = 144\n",
    "seed = 123"
   ]
  },
  {
   "cell_type": "code",
   "execution_count": 4,
   "id": "5ff1653f",
   "metadata": {},
   "outputs": [
    {
     "name": "stderr",
     "output_type": "stream",
     "text": [
      "100%|████████████████████████████████████████████| 140/140 [00:03<00:00, 40.36it/s]\n"
     ]
    }
   ],
   "source": [
    "beta = 1.0\n",
    "z_dim = 2\n",
    "batch_size = 64\n",
    "checkpoint_path=\"../pl-dt-test/3shapesnoisy_beta1/version_0/checkpoints/epoch=99-step=13999.ckpt\"\n",
    "\n",
    "\n",
    "acts_for_threeshapesn, threeshapesn_dataset, model_threeshapesn = load_model_and_data_and_get_activations(\n",
    "                    dset_name='threeshapesnoisy', dset_path='../datasets', \n",
    "                    batch_size=batch_size, z_dim=z_dim , beta=beta, \n",
    "                    checkpoint_path=checkpoint_path, current_device=curr_dev, \n",
    "                    activation_with_label=True, seed=123,  batches=None\n",
    "    )\n"
   ]
  },
  {
   "cell_type": "code",
   "execution_count": 22,
   "id": "d4fa4848",
   "metadata": {},
   "outputs": [
    {
     "name": "stdout",
     "output_type": "stream",
     "text": [
      "torch.Size([32, 1, 4, 4])\n"
     ]
    },
    {
     "data": {
      "image/png": "[encoded data removed]",
      "text/plain": [
       "<Figure size 432x288 with 1 Axes>"
      ]
     },
     "metadata": {
      "needs_background": "light"
     },
     "output_type": "display_data"
    }
   ],
   "source": [
    "\n",
    "for c, comp in enumerate(model_threeshapesn.model.encoder.main):\n",
    "    \n",
    "    if c == 0:\n",
    "        \n",
    "        first_layer_kernels = comp.weight.cpu().detach().clone()\n",
    "        print(first_layer_kernels.size())\n",
    "        \n",
    "        # normalize to (0,1) range so that matplotlib can plot them\n",
    "        first_layer_kernels = first_layer_kernels - first_layer_kernels.min()\n",
    "        first_layer_kernels = first_layer_kernels / first_layer_kernels.max()\n",
    "        \n",
    "        filter_img = torchvision.utils.make_grid(first_layer_kernels, nrow = 5)\n",
    "        # change ordering since matplotlib requires images to \n",
    "        # be (H, W, C)\n",
    "        plt.imshow(filter_img.permute(1, 2, 0))\n"
   ]
  },
  {
   "cell_type": "code",
   "execution_count": 4,
   "id": "d22518c3",
   "metadata": {},
   "outputs": [
    {
     "name": "stderr",
     "output_type": "stream",
     "text": [
      " 77%|███████████████████████████████▋         | 2000/2592 [00:15<00:04, 128.50it/s]\n"
     ]
    }
   ],
   "source": [
    "beta = 1.0\n",
    "z_dim = 6\n",
    "batch_size = 256\n",
    "checkpoint_path=\"../pl-dt-test/dsprites_full_beta1/version_0/checkpoints/epoch=51-step=539135.ckpt\"\n",
    "\n",
    "\n",
    "acts_for_dsprites_full, dsprites_full_dataset, model_dsprites_full  = load_model_and_data_and_get_activations(\n",
    "                    dset_name='dsprites_full', dset_path='../datasets', \n",
    "                    batch_size=batch_size, z_dim=z_dim , beta=beta, \n",
    "                    checkpoint_path=checkpoint_path, current_device=curr_dev, \n",
    "                    activation_with_label=False, seed=123,  batches=2000\n",
    "    )"
   ]
  },
  {
   "cell_type": "code",
   "execution_count": null,
   "id": "9600b69e",
   "metadata": {},
   "outputs": [],
   "source": [
    "\n",
    "for c, comp in enumerate(model_dsprites_full.model.encoder.main):\n",
    "    print(c, comp)\n",
    "    \n",
    "    #f c == 1:\n",
    "    #acts = comp.cpu().detach().clone()\n",
    "    \n",
    "    if c == 1:\n",
    "        \n",
    "        first_layer_kernels = comp.cpu().detach().clone()\n",
    "        #print(first_layer_kernels.size())\n",
    "        \n",
    "        # normalize to (0,1) range so that matplotlib can plot them\n",
    "        first_layer_kernels = first_layer_kernels - first_layer_kernels.min()\n",
    "        first_layer_kernels = first_layer_kernels / first_layer_kernels.max()\n",
    "        \n",
    "        filter_img = torchvision.utils.make_grid(first_layer_kernels, nrow = 5)\n",
    "        # change ordering since matplotlib requires images to \n",
    "        # be (H, W, C)\n",
    "        plt.imshow(filter_img.permute(1, 2, 0))"
   ]
  },
  {
   "cell_type": "code",
   "execution_count": 12,
   "id": "a08a6db2",
   "metadata": {},
   "outputs": [
    {
     "name": "stdout",
     "output_type": "stream",
     "text": [
      "torch.Size([1, 64, 64])\n",
      "(32, 32, 1)\n",
      "torch.Size([1, 32, 32, 32])\n",
      "torch.Size([1, 1, 32, 32])\n"
     ]
    },
    {
     "name": "stderr",
     "output_type": "stream",
     "text": [
      "/home/c01muya/anaconda3/envs/pytorch-env/lib/python3.9/site-packages/skimage/transform/_warps.py:164: UserWarning: Bi-quadratic interpolation behavior has changed due to a bug in the implementation of scikit-image. The new version now serves as a wrapper around SciPy's interpolation functions, which itself is not verified to be a correct implementation. Until skimage's implementation is fixed, we recommend to use bi-linear or bi-cubic interpolation instead.\n",
      "  out = warp(image, tform, output_shape=output_shape, order=order,\n"
     ]
    },
    {
     "data": {
      "text/plain": [
       "<matplotlib.image.AxesImage at 0x7f6cc01fb940>"
      ]
     },
     "execution_count": 12,
     "metadata": {},
     "output_type": "execute_result"
    },
    {
     "data": {
      "image/png": "[encoded data removed]",
      "text/plain": [
       "<Figure size 72x72 with 1 Axes>"
      ]
     },
     "metadata": {
      "needs_background": "light"
     },
     "output_type": "display_data"
    },
    {
     "data": {
      "image/png": "[encoded data removed]",
      "text/plain": [
       "<Figure size 720x1008 with 1 Axes>"
      ]
     },
     "metadata": {
      "needs_background": "light"
     },
     "output_type": "display_data"
    }
   ],
   "source": [
    "from skimage.transform import resize\n",
    "\n",
    "anchor_image = dsprites_full_dataset.__getitem__(60000)[0]\n",
    "print(anchor_image.shape)\n",
    "\n",
    "anchor_image_resized = resize(anchor_image.permute(1,2,0), (32, 32), order=2)\n",
    "print(anchor_image_resized.shape)\n",
    "\n",
    "fig, ax = plt.subplots(figsize=(1,1))\n",
    "ax.imshow(anchor_image.permute(1,2,0), cmap='gray')\n",
    "\n",
    "anchor_image = anchor_image.unsqueeze(0)\n",
    "anchor_image = anchor_image.to(curr_dev)\n",
    "first_layer_act = model_dsprites_full.model.encoder.main[0](anchor_image)\n",
    "first_layer_act = first_layer_act.cpu().detach().clone()\n",
    "\n",
    "print(first_layer_act.shape)\n",
    "# normalize to (0,1) range so that matplotlib can plot them\n",
    "first_layer_act = first_layer_act - first_layer_act.min()\n",
    "first_layer_act = first_layer_act / first_layer_act.max()\n",
    "first_layer_act = first_layer_act.permute(1,0,2,3)\n",
    "\n",
    "anchor_as_tensor = transforms.ToTensor()(anchor_image_resized).unsqueeze(0)\n",
    "print(anchor_as_tensor.shape)\n",
    "first_layer_act = torch.cat([anchor_as_tensor, first_layer_act], dim = 0)\n",
    "\n",
    "filter_img = torchvision.utils.make_grid(first_layer_act, nrow = 5)\n",
    "# change ordering since matplotlib requires images to \n",
    "# be (H, W, C)\n",
    "fig , ax = plt.subplots(figsize=(10,14))\n",
    "ax.imshow(filter_img.permute(1, 2, 0), cmap='gray')"
   ]
  },
  {
   "cell_type": "code",
   "execution_count": 53,
   "id": "fca1991d",
   "metadata": {},
   "outputs": [
    {
     "name": "stdout",
     "output_type": "stream",
     "text": [
      "torch.Size([1, 32, 32, 32])\n"
     ]
    },
    {
     "data": {
      "text/plain": [
       "<matplotlib.image.AxesImage at 0x7fedb746e970>"
      ]
     },
     "execution_count": 53,
     "metadata": {},
     "output_type": "execute_result"
    },
    {
     "data": {
      "image/png": "[encoded data removed]",
      "text/plain": [
       "<Figure size 72x72 with 1 Axes>"
      ]
     },
     "metadata": {
      "needs_background": "light"
     },
     "output_type": "display_data"
    },
    {
     "data": {
      "image/png": "[encoded data removed]",
      "text/plain": [
       "<Figure size 720x1008 with 1 Axes>"
      ]
     },
     "metadata": {
      "needs_background": "light"
     },
     "output_type": "display_data"
    }
   ],
   "source": [
    "anchor_image = dsprites_full_dataset.__getitem__(50000)[0]\n",
    "fig, ax = plt.subplots(figsize=(1,1))\n",
    "ax.imshow(anchor_image.permute(1,2,0), cmap='gray')\n",
    "\n",
    "anchor_image = anchor_image.unsqueeze(0)\n",
    "anchor_image = anchor_image.to(curr_dev)\n",
    "first_layer_act = model_dsprites_full.model.encoder.main[0](anchor_image)\n",
    "first_layer_act = first_layer_act.cpu().detach().clone()\n",
    "\n",
    "print(first_layer_act.shape)\n",
    "# normalize to (0,1) range so that matplotlib can plot them\n",
    "first_layer_act = first_layer_act - first_layer_act.min()\n",
    "first_layer_act = first_layer_act / first_layer_act.max()\n",
    "filter_img = torchvision.utils.make_grid(first_layer_act.permute(1,0,2,3), nrow = 5)\n",
    "# change ordering since matplotlib requires images to \n",
    "# be (H, W, C)\n",
    "fig , ax = plt.subplots(figsize=(10,14))\n",
    "ax.imshow(filter_img.permute(1, 2, 0), cmap='gray')"
   ]
  },
  {
   "cell_type": "code",
   "execution_count": null,
   "id": "b1fd88ba",
   "metadata": {},
   "outputs": [],
   "source": []
  }
 ],
 "metadata": {
  "kernelspec": {
   "display_name": "Python 3 (ipykernel)",
   "language": "python",
   "name": "python3"
  },
  "language_info": {
   "codemirror_mode": {
    "name": "ipython",
    "version": 3
   },
   "file_extension": ".py",
   "mimetype": "text/x-python",
   "name": "python",
   "nbconvert_exporter": "python",
   "pygments_lexer": "ipython3",
   "version": "3.9.6"
  }
 },
 "nbformat": 4,
 "nbformat_minor": 5
}
