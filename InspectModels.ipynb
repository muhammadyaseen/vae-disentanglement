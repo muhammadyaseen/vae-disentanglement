{
 "cells": [
  {
   "cell_type": "code",
   "execution_count": 4,
   "id": "31b50460",
   "metadata": {},
   "outputs": [
    {
     "name": "stdout",
     "output_type": "stream",
     "text": [
      "[Errno 2] No such file or directory: '/home/c01muya/vae-disentanglement/disent-vaes/'\n",
      "/media/DATA/Saarbrucken/EDA_Research/thesis_code\n"
     ]
    }
   ],
   "source": [
    "cd /home/c01muya/vae-disentanglement/disent-vaes/"
   ]
  },
  {
   "cell_type": "code",
   "execution_count": 5,
   "id": "e0b40b44",
   "metadata": {},
   "outputs": [
    {
     "ename": "ModuleNotFoundError",
     "evalue": "No module named 'torch'",
     "output_type": "error",
     "traceback": [
      "\u001b[0;31m---------------------------------------------------------------------------\u001b[0m",
      "\u001b[0;31mModuleNotFoundError\u001b[0m                       Traceback (most recent call last)",
      "\u001b[0;32m<ipython-input-5-43d99bcaa3a3>\u001b[0m in \u001b[0;36m<module>\u001b[0;34m\u001b[0m\n\u001b[1;32m      3\u001b[0m \u001b[0;32mimport\u001b[0m \u001b[0mos\u001b[0m\u001b[0;34m\u001b[0m\u001b[0;34m\u001b[0m\u001b[0m\n\u001b[1;32m      4\u001b[0m \u001b[0;32mimport\u001b[0m \u001b[0mmatplotlib\u001b[0m\u001b[0;34m.\u001b[0m\u001b[0mpyplot\u001b[0m \u001b[0;32mas\u001b[0m \u001b[0mplt\u001b[0m\u001b[0;34m\u001b[0m\u001b[0;34m\u001b[0m\u001b[0m\n\u001b[0;32m----> 5\u001b[0;31m \u001b[0;32mimport\u001b[0m \u001b[0mtorch\u001b[0m\u001b[0;34m\u001b[0m\u001b[0;34m\u001b[0m\u001b[0m\n\u001b[0m\u001b[1;32m      6\u001b[0m \u001b[0;32mimport\u001b[0m \u001b[0mtorchvision\u001b[0m\u001b[0;34m.\u001b[0m\u001b[0mutils\u001b[0m \u001b[0;32mas\u001b[0m \u001b[0mvutils\u001b[0m\u001b[0;34m\u001b[0m\u001b[0;34m\u001b[0m\u001b[0m\n\u001b[1;32m      7\u001b[0m \u001b[0;32mimport\u001b[0m \u001b[0mtorchvision\u001b[0m\u001b[0;34m.\u001b[0m\u001b[0mtransforms\u001b[0m\u001b[0;34m.\u001b[0m\u001b[0mfunctional\u001b[0m \u001b[0;32mas\u001b[0m \u001b[0mT\u001b[0m\u001b[0;34m\u001b[0m\u001b[0;34m\u001b[0m\u001b[0m\n",
      "\u001b[0;31mModuleNotFoundError\u001b[0m: No module named 'torch'"
     ]
    }
   ],
   "source": [
    "import yaml\n",
    "import numpy as np\n",
    "import os\n",
    "import matplotlib.pyplot as plt\n",
    "import torch\n",
    "import torchvision.utils as vutils\n",
    "import torchvision.transforms.functional as T\n",
    "\n",
    "from models import *\n",
    "from experiment import VAEExperiment\n",
    "from models import BetaVAE_Vanilla\n",
    "import seaborn as sns\n",
    "\n",
    "from continum_loader import ContinumDataset\n",
    "from three_shapes_loader import ThreeShapesDataset\n",
    "\n",
    "from torch.utils.data import DataLoader\n",
    "from collections import defaultdict\n",
    "from tqdm import tqdm\n",
    "from matplotlib.pyplot import figure\n",
    "\n",
    "# Change figure aesthetics\n",
    "%matplotlib inline\n",
    "sns.set_context('talk', font_scale=1.2, rc={'lines.linewidth': 1.5})\n"
   ]
  },
  {
   "cell_type": "markdown",
   "id": "af216603",
   "metadata": {},
   "source": [
    "## Load the VAE Model"
   ]
  },
  {
   "cell_type": "code",
   "execution_count": 6,
   "id": "8f84e74c",
   "metadata": {},
   "outputs": [],
   "source": [
    "curr_dev = torch.device(\"cuda:1\")\n",
    "\n",
    "def load_vae_model(config_path, checkpoint_path, curr_dev):\n",
    "        \n",
    "    bvae_config = yaml.safe_load(open(config_path,'r'))\n",
    "    bvae_model = BetaVAE(**bvae_config['model_params'])\n",
    "    bvae_experiment = VAEExperiment.load_from_checkpoint(\n",
    "        checkpoint_path,\n",
    "        map_location=curr_dev,\n",
    "        vae_model=bvae_model, \n",
    "        params=bvae_config['exp_params'])\n",
    "\n",
    "    bvae_experiment = bvae_experiment.to(curr_dev)\n",
    "\n",
    "    return bvae_experiment\n",
    "\n",
    "model_for_shapes = load_vae_model(\n",
    "    config_path=\"./configs/betavae_3shapes.yaml\", \n",
    "    checkpoint_path=\"./logs/BetaVAE_Loss_H_3shapes_b1/version_2/checkpoints/epoch=99-step=6199.ckpt\",, \n",
    "    curr_dev=curr_dev)\n",
    "\n",
    "model_for_noisy_shapes = load_vae_model(\n",
    "    config_path=\"./configs/n3shapes.yaml\", \n",
    "    checkpoint_path=\"./logs/n3shapes_b1_loss_h/version_0/checkpoints/epoch=99-step=6199.ckpt\",, \n",
    "    curr_dev=curr_dev)\n",
    "\n",
    "model_for_noisy_shape_l2 = load_vae_model(\n",
    "    config_path=\"./configs/n3shapes_l2.yaml\", \n",
    "    checkpoint_path=\"./logs/n3shapes_l2_b1_loss_h/version_0/checkpoints/epoch=99-step=6199.ckpt\",, \n",
    "    curr_dev=curr_dev)"
   ]
  },
  {
   "cell_type": "markdown",
   "id": "752f5ba4",
   "metadata": {},
   "source": [
    "## Visualize a single sample"
   ]
  },
  {
   "cell_type": "code",
   "execution_count": 70,
   "id": "bde6f456",
   "metadata": {},
   "outputs": [
    {
     "name": "stdout",
     "output_type": "stream",
     "text": [
      "-0.0019728143 0.9998234\n"
     ]
    },
    {
     "data": {
      "text/plain": [
       "<matplotlib.image.AxesImage at 0x7f8bba9e9df0>"
      ]
     },
     "execution_count": 70,
     "metadata": {},
     "output_type": "execute_result"
    },
    {
     "data": {
      "image/png": "[encoded data removed]",
      "text/plain": [
       "<Figure size 432x288 with 1 Axes>"
      ]
     },
     "metadata": {
      "needs_background": "light"
     },
     "output_type": "display_data"
    }
   ],
   "source": [
    "\n",
    "# samples = model_for_shapes.model.sample(36, curr_dev)\n",
    "\n",
    "# these samples may have -ve values\n",
    "# one_sample_numpy = samples[0].detach().cpu().numpy()\n",
    "# print(np.min(one_sample_numpy),np.max(one_sample_numpy))\n",
    "\n",
    "# convert from pytorch to matplotlib format\n",
    "# one_sample_numpy = one_sample_numpy.transpose(1,2,0)\n",
    "# plt.imshow(one_sample_numpy, cmap='gray', vmin=0, vmax=1.0)"
   ]
  },
  {
   "cell_type": "markdown",
   "id": "1e4caa1c",
   "metadata": {},
   "source": [
    "## Get latent code for different shapes"
   ]
  },
  {
   "cell_type": "code",
   "execution_count": 71,
   "id": "7b25183c",
   "metadata": {},
   "outputs": [
    {
     "data": {
      "text/plain": [
       "'/home/c01muya/vae-disentanglement/disent-vaes'"
      ]
     },
     "execution_count": 71,
     "metadata": {},
     "output_type": "execute_result"
    }
   ],
   "source": [
    "pwd"
   ]
  },
  {
   "cell_type": "code",
   "execution_count": 2,
   "id": "fa3e9b6c",
   "metadata": {},
   "outputs": [],
   "source": [
    "def get_latent_activations(dataset, vae_model):\n",
    "\n",
    "    batch_size = 32\n",
    "    \n",
    "    loader = DataLoader(dataset, batch_size=batch_size, shuffle = True, drop_last=True)\n",
    "    latent_act_dict = defaultdict(list)\n",
    "\n",
    "    for x_batch, label_batch in tqdm(loader):\n",
    "\n",
    "        # First we encode this batch\n",
    "        x_batch = x_batch.to(curr_dev)\n",
    "        mu_batch, log_var_batch = vae_model.model.encode(x_batch)\n",
    "\n",
    "        # Then, we get \\mu and \\sigma for this batch\n",
    "        mu_batch = mu_batch.detach().cpu().numpy()\n",
    "        log_var_batch = log_var_batch.detach().cpu().numpy()\n",
    "\n",
    "        # and labels\n",
    "        label_batch = label_batch.cpu().numpy()\n",
    "\n",
    "        # using labels, we place all \\mu's belonging to same class together\n",
    "        for b in range(batch_size):\n",
    "\n",
    "            # sort into related\n",
    "\n",
    "            label_of_this_x = int(label_batch[b].squeeze())\n",
    "            \n",
    "            print(mu_batch[b].ndim)\n",
    "            \n",
    "            latent_act_dict[label_of_this_x].append( mu_batch[b].item() )\n",
    "            \n",
    "            return latent_act_dict\n",
    "    \n",
    "    return latent_act_dict"
   ]
  },
  {
   "cell_type": "code",
   "execution_count": 3,
   "id": "a9d40375",
   "metadata": {},
   "outputs": [
    {
     "ename": "NameError",
     "evalue": "name 'ThreeShapesDataset' is not defined",
     "output_type": "error",
     "traceback": [
      "\u001b[0;31m---------------------------------------------------------------------------\u001b[0m",
      "\u001b[0;31mNameError\u001b[0m                                 Traceback (most recent call last)",
      "\u001b[0;32m<ipython-input-3-9b003743f4d3>\u001b[0m in \u001b[0;36m<module>\u001b[0;34m\u001b[0m\n\u001b[0;32m----> 1\u001b[0;31m \u001b[0mdataset\u001b[0m \u001b[0;34m=\u001b[0m \u001b[0mThreeShapesDataset\u001b[0m\u001b[0;34m(\u001b[0m\u001b[0mroot\u001b[0m\u001b[0;34m=\u001b[0m\u001b[0;34m\"../datasets/ThreeShapesData/\"\u001b[0m\u001b[0;34m,\u001b[0m \u001b[0msplit\u001b[0m\u001b[0;34m=\u001b[0m\u001b[0;34m\"train\"\u001b[0m\u001b[0;34m)\u001b[0m\u001b[0;34m\u001b[0m\u001b[0;34m\u001b[0m\u001b[0m\n\u001b[0m\u001b[1;32m      2\u001b[0m \u001b[0mnoisy_dataset\u001b[0m \u001b[0;34m=\u001b[0m \u001b[0mThreeShapesDataset\u001b[0m\u001b[0;34m(\u001b[0m\u001b[0mroot\u001b[0m\u001b[0;34m=\u001b[0m\u001b[0;34m\"../datasets/ThreeShapesDataNoisy/\"\u001b[0m\u001b[0;34m,\u001b[0m \u001b[0msplit\u001b[0m\u001b[0;34m=\u001b[0m\u001b[0;34m\"train\"\u001b[0m\u001b[0;34m)\u001b[0m\u001b[0;34m\u001b[0m\u001b[0;34m\u001b[0m\u001b[0m\n\u001b[1;32m      3\u001b[0m \u001b[0;34m\u001b[0m\u001b[0m\n\u001b[1;32m      4\u001b[0m \u001b[0;31m# acts_shapes = get_latent_activations(dataset, model_for_shapes)\u001b[0m\u001b[0;34m\u001b[0m\u001b[0;34m\u001b[0m\u001b[0;34m\u001b[0m\u001b[0m\n\u001b[1;32m      5\u001b[0m \u001b[0;31m# acts_for_noisy_shapes = get_latent_activations(noisy_dataset, model_for_noisy_shapes)\u001b[0m\u001b[0;34m\u001b[0m\u001b[0;34m\u001b[0m\u001b[0;34m\u001b[0m\u001b[0m\n",
      "\u001b[0;31mNameError\u001b[0m: name 'ThreeShapesDataset' is not defined"
     ]
    }
   ],
   "source": [
    "dataset = ThreeShapesDataset(root=\"../datasets/ThreeShapesData/\", split=\"train\")\n",
    "noisy_dataset = ThreeShapesDataset(root=\"../datasets/ThreeShapesDataNoisy/\", split=\"train\")\n",
    "\n",
    "# acts_shapes = get_latent_activations(dataset, model_for_shapes)\n",
    "# acts_for_noisy_shapes = get_latent_activations(noisy_dataset, model_for_noisy_shapes)\n",
    "\n",
    "acts_for_noisy_shapes_l2 = get_latent_activations(noisy_dataset, model_for_noisy_shapes_l2)"
   ]
  },
  {
   "cell_type": "code",
   "execution_count": null,
   "id": "16e2eab8",
   "metadata": {},
   "outputs": [],
   "source": []
  },
  {
   "cell_type": "markdown",
   "id": "b9addfeb",
   "metadata": {},
   "source": [
    "## Plot histogram of latent code unit"
   ]
  },
  {
   "cell_type": "code",
   "execution_count": 10,
   "id": "c9738b92",
   "metadata": {},
   "outputs": [
    {
     "data": {
      "text/plain": [
       "<matplotlib.legend.Legend at 0x7f5e50392040>"
      ]
     },
     "execution_count": 10,
     "metadata": {},
     "output_type": "execute_result"
    },
    {
     "data": {
      "image/png": "[encoded data removed]",
      "text/plain": [
       "<Figure size 720x360 with 1 Axes>"
      ]
     },
     "metadata": {
      "needs_background": "light"
     },
     "output_type": "display_data"
    }
   ],
   "source": [
    "figure(figsize=(10,5))\n",
    "\n",
    "for k in acts_shapes.keys():\n",
    "    plt.hist(acts_shapes[k], label=f\"Class {k}\")\n",
    "\n",
    "plt.legend(prop={'size': 10},loc='upper left')"
   ]
  },
  {
   "cell_type": "code",
   "execution_count": null,
   "id": "39cbe28a",
   "metadata": {},
   "outputs": [],
   "source": [
    "figure(figsize=(10,5))\n",
    "\n",
    "for k in acts_for_noisy_shapes.keys():\n",
    "    plt.hist(acts_for_noisy_shapes[k], label=f\"Class {k}\")\n",
    "\n",
    "plt.legend(prop={'size': 10},loc='upper left')"
   ]
  },
  {
   "cell_type": "code",
   "execution_count": 11,
   "id": "6bae75be",
   "metadata": {},
   "outputs": [],
   "source": [
    "def show(imgs):\n",
    "    if not isinstance(imgs, list):\n",
    "        imgs = [imgs]\n",
    "    fix, axs = plt.subplots(ncols=len(imgs), squeeze=False)\n",
    "    for i, img in enumerate(imgs):\n",
    "        img = img.detach()\n",
    "        print(img.dtype)\n",
    "        img = T.to_pil_image(img,mode='RGB')\n",
    "        axs[0, i].imshow(np.asarray(img),cmap='gray',vmin=0.0,vmax=1.0)\n",
    "        axs[0, i].set(xticklabels=[], yticklabels=[], xticks=[], yticks=[])"
   ]
  },
  {
   "cell_type": "code",
   "execution_count": null,
   "id": "89c1f459",
   "metadata": {},
   "outputs": [],
   "source": []
  },
  {
   "cell_type": "code",
   "execution_count": 30,
   "id": "598f6937",
   "metadata": {},
   "outputs": [
    {
     "name": "stdout",
     "output_type": "stream",
     "text": [
      "torch.float32\n"
     ]
    },
    {
     "data": {
      "image/png": "[encoded data removed]",
      "text/plain": [
       "<Figure size 432x288 with 1 Axes>"
      ]
     },
     "metadata": {},
     "output_type": "display_data"
    }
   ],
   "source": [
    "grid_samples = vutils.make_grid(samples.cpu().data, normalize=True, nrow=10, value_range=(0,1.0))\n",
    "show(grid_samples)"
   ]
  },
  {
   "cell_type": "code",
   "execution_count": null,
   "id": "5611b03f",
   "metadata": {},
   "outputs": [],
   "source": []
  }
 ],
 "metadata": {
  "kernelspec": {
   "display_name": "Python 3",
   "language": "python",
   "name": "python3"
  },
  "language_info": {
   "codemirror_mode": {
    "name": "ipython",
    "version": 3
   },
   "file_extension": ".py",
   "mimetype": "text/x-python",
   "name": "python",
   "nbconvert_exporter": "python",
   "pygments_lexer": "ipython3",
   "version": "3.8.8"
  }
 },
 "nbformat": 4,
 "nbformat_minor": 5
}
