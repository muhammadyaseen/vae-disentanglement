{
 "cells": [
  {
   "cell_type": "code",
   "execution_count": 1,
   "id": "5b721aee",
   "metadata": {},
   "outputs": [],
   "source": [
    "import torch\n",
    "import matplotlib.pyplot as plt\n",
    "import numpy as np\n",
    "from torch import nn\n",
    "from torch.nn import init\n",
    "import torch.nn.functional as F\n",
    "import torch.optim\n",
    "import random"
   ]
  },
  {
   "cell_type": "code",
   "execution_count": 2,
   "id": "aa3c5de7",
   "metadata": {},
   "outputs": [],
   "source": [
    "torch.manual_seed(0)\n",
    "np.random.seed(0)\n",
    "random.seed(0)"
   ]
  },
  {
   "cell_type": "code",
   "execution_count": 3,
   "id": "87cb7b4a",
   "metadata": {},
   "outputs": [],
   "source": [
    "# 2d input\n",
    "# x,y\n",
    "inputs = torch.randn(2000, 2)\n",
    "# ax + by\n",
    "out_dim1 = 2 * inputs[:,0] + 4 * inputs[:,1]\n",
    "# y^2\n",
    "out_dim2 = inputs[:,1] * 2\n",
    "#out_dim2 = inputs[:,1] ** 2 + 0.5 * inputs[:,0]\n",
    "outputs = torch.stack([out_dim1, out_dim2],dim=1)"
   ]
  },
  {
   "cell_type": "code",
   "execution_count": 4,
   "id": "712bee5d",
   "metadata": {},
   "outputs": [
    {
     "data": {
      "text/plain": [
       "(torch.Size([2000, 2]), torch.Size([2000, 2]))"
      ]
     },
     "execution_count": 4,
     "metadata": {},
     "output_type": "execute_result"
    }
   ],
   "source": [
    "inputs.shape, outputs.shape"
   ]
  },
  {
   "cell_type": "code",
   "execution_count": 5,
   "id": "482eed99",
   "metadata": {},
   "outputs": [
    {
     "data": {
      "text/plain": [
       "(tensor([-1.1258, -1.1524]), tensor([-6.8611, -2.3047]))"
      ]
     },
     "execution_count": 5,
     "metadata": {},
     "output_type": "execute_result"
    }
   ],
   "source": [
    "inputs[0], outputs[0]"
   ]
  },
  {
   "cell_type": "code",
   "execution_count": 6,
   "id": "246f5814",
   "metadata": {},
   "outputs": [
    {
     "data": {
      "text/plain": [
       "(tensor(-6.8611), tensor(-2.3047))"
      ]
     },
     "execution_count": 6,
     "metadata": {},
     "output_type": "execute_result"
    }
   ],
   "source": [
    "2* inputs[0][0] + 4*inputs[0][1], inputs[0][1]*2"
   ]
  },
  {
   "cell_type": "code",
   "execution_count": 7,
   "id": "3b338435",
   "metadata": {},
   "outputs": [],
   "source": [
    "class MyToyNet(nn.Module):\n",
    "    \n",
    "    def __init__(self):\n",
    "        \n",
    "        super().__init__()\n",
    "        \n",
    "        self.inp_to_interm_W = nn.Parameter(torch.Tensor(2, 4))\n",
    "        self.interm_to_out_W = nn.Parameter(torch.Tensor(4, 2))\n",
    "        self.inp_to_interm_b = nn.Parameter(torch.Tensor(4))\n",
    "        self.interm_to_out_b = nn.Parameter(torch.Tensor(2))\n",
    "        \n",
    "        # masks\n",
    "        self.inp_to_interm_mask = torch.from_numpy(np.array([\n",
    "            [1., 1., 0., 0.],\n",
    "            [1., 1.,1., 1. ]\n",
    "        ], dtype=np.float32))\n",
    "        self.interm_to_out_mask = torch.from_numpy(np.array([\n",
    "            [1., 0],\n",
    "            [1., 0],\n",
    "            [0., 1.],\n",
    "            [0., 1.]\n",
    "        ], dtype=np.float32))\n",
    "        \n",
    "        init.kaiming_normal_(self.inp_to_interm_W, mode='fan_in')\n",
    "        init.kaiming_normal_(self.interm_to_out_W, mode='fan_in')\n",
    "        self.inp_to_interm_b.data.fill_(0)\n",
    "        self.interm_to_out_b.data.fill_(0)\n",
    "        \n",
    "    def forward(self, x):\n",
    "        \n",
    "        # With masking\n",
    "        #\"\"\"\n",
    "        masked_inp_to_interm = self.inp_to_interm_W.mul(self.inp_to_interm_mask)\n",
    "        masked_interm_to_out = self.interm_to_out_W.mul(self.interm_to_out_mask)\n",
    "        x = x.matmul(masked_inp_to_interm) + self.inp_to_interm_b\n",
    "        x = F.tanh(x)\n",
    "        x = x.matmul(masked_interm_to_out) + self.interm_to_out_b\n",
    "        #x = F.relu(x)\n",
    "        #\"\"\"\n",
    "        # Without masking\n",
    "        \"\"\"\n",
    "        x = x.matmul(self.inp_to_interm_W) + self.inp_to_interm_b\n",
    "        x = F.tanh(x)\n",
    "        x = x.matmul(self.interm_to_out_W) + self.interm_to_out_b\n",
    "        #x = F.tanh(x)\n",
    "        \"\"\"\n",
    "        return x\n",
    "    \n",
    "       "
   ]
  },
  {
   "cell_type": "code",
   "execution_count": 8,
   "id": "69e2c515",
   "metadata": {},
   "outputs": [],
   "source": [
    "toynet = MyToyNet()\n",
    "optimizer = torch.optim.SGD(toynet.parameters(), lr=1e-3, momentum=0.9)"
   ]
  },
  {
   "cell_type": "code",
   "execution_count": 9,
   "id": "b530e735",
   "metadata": {},
   "outputs": [
    {
     "name": "stderr",
     "output_type": "stream",
     "text": [
      "D:\\Saarbrucken\\EDA_Research\\seq-proj\\python-env\\lib\\site-packages\\torch\\nn\\functional.py:1698: UserWarning: nn.functional.tanh is deprecated. Use torch.tanh instead.\n",
      "  warnings.warn(\"nn.functional.tanh is deprecated. Use torch.tanh instead.\")\n"
     ]
    },
    {
     "data": {
      "text/plain": [
       "[<matplotlib.lines.Line2D at 0x1f2ca369be0>]"
      ]
     },
     "execution_count": 9,
     "metadata": {},
     "output_type": "execute_result"
    },
    {
     "data": {
      "image/png": "[encoded data removed]",
      "text/plain": [
       "<Figure size 432x288 with 1 Axes>"
      ]
     },
     "metadata": {
      "needs_background": "light"
     },
     "output_type": "display_data"
    }
   ],
   "source": [
    "losses = []\n",
    "for i in range(2000):\n",
    "    \n",
    "    outs = toynet(inputs)\n",
    "    loss = F.mse_loss(outs, outputs, reduction='mean')\n",
    "    #loss = (outs - outputs).pow(2).sum() / inputs.shape[0]\n",
    "    losses.append(loss.item())\n",
    "    optimizer.zero_grad()\n",
    "    loss.backward()\n",
    "    optimizer.step()\n",
    "    \n",
    "plt.plot(losses)\n",
    "    "
   ]
  },
  {
   "cell_type": "code",
   "execution_count": 10,
   "id": "e5ef90fd",
   "metadata": {},
   "outputs": [
    {
     "name": "stdout",
     "output_type": "stream",
     "text": [
      "Parameter containing:\n",
      "tensor([[ 0.1197,  0.3086, -0.2320,  0.1210],\n",
      "        [ 0.5030,  0.4085, -0.5245,  0.5245]], requires_grad=True)\n",
      "Parameter containing:\n",
      "tensor([[ 4.6064, -0.2201],\n",
      "        [ 5.8114,  0.3057],\n",
      "        [-0.8482, -2.1466],\n",
      "        [-0.2452,  2.3245]], requires_grad=True)\n",
      "Parameter containing:\n",
      "tensor([-0.0595,  0.0345,  0.0173, -0.0134], requires_grad=True)\n",
      "Parameter containing:\n",
      "tensor([0.0585, 0.0562], requires_grad=True)\n"
     ]
    }
   ],
   "source": [
    "for p in toynet.parameters():\n",
    "    print(p)"
   ]
  },
  {
   "cell_type": "code",
   "execution_count": 11,
   "id": "d18668ea",
   "metadata": {},
   "outputs": [
    {
     "data": {
      "text/plain": [
       "tensor([[1., 1., 0., 0.],\n",
       "        [1., 1., 1., 1.]])"
      ]
     },
     "execution_count": 11,
     "metadata": {},
     "output_type": "execute_result"
    }
   ],
   "source": [
    "toynet.inp_to_interm_mask"
   ]
  },
  {
   "cell_type": "code",
   "execution_count": 12,
   "id": "6b46349c",
   "metadata": {},
   "outputs": [
    {
     "data": {
      "text/plain": [
       "tensor([[1., 0.],\n",
       "        [1., 0.],\n",
       "        [0., 1.],\n",
       "        [0., 1.]])"
      ]
     },
     "execution_count": 12,
     "metadata": {},
     "output_type": "execute_result"
    }
   ],
   "source": [
    "toynet.interm_to_out_mask"
   ]
  },
  {
   "cell_type": "code",
   "execution_count": 13,
   "id": "2660d280",
   "metadata": {},
   "outputs": [
    {
     "name": "stdout",
     "output_type": "stream",
     "text": [
      "tensor([[-6.7371, -2.4070]]) tensor([-6.8611, -2.3047])\n"
     ]
    }
   ],
   "source": [
    "with torch.no_grad():\n",
    "    print(toynet(inputs[0].unsqueeze(0)), outputs[0])\n"
   ]
  },
  {
   "cell_type": "code",
   "execution_count": null,
   "id": "2d18b61b",
   "metadata": {},
   "outputs": [],
   "source": []
  }
 ],
 "metadata": {
  "kernelspec": {
   "display_name": "Python 3 (ipykernel)",
   "language": "python",
   "name": "python3"
  },
  "language_info": {
   "codemirror_mode": {
    "name": "ipython",
    "version": 3
   },
   "file_extension": ".py",
   "mimetype": "text/x-python",
   "name": "python",
   "nbconvert_exporter": "python",
   "pygments_lexer": "ipython3",
   "version": "3.8.5"
  }
 },
 "nbformat": 4,
 "nbformat_minor": 5
}
