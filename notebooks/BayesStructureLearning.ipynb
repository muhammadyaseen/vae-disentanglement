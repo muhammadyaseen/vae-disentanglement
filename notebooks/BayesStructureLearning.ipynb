{
 "cells": [
  {
   "cell_type": "code",
   "execution_count": 1,
   "metadata": {},
   "outputs": [
    {
     "name": "stdout",
     "output_type": "stream",
     "text": [
      "D:\\Saarbrucken\\EDA_Research\\vae-disentanglement\\disentanglement_lib_pl\n"
     ]
    }
   ],
   "source": [
    "cd D:/Saarbrucken/EDA_Research/vae-disentanglement/disentanglement_lib_pl"
   ]
  },
  {
   "cell_type": "code",
   "execution_count": 2,
   "metadata": {},
   "outputs": [],
   "source": [
    "import numpy as np\n",
    "import pandas as pd\n",
    "import seaborn, time\n",
    "import torch\n",
    "from torch import nn\n",
    "#from pomegranate import BayesianNetwork\n",
    "#from common.data_loader import DSpritesDataset, ThreeShapesDataset, ContinumDataset\n",
    "#from common.known_datasets import CorrelatedDSpritesDataset\n"
   ]
  },
  {
   "cell_type": "code",
   "execution_count": 3,
   "metadata": {},
   "outputs": [],
   "source": [
    "seaborn.set_style('whitegrid')"
   ]
  },
  {
   "cell_type": "code",
   "execution_count": 4,
   "metadata": {},
   "outputs": [
    {
     "name": "stdout",
     "output_type": "stream",
     "text": [
      "Sequential(\n",
      "  (0): Linear(in_features=9, out_features=4, bias=True) is_final_layer=False\n",
      "  (1): Linear(in_features=4, out_features=4, bias=True) is_final_layer=False\n",
      "  (2): Linear(in_features=4, out_features=4, bias=True) is_final_layer=False\n",
      "  (3): Linear(in_features=4, out_features=4, bias=True) is_final_layer=True\n",
      ")\n"
     ]
    }
   ],
   "source": [
    "from common.special_modules import SimpleGNNLayer, SupervisedRegulariser\n",
    "\n",
    "def _init_gnn(z_dim, dag_levels, ofd, adj_mat):\n",
    "    \n",
    "    in_node_feat_dim, out_node_feat_dim = z_dim * 2, z_dim * 2\n",
    "    \n",
    "    gnn_layers = [SimpleGNNLayer(ofd, out_node_feat_dim, adj_mat, is_final_layer=False)]\n",
    "    for d in range(1, dag_levels):    \n",
    "        gnn_layers.append(SimpleGNNLayer(in_node_feat_dim, out_node_feat_dim, adj_mat, is_final_layer= d == dag_levels - 1))\n",
    "        \n",
    "    return nn.Sequential(*gnn_layers)\n",
    "\n",
    "print(_init_gnn(2, 4, 9, torch.zeros(5,5)))"
   ]
  },
  {
   "cell_type": "code",
   "execution_count": 4,
   "metadata": {},
   "outputs": [],
   "source": [
    "def sanitize_celeb_attr_data(unsanitize_attrs_file):\n",
    "    \n",
    "    attr_list = []\n",
    "    \n",
    "    unsanitize_attrs = open(unsanitize_attrs_file,'r').readlines()\n",
    "    \n",
    "    for a in unsanitize_attrs:\n",
    "        attr_line = a.strip('\\n').split(' ')\n",
    "        attrs_sanitized = [attr for attr in attr_line if attr != '']\n",
    "        attr_list.append(attrs_sanitized)\n",
    "        \n",
    "    with open('/home/c01muya/vae-disentanglement/datasets/celeba/list_attr_celeba_sanitized.txt','w') as list_attr_celeb_sen:\n",
    "        for attr_line in attr_list:\n",
    "            list_attr_celeb_sen.write(\n",
    "                \",\".join(attr_line) + \"\\n\"\n",
    "            )"
   ]
  },
  {
   "cell_type": "code",
   "execution_count": 5,
   "metadata": {},
   "outputs": [],
   "source": [
    "#sanitize_celeb_attr_data(\"/home/c01muya/vae-disentanglement/datasets/celeba/list_attr_celeba.txt\")"
   ]
  },
  {
   "cell_type": "code",
   "execution_count": 5,
   "metadata": {
    "scrolled": true
   },
   "outputs": [
    {
     "data": {
      "text/html": [
       "<div>\n",
       "<style scoped>\n",
       "    .dataframe tbody tr th:only-of-type {\n",
       "        vertical-align: middle;\n",
       "    }\n",
       "\n",
       "    .dataframe tbody tr th {\n",
       "        vertical-align: top;\n",
       "    }\n",
       "\n",
       "    .dataframe thead th {\n",
       "        text-align: right;\n",
       "    }\n",
       "</style>\n",
       "<table border=\"1\" class=\"dataframe\">\n",
       "  <thead>\n",
       "    <tr style=\"text-align: right;\">\n",
       "      <th></th>\n",
       "      <th>5_o_Clock_Shadow</th>\n",
       "      <th>Arched_Eyebrows</th>\n",
       "      <th>Attractive</th>\n",
       "      <th>Bags_Under_Eyes</th>\n",
       "      <th>Bald</th>\n",
       "      <th>Bangs</th>\n",
       "      <th>Big_Lips</th>\n",
       "      <th>Big_Nose</th>\n",
       "      <th>Black_Hair</th>\n",
       "      <th>Blond_Hair</th>\n",
       "      <th>...</th>\n",
       "      <th>Sideburns</th>\n",
       "      <th>Smiling</th>\n",
       "      <th>Straight_Hair</th>\n",
       "      <th>Wavy_Hair</th>\n",
       "      <th>Wearing_Earrings</th>\n",
       "      <th>Wearing_Hat</th>\n",
       "      <th>Wearing_Lipstick</th>\n",
       "      <th>Wearing_Necklace</th>\n",
       "      <th>Wearing_Necktie</th>\n",
       "      <th>Young</th>\n",
       "    </tr>\n",
       "  </thead>\n",
       "  <tbody>\n",
       "    <tr>\n",
       "      <th>0</th>\n",
       "      <td>-1</td>\n",
       "      <td>1</td>\n",
       "      <td>1</td>\n",
       "      <td>-1</td>\n",
       "      <td>-1</td>\n",
       "      <td>-1</td>\n",
       "      <td>-1</td>\n",
       "      <td>-1</td>\n",
       "      <td>-1</td>\n",
       "      <td>-1</td>\n",
       "      <td>...</td>\n",
       "      <td>-1</td>\n",
       "      <td>1</td>\n",
       "      <td>1</td>\n",
       "      <td>-1</td>\n",
       "      <td>1</td>\n",
       "      <td>-1</td>\n",
       "      <td>1</td>\n",
       "      <td>-1</td>\n",
       "      <td>-1</td>\n",
       "      <td>1</td>\n",
       "    </tr>\n",
       "    <tr>\n",
       "      <th>1</th>\n",
       "      <td>-1</td>\n",
       "      <td>-1</td>\n",
       "      <td>-1</td>\n",
       "      <td>1</td>\n",
       "      <td>-1</td>\n",
       "      <td>-1</td>\n",
       "      <td>-1</td>\n",
       "      <td>1</td>\n",
       "      <td>-1</td>\n",
       "      <td>-1</td>\n",
       "      <td>...</td>\n",
       "      <td>-1</td>\n",
       "      <td>1</td>\n",
       "      <td>-1</td>\n",
       "      <td>-1</td>\n",
       "      <td>-1</td>\n",
       "      <td>-1</td>\n",
       "      <td>-1</td>\n",
       "      <td>-1</td>\n",
       "      <td>-1</td>\n",
       "      <td>1</td>\n",
       "    </tr>\n",
       "    <tr>\n",
       "      <th>2</th>\n",
       "      <td>-1</td>\n",
       "      <td>-1</td>\n",
       "      <td>-1</td>\n",
       "      <td>-1</td>\n",
       "      <td>-1</td>\n",
       "      <td>-1</td>\n",
       "      <td>1</td>\n",
       "      <td>-1</td>\n",
       "      <td>-1</td>\n",
       "      <td>-1</td>\n",
       "      <td>...</td>\n",
       "      <td>-1</td>\n",
       "      <td>-1</td>\n",
       "      <td>-1</td>\n",
       "      <td>1</td>\n",
       "      <td>-1</td>\n",
       "      <td>-1</td>\n",
       "      <td>-1</td>\n",
       "      <td>-1</td>\n",
       "      <td>-1</td>\n",
       "      <td>1</td>\n",
       "    </tr>\n",
       "    <tr>\n",
       "      <th>3</th>\n",
       "      <td>-1</td>\n",
       "      <td>-1</td>\n",
       "      <td>1</td>\n",
       "      <td>-1</td>\n",
       "      <td>-1</td>\n",
       "      <td>-1</td>\n",
       "      <td>-1</td>\n",
       "      <td>-1</td>\n",
       "      <td>-1</td>\n",
       "      <td>-1</td>\n",
       "      <td>...</td>\n",
       "      <td>-1</td>\n",
       "      <td>-1</td>\n",
       "      <td>1</td>\n",
       "      <td>-1</td>\n",
       "      <td>1</td>\n",
       "      <td>-1</td>\n",
       "      <td>1</td>\n",
       "      <td>1</td>\n",
       "      <td>-1</td>\n",
       "      <td>1</td>\n",
       "    </tr>\n",
       "    <tr>\n",
       "      <th>4</th>\n",
       "      <td>-1</td>\n",
       "      <td>1</td>\n",
       "      <td>1</td>\n",
       "      <td>-1</td>\n",
       "      <td>-1</td>\n",
       "      <td>-1</td>\n",
       "      <td>1</td>\n",
       "      <td>-1</td>\n",
       "      <td>-1</td>\n",
       "      <td>-1</td>\n",
       "      <td>...</td>\n",
       "      <td>-1</td>\n",
       "      <td>-1</td>\n",
       "      <td>-1</td>\n",
       "      <td>-1</td>\n",
       "      <td>-1</td>\n",
       "      <td>-1</td>\n",
       "      <td>1</td>\n",
       "      <td>-1</td>\n",
       "      <td>-1</td>\n",
       "      <td>1</td>\n",
       "    </tr>\n",
       "  </tbody>\n",
       "</table>\n",
       "<p>5 rows × 40 columns</p>\n",
       "</div>"
      ],
      "text/plain": [
       "   5_o_Clock_Shadow  Arched_Eyebrows  Attractive  Bags_Under_Eyes  Bald  \\\n",
       "0                -1                1           1               -1    -1   \n",
       "1                -1               -1          -1                1    -1   \n",
       "2                -1               -1          -1               -1    -1   \n",
       "3                -1               -1           1               -1    -1   \n",
       "4                -1                1           1               -1    -1   \n",
       "\n",
       "   Bangs  Big_Lips  Big_Nose  Black_Hair  Blond_Hair  ...  Sideburns  Smiling  \\\n",
       "0     -1        -1        -1          -1          -1  ...         -1        1   \n",
       "1     -1        -1         1          -1          -1  ...         -1        1   \n",
       "2     -1         1        -1          -1          -1  ...         -1       -1   \n",
       "3     -1        -1        -1          -1          -1  ...         -1       -1   \n",
       "4     -1         1        -1          -1          -1  ...         -1       -1   \n",
       "\n",
       "   Straight_Hair  Wavy_Hair  Wearing_Earrings  Wearing_Hat  Wearing_Lipstick  \\\n",
       "0              1         -1                 1           -1                 1   \n",
       "1             -1         -1                -1           -1                -1   \n",
       "2             -1          1                -1           -1                -1   \n",
       "3              1         -1                 1           -1                 1   \n",
       "4             -1         -1                -1           -1                 1   \n",
       "\n",
       "   Wearing_Necklace  Wearing_Necktie  Young  \n",
       "0                -1               -1      1  \n",
       "1                -1               -1      1  \n",
       "2                -1               -1      1  \n",
       "3                 1               -1      1  \n",
       "4                -1               -1      1  \n",
       "\n",
       "[5 rows x 40 columns]"
      ]
     },
     "execution_count": 5,
     "metadata": {},
     "output_type": "execute_result"
    }
   ],
   "source": [
    "celeb_attrs = pd.read_csv(r\"D:/Saarbrucken/EDA_Research/vae-disentanglement/datasets/celeba/list_attr_celeba_sanitized.txt\", \n",
    "                          sep=\",\", encoding='ascii')\n",
    "celeb_attrs.drop('Image_ID', axis='columns', inplace=True)\n",
    "celeb_attrs.head()"
   ]
  },
  {
   "cell_type": "markdown",
   "metadata": {},
   "source": [
    "## In the following 2 cells we condense binary attributes related to Hair Color and Hair Type into 2 categorical attributes"
   ]
  },
  {
   "cell_type": "code",
   "execution_count": 6,
   "metadata": {},
   "outputs": [],
   "source": [
    "\n",
    "hair_color_conditions = [\n",
    "    celeb_attrs['Black_Hair'] == 1,\n",
    "    celeb_attrs['Brown_Hair'] == 1,\n",
    "    celeb_attrs['Blond_Hair'] == 1,\n",
    "    celeb_attrs['Gray_Hair']  == 1,\n",
    "    (celeb_attrs['Black_Hair'] != 1) & (celeb_attrs['Brown_Hair'] != 1) & (celeb_attrs['Blond_Hair'] != 1) & (celeb_attrs['Gray_Hair']  != 1)\n",
    "]\n",
    "\n",
    "hair_color_values = ['Black', 'Brown', 'Blond', 'Gray', 'Unknown']\n",
    "celeb_attrs['Hair_Color'] = np.select(hair_color_conditions, hair_color_values)\n",
    "#celeb_attrs[ ['Hair_Color','Black_Hair', 'Brown_Hair', 'Blond_Hair', 'Gray_Hair'] ]\n",
    "celeb_attrs.drop(['5_o_Clock_Shadow', 'Black_Hair','Brown_Hair','Blond_Hair','Gray_Hair'], axis='columns', inplace=True)"
   ]
  },
  {
   "cell_type": "code",
   "execution_count": 7,
   "metadata": {},
   "outputs": [],
   "source": [
    "hair_type_conditions = [\n",
    "    celeb_attrs['Bald'] == 1,\n",
    "    celeb_attrs['Bangs'] == 1,\n",
    "    celeb_attrs['Straight_Hair'] == 1,\n",
    "    celeb_attrs['Wavy_Hair']  == 1,\n",
    "    (celeb_attrs['Bald'] != 1) & (celeb_attrs['Bangs'] != 1) & (celeb_attrs['Straight_Hair'] != 1) & (celeb_attrs['Wavy_Hair'] != 1)\n",
    "]\n",
    "\n",
    "hair_type_values = ['Bald', 'Bangs', 'Straight', 'Wavy','Unknown']\n",
    "\n",
    "celeb_attrs['Hair_Type'] = np.select(hair_type_conditions, hair_type_values)\n",
    "#celeb_attrs[ ['Hair_Type','Bald', 'Bangs', 'Straight_Hair', 'Wavy_Hair'] ]\n",
    "celeb_attrs.drop(['Bald', 'Bangs', 'Straight_Hair', 'Wavy_Hair'], axis='columns', inplace=True)"
   ]
  },
  {
   "cell_type": "code",
   "execution_count": 8,
   "metadata": {
    "scrolled": true
   },
   "outputs": [
    {
     "data": {
      "text/html": [
       "<div>\n",
       "<style scoped>\n",
       "    .dataframe tbody tr th:only-of-type {\n",
       "        vertical-align: middle;\n",
       "    }\n",
       "\n",
       "    .dataframe tbody tr th {\n",
       "        vertical-align: top;\n",
       "    }\n",
       "\n",
       "    .dataframe thead th {\n",
       "        text-align: right;\n",
       "    }\n",
       "</style>\n",
       "<table border=\"1\" class=\"dataframe\">\n",
       "  <thead>\n",
       "    <tr style=\"text-align: right;\">\n",
       "      <th></th>\n",
       "      <th>Arched_Eyebrows</th>\n",
       "      <th>Attractive</th>\n",
       "      <th>Bags_Under_Eyes</th>\n",
       "      <th>Big_Lips</th>\n",
       "      <th>Big_Nose</th>\n",
       "      <th>Blurry</th>\n",
       "      <th>Bushy_Eyebrows</th>\n",
       "      <th>Chubby</th>\n",
       "      <th>Double_Chin</th>\n",
       "      <th>Eyeglasses</th>\n",
       "      <th>...</th>\n",
       "      <th>Sideburns</th>\n",
       "      <th>Smiling</th>\n",
       "      <th>Wearing_Earrings</th>\n",
       "      <th>Wearing_Hat</th>\n",
       "      <th>Wearing_Lipstick</th>\n",
       "      <th>Wearing_Necklace</th>\n",
       "      <th>Wearing_Necktie</th>\n",
       "      <th>Young</th>\n",
       "      <th>Hair_Color</th>\n",
       "      <th>Hair_Type</th>\n",
       "    </tr>\n",
       "  </thead>\n",
       "  <tbody>\n",
       "    <tr>\n",
       "      <th>0</th>\n",
       "      <td>1</td>\n",
       "      <td>1</td>\n",
       "      <td>-1</td>\n",
       "      <td>-1</td>\n",
       "      <td>-1</td>\n",
       "      <td>-1</td>\n",
       "      <td>-1</td>\n",
       "      <td>-1</td>\n",
       "      <td>-1</td>\n",
       "      <td>-1</td>\n",
       "      <td>...</td>\n",
       "      <td>-1</td>\n",
       "      <td>1</td>\n",
       "      <td>1</td>\n",
       "      <td>-1</td>\n",
       "      <td>1</td>\n",
       "      <td>-1</td>\n",
       "      <td>-1</td>\n",
       "      <td>1</td>\n",
       "      <td>Brown</td>\n",
       "      <td>Straight</td>\n",
       "    </tr>\n",
       "    <tr>\n",
       "      <th>1</th>\n",
       "      <td>-1</td>\n",
       "      <td>-1</td>\n",
       "      <td>1</td>\n",
       "      <td>-1</td>\n",
       "      <td>1</td>\n",
       "      <td>-1</td>\n",
       "      <td>-1</td>\n",
       "      <td>-1</td>\n",
       "      <td>-1</td>\n",
       "      <td>-1</td>\n",
       "      <td>...</td>\n",
       "      <td>-1</td>\n",
       "      <td>1</td>\n",
       "      <td>-1</td>\n",
       "      <td>-1</td>\n",
       "      <td>-1</td>\n",
       "      <td>-1</td>\n",
       "      <td>-1</td>\n",
       "      <td>1</td>\n",
       "      <td>Brown</td>\n",
       "      <td>Unknown</td>\n",
       "    </tr>\n",
       "    <tr>\n",
       "      <th>2</th>\n",
       "      <td>-1</td>\n",
       "      <td>-1</td>\n",
       "      <td>-1</td>\n",
       "      <td>1</td>\n",
       "      <td>-1</td>\n",
       "      <td>1</td>\n",
       "      <td>-1</td>\n",
       "      <td>-1</td>\n",
       "      <td>-1</td>\n",
       "      <td>-1</td>\n",
       "      <td>...</td>\n",
       "      <td>-1</td>\n",
       "      <td>-1</td>\n",
       "      <td>-1</td>\n",
       "      <td>-1</td>\n",
       "      <td>-1</td>\n",
       "      <td>-1</td>\n",
       "      <td>-1</td>\n",
       "      <td>1</td>\n",
       "      <td>Unknown</td>\n",
       "      <td>Wavy</td>\n",
       "    </tr>\n",
       "    <tr>\n",
       "      <th>3</th>\n",
       "      <td>-1</td>\n",
       "      <td>1</td>\n",
       "      <td>-1</td>\n",
       "      <td>-1</td>\n",
       "      <td>-1</td>\n",
       "      <td>-1</td>\n",
       "      <td>-1</td>\n",
       "      <td>-1</td>\n",
       "      <td>-1</td>\n",
       "      <td>-1</td>\n",
       "      <td>...</td>\n",
       "      <td>-1</td>\n",
       "      <td>-1</td>\n",
       "      <td>1</td>\n",
       "      <td>-1</td>\n",
       "      <td>1</td>\n",
       "      <td>1</td>\n",
       "      <td>-1</td>\n",
       "      <td>1</td>\n",
       "      <td>Unknown</td>\n",
       "      <td>Straight</td>\n",
       "    </tr>\n",
       "    <tr>\n",
       "      <th>4</th>\n",
       "      <td>1</td>\n",
       "      <td>1</td>\n",
       "      <td>-1</td>\n",
       "      <td>1</td>\n",
       "      <td>-1</td>\n",
       "      <td>-1</td>\n",
       "      <td>-1</td>\n",
       "      <td>-1</td>\n",
       "      <td>-1</td>\n",
       "      <td>-1</td>\n",
       "      <td>...</td>\n",
       "      <td>-1</td>\n",
       "      <td>-1</td>\n",
       "      <td>-1</td>\n",
       "      <td>-1</td>\n",
       "      <td>1</td>\n",
       "      <td>-1</td>\n",
       "      <td>-1</td>\n",
       "      <td>1</td>\n",
       "      <td>Unknown</td>\n",
       "      <td>Unknown</td>\n",
       "    </tr>\n",
       "    <tr>\n",
       "      <th>5</th>\n",
       "      <td>1</td>\n",
       "      <td>1</td>\n",
       "      <td>-1</td>\n",
       "      <td>1</td>\n",
       "      <td>-1</td>\n",
       "      <td>-1</td>\n",
       "      <td>-1</td>\n",
       "      <td>-1</td>\n",
       "      <td>-1</td>\n",
       "      <td>-1</td>\n",
       "      <td>...</td>\n",
       "      <td>-1</td>\n",
       "      <td>-1</td>\n",
       "      <td>1</td>\n",
       "      <td>-1</td>\n",
       "      <td>1</td>\n",
       "      <td>-1</td>\n",
       "      <td>-1</td>\n",
       "      <td>1</td>\n",
       "      <td>Brown</td>\n",
       "      <td>Wavy</td>\n",
       "    </tr>\n",
       "    <tr>\n",
       "      <th>6</th>\n",
       "      <td>-1</td>\n",
       "      <td>1</td>\n",
       "      <td>1</td>\n",
       "      <td>1</td>\n",
       "      <td>1</td>\n",
       "      <td>-1</td>\n",
       "      <td>1</td>\n",
       "      <td>-1</td>\n",
       "      <td>-1</td>\n",
       "      <td>-1</td>\n",
       "      <td>...</td>\n",
       "      <td>-1</td>\n",
       "      <td>-1</td>\n",
       "      <td>-1</td>\n",
       "      <td>-1</td>\n",
       "      <td>-1</td>\n",
       "      <td>-1</td>\n",
       "      <td>-1</td>\n",
       "      <td>1</td>\n",
       "      <td>Black</td>\n",
       "      <td>Straight</td>\n",
       "    </tr>\n",
       "    <tr>\n",
       "      <th>7</th>\n",
       "      <td>1</td>\n",
       "      <td>-1</td>\n",
       "      <td>1</td>\n",
       "      <td>1</td>\n",
       "      <td>-1</td>\n",
       "      <td>-1</td>\n",
       "      <td>-1</td>\n",
       "      <td>-1</td>\n",
       "      <td>-1</td>\n",
       "      <td>-1</td>\n",
       "      <td>...</td>\n",
       "      <td>-1</td>\n",
       "      <td>-1</td>\n",
       "      <td>-1</td>\n",
       "      <td>-1</td>\n",
       "      <td>-1</td>\n",
       "      <td>-1</td>\n",
       "      <td>-1</td>\n",
       "      <td>1</td>\n",
       "      <td>Black</td>\n",
       "      <td>Unknown</td>\n",
       "    </tr>\n",
       "    <tr>\n",
       "      <th>8</th>\n",
       "      <td>1</td>\n",
       "      <td>1</td>\n",
       "      <td>-1</td>\n",
       "      <td>1</td>\n",
       "      <td>-1</td>\n",
       "      <td>-1</td>\n",
       "      <td>-1</td>\n",
       "      <td>-1</td>\n",
       "      <td>-1</td>\n",
       "      <td>-1</td>\n",
       "      <td>...</td>\n",
       "      <td>-1</td>\n",
       "      <td>1</td>\n",
       "      <td>1</td>\n",
       "      <td>-1</td>\n",
       "      <td>1</td>\n",
       "      <td>-1</td>\n",
       "      <td>-1</td>\n",
       "      <td>1</td>\n",
       "      <td>Unknown</td>\n",
       "      <td>Bangs</td>\n",
       "    </tr>\n",
       "    <tr>\n",
       "      <th>9</th>\n",
       "      <td>-1</td>\n",
       "      <td>1</td>\n",
       "      <td>-1</td>\n",
       "      <td>-1</td>\n",
       "      <td>-1</td>\n",
       "      <td>-1</td>\n",
       "      <td>-1</td>\n",
       "      <td>-1</td>\n",
       "      <td>-1</td>\n",
       "      <td>-1</td>\n",
       "      <td>...</td>\n",
       "      <td>-1</td>\n",
       "      <td>-1</td>\n",
       "      <td>-1</td>\n",
       "      <td>-1</td>\n",
       "      <td>1</td>\n",
       "      <td>-1</td>\n",
       "      <td>-1</td>\n",
       "      <td>1</td>\n",
       "      <td>Unknown</td>\n",
       "      <td>Wavy</td>\n",
       "    </tr>\n",
       "  </tbody>\n",
       "</table>\n",
       "<p>10 rows × 33 columns</p>\n",
       "</div>"
      ],
      "text/plain": [
       "   Arched_Eyebrows  Attractive  Bags_Under_Eyes  Big_Lips  Big_Nose  Blurry  \\\n",
       "0                1           1               -1        -1        -1      -1   \n",
       "1               -1          -1                1        -1         1      -1   \n",
       "2               -1          -1               -1         1        -1       1   \n",
       "3               -1           1               -1        -1        -1      -1   \n",
       "4                1           1               -1         1        -1      -1   \n",
       "5                1           1               -1         1        -1      -1   \n",
       "6               -1           1                1         1         1      -1   \n",
       "7                1          -1                1         1        -1      -1   \n",
       "8                1           1               -1         1        -1      -1   \n",
       "9               -1           1               -1        -1        -1      -1   \n",
       "\n",
       "   Bushy_Eyebrows  Chubby  Double_Chin  Eyeglasses  ...  Sideburns  Smiling  \\\n",
       "0              -1      -1           -1          -1  ...         -1        1   \n",
       "1              -1      -1           -1          -1  ...         -1        1   \n",
       "2              -1      -1           -1          -1  ...         -1       -1   \n",
       "3              -1      -1           -1          -1  ...         -1       -1   \n",
       "4              -1      -1           -1          -1  ...         -1       -1   \n",
       "5              -1      -1           -1          -1  ...         -1       -1   \n",
       "6               1      -1           -1          -1  ...         -1       -1   \n",
       "7              -1      -1           -1          -1  ...         -1       -1   \n",
       "8              -1      -1           -1          -1  ...         -1        1   \n",
       "9              -1      -1           -1          -1  ...         -1       -1   \n",
       "\n",
       "   Wearing_Earrings  Wearing_Hat  Wearing_Lipstick  Wearing_Necklace  \\\n",
       "0                 1           -1                 1                -1   \n",
       "1                -1           -1                -1                -1   \n",
       "2                -1           -1                -1                -1   \n",
       "3                 1           -1                 1                 1   \n",
       "4                -1           -1                 1                -1   \n",
       "5                 1           -1                 1                -1   \n",
       "6                -1           -1                -1                -1   \n",
       "7                -1           -1                -1                -1   \n",
       "8                 1           -1                 1                -1   \n",
       "9                -1           -1                 1                -1   \n",
       "\n",
       "   Wearing_Necktie  Young  Hair_Color  Hair_Type  \n",
       "0               -1      1       Brown   Straight  \n",
       "1               -1      1       Brown    Unknown  \n",
       "2               -1      1     Unknown       Wavy  \n",
       "3               -1      1     Unknown   Straight  \n",
       "4               -1      1     Unknown    Unknown  \n",
       "5               -1      1       Brown       Wavy  \n",
       "6               -1      1       Black   Straight  \n",
       "7               -1      1       Black    Unknown  \n",
       "8               -1      1     Unknown      Bangs  \n",
       "9               -1      1     Unknown       Wavy  \n",
       "\n",
       "[10 rows x 33 columns]"
      ]
     },
     "execution_count": 8,
     "metadata": {},
     "output_type": "execute_result"
    }
   ],
   "source": [
    "celeb_attrs.head(10)"
   ]
  },
  {
   "cell_type": "code",
   "execution_count": 11,
   "metadata": {},
   "outputs": [
    {
     "data": {
      "text/plain": [
       "(33,\n",
       " ['Arched_Eyebrows',\n",
       "  'Attractive',\n",
       "  'Bags_Under_Eyes',\n",
       "  'Big_Lips',\n",
       "  'Big_Nose',\n",
       "  'Blurry',\n",
       "  'Bushy_Eyebrows',\n",
       "  'Chubby',\n",
       "  'Double_Chin',\n",
       "  'Eyeglasses',\n",
       "  'Goatee',\n",
       "  'Heavy_Makeup',\n",
       "  'High_Cheekbones',\n",
       "  'Male',\n",
       "  'Mouth_Slightly_Open',\n",
       "  'Mustache',\n",
       "  'Narrow_Eyes',\n",
       "  'No_Beard',\n",
       "  'Oval_Face',\n",
       "  'Pale_Skin',\n",
       "  'Pointy_Nose',\n",
       "  'Receding_Hairline',\n",
       "  'Rosy_Cheeks',\n",
       "  'Sideburns',\n",
       "  'Smiling',\n",
       "  'Wearing_Earrings',\n",
       "  'Wearing_Hat',\n",
       "  'Wearing_Lipstick',\n",
       "  'Wearing_Necklace',\n",
       "  'Wearing_Necktie',\n",
       "  'Young',\n",
       "  'Hair_Color',\n",
       "  'Hair_Type'])"
      ]
     },
     "execution_count": 11,
     "metadata": {},
     "output_type": "execute_result"
    }
   ],
   "source": [
    "len(celeb_attrs.columns), celeb_attrs.columns.to_list()"
   ]
  },
  {
   "cell_type": "code",
   "execution_count": 9,
   "metadata": {},
   "outputs": [
    {
     "name": "stdout",
     "output_type": "stream",
     "text": [
      "(202599, 33)\n"
     ]
    }
   ],
   "source": [
    "celeb_attrs_mat = celeb_attrs.to_numpy()\n",
    "print(celeb_attrs_mat.shape)"
   ]
  },
  {
   "cell_type": "code",
   "execution_count": 11,
   "metadata": {},
   "outputs": [],
   "source": [
    "#celeb_attrs_mat_subset = celeb_attrs_mat[:10000,:]\n",
    "#print(celeb_attrs_mat_subset.shape)"
   ]
  },
  {
   "cell_type": "code",
   "execution_count": 18,
   "metadata": {},
   "outputs": [
    {
     "name": "stdout",
     "output_type": "stream",
     "text": [
      "((27,), (11,), (4,), (0,), (13,), (1,), (31,), (4,), (7,), (1,), (17,), (27,), (27,), (), (24,), (17,), (14,), (13,), (12,), (1,), (11,), (32,), (11,), (17,), (12,), (13,), (31,), (13,), (13,), (13,), (1,), (13,), (27,))\n"
     ]
    }
   ],
   "source": [
    "celeb_col_names = celeb_attrs.columns.to_list()\n",
    "model = BayesianNetwork.from_samples(celeb_attrs_mat, \n",
    "                                     state_names=celeb_col_names, \n",
    "                                     algorithm='chow-liu',\n",
    "                                     root=celeb_col_names.index('Male'))\n",
    "print(model.structure)"
   ]
  },
  {
   "cell_type": "code",
   "execution_count": 13,
   "metadata": {},
   "outputs": [],
   "source": [
    "contents = {\n",
    "    'adj_mat': [\n",
    "    (27,), (11,), (4,), (0,), (13,), (1,), (31,), (4,), (7,), (1,), (17,), \n",
    "    (27,), (27,), (), (24,), (17,), (14,), (13,), (12,), (1,), (11,), (32,), \n",
    "    (11,), (17,), (12,), (13,), (31,), (13,), (13,), (13,), (1,), (13,), (27,)\n",
    "],\n",
    "\n",
    "'node_labels' : celeb_attrs.columns.to_list()\n",
    "}\n",
    "\n",
    "import pickle\n",
    "\n",
    "pickle.dump(contents, open(\"D:\\\\Saarbrucken\\\\EDA_Research\\\\vae-disentanglement\\\\adjacency_matrices\\\\celeba_labeled.pkl\", \"wb\"))\n"
   ]
  },
  {
   "cell_type": "code",
   "execution_count": 19,
   "metadata": {},
   "outputs": [],
   "source": [
    "#%matplotlib inline\n",
    "\n",
    "model.plot(\"../reports/learned-dag-male-root.pdf\")"
   ]
  },
  {
   "cell_type": "code",
   "execution_count": null,
   "metadata": {},
   "outputs": [],
   "source": [
    "celeb_attrs = pd.read_csv(\"/home/c01muya/vae-disentanglement/datasets/celeba/list_attr_celeba_sanitized.txt\", \n",
    "                          sep=\",\", encoding='ascii')\n",
    "celeb_attrs.drop('Image_ID', axis='columns', inplace=True)\n",
    "celeb_attrs.head()"
   ]
  },
  {
   "cell_type": "code",
   "execution_count": 5,
   "metadata": {},
   "outputs": [
    {
     "name": "stderr",
     "output_type": "stream",
     "text": [
      "WARNING:root:Argument blacklist is deprecated. Please use denylist.\n",
      "WARNING:root:Argument blacklist is deprecated. Please use denylist.\n"
     ]
    },
    {
     "name": "stdout",
     "output_type": "stream",
     "text": [
      "../datasets/\n",
      "Initialize [CorrelatedDSpritesDataset] with 737280 examples. Shape (737280, 64, 64).\n"
     ]
    }
   ],
   "source": [
    "import os\n",
    "\n",
    "os.environ['DISENTANGLEMENT_LIB_DATA'] = '../datasets/'\n",
    "print(os.environ.get('DISENTANGLEMENT_LIB_DATA','.'))\n",
    "corr_dsprites = CorrelatedDSpritesDataset(correlation_strength=0.2, seed=123, split='train')"
   ]
  },
  {
   "cell_type": "code",
   "execution_count": 18,
   "metadata": {},
   "outputs": [],
   "source": [
    "factors, Xs = corr_dsprites.dataset.sample(10000, random_state=corr_dsprites.random_state)"
   ]
  },
  {
   "cell_type": "code",
   "execution_count": 19,
   "metadata": {},
   "outputs": [
    {
     "data": {
      "text/plain": [
       "((10000, 5), (10000, 64, 64, 1))"
      ]
     },
     "execution_count": 19,
     "metadata": {},
     "output_type": "execute_result"
    }
   ],
   "source": [
    "factors.shape,Xs.shape"
   ]
  },
  {
   "cell_type": "code",
   "execution_count": 22,
   "metadata": {},
   "outputs": [
    {
     "name": "stdout",
     "output_type": "stream",
     "text": [
      "((), (), (3,), (), ())\n"
     ]
    }
   ],
   "source": [
    "\n",
    "dsprites_model = BayesianNetwork.from_samples(factors, \n",
    "                                     state_names=['shape','scale','orientation','posX', 'posY'], \n",
    "                                     algorithm='exact')\n",
    "print(dsprites_model.structure)"
   ]
  },
  {
   "cell_type": "code",
   "execution_count": 21,
   "metadata": {},
   "outputs": [
    {
     "ename": "ValueError",
     "evalue": "must have matplotlib and pygraphviz installed for visualization",
     "output_type": "error",
     "traceback": [
      "\u001b[0;31m---------------------------------------------------------------------------\u001b[0m",
      "\u001b[0;31mValueError\u001b[0m                                Traceback (most recent call last)",
      "\u001b[0;32m/tmp/ipykernel_246750/2983587847.py\u001b[0m in \u001b[0;36m<module>\u001b[0;34m\u001b[0m\n\u001b[0;32m----> 1\u001b[0;31m \u001b[0mdsprites_model\u001b[0m\u001b[0;34m.\u001b[0m\u001b[0mplot\u001b[0m\u001b[0;34m(\u001b[0m\u001b[0;34m\"../reports/dsprites-dag.pdf\"\u001b[0m\u001b[0;34m)\u001b[0m\u001b[0;34m\u001b[0m\u001b[0;34m\u001b[0m\u001b[0m\n\u001b[0m",
      "\u001b[0;32m~/anaconda3/envs/pytorch-env/lib/python3.9/site-packages/pomegranate/BayesianNetwork.pyx\u001b[0m in \u001b[0;36mpomegranate.BayesianNetwork.BayesianNetwork.plot\u001b[0;34m()\u001b[0m\n",
      "\u001b[0;31mValueError\u001b[0m: must have matplotlib and pygraphviz installed for visualization"
     ]
    }
   ],
   "source": [
    "dsprites_model.plot(\"../reports/dsprites-dag.pdf\")"
   ]
  },
  {
   "cell_type": "code",
   "execution_count": 4,
   "metadata": {},
   "outputs": [],
   "source": [
    "from common import dag_utils"
   ]
  },
  {
   "cell_type": "code",
   "execution_count": 5,
   "metadata": {},
   "outputs": [
    {
     "data": {
      "text/plain": [
       "[[0, 1, 3, 4], [2]]"
      ]
     },
     "execution_count": 5,
     "metadata": {},
     "output_type": "execute_result"
    }
   ],
   "source": [
    "dag_utils.get_dag_layers(\n",
    "    ((), (), (3,), (), ())\n",
    ")"
   ]
  },
  {
   "cell_type": "code",
   "execution_count": 6,
   "metadata": {},
   "outputs": [
    {
     "data": {
      "text/plain": [
       "array([[0., 0.],\n",
       "       [0., 0.],\n",
       "       [1., 1.],\n",
       "       [0., 0.]], dtype=float32)"
      ]
     },
     "execution_count": 6,
     "metadata": {},
     "output_type": "execute_result"
    }
   ],
   "source": [
    "dag_utils.get_layer_mask([0, 1, 3, 4], [2], 2, ((), (), (3,), (), ()))"
   ]
  },
  {
   "cell_type": "code",
   "execution_count": 7,
   "metadata": {},
   "outputs": [
    {
     "name": "stdout",
     "output_type": "stream",
     "text": [
      "Model Initialized\n"
     ]
    }
   ],
   "source": [
    "from models.cs_vae import ConceptStructuredVAE\n",
    "from collections import namedtuple\n",
    "ModelParams = namedtuple('ModelParams', [\"adjacency_matrix\", \"interm_unit_dim\",\"z_dim\", \"in_channels\",\n",
    "                                               \"image_size\", \"batch_size\", \"root_dim\", \"decoder\"])\n",
    "network_args = ModelParams(\n",
    "    [(), (), (3,), (), ()],\n",
    "    2,\n",
    "    10,\n",
    "    1,\n",
    "    64, 64, 2, ['SimpleConv64']\n",
    ")\n",
    "csvae = ConceptStructuredVAE(network_args)"
   ]
  },
  {
   "cell_type": "code",
   "execution_count": 8,
   "metadata": {},
   "outputs": [
    {
     "data": {
      "text/plain": [
       "[0, 1, 3, 4]"
      ]
     },
     "execution_count": 8,
     "metadata": {},
     "output_type": "execute_result"
    }
   ],
   "source": [
    "csvae.dag_layer_nodes[0]"
   ]
  },
  {
   "cell_type": "code",
   "execution_count": 9,
   "metadata": {},
   "outputs": [
    {
     "data": {
      "text/plain": [
       "ConceptStructuredVAE(\n",
       "  (bottom_up_networks): ModuleList(\n",
       "    (0): SimpleConv64(\n",
       "      (main): Sequential(\n",
       "        (0): Conv2d(1, 32, kernel_size=(4, 4), stride=(2, 2), padding=(1, 1))\n",
       "        (1): ReLU(inplace=True)\n",
       "        (2): Conv2d(32, 32, kernel_size=(4, 4), stride=(2, 2), padding=(1, 1))\n",
       "        (3): ReLU(inplace=True)\n",
       "        (4): Conv2d(32, 64, kernel_size=(4, 4), stride=(2, 2), padding=(1, 1))\n",
       "        (5): ReLU(inplace=True)\n",
       "        (6): Conv2d(64, 128, kernel_size=(4, 4), stride=(2, 2), padding=(1, 1))\n",
       "        (7): ReLU(inplace=True)\n",
       "        (8): Conv2d(128, 256, kernel_size=(4, 4), stride=(2, 2), padding=(1, 1))\n",
       "        (9): ReLU(inplace=True)\n",
       "        (10): Conv2d(256, 256, kernel_size=(4, 4), stride=(2, 2), padding=(1, 1))\n",
       "        (11): ReLU(inplace=True)\n",
       "        (12): Flatten3D()\n",
       "        (13): Linear(in_features=256, out_features=2, bias=True)\n",
       "      )\n",
       "    )\n",
       "    (1): SimpleFCNNEncoder(\n",
       "      (main): Sequential(\n",
       "        (0): Linear(in_features=2, out_features=4, bias=True)\n",
       "        (1): Tanh()\n",
       "        (2): Linear(in_features=4, out_features=8, bias=True)\n",
       "      )\n",
       "    )\n",
       "  )\n",
       "  (top_down_networks): ModuleList(\n",
       "    (0): DAGInteractionLayer (4 -> 2 * 1 -> 1, parents: [0, 1, 3, 4], children: [2], root: False )\n",
       "  )\n",
       "  (decoder): SimpleConv64(\n",
       "    (main): Sequential(\n",
       "      (0): Unsqueeze3D()\n",
       "      (1): Conv2d(5, 256, kernel_size=(1, 1), stride=(2, 2))\n",
       "      (2): ReLU(inplace=True)\n",
       "      (3): ConvTranspose2d(256, 256, kernel_size=(4, 4), stride=(2, 2), padding=(1, 1))\n",
       "      (4): ReLU(inplace=True)\n",
       "      (5): ConvTranspose2d(256, 128, kernel_size=(4, 4), stride=(2, 2))\n",
       "      (6): ReLU(inplace=True)\n",
       "      (7): ConvTranspose2d(128, 128, kernel_size=(4, 4), stride=(2, 2))\n",
       "      (8): ReLU(inplace=True)\n",
       "      (9): ConvTranspose2d(128, 64, kernel_size=(4, 4), stride=(2, 2))\n",
       "      (10): ReLU(inplace=True)\n",
       "      (11): ConvTranspose2d(64, 64, kernel_size=(4, 4), stride=(2, 2))\n",
       "      (12): ReLU(inplace=True)\n",
       "      (13): ConvTranspose2d(64, 1, kernel_size=(3, 3), stride=(1, 1))\n",
       "    )\n",
       "  )\n",
       ")"
      ]
     },
     "execution_count": 9,
     "metadata": {},
     "output_type": "execute_result"
    }
   ],
   "source": [
    "csvae"
   ]
  },
  {
   "cell_type": "code",
   "execution_count": 10,
   "metadata": {},
   "outputs": [],
   "source": [
    "import torch\n",
    "\n",
    "cd = torch.device('cuda:3')\n",
    "csvae = csvae.to(cd)\n",
    "inp = torch.rand(1,1,64,64, device = cd)\n",
    "I = csvae(inp, current_device=cd)"
   ]
  },
  {
   "cell_type": "code",
   "execution_count": 12,
   "metadata": {},
   "outputs": [
    {
     "data": {
      "text/plain": [
       "{'x_recon': tensor([[[[0.5653, 0.5681, 0.5693,  ..., 0.5695, 0.5709, 0.5685],\n",
       "           [0.5658, 0.5685, 0.5714,  ..., 0.5696, 0.5722, 0.5680],\n",
       "           [0.5668, 0.5695, 0.5698,  ..., 0.5720, 0.5703, 0.5682],\n",
       "           ...,\n",
       "           [0.5684, 0.5692, 0.5713,  ..., 0.5721, 0.5686, 0.5688],\n",
       "           [0.5686, 0.5673, 0.5688,  ..., 0.5681, 0.5668, 0.5668],\n",
       "           [0.5678, 0.5663, 0.5667,  ..., 0.5668, 0.5654, 0.5673]]]],\n",
       "        device='cuda:3', grad_fn=<SigmoidBackward>),\n",
       " 'td_net_outs': [{'mu_p': tensor([[0., 0., 0., 0.]], device='cuda:3'),\n",
       "   'sigma_p': tensor([[0., 0., 0., 0.]], device='cuda:3'),\n",
       "   'mu_q': tensor([[-0.4443, -0.9264, -0.4671,  0.6194]], device='cuda:3',\n",
       "          grad_fn=<SplitBackward>),\n",
       "   'sigma_q': tensor([[ 1.0912, -1.3954,  0.1581,  0.9061]], device='cuda:3',\n",
       "          grad_fn=<SplitBackward>),\n",
       "   'z': tensor([[-3.2446, -0.6126, -1.9193, -1.2267]], device='cuda:3',\n",
       "          grad_fn=<AddBackward0>)},\n",
       "  {'mu_p': tensor([[0.]], device='cuda:3', grad_fn=<ReluBackward0>),\n",
       "   'sigma_p': tensor([[0.]], device='cuda:3', grad_fn=<ReluBackward0>),\n",
       "   'mu_q': tensor([[-0.0192]], device='cuda:3', grad_fn=<DivBackward0>),\n",
       "   'sigma_q': tensor([[-0.7287]], device='cuda:3', grad_fn=<LogBackward>),\n",
       "   'z': tensor([[-0.8507]], device='cuda:3', grad_fn=<AddBackward0>)}],\n",
       " 'bu_net_outs': [{'mu_q_hat': tensor([[-0.0371]], device='cuda:3', grad_fn=<SplitBackward>),\n",
       "   'sigma_q_hat': tensor([[-0.0699]], device='cuda:3', grad_fn=<SplitBackward>)},\n",
       "  {'mu_q_hat': tensor([[-0.4443, -0.9264, -0.4671,  0.6194]], device='cuda:3',\n",
       "          grad_fn=<SplitBackward>),\n",
       "   'sigma_q_hat': tensor([[ 1.0912, -1.3954,  0.1581,  0.9061]], device='cuda:3',\n",
       "          grad_fn=<SplitBackward>)}]}"
      ]
     },
     "execution_count": 12,
     "metadata": {},
     "output_type": "execute_result"
    }
   ],
   "source": [
    "I"
   ]
  },
  {
   "cell_type": "code",
   "execution_count": 72,
   "metadata": {},
   "outputs": [],
   "source": [
    "import torch\n",
    "import matplotlib as mpl\n",
    "import matplotlib.pyplot as plt\n",
    "import matplotlib.colors as colors\n",
    "import matplotlib.cbook as cbook\n",
    "from matplotlib import cm\n",
    "from common.utils import CenteredNorm\n",
    "import numpy as np"
   ]
  },
  {
   "cell_type": "code",
   "execution_count": 73,
   "metadata": {},
   "outputs": [],
   "source": [
    "T = torch.randn(1, 10, 10)\n",
    "I = torch.eye(10).unsqueeze(0)\n",
    "Tm = T.mul(I)\n",
    "TI = torch.cat([T, Tm], dim=2).permute(1,2,0).numpy()"
   ]
  },
  {
   "cell_type": "code",
   "execution_count": 89,
   "metadata": {},
   "outputs": [
    {
     "data": {
      "image/png": "[encoded data removed]",
      "text/plain": [
       "<Figure size 432x288 with 1 Axes>"
      ]
     },
     "metadata": {
      "needs_background": "light"
     },
     "output_type": "display_data"
    }
   ],
   "source": [
    "fig, ax = plt.subplots()\n",
    "ax.imshow(TI, cmap=cm.coolwarm, norm=CenteredNorm())\n",
    "ax.axis('off')\n",
    "fig.tight_layout(pad=0)\n",
    "ax.margins(0)\n",
    "\n",
    "fig.canvas.draw()\n",
    "buf = fig.canvas.buffer_rgba()\n",
    "X = np.asarray(buf)#[:,:,0:3]"
   ]
  },
  {
   "cell_type": "code",
   "execution_count": 92,
   "metadata": {},
   "outputs": [
    {
     "ename": "AttributeError",
     "evalue": "'AxesSubplot' object has no attribute 'gcf'",
     "output_type": "error",
     "traceback": [
      "\u001b[1;31m---------------------------------------------------------------------------\u001b[0m",
      "\u001b[1;31mAttributeError\u001b[0m                            Traceback (most recent call last)",
      "\u001b[1;32mC:\\Users\\MUHAMM~1\\AppData\\Local\\Temp/ipykernel_1948/34388386.py\u001b[0m in \u001b[0;36m<module>\u001b[1;34m\u001b[0m\n\u001b[1;32m----> 1\u001b[1;33m \u001b[0max\u001b[0m\u001b[1;33m.\u001b[0m\u001b[0mgcf\u001b[0m\u001b[1;33m(\u001b[0m\u001b[1;33m)\u001b[0m\u001b[1;33m\u001b[0m\u001b[1;33m\u001b[0m\u001b[0m\n\u001b[0m",
      "\u001b[1;31mAttributeError\u001b[0m: 'AxesSubplot' object has no attribute 'gcf'"
     ]
    }
   ],
   "source": [
    "ax.gcf()"
   ]
  },
  {
   "cell_type": "code",
   "execution_count": 91,
   "metadata": {},
   "outputs": [
    {
     "data": {
      "text/plain": [
       "<matplotlib.image.AxesImage at 0x2574cf80b80>"
      ]
     },
     "execution_count": 91,
     "metadata": {},
     "output_type": "execute_result"
    },
    {
     "data": {
      "image/png": "[encoded data removed]",
      "text/plain": [
       "<Figure size 432x288 with 1 Axes>"
      ]
     },
     "metadata": {
      "needs_background": "light"
     },
     "output_type": "display_data"
    }
   ],
   "source": [
    "fig, ax = plt.subplots()\n",
    "#ax.axis('off')\n",
    "#fig.tight_layout(pad=0)\n",
    "ax.imshow(X)\n",
    "#fig.canvas.draw()"
   ]
  },
  {
   "cell_type": "code",
   "execution_count": 93,
   "metadata": {},
   "outputs": [
    {
     "data": {
      "text/plain": [
       "<function matplotlib.pyplot.imshow(X, cmap=None, norm=None, aspect=None, interpolation=None, alpha=None, vmin=None, vmax=None, origin=None, extent=None, *, filternorm=True, filterrad=4.0, resample=None, url=None, data=None, **kwargs)>"
      ]
     },
     "execution_count": 93,
     "metadata": {},
     "output_type": "execute_result"
    }
   ],
   "source": [
    "plt.imshow\n"
   ]
  },
  {
   "cell_type": "code",
   "execution_count": 95,
   "metadata": {},
   "outputs": [
    {
     "data": {
      "text/plain": [
       "<Figure size 432x288 with 0 Axes>"
      ]
     },
     "metadata": {},
     "output_type": "display_data"
    }
   ],
   "source": [
    "F=plt.figure()"
   ]
  },
  {
   "cell_type": "code",
   "execution_count": 101,
   "metadata": {},
   "outputs": [
    {
     "data": {
      "text/plain": [
       "7.874015748031495"
      ]
     },
     "execution_count": 101,
     "metadata": {},
     "output_type": "execute_result"
    }
   ],
   "source": [
    "10 * 2 * (1/2.54)"
   ]
  },
  {
   "cell_type": "code",
   "execution_count": 105,
   "metadata": {},
   "outputs": [
    {
     "data": {
      "text/plain": [
       "{'_stale': True,\n",
       " 'stale_callback': None,\n",
       " 'figure': None,\n",
       " '_transform': None,\n",
       " '_transformSet': False,\n",
       " '_visible': True,\n",
       " '_animated': False,\n",
       " '_alpha': None,\n",
       " 'clipbox': None,\n",
       " '_clippath': None,\n",
       " '_clipon': True,\n",
       " '_label': '',\n",
       " '_picker': None,\n",
       " '_contains': None,\n",
       " '_rasterized': None,\n",
       " '_agg_filter': None,\n",
       " '_mouseover': False,\n",
       " 'eventson': False,\n",
       " '_oid': 0,\n",
       " '_propobservers': {},\n",
       " '_remove_method': None,\n",
       " '_url': None,\n",
       " '_gid': None,\n",
       " '_snap': None,\n",
       " '_sketch': None,\n",
       " '_path_effects': [],\n",
       " '_sticky_edges': _XYPair(x=[], y=[]),\n",
       " '_in_layout': True,\n",
       " 'callbacks': <matplotlib.cbook.CallbackRegistry at 0x2574cf0c310>,\n",
       " 'bbox_inches': Bbox([[0.0, 0.0], [6.0, 4.0]]),\n",
       " 'dpi_scale_trans': <matplotlib.transforms.Affine2D at 0x2574cf0c5e0>,\n",
       " '_dpi': 72.0,\n",
       " 'bbox': <matplotlib.transforms.TransformedBbox at 0x2574cf0c6a0>,\n",
       " 'transFigure': <matplotlib.transforms.BboxTransformTo at 0x2574cf0cca0>,\n",
       " 'patch': <matplotlib.patches.Rectangle at 0x2574cf0ca90>,\n",
       " 'canvas': <matplotlib.backends.backend_agg.FigureCanvasAgg at 0x2574cf4f220>,\n",
       " '_suptitle': None,\n",
       " 'subplotpars': <matplotlib.figure.SubplotParams at 0x2574cf0c220>,\n",
       " '_layoutbox': None,\n",
       " '_constrained_layout_pads': {'w_pad': 0.04167,\n",
       "  'h_pad': 0.04167,\n",
       "  'wspace': 0.02,\n",
       "  'hspace': 0.02},\n",
       " '_constrained': False,\n",
       " '_tight': False,\n",
       " '_tight_parameters': {},\n",
       " '_axstack': <matplotlib.figure._AxesStack at 0x2574cf0c1f0>,\n",
       " 'suppressComposite': None,\n",
       " 'artists': [],\n",
       " 'lines': [],\n",
       " 'patches': [],\n",
       " 'texts': [],\n",
       " 'images': [],\n",
       " 'legends': [],\n",
       " '_axobservers': <matplotlib.cbook.CallbackRegistry at 0x2574cf4fa60>,\n",
       " '_cachedRenderer': None,\n",
       " '_align_xlabel_grp': <matplotlib.cbook.Grouper at 0x2574cf0c3a0>,\n",
       " '_align_ylabel_grp': <matplotlib.cbook.Grouper at 0x2574cf0c340>,\n",
       " '_gridspecs': [],\n",
       " 'number': 1}"
      ]
     },
     "execution_count": 105,
     "metadata": {},
     "output_type": "execute_result"
    },
    {
     "data": {
      "text/plain": [
       "<Figure size 432x288 with 0 Axes>"
      ]
     },
     "metadata": {},
     "output_type": "display_data"
    }
   ],
   "source": [
    "plt.gcf().__dict__"
   ]
  },
  {
   "cell_type": "code",
   "execution_count": null,
   "metadata": {},
   "outputs": [],
   "source": []
  }
 ],
 "metadata": {
  "kernelspec": {
   "display_name": "Python 3.8.5",
   "language": "python",
   "name": "python3"
  },
  "language_info": {
   "codemirror_mode": {
    "name": "ipython",
    "version": 3
   },
   "file_extension": ".py",
   "mimetype": "text/x-python",
   "name": "python",
   "nbconvert_exporter": "python",
   "pygments_lexer": "ipython3",
   "version": "3.8.5"
  },
  "vscode": {
   "interpreter": {
    "hash": "0c1e42d09abd9a7c7967c6caf04ac65128c9e19aa5355439d6e17d7b03582b55"
   }
  }
 },
 "nbformat": 4,
 "nbformat_minor": 4
}
