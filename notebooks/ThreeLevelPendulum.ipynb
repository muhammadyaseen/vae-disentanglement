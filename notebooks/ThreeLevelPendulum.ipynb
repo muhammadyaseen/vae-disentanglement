{
 "cells": [
  {
   "cell_type": "code",
   "execution_count": 1,
   "id": "d5536c48",
   "metadata": {},
   "outputs": [],
   "source": [
    "import matplotlib.pyplot as plt\n",
    "import os\n",
    "\n",
    "import math\n",
    "import numpy as np\n",
    "import pandas as pd\n"
   ]
  },
  {
   "cell_type": "code",
   "execution_count": 2,
   "id": "873f57c8",
   "metadata": {},
   "outputs": [],
   "source": [
    "def projection(theta, phi, x, y, base = -0.5):\n",
    "    b = y-x*math.tan(phi)\n",
    "    shade = (base - b)/math.tan(phi)\n",
    "    return shade"
   ]
  },
  {
   "cell_type": "code",
   "execution_count": 38,
   "id": "9b80110b",
   "metadata": {},
   "outputs": [],
   "source": [
    "scale = np.array([[0,44],[100,40],[7,7.5],[10,10]])\n",
    "image_index = 0\n",
    "empty = pd.DataFrame(columns=['theta', 'phi', 'shade','mid'])\n",
    "plt.rcParams['figure.figsize'] = (2.0, 2.0)\n",
    "\n",
    "i = 20 # pendulum\n",
    "j = 120  # light"
   ]
  },
  {
   "cell_type": "code",
   "execution_count": 39,
   "id": "b38b2c7f",
   "metadata": {},
   "outputs": [
    {
     "data": {
      "text/plain": [
       "(0.0, 20.0, -1.0, 21.0)"
      ]
     },
     "execution_count": 39,
     "metadata": {},
     "output_type": "execute_result"
    },
    {
     "data": {
      "image/png": "[encoded data removed]",
      "text/plain": [
       "<Figure size 144x144 with 1 Axes>"
      ]
     },
     "metadata": {
      "needs_background": "light"
     },
     "output_type": "display_data"
    }
   ],
   "source": [
    "switch_on = False\n",
    "ax = plt.gca()\n",
    "theta = i*math.pi/200.0\n",
    "phi = j*math.pi/200.0\n",
    "x = 10 + 8*math.sin(theta)\n",
    "y = 10.5 - 8*math.cos(theta)\n",
    "\n",
    "ball = plt.Circle((x,y), 1.5, color = 'firebrick')\n",
    "pendulum_stem = plt.Polygon(([10,10.5],[x,y]), color = 'black', linewidth = 3)\n",
    "light_position = projection(theta, phi, 10, 10.5, 20.5)\n",
    "light = plt.Circle((light_position,20.5), 3, color = 'orange' if switch_on else 'gray')\n",
    "\n",
    "\n",
    "#calculate the mid index of \n",
    "ball_x = 10+9.5*math.sin(theta)\n",
    "ball_y = 10.5-9.5*math. cos(theta)\n",
    "mid = (projection(theta, phi, 10.0, 10.5)+projection(theta, phi, ball_x, ball_y))/2\n",
    "\n",
    "shade = max(3,abs(projection(theta, phi, 10.0, 10.5)-projection(theta, phi, ball_x, ball_y)))\n",
    "\n",
    "if switch_on:\n",
    "    shadow = plt.Polygon(([mid - shade/2.0, -0.5],[mid + shade/2.0, -0.5]), color = 'black', linewidth = 3)\n",
    "    ax.add_artist(shadow)\n",
    "\n",
    "ax.add_artist(pendulum_stem)\n",
    "ax.add_artist(ball)\n",
    "ax.add_artist(light)\n",
    "\n",
    "ax.set_xlim((0, 20))\n",
    "ax.set_ylim((-1, 21))\n",
    "\n",
    "plt.axis('off')\n"
   ]
  },
  {
   "cell_type": "code",
   "execution_count": 43,
   "id": "b479f4dd",
   "metadata": {},
   "outputs": [
    {
     "data": {
      "text/plain": [
       "(0.0, 20.0, -1.0, 21.0)"
      ]
     },
     "execution_count": 43,
     "metadata": {},
     "output_type": "execute_result"
    },
    {
     "data": {
      "image/png": "[encoded data removed]",
      "text/plain": [
       "<Figure size 144x144 with 1 Axes>"
      ]
     },
     "metadata": {
      "needs_background": "light"
     },
     "output_type": "display_data"
    }
   ],
   "source": [
    "switch_on = True\n",
    "ax = plt.gca()\n",
    "theta = i*math.pi/200.0\n",
    "phi = j*math.pi/200.0\n",
    "\n",
    "x = 10 + 8*math.sin(theta)\n",
    "y = 10.5 - 8*math.cos(theta)\n",
    "\n",
    "ball = plt.Circle((x,y), 1.5, color = 'firebrick')\n",
    "pendulum_stem = plt.Polygon(([10,10.5],[x,y]), color = 'black', linewidth = 3)\n",
    "light_position = projection(theta, phi, 10, 10.5, 20.5)\n",
    "light = plt.Circle((light_position,20.5), 3, color = 'orange' if switch_on else 'gray')\n",
    "\n",
    "switch_coords = ( [3,15.5],[4,15.5],[4,14.5],[3,14.5]) # (top_left, top_right, bottom_right, bottom_left )\n",
    "switch = plt.Polygon(switch_coords, color = 'green' if switch_on else 'red', linewidth = 3, fill=True)\n",
    "\n",
    "\n",
    "#calculate the mid index of \n",
    "ball_x = 10+9.5*math.sin(theta)\n",
    "ball_y = 10.5-9.5*math.cos(theta)\n",
    "\n",
    "mid = (projection(theta, phi, 10.0, 10.5)+projection(theta, phi, ball_x, ball_y))/2\n",
    "shade = max(3,abs(projection(theta, phi, 10.0, 10.5)-projection(theta, phi, ball_x, ball_y)))\n",
    "\n",
    "if switch_on:\n",
    "    shadow = plt.Polygon(([mid - shade/2.0, -0.5],[mid + shade/2.0, -0.5]), color = 'black', linewidth = 3)\n",
    "    ax.add_artist(shadow)\n",
    "\n",
    "ax.add_artist(pendulum_stem)\n",
    "ax.add_artist(ball)\n",
    "ax.add_artist(light)\n",
    "ax.add_artist(switch)\n",
    "ax.set_xlim((0, 20))\n",
    "ax.set_ylim((-1, 21))\n",
    "\n",
    "plt.axis('off')"
   ]
  },
  {
   "cell_type": "code",
   "execution_count": 15,
   "id": "f6da5b44",
   "metadata": {},
   "outputs": [],
   "source": [
    "?plt.Polygon"
   ]
  },
  {
   "cell_type": "code",
   "execution_count": null,
   "id": "926203f3",
   "metadata": {},
   "outputs": [],
   "source": []
  }
 ],
 "metadata": {
  "kernelspec": {
   "display_name": "Python 3 (ipykernel)",
   "language": "python",
   "name": "python3"
  },
  "language_info": {
   "codemirror_mode": {
    "name": "ipython",
    "version": 3
   },
   "file_extension": ".py",
   "mimetype": "text/x-python",
   "name": "python",
   "nbconvert_exporter": "python",
   "pygments_lexer": "ipython3",
   "version": "3.8.5"
  }
 },
 "nbformat": 4,
 "nbformat_minor": 5
}
