{
 "cells": [
  {
   "cell_type": "code",
   "execution_count": 2,
   "id": "3db69193",
   "metadata": {},
   "outputs": [],
   "source": [
    "import matplotlib.pyplot as plt\n",
    "import os\n",
    "\n",
    "import math\n",
    "import numpy as np\n",
    "import pandas as pd\n",
    "\n",
    "plt.rcParams['figure.figsize'] = (1.0, 1.0)"
   ]
  },
  {
   "cell_type": "code",
   "execution_count": 3,
   "id": "07a1db45",
   "metadata": {},
   "outputs": [],
   "source": [
    "\n",
    "def projection(theta, phi, x, y, base = -0.5):\n",
    "    b = y-x*math.tan(phi)\n",
    "    shade = (base - b)/math.tan(phi)\n",
    "    return shade"
   ]
  },
  {
   "cell_type": "code",
   "execution_count": 14,
   "id": "611c1e2b",
   "metadata": {},
   "outputs": [
    {
     "data": {
      "text/plain": [
       "(0.0, 20.0, -1.0, 21.0)"
      ]
     },
     "execution_count": 14,
     "metadata": {},
     "output_type": "execute_result"
    },
    {
     "data": {
      "image/png": "[encoded data removed]",
      "text/plain": [
       "<Figure size 72x72 with 1 Axes>"
      ]
     },
     "metadata": {
      "needs_background": "light"
     },
     "output_type": "display_data"
    }
   ],
   "source": [
    "ax = plt.gca()\n",
    "\n",
    "x, y = 1,1.5\n",
    "\n",
    "ball = plt.Polygon(([10,10.5],[x,y]), color = 'firebrick',  linewidth = 3)\n",
    "\n",
    "ax.add_artist(ball)\n",
    "\n",
    "ax.set_xlim((0, 20))\n",
    "ax.set_ylim((-1, 21))\n",
    "plt.axis('off')"
   ]
  },
  {
   "cell_type": "code",
   "execution_count": 12,
   "id": "d856bb70",
   "metadata": {},
   "outputs": [
    {
     "data": {
      "text/plain": [
       "(0.0, 20.0, -1.0, 21.0)"
      ]
     },
     "execution_count": 12,
     "metadata": {},
     "output_type": "execute_result"
    },
    {
     "data": {
      "image/png": "[encoded data removed]",
      "text/plain": [
       "<Figure size 72x72 with 1 Axes>"
      ]
     },
     "metadata": {
      "needs_background": "light"
     },
     "output_type": "display_data"
    }
   ],
   "source": [
    "ax = plt.gca()\n",
    "\n",
    "x, y = 1, 20.5\n",
    "\n",
    "ball = plt.Circle((x,y), 3, color = 'firebrick')\n",
    "\n",
    "ax.add_artist(ball)\n",
    "\n",
    "ax.set_xlim((0, 20))\n",
    "ax.set_ylim((-1, 21))\n",
    "plt.axis('off')"
   ]
  },
  {
   "cell_type": "code",
   "execution_count": 15,
   "id": "04b55c59",
   "metadata": {},
   "outputs": [
    {
     "data": {
      "text/plain": [
       "(-0.6283185307179586, 0.6911503837897545)"
      ]
     },
     "execution_count": 15,
     "metadata": {},
     "output_type": "execute_result"
    }
   ],
   "source": []
  },
  {
   "cell_type": "code",
   "execution_count": 16,
   "id": "21a8bcf3",
   "metadata": {},
   "outputs": [
    {
     "data": {
      "text/plain": [
       "(-0.9090909090909091, 1)"
      ]
     },
     "execution_count": 16,
     "metadata": {},
     "output_type": "execute_result"
    }
   ],
   "source": []
  },
  {
   "cell_type": "code",
   "execution_count": 4,
   "id": "b33dfbd5",
   "metadata": {},
   "outputs": [],
   "source": [
    "def draw_example(i_theta, j_phi):\n",
    "    switch_on = True\n",
    "    LIGHT_Y_POS = 20.5\n",
    "    PENDULUM_STEM_TOP_X_POS = 10\n",
    "    PENDULUM_STEM_TOP_Y_POS = 10.5\n",
    "    switch_coords = ( [3,15.5],[4,15.5],[4,14.5],[3,14.5]) # (top_left, top_right, bottom_right, bottom_left )\n",
    "\n",
    "    scale = np.array([ \n",
    "            [0.,44.0],\n",
    "            [100.,40.],\n",
    "            [7.,7.5],\n",
    "            [10.,10.]\n",
    "    ])\n",
    "\n",
    "    ax = plt.gca()\n",
    "    theta = i*math.pi/200.0\n",
    "    phi = j*math.pi/200.0\n",
    "    x = PENDULUM_STEM_TOP_X_POS + 8*math.sin(theta)\n",
    "    y = PENDULUM_STEM_TOP_Y_POS - 8*math.cos(theta)\n",
    "    print(\"x,y: \", x,y)\n",
    "    ball = plt.Circle((x,y), 1.5, color = 'firebrick')\n",
    "    pendulum_stem = plt.Polygon(([PENDULUM_STEM_TOP_X_POS,PENDULUM_STEM_TOP_Y_POS],[x,y]), color = 'black', linewidth = 3)\n",
    "    light_position = projection(theta, phi, PENDULUM_STEM_TOP_X_POS, PENDULUM_STEM_TOP_Y_POS, LIGHT_Y_POS)\n",
    "    print(\"light_position: \", light_position)\n",
    "    \n",
    "    light = plt.Circle((light_position, LIGHT_Y_POS), 3, color = 'orange' if switch_on else 'gray')\n",
    "    switch = plt.Polygon(switch_coords, color = 'green' if switch_on else 'red', linewidth = 3, fill=True)\n",
    "\n",
    "    #calculate the mid index of \n",
    "    ball_x = PENDULUM_STEM_TOP_X_POS + 9.5*math.sin(theta)\n",
    "    ball_y = PENDULUM_STEM_TOP_Y_POS - 9.5*math. cos(theta)\n",
    "    print(\"ballx: \", ball_x)\n",
    "    print(\"bally: \", ball_y)\n",
    "    \n",
    "    mid = (projection(theta, phi, PENDULUM_STEM_TOP_X_POS, PENDULUM_STEM_TOP_Y_POS) + projection(theta, phi, ball_x, ball_y))/2\n",
    "    shade = max(3, abs(projection(theta, phi, PENDULUM_STEM_TOP_X_POS, PENDULUM_STEM_TOP_Y_POS) - projection(theta, phi, ball_x, ball_y)))\n",
    "    \n",
    "    print(\"mid: \", mid)\n",
    "    print(\"shade: \", shade)\n",
    "    \n",
    "    if switch_on:\n",
    "        shadow = plt.Polygon(([mid - shade/2.0, -0.5],[mid + shade/2.0, -0.5]), color = 'black', linewidth = 3)\n",
    "        ax.add_artist(shadow)\n",
    "\n",
    "    ax.add_artist(pendulum_stem)\n",
    "    ax.add_artist(ball)\n",
    "    ax.add_artist(light)\n",
    "    ax.add_artist(switch)\n",
    "\n",
    "    ax.set_xlim((0, 20))\n",
    "    ax.set_ylim((-1, 21))\n",
    "\n",
    "    plt.axis('off')"
   ]
  },
  {
   "cell_type": "code",
   "execution_count": 29,
   "id": "661bc132",
   "metadata": {},
   "outputs": [
    {
     "name": "stdout",
     "output_type": "stream",
     "text": [
      "x,y:  10.0 2.5\n",
      "light_position:  11.583844403245365\n",
      "ballx:  10.0\n",
      "bally:  1.0\n",
      "mid:  9.010097247971647\n",
      "shade:  3\n"
     ]
    },
    {
     "data": {
      "image/png": "[encoded data removed]",
      "text/plain": [
       "<Figure size 72x72 with 1 Axes>"
      ]
     },
     "metadata": {
      "needs_background": "light"
     },
     "output_type": "display_data"
    }
   ],
   "source": [
    "i, j = 0, 90\n",
    "draw_example(i_theta=i, j_phi=j)"
   ]
  },
  {
   "cell_type": "code",
   "execution_count": 30,
   "id": "4c1e6efc",
   "metadata": {},
   "outputs": [
    {
     "name": "stdout",
     "output_type": "stream",
     "text": [
      "x,y:  10.0 2.5\n",
      "light_position:  17.26542528005361\n",
      "ballx:  10.0\n",
      "bally:  1.0\n",
      "mid:  5.459109199966494\n",
      "shade:  6.902154016050931\n"
     ]
    },
    {
     "data": {
      "image/png": "[encoded data removed]",
      "text/plain": [
       "<Figure size 72x72 with 1 Axes>"
      ]
     },
     "metadata": {
      "needs_background": "light"
     },
     "output_type": "display_data"
    }
   ],
   "source": [
    "i, j = 0, 60\n",
    "draw_example(i_theta=i, j_phi=j)"
   ]
  },
  {
   "cell_type": "code",
   "execution_count": 6,
   "id": "9cd90c67",
   "metadata": {},
   "outputs": [
    {
     "name": "stdout",
     "output_type": "stream",
     "text": [
      "x,y:  5.297717981660215 4.02786404500042\n",
      "light_position:  2.7345747199463917\n",
      "ballx:  4.416040103221505\n",
      "bally:  2.8143385534379988\n",
      "mid:  12.408007911280473\n",
      "shade:  11.167919793556987\n"
     ]
    },
    {
     "data": {
      "image/png": "[encoded data removed]",
      "text/plain": [
       "<Figure size 72x72 with 1 Axes>"
      ]
     },
     "metadata": {
      "needs_background": "light"
     },
     "output_type": "display_data"
    }
   ],
   "source": [
    "i, j = -40, 140\n",
    "draw_example(i_theta=i, j_phi=j)"
   ]
  },
  {
   "cell_type": "code",
   "execution_count": 32,
   "id": "44057e92",
   "metadata": {},
   "outputs": [
    {
     "data": {
      "text/plain": [
       "(-0.6283185307179586, 0.6911503837897545)"
      ]
     },
     "execution_count": 32,
     "metadata": {},
     "output_type": "execute_result"
    }
   ],
   "source": [
    "-40 * math.pi/200,44 * math.pi/200,"
   ]
  },
  {
   "cell_type": "code",
   "execution_count": null,
   "id": "09df47ed",
   "metadata": {},
   "outputs": [],
   "source": []
  }
 ],
 "metadata": {
  "kernelspec": {
   "display_name": "Python 3 (ipykernel)",
   "language": "python",
   "name": "python3"
  },
  "language_info": {
   "codemirror_mode": {
    "name": "ipython",
    "version": 3
   },
   "file_extension": ".py",
   "mimetype": "text/x-python",
   "name": "python",
   "nbconvert_exporter": "python",
   "pygments_lexer": "ipython3",
   "version": "3.8.5"
  }
 },
 "nbformat": 4,
 "nbformat_minor": 5
}
