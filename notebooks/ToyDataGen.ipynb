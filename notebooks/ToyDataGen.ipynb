{
 "cells": [
  {
   "cell_type": "code",
   "execution_count": 2,
   "metadata": {},
   "outputs": [],
   "source": [
    "from matplotlib import pyplot as plt\n",
    "import numpy as np\n",
    "import seaborn as sns\n",
    "import os\n",
    "import pandas as pd\n",
    "#from pomegranate import BayesianNetwork\n",
    "\n",
    "# Change figure aesthetics\n",
    "%matplotlib inline\n",
    "sns.set_context('talk', font_scale=1.2, rc={'lines.linewidth': 1.5})"
   ]
  },
  {
   "cell_type": "code",
   "execution_count": 4,
   "metadata": {},
   "outputs": [],
   "source": [
    "def sample_latent(how_many, latents_sizes, correlated=False, \n",
    "                    in_idx=None, out_idx=None, map_fn=None):\n",
    "    \n",
    "    samples = np.zeros((how_many, latents_sizes.size))\n",
    "    \n",
    "    for lat_i, lat_size in enumerate(latents_sizes):\n",
    "        samples[:, lat_i] = np.random.randint(lat_size, size=how_many)\n",
    "\n",
    "    if correlated:\n",
    "        samples[:, out_idx] = map_fn(samples[:,in_idx[0]], samples[:,in_idx[1]], samples[:,in_idx[2]])\n",
    "    \n",
    "    return samples\n",
    "\n",
    "def length_map_fn(posX, posY, shape):\n",
    "\n",
    "    def get_length(posX, posY, shape):\n",
    "        \n",
    "        # horizontal\n",
    "        if shape == 0:\n",
    "            if (posX, posY) == (0,0) or (posX, posY) == (1,0) or (posX, posY) == (2,0):\n",
    "                return 2\n",
    "            if (posX, posY) == (0,1) or (posX, posY) == (1,1) or (posX, posY) == (2,1):\n",
    "                return 1\n",
    "            if (posX, posY) == (0,2) or (posX, posY) == (1,2) or (posX, posY) == (2,2):\n",
    "                return 0\n",
    "        \n",
    "        # Transpose of above - vertical\n",
    "        if shape == 1:\n",
    "            if (posX, posY) == (0,0) or (posX, posY) == (0,1) or (posX, posY) == (0,2):\n",
    "                return 2\n",
    "            if (posX, posY) == (1,0) or (posX, posY) == (1,1) or (posX, posY) == (1,2):\n",
    "                return 1\n",
    "            if (posX, posY) == (2,0) or (posX, posY) == (2,1) or (posX, posY) == (2,2):\n",
    "                return 0\n",
    "        #print(posX, posY, shape)\n",
    "        raise NotImplementedError\n",
    "    \n",
    "    return np.vectorize(get_length)(posX, posY, shape)\n",
    "    \n",
    "def get_observation_from_latent(latent, correlated=True):\n",
    "\n",
    "    X = np.zeros(shape=(3,3))\n",
    "\n",
    "    latent = latent.astype(int)\n",
    "    posX, posY, shape, length = latent[0], latent[1], latent[2], latent[3]\n",
    "\n",
    "    if correlated:\n",
    "        # horizontal bar\n",
    "        if shape == 0:\n",
    "            for i in range(length + 1):\n",
    "                X[posX, posY + i] = 1.0\n",
    "\n",
    "        # vertical bar    \n",
    "        if shape == 1:\n",
    "            for i in range(length + 1):\n",
    "                X[posX + i, posY] = 1.0\n",
    "    else:\n",
    "        # horizontal bar\n",
    "        if shape == 0:\n",
    "            X[posX, :] = 1.0\n",
    "\n",
    "        # vertical bar    \n",
    "        if shape == 1:\n",
    "            X[:, posY] = 1.0\n",
    "\n",
    "    return X\n",
    "\n",
    "def get_observation_from_latent_uncorr(latent):\n",
    "\n",
    "    X = np.zeros(shape=(3,3))\n",
    "\n",
    "    latent = latent.astype(int)\n",
    "    posX, posY, shape, length = latent[0], latent[1], latent[2], latent[3]\n",
    "\n",
    "    # horizontal bar\n",
    "    if shape == 0:\n",
    "        for i in range(length + 1):\n",
    "            X[posX, posY + i] = 1.0\n",
    "\n",
    "    # vertical bar    \n",
    "    if shape == 1:\n",
    "        for i in range(length + 1):\n",
    "            X[posX + i, posY] = 1.0\n",
    "\n",
    "    return X\n",
    "\n",
    "\n",
    "def show_density(imgs):\n",
    "    _, ax = plt.subplots()\n",
    "    mean_image = imgs.mean(axis=0)\n",
    "    ax.imshow(mean_image, interpolation='nearest', cmap='Greys_r')\n",
    "    ax.grid('off')\n",
    "    ax.set_xticks([])\n",
    "    ax.set_yticks([])\n",
    "    return mean_image"
   ]
  },
  {
   "cell_type": "code",
   "execution_count": 5,
   "metadata": {},
   "outputs": [],
   "source": [
    "# Create some data\n",
    "metadata = {\n",
    "    'latents_possible_values': {\n",
    "        'posX': [0, 1, 2],\n",
    "        'posY': [0, 1, 2],\n",
    "        'shape': [0, 1],\n",
    "        'length': [0 , 1, 2]\n",
    "    },\n",
    "    'latents_sizes': np.array([3, 3, 2 ,3]),\n",
    "    'latents_names': ['posX', 'posY', 'shape', 'length']\n",
    "}\n",
    "\n",
    "# sample some images \n",
    "N = 100000\n",
    "imgs = np.zeros(shape=(N, 3, 3))\n",
    "latents = np.zeros(shape=(N, 4)) \n",
    "for i in range(N):\n",
    "    latents[i] = sample_latent(1, metadata['latents_sizes'], correlated=False)[0]\n",
    "    imgs[i] = get_observation_from_latent(latents[i], correlated=False)\n",
    "\n",
    "\n",
    "npz_data = dict()\n",
    "npz_data['images'] = imgs\n",
    "npz_data['latents_values'] = latents\n",
    "npz_data['metadata'] = metadata\n"
   ]
  },
  {
   "cell_type": "code",
   "execution_count": 8,
   "metadata": {},
   "outputs": [
    {
     "name": "stdout",
     "output_type": "stream",
     "text": [
      "[1. 1. 0. 0.]\n",
      "[1. 0. 1. 2.]\n",
      "[0. 1. 0. 1.]\n",
      "[2. 1. 0. 0.]\n",
      "[0. 2. 1. 1.]\n",
      "[1. 1. 1. 1.]\n",
      "[2. 0. 1. 0.]\n",
      "[1. 0. 0. 1.]\n"
     ]
    },
    {
     "data": {
      "image/png": "[encoded data removed]",
      "text/plain": [
       "<Figure size 432x288 with 8 Axes>"
      ]
     },
     "metadata": {},
     "output_type": "display_data"
    }
   ],
   "source": [
    "# show some images\n",
    "\n",
    "fig, ax = plt.subplots(1, 8)\n",
    "for i in range(8):\n",
    "    idx = np.random.choice(N)\n",
    "    print(latents[idx])\n",
    "    ax[i].imshow(imgs[idx], cmap='Greys_r')\n",
    "    ax[i].grid('off')\n",
    "    ax[i].set(xticklabels=[], yticklabels=[], xticks=[], yticks=[])"
   ]
  },
  {
   "cell_type": "code",
   "execution_count": 10,
   "metadata": {},
   "outputs": [
    {
     "name": "stdout",
     "output_type": "stream",
     "text": [
      "[[0.3324  0.33522 0.33356]\n",
      " [0.33221 0.33503 0.33337]\n",
      " [0.33141 0.33423 0.33257]]\n"
     ]
    },
    {
     "data": {
      "image/png": "[encoded data removed]",
      "text/plain": [
       "<Figure size 432x288 with 1 Axes>"
      ]
     },
     "metadata": {},
     "output_type": "display_data"
    }
   ],
   "source": [
    "m = show_density(imgs)\n",
    "print(m)"
   ]
  },
  {
   "cell_type": "code",
   "execution_count": 12,
   "metadata": {},
   "outputs": [
    {
     "data": {
      "text/plain": [
       "<matplotlib.image.AxesImage at 0x1f170dafa90>"
      ]
     },
     "execution_count": 12,
     "metadata": {},
     "output_type": "execute_result"
    },
    {
     "data": {
      "image/png": "[encoded data removed]",
      "text/plain": [
       "<Figure size 432x288 with 1 Axes>"
      ]
     },
     "metadata": {
      "needs_background": "light"
     },
     "output_type": "display_data"
    }
   ],
   "source": [
    "plt.imshow(m,cmap='gray')"
   ]
  },
  {
   "cell_type": "code",
   "execution_count": 23,
   "metadata": {},
   "outputs": [
    {
     "data": {
      "text/html": [
       "<div>\n",
       "<style scoped>\n",
       "    .dataframe tbody tr th:only-of-type {\n",
       "        vertical-align: middle;\n",
       "    }\n",
       "\n",
       "    .dataframe tbody tr th {\n",
       "        vertical-align: top;\n",
       "    }\n",
       "\n",
       "    .dataframe thead th {\n",
       "        text-align: right;\n",
       "    }\n",
       "</style>\n",
       "<table border=\"1\" class=\"dataframe\">\n",
       "  <thead>\n",
       "    <tr style=\"text-align: right;\">\n",
       "      <th></th>\n",
       "      <th>posX</th>\n",
       "      <th>posY</th>\n",
       "      <th>shape</th>\n",
       "      <th>length</th>\n",
       "    </tr>\n",
       "  </thead>\n",
       "  <tbody>\n",
       "    <tr>\n",
       "      <th>0</th>\n",
       "      <td>1.0</td>\n",
       "      <td>1.0</td>\n",
       "      <td>1.0</td>\n",
       "      <td>1.0</td>\n",
       "    </tr>\n",
       "    <tr>\n",
       "      <th>1</th>\n",
       "      <td>1.0</td>\n",
       "      <td>1.0</td>\n",
       "      <td>1.0</td>\n",
       "      <td>1.0</td>\n",
       "    </tr>\n",
       "    <tr>\n",
       "      <th>2</th>\n",
       "      <td>2.0</td>\n",
       "      <td>1.0</td>\n",
       "      <td>0.0</td>\n",
       "      <td>1.0</td>\n",
       "    </tr>\n",
       "    <tr>\n",
       "      <th>3</th>\n",
       "      <td>1.0</td>\n",
       "      <td>1.0</td>\n",
       "      <td>0.0</td>\n",
       "      <td>1.0</td>\n",
       "    </tr>\n",
       "    <tr>\n",
       "      <th>4</th>\n",
       "      <td>2.0</td>\n",
       "      <td>0.0</td>\n",
       "      <td>0.0</td>\n",
       "      <td>2.0</td>\n",
       "    </tr>\n",
       "  </tbody>\n",
       "</table>\n",
       "</div>"
      ],
      "text/plain": [
       "   posX  posY  shape  length\n",
       "0   1.0   1.0    1.0     1.0\n",
       "1   1.0   1.0    1.0     1.0\n",
       "2   2.0   1.0    0.0     1.0\n",
       "3   1.0   1.0    0.0     1.0\n",
       "4   2.0   0.0    0.0     2.0"
      ]
     },
     "execution_count": 23,
     "metadata": {},
     "output_type": "execute_result"
    }
   ],
   "source": [
    "pd_latents = pd.DataFrame(latents, columns=['posX', 'posY', 'shape', 'length'])\n",
    "pd_latents.head()"
   ]
  },
  {
   "cell_type": "code",
   "execution_count": 24,
   "metadata": {},
   "outputs": [
    {
     "data": {
      "text/plain": [
       "<seaborn.axisgrid.PairGrid at 0x7f0433658fd0>"
      ]
     },
     "execution_count": 24,
     "metadata": {},
     "output_type": "execute_result"
    },
    {
     "data": {
      "image/png": "[encoded data removed]",
      "text/plain": [
       "<Figure size 720x720 with 20 Axes>"
      ]
     },
     "metadata": {
      "needs_background": "light"
     },
     "output_type": "display_data"
    }
   ],
   "source": [
    "sns.pairplot(pd_latents)"
   ]
  },
  {
   "cell_type": "code",
   "execution_count": 28,
   "metadata": {},
   "outputs": [
    {
     "name": "stdout",
     "output_type": "stream",
     "text": [
      "((), (2, 3), (), (0, 2))\n"
     ]
    }
   ],
   "source": [
    "model = BayesianNetwork.from_samples(latents, \n",
    "                                     state_names=['posX', 'posY', 'shape', 'length'], \n",
    "                                     algorithm='exact')\n",
    "print(model.structure)"
   ]
  },
  {
   "cell_type": "code",
   "execution_count": 13,
   "metadata": {},
   "outputs": [],
   "source": [
    "np.savez_compressed(\"../datasets/toydata/toydata_3x3_uc.npz\",\n",
    "    images= imgs,\n",
    "    latents_values=latents,\n",
    "    metadata= metadata\n",
    ")"
   ]
  },
  {
   "cell_type": "code",
   "execution_count": null,
   "metadata": {},
   "outputs": [],
   "source": []
  }
 ],
 "metadata": {
  "kernelspec": {
   "display_name": "Python 3 (ipykernel)",
   "language": "python",
   "name": "python3"
  },
  "language_info": {
   "codemirror_mode": {
    "name": "ipython",
    "version": 3
   },
   "file_extension": ".py",
   "mimetype": "text/x-python",
   "name": "python",
   "nbconvert_exporter": "python",
   "pygments_lexer": "ipython3",
   "version": "3.8.5"
  },
  "vscode": {
   "interpreter": {
    "hash": "0c1e42d09abd9a7c7967c6caf04ac65128c9e19aa5355439d6e17d7b03582b55"
   }
  }
 },
 "nbformat": 4,
 "nbformat_minor": 2
}
