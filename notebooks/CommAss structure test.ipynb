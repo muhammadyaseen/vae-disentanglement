{
 "cells": [
  {
   "cell_type": "code",
   "execution_count": 2,
   "id": "92a3dec7",
   "metadata": {},
   "outputs": [
    {
     "name": "stdout",
     "output_type": "stream",
     "text": [
      "D:\\Saarbrucken\\EDA_Research\\vae-disentanglement\\disentanglement_lib_pl\n"
     ]
    }
   ],
   "source": [
    "cd D:\\Saarbrucken\\EDA_Research\\vae-disentanglement\\disentanglement_lib_pl"
   ]
  },
  {
   "cell_type": "code",
   "execution_count": 12,
   "id": "c54c28bd",
   "metadata": {},
   "outputs": [],
   "source": [
    "import torch\n",
    "from torch import nn\n",
    "import numpy as np\n",
    "from architectures import encoders, decoders\n",
    "from common.ops import Flatten3D, Unsqueeze3D, Reshape"
   ]
  },
  {
   "cell_type": "code",
   "execution_count": 3,
   "id": "a5d67862",
   "metadata": {},
   "outputs": [],
   "source": [
    "enc = getattr(encoders, 'SimpleGaussianConv64CommAss')(10,3,64)\n",
    "dec = getattr(decoders, 'SimpleConv64CommAss')(10,3,64)"
   ]
  },
  {
   "cell_type": "code",
   "execution_count": 4,
   "id": "c561a346",
   "metadata": {},
   "outputs": [],
   "source": [
    "img = torch.rand(size=[1,3,64,64])"
   ]
  },
  {
   "cell_type": "code",
   "execution_count": 11,
   "id": "82291afa",
   "metadata": {},
   "outputs": [
    {
     "name": "stdout",
     "output_type": "stream",
     "text": [
      "torch.Size([1, 256, 1, 1])\n"
     ]
    }
   ],
   "source": [
    "enc = nn.Sequential(\n",
    "    nn.Conv2d(1, 5, 2, 1, 0), # B,5,2,2\n",
    "    nn.ReLU(True),\n",
    "    Flatten3D(), # B,5x2x2\n",
    "    nn.Linear(20, 10),\n",
    "    nn.Linear(10, num_latent)\n",
    ")\n",
    "\n",
    "dec = nn.Sequential(\n",
    "    Unsqueeze3D(),\n",
    "    nn.Conv2d(num_latent, 20, 1, 1), \n",
    "    nn.ReLU(True),\n",
    "    Reshape([5, 2, 2]),\n",
    "    nn.ConvTranspose2d(5, 1, 2, 1, 0)\n",
    ")\n",
    "\n"
   ]
  },
  {
   "cell_type": "code",
   "execution_count": 31,
   "id": "1bd8b82e",
   "metadata": {},
   "outputs": [
    {
     "name": "stdout",
     "output_type": "stream",
     "text": [
      "torch.Size([1, 1, 3, 3]) tensor([[[[-0.1105, -0.2154, -0.3674],\n",
      "          [-0.1536, -0.5432, -0.3171],\n",
      "          [-0.3573, -0.3726, -0.3949]]]],\n",
      "       grad_fn=<SlowConvTranspose2DBackward>)\n"
     ]
    }
   ],
   "source": [
    "o = Unsqueeze3D()(o)\n",
    "#print(o.shape, o)\n",
    "o = nn.Conv2d(2, 20, 1, 1)(o)\n",
    "o = nn.ReLU(True)(o)\n",
    "#print(o.shape, o)\n",
    "o = Reshape([5,2, 2])(o)\n",
    "#print(o.shape, o)\n",
    "o = nn.ConvTranspose2d(5, 1, 2, 1, 0)(o)\n",
    "print(o.shape, o)"
   ]
  },
  {
   "cell_type": "code",
   "execution_count": null,
   "id": "e1ca8e94",
   "metadata": {},
   "outputs": [],
   "source": []
  }
 ],
 "metadata": {
  "kernelspec": {
   "display_name": "Python 3.8.5",
   "language": "python",
   "name": "python3"
  },
  "language_info": {
   "codemirror_mode": {
    "name": "ipython",
    "version": 3
   },
   "file_extension": ".py",
   "mimetype": "text/x-python",
   "name": "python",
   "nbconvert_exporter": "python",
   "pygments_lexer": "ipython3",
   "version": "3.8.5"
  },
  "vscode": {
   "interpreter": {
    "hash": "0c1e42d09abd9a7c7967c6caf04ac65128c9e19aa5355439d6e17d7b03582b55"
   }
  }
 },
 "nbformat": 4,
 "nbformat_minor": 5
}
