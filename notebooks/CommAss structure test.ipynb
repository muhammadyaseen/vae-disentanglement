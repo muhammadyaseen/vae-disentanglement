{
 "cells": [
  {
   "cell_type": "code",
   "execution_count": 1,
   "id": "4601dcd8",
   "metadata": {},
   "outputs": [
    {
     "name": "stdout",
     "output_type": "stream",
     "text": [
      "D:\\Saarbrucken\\EDA_Research\\thesis_code\\disentanglement_lib_pl\n"
     ]
    }
   ],
   "source": [
    "cd D:\\Saarbrucken\\EDA_Research\\thesis_code\\disentanglement_lib_pl"
   ]
  },
  {
   "cell_type": "code",
   "execution_count": 2,
   "id": "2614725d",
   "metadata": {},
   "outputs": [],
   "source": [
    "import torch\n",
    "from torch import nn\n",
    "import numpy as np\n",
    "from architectures import encoders, decoders"
   ]
  },
  {
   "cell_type": "code",
   "execution_count": 3,
   "id": "1a78492b",
   "metadata": {},
   "outputs": [],
   "source": [
    "enc = getattr(encoders, 'SimpleGaussianConv64CommAss')(10,3,64)\n",
    "dec = getattr(decoders, 'SimpleConv64CommAss')(10,3,64)"
   ]
  },
  {
   "cell_type": "code",
   "execution_count": 4,
   "id": "177b8a19",
   "metadata": {},
   "outputs": [],
   "source": [
    "img = torch.rand(size=[1,3,64,64])"
   ]
  },
  {
   "cell_type": "code",
   "execution_count": 5,
   "id": "15c1704c",
   "metadata": {},
   "outputs": [
    {
     "data": {
      "text/plain": [
       "SimpleGaussianConv64CommAss(\n",
       "  (main): Sequential(\n",
       "    (0): Conv2d(3, 32, kernel_size=(4, 4), stride=(2, 2))\n",
       "    (1): ReLU(inplace=True)\n",
       "    (2): Conv2d(32, 32, kernel_size=(4, 4), stride=(2, 2))\n",
       "    (3): ReLU(inplace=True)\n",
       "    (4): Conv2d(32, 64, kernel_size=(4, 4), stride=(2, 2))\n",
       "    (5): ReLU(inplace=True)\n",
       "    (6): Conv2d(64, 64, kernel_size=(4, 4), stride=(2, 2))\n",
       "    (7): ReLU(inplace=True)\n",
       "    (8): Flatten3D()\n",
       "    (9): Linear(in_features=256, out_features=256, bias=True)\n",
       "    (10): ReLU(inplace=True)\n",
       "    (11): Linear(in_features=256, out_features=20, bias=True)\n",
       "  )\n",
       ")"
      ]
     },
     "execution_count": 5,
     "metadata": {},
     "output_type": "execute_result"
    }
   ],
   "source": [
    "enc"
   ]
  },
  {
   "cell_type": "code",
   "execution_count": 6,
   "id": "aec13136",
   "metadata": {},
   "outputs": [
    {
     "name": "stdout",
     "output_type": "stream",
     "text": [
      "torch.Size([1, 64, 2, 2])\n"
     ]
    }
   ],
   "source": [
    "m,s = enc(img)"
   ]
  },
  {
   "cell_type": "code",
   "execution_count": 7,
   "id": "d2d629c5",
   "metadata": {},
   "outputs": [
    {
     "data": {
      "text/plain": [
       "(torch.Size([1, 10]), torch.Size([1, 10]))"
      ]
     },
     "execution_count": 7,
     "metadata": {},
     "output_type": "execute_result"
    }
   ],
   "source": [
    "m.size(), s.size()"
   ]
  },
  {
   "cell_type": "code",
   "execution_count": 8,
   "id": "e95099ea",
   "metadata": {},
   "outputs": [],
   "source": [
    "I=dec(m)"
   ]
  },
  {
   "cell_type": "code",
   "execution_count": 9,
   "id": "747bfd6d",
   "metadata": {},
   "outputs": [
    {
     "data": {
      "text/plain": [
       "torch.Size([1, 3, 66, 66])"
      ]
     },
     "execution_count": 9,
     "metadata": {},
     "output_type": "execute_result"
    }
   ],
   "source": [
    "I.size()"
   ]
  },
  {
   "cell_type": "code",
   "execution_count": 10,
   "id": "b0c394e3",
   "metadata": {},
   "outputs": [
    {
     "data": {
      "text/plain": [
       "SimpleConv64CommAss(\n",
       "  (main): Sequential(\n",
       "    (0): Unsqueeze3D()\n",
       "    (1): Conv2d(10, 256, kernel_size=(1, 1), stride=(1, 1))\n",
       "    (2): ReLU(inplace=True)\n",
       "    (3): Conv2d(256, 1024, kernel_size=(1, 1), stride=(1, 1))\n",
       "    (4): ReLU(inplace=True)\n",
       "    (5): Reshape()\n",
       "    (6): ConvTranspose2d(64, 64, kernel_size=(4, 4), stride=(2, 2), padding=(1, 1))\n",
       "    (7): ReLU(inplace=True)\n",
       "    (8): ConvTranspose2d(64, 32, kernel_size=(4, 4), stride=(2, 2), padding=(1, 1))\n",
       "    (9): ReLU(inplace=True)\n",
       "    (10): ConvTranspose2d(32, 32, kernel_size=(4, 4), stride=(2, 2), padding=(1, 1))\n",
       "    (11): ReLU(inplace=True)\n",
       "    (12): ConvTranspose2d(32, 3, kernel_size=(4, 4), stride=(2, 2))\n",
       "  )\n",
       ")"
      ]
     },
     "execution_count": 10,
     "metadata": {},
     "output_type": "execute_result"
    }
   ],
   "source": [
    "dec"
   ]
  },
  {
   "cell_type": "code",
   "execution_count": 11,
   "id": "670d9959",
   "metadata": {},
   "outputs": [
    {
     "name": "stdout",
     "output_type": "stream",
     "text": [
      "torch.Size([1, 256, 1, 1])\n"
     ]
    }
   ],
   "source": [
    "o=nn.Conv2d(10, 256, 1, 2)(torch.rand(1,10,1,1))\n",
    "print(o.size())"
   ]
  },
  {
   "cell_type": "code",
   "execution_count": 12,
   "id": "00a6023a",
   "metadata": {},
   "outputs": [
    {
     "name": "stdout",
     "output_type": "stream",
     "text": [
      "torch.Size([1, 1024, 1, 1])\n"
     ]
    }
   ],
   "source": [
    "o=nn.Conv2d(256, 64 * 4 * 4, 1, 1)(torch.rand(1, 256, 1, 1))\n",
    "print(o.size())"
   ]
  },
  {
   "cell_type": "code",
   "execution_count": 13,
   "id": "4e444e03",
   "metadata": {},
   "outputs": [
    {
     "name": "stdout",
     "output_type": "stream",
     "text": [
      "torch.Size([1, 64, 4, 4])\n"
     ]
    }
   ],
   "source": [
    "from common.ops import Unsqueeze3D, Reshape\n",
    "r=Reshape([64, 4, 4])(o)\n",
    "print(r.size())"
   ]
  },
  {
   "cell_type": "code",
   "execution_count": 18,
   "id": "2d86fb8b",
   "metadata": {},
   "outputs": [
    {
     "data": {
      "text/plain": [
       "torch.Size([1, 64, 8, 8])"
      ]
     },
     "execution_count": 18,
     "metadata": {},
     "output_type": "execute_result"
    }
   ],
   "source": [
    "s=nn.ConvTranspose2d(64, 64, 4, 2, 1)(r)\n",
    "s.size()"
   ]
  },
  {
   "cell_type": "code",
   "execution_count": 19,
   "id": "1a3c14d2",
   "metadata": {},
   "outputs": [
    {
     "data": {
      "text/plain": [
       "torch.Size([1, 32, 16, 16])"
      ]
     },
     "execution_count": 19,
     "metadata": {},
     "output_type": "execute_result"
    }
   ],
   "source": [
    "t=nn.ConvTranspose2d(64, 32, 4, 2, 1)(s)\n",
    "t.size()"
   ]
  },
  {
   "cell_type": "code",
   "execution_count": 20,
   "id": "79abb6ba",
   "metadata": {},
   "outputs": [
    {
     "data": {
      "text/plain": [
       "torch.Size([1, 32, 32, 32])"
      ]
     },
     "execution_count": 20,
     "metadata": {},
     "output_type": "execute_result"
    }
   ],
   "source": [
    "u=nn.ConvTranspose2d(32, 32, 4, 2, 1)(t)\n",
    "u.size()"
   ]
  },
  {
   "cell_type": "code",
   "execution_count": 23,
   "id": "2363c6e2",
   "metadata": {},
   "outputs": [
    {
     "data": {
      "text/plain": [
       "torch.Size([1, 3, 64, 64])"
      ]
     },
     "execution_count": 23,
     "metadata": {},
     "output_type": "execute_result"
    }
   ],
   "source": [
    "v=nn.ConvTranspose2d(32, 3, 4, 2,1)(u)\n",
    "v.size()"
   ]
  },
  {
   "cell_type": "code",
   "execution_count": null,
   "id": "fdb2d868",
   "metadata": {},
   "outputs": [],
   "source": []
  }
 ],
 "metadata": {
  "kernelspec": {
   "display_name": "Python 3 (ipykernel)",
   "language": "python",
   "name": "python3"
  },
  "language_info": {
   "codemirror_mode": {
    "name": "ipython",
    "version": 3
   },
   "file_extension": ".py",
   "mimetype": "text/x-python",
   "name": "python",
   "nbconvert_exporter": "python",
   "pygments_lexer": "ipython3",
   "version": "3.8.5"
  }
 },
 "nbformat": 4,
 "nbformat_minor": 5
}
