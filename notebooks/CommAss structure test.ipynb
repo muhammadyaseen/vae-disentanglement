{
 "cells": [
  {
   "cell_type": "code",
   "execution_count": 1,
   "id": "92a3dec7",
   "metadata": {},
   "outputs": [
    {
     "name": "stdout",
     "output_type": "stream",
     "text": [
      "D:\\Saarbrucken\\EDA_Research\\vae-disentanglement\\disentanglement_lib_pl\n"
     ]
    }
   ],
   "source": [
    "cd D:\\Saarbrucken\\EDA_Research\\vae-disentanglement\\disentanglement_lib_pl"
   ]
  },
  {
   "cell_type": "code",
   "execution_count": 14,
   "id": "c54c28bd",
   "metadata": {},
   "outputs": [],
   "source": [
    "import torch\n",
    "from torch import nn\n",
    "import numpy as np\n",
    "from architectures import encoders, decoders\n",
    "from common.ops import Flatten3D, Unsqueeze3D, Reshape\n",
    "from torch.nn import functional as F\n",
    "import pickle\n",
    "from common import dag_utils"
   ]
  },
  {
   "cell_type": "markdown",
   "id": "7568203f",
   "metadata": {},
   "source": [
    "# Multiscale + GNN structure test "
   ]
  },
  {
   "cell_type": "code",
   "execution_count": null,
   "id": "211a0ae9",
   "metadata": {},
   "outputs": [],
   "source": [
    "cd D:\\Saarbrucken\\EDA_Research\\vae-disentanglement\\disentanglement_lib_pl"
   ]
  },
  {
   "cell_type": "markdown",
   "id": "13eca36f",
   "metadata": {},
   "source": [
    "## Testing Prior GNN"
   ]
  },
  {
   "cell_type": "code",
   "execution_count": 23,
   "id": "2c776ffd",
   "metadata": {},
   "outputs": [],
   "source": [
    "class SimpleGNNLayer(nn.Module):\n",
    "    \"\"\"\n",
    "    Can be used to implement GNNs for P(Z|epsilon, A) or Q(Z|X,A)\n",
    "    \"\"\"\n",
    "    def __init__(self, in_node_feat_dim, out_node_feat_dim, adj_mat, is_final_layer=False):\n",
    "        super().__init__()\n",
    "\n",
    "        self.in_node_feat_dim = in_node_feat_dim\n",
    "        self.out_node_feat_dim = out_node_feat_dim\n",
    "        self.is_final_layer = is_final_layer\n",
    "        self.A = adj_mat.T # TODO:\n",
    "\n",
    "        self.num_neighbours = self.A.sum(dim=-1, keepdims=True)\n",
    "        self.projection = nn.Linear(self.in_node_feat_dim, self.out_node_feat_dim)\n",
    "    \n",
    "    def forward(self, node_feats):\n",
    "        \n",
    "        self.A = self.A.to(node_feats.device)\n",
    "        self.num_neighbours = self.num_neighbours.to(node_feats.device)\n",
    "        \n",
    "        node_feats = self.projection(node_feats)\n",
    "        #print(node_feats)\n",
    "        node_feats = torch.matmul(self.A, node_feats)\n",
    "        #print(node_feats)\n",
    "        node_feats = node_feats / self.num_neighbours\n",
    "        #print(node_feats)\n",
    "        \n",
    "        if self.is_final_layer:\n",
    "            # split into mu and sigma\n",
    "            node_feats_mu, node_feats_logvar = node_feats.chunk(2, dim=2)\n",
    "            return node_feats_mu, node_feats_logvar\n",
    "        else:\n",
    "            node_feats = torch.tanh(node_feats)\n",
    "            return node_feats"
   ]
  },
  {
   "cell_type": "code",
   "execution_count": 24,
   "id": "fbe25a39",
   "metadata": {},
   "outputs": [],
   "source": [
    "#from common.special_modules import SimpleGNNLayer\n",
    "\n",
    "# V, ifd, ofd =5, 2, 4\n",
    "\n",
    "# #inp = torch.randn(size=(1, V, ifd))\n",
    "\n",
    "# inp = torch.arange(10).type(torch.FloatTensor).view(1, V, ifd)\n",
    "# print(inp)\n",
    "# print(\"input shape: \", inp.shape)\n",
    "\n",
    "# prior_gnn = SimpleGNNLayer(ifd, ofd, A.T, is_final_layer=True)\n",
    "# print(\"Linear layer mat shape: \", prior_gnn.projection.weight.data.shape)\n",
    "# prior_gnn.projection.weight.data = torch.Tensor(\n",
    "#         [[1., 0.],\n",
    "#         [0., 1.],\n",
    "#         [1., 0.],\n",
    "#         [0., 1.]]\n",
    "# )\n",
    "# prior_gnn.projection.bias.data = torch.zeros(ofd)\n",
    "# print(\"input: \", inp)\n",
    "# out = prior_gnn(inp)\n",
    "# print(out)\n"
   ]
  },
  {
   "cell_type": "code",
   "execution_count": 25,
   "id": "6891ac0f",
   "metadata": {},
   "outputs": [
    {
     "name": "stdout",
     "output_type": "stream",
     "text": [
      "tensor([[1., 0., 0., 0., 0.],\n",
      "        [0., 1., 0., 0., 0.],\n",
      "        [0., 0., 1., 1., 0.],\n",
      "        [0., 0., 0., 1., 0.],\n",
      "        [0., 0., 0., 0., 1.]])\n"
     ]
    }
   ],
   "source": [
    "A_list = pickle.load(open(r\"D:\\Saarbrucken\\EDA_Research\\vae-disentanglement\\adjacency_matrices\\dsprites_correlated.pkl\", 'rb'))\n",
    "A = dag_utils.get_adj_mat_from_adj_list(A_list)\n",
    "print(A)\n",
    "\n",
    "prior_gnn = nn.Sequential(\n",
    "            SimpleGNNLayer(4, 4, A),\n",
    "            SimpleGNNLayer(4, 4, A),\n",
    "            SimpleGNNLayer(4, 4, A, is_final_layer=True)\n",
    "        )"
   ]
  },
  {
   "cell_type": "code",
   "execution_count": 26,
   "id": "fc2c7324",
   "metadata": {},
   "outputs": [],
   "source": [
    "test_inp = torch.randn(size=(2, 5, 4))\n",
    "\n",
    "probe_mu, probe_logvar = prior_gnn(test_inp)"
   ]
  },
  {
   "cell_type": "code",
   "execution_count": 27,
   "id": "05b5d539",
   "metadata": {},
   "outputs": [
    {
     "name": "stdout",
     "output_type": "stream",
     "text": [
      "tensor([[[-0.4075, -0.1486],\n",
      "         [-0.2652,  0.1489],\n",
      "         [-0.2306,  0.0602],\n",
      "         [-0.2523,  0.0454],\n",
      "         [-0.2455,  0.0648]],\n",
      "\n",
      "        [[-0.2006,  0.2517],\n",
      "         [-0.2900,  0.1959],\n",
      "         [-0.3454, -0.0522],\n",
      "         [-0.3360, -0.0400],\n",
      "         [-0.2233,  0.2115]]], grad_fn=<SplitBackward>)\n",
      "tensor([[[ 0.4505, -0.4240],\n",
      "         [ 0.3399, -0.3789],\n",
      "         [ 0.4070, -0.3701],\n",
      "         [ 0.4078, -0.3717],\n",
      "         [ 0.4109, -0.3973]],\n",
      "\n",
      "        [[ 0.2704, -0.2927],\n",
      "         [ 0.2392, -0.3045],\n",
      "         [ 0.4261, -0.3869],\n",
      "         [ 0.4224, -0.3817],\n",
      "         [ 0.3103, -0.3535]]], grad_fn=<SplitBackward>)\n"
     ]
    }
   ],
   "source": [
    "print(probe_mu)\n",
    "print(probe_logvar)"
   ]
  },
  {
   "cell_type": "markdown",
   "id": "ef802fef",
   "metadata": {},
   "source": [
    "# Load model and test prior components"
   ]
  },
  {
   "cell_type": "code",
   "execution_count": 3,
   "id": "695e1ef4",
   "metadata": {},
   "outputs": [
    {
     "name": "stdout",
     "output_type": "stream",
     "text": [
      "tensor([[1., 0., 0., 0., 0.],\n",
      "        [0., 1., 0., 0., 0.],\n",
      "        [0., 0., 1., 1., 0.],\n",
      "        [0., 0., 0., 1., 0.],\n",
      "        [0., 0., 0., 0., 1.]])\n",
      "GNNBasedConceptStructuredVAE Model Initialized\n"
     ]
    }
   ],
   "source": [
    "from gnncsvae_experiment import GNNCSVAEExperiment\n",
    "from collections import defaultdict, namedtuple\n",
    "import models\n",
    "from common.notebook_utils import get_configured_dataset\n",
    "from torch.utils.data import DataLoader\n",
    "import os\n",
    "\n",
    "\n",
    "ModelParams = namedtuple('ModelParams', [\"z_dim\", \"l_dim\", \"num_labels\" , \"in_channels\", \n",
    "                                        \"image_size\", \"batch_size\", \"w_recon\", \"w_kld\", \"kl_warmup_epochs\",\n",
    "                                         \"adjacency_matrix\"])\n",
    "\n",
    "\n",
    "algo_name = \"GNNBasedConceptStructuredVAE\"\n",
    "checkpoint_path = r\"D:\\Saarbrucken\\EDA_Research\\vae-disentanglement\\models\\gnncsvae.ckpt\"\n",
    "z_dim = 5\n",
    "\n",
    "model_params = ModelParams(\n",
    "        [z_dim], 6, 0, 1, 64, 64, 1.0, 1.0, 0,\n",
    "    r\"D:\\Saarbrucken\\EDA_Research\\vae-disentanglement\\adjacency_matrices\\dsprites_correlated.pkl\"\n",
    ")\n",
    "exp_params = dict(\n",
    "        in_channels=1,\n",
    "        image_size=64,\n",
    "        LR=1e-4,\n",
    "        weight_decay=0.0,       \n",
    "        dataset=\"dsprites_correlated\",\n",
    "        datapath=r\"D:\\Saarbrucken\\EDA_Research\\vae-disentanglement\\datasets\",\n",
    "        droplast=True,        \n",
    "        batch_size=64,\n",
    "        num_workers=0,\n",
    "        pin_memory=False,\n",
    "        seed=123,\n",
    "        evaluation_metrics=None,\n",
    "        visdom_on=False,\n",
    "        save_dir=None,\n",
    "        max_epochs=1,\n",
    "        l_zero_reg=False\n",
    ")\n",
    "vae_model_class = getattr(models, algo_name)\n",
    "vae_model = vae_model_class(model_params)\n",
    "\n",
    "vae_experiment = GNNCSVAEExperiment.load_from_checkpoint(\n",
    "            checkpoint_path,\n",
    "            vae_model=vae_model, \n",
    "            params=exp_params,\n",
    "            dataset_params=dict(correlation_strength=0.2))"
   ]
  },
  {
   "cell_type": "code",
   "execution_count": 4,
   "id": "0e8a4741",
   "metadata": {},
   "outputs": [
    {
     "name": "stderr",
     "output_type": "stream",
     "text": [
      "WARNING:root:Argument blacklist is deprecated. Please use denylist.\n",
      "WARNING:root:Argument blacklist is deprecated. Please use denylist.\n"
     ]
    },
    {
     "name": "stdout",
     "output_type": "stream",
     "text": [
      "Initialize [CorrelatedDSpritesDataset] with 737280 examples. Shape (737280, 64, 64).\n"
     ]
    }
   ],
   "source": [
    "\n",
    "os.environ['DISENTANGLEMENT_LIB_DATA'] = r\"D:\\Saarbrucken\\EDA_Research\\vae-disentanglement\\datasets\"\n",
    "\n",
    "dataset = get_configured_dataset(\"dsprites_correlated\")\n",
    "sample_loader = DataLoader(dataset, batch_size=64, shuffle = False, drop_last=True)\n",
    "\n",
    "test_input, test_label = next(iter(sample_loader))\n",
    "fwd_pass_results = vae_experiment.model.forward(test_input, current_device=test_input.device, labels = test_label)"
   ]
  },
  {
   "cell_type": "code",
   "execution_count": 5,
   "id": "411e62e1",
   "metadata": {},
   "outputs": [
    {
     "data": {
      "text/plain": [
       "dict_keys(['x_recon', 'prior_mu', 'prior_logvar', 'posterior_mu', 'posterior_logvar', 'latents_predicted'])"
      ]
     },
     "execution_count": 5,
     "metadata": {},
     "output_type": "execute_result"
    }
   ],
   "source": [
    "fwd_pass_results.keys()"
   ]
  },
  {
   "cell_type": "code",
   "execution_count": 7,
   "id": "8a9e8e7e",
   "metadata": {},
   "outputs": [
    {
     "data": {
      "text/plain": [
       "tensor([[ 0.2693,  0.0669,  0.7291, -0.0036,  1.4615],\n",
       "        [ 0.2693,  0.0670,  0.7291, -0.0036,  1.4615],\n",
       "        [ 0.2693,  0.0670,  0.7291, -0.0036,  1.4614],\n",
       "        [ 0.2693,  0.0670,  0.7291, -0.0036,  1.4614],\n",
       "        [ 0.2693,  0.0670,  0.7291, -0.0036,  1.4614]],\n",
       "       grad_fn=<SliceBackward>)"
      ]
     },
     "execution_count": 7,
     "metadata": {},
     "output_type": "execute_result"
    }
   ],
   "source": [
    "fwd_pass_results['prior_mu'][1,:,:]"
   ]
  },
  {
   "cell_type": "code",
   "execution_count": 8,
   "id": "245d86bb",
   "metadata": {},
   "outputs": [
    {
     "data": {
      "text/plain": [
       "tensor([[ 0.2693,  0.0670,  0.7291, -0.0036,  1.4614],\n",
       "        [ 0.2693,  0.0670,  0.7291, -0.0036,  1.4614],\n",
       "        [ 0.2692,  0.0671,  0.7291, -0.0036,  1.4614],\n",
       "        [ 0.2692,  0.0671,  0.7291, -0.0036,  1.4614],\n",
       "        [ 0.2693,  0.0670,  0.7291, -0.0036,  1.4614]],\n",
       "       grad_fn=<SliceBackward>)"
      ]
     },
     "execution_count": 8,
     "metadata": {},
     "output_type": "execute_result"
    }
   ],
   "source": [
    "fwd_pass_results['prior_mu'][2,:,:]"
   ]
  },
  {
   "cell_type": "code",
   "execution_count": 10,
   "id": "ae8952e5",
   "metadata": {},
   "outputs": [
    {
     "data": {
      "text/plain": [
       "tensor([[-9.7433,  0.2114, -9.2024, -9.2940, -8.7455],\n",
       "        [-9.7430,  0.2121, -9.2024, -9.2941, -8.7451],\n",
       "        [-9.7434,  0.2114, -9.2026, -9.2942, -8.7456],\n",
       "        [-9.7433,  0.2115, -9.2025, -9.2941, -8.7455],\n",
       "        [-9.7429,  0.2119, -9.2023, -9.2939, -8.7451]],\n",
       "       grad_fn=<SliceBackward>)"
      ]
     },
     "execution_count": 10,
     "metadata": {},
     "output_type": "execute_result"
    }
   ],
   "source": [
    "fwd_pass_results['prior_logvar'][1,:,:]"
   ]
  },
  {
   "cell_type": "code",
   "execution_count": 11,
   "id": "7cd400bc",
   "metadata": {},
   "outputs": [
    {
     "data": {
      "text/plain": [
       "tensor([[-9.7433,  0.2116, -9.2025, -9.2941, -8.7454],\n",
       "        [-9.7439,  0.2110, -9.2029, -9.2945, -8.7461],\n",
       "        [-9.7424,  0.2124, -9.2018, -9.2936, -8.7446],\n",
       "        [-9.7425,  0.2124, -9.2020, -9.2937, -8.7447],\n",
       "        [-9.7432,  0.2114, -9.2025, -9.2940, -8.7455]],\n",
       "       grad_fn=<SliceBackward>)"
      ]
     },
     "execution_count": 11,
     "metadata": {},
     "output_type": "execute_result"
    }
   ],
   "source": [
    "fwd_pass_results['prior_logvar'][2,:,:]"
   ]
  },
  {
   "cell_type": "code",
   "execution_count": 12,
   "id": "dce2c090",
   "metadata": {},
   "outputs": [
    {
     "data": {
      "text/plain": [
       "tensor([[[-9.5403e-01,  2.3565e-01, -1.4041e-01,  8.6940e-01, -7.0578e-01],\n",
       "         [-6.5596e-01, -5.1763e-01,  1.1193e-01, -1.5560e+00,  6.5843e-01],\n",
       "         [-5.6766e-02, -9.1827e-01, -2.2601e-02,  2.1412e-01,  1.2906e+00],\n",
       "         [ 1.9681e-01,  1.3810e+00, -5.9905e-01, -5.9418e-01, -8.5177e-01],\n",
       "         [-1.3829e-01,  1.8574e+00, -1.0459e-03,  1.5649e+00,  1.5280e+00]],\n",
       "\n",
       "        [[-2.6918e+00,  9.9199e-01, -1.2093e+00,  1.7687e+00,  6.4970e-01],\n",
       "         [ 6.6894e-01, -1.0525e+00,  5.2236e-02,  6.9469e-01, -9.6906e-01],\n",
       "         [-1.1147e-01,  2.2110e-01,  1.4805e-03,  5.9184e-01, -1.5506e-01],\n",
       "         [ 1.5341e-01, -6.5809e-01,  6.0344e-02,  1.0988e+00,  3.9013e-01],\n",
       "         [ 3.9395e-01, -5.1335e-01, -2.1673e+00,  2.7063e+00,  1.4760e+00]]])"
      ]
     },
     "execution_count": 12,
     "metadata": {},
     "output_type": "execute_result"
    }
   ],
   "source": [
    "torch.randn(size=(2, 5, 5))"
   ]
  },
  {
   "cell_type": "code",
   "execution_count": null,
   "id": "2e7ace37",
   "metadata": {},
   "outputs": [],
   "source": []
  }
 ],
 "metadata": {
  "kernelspec": {
   "display_name": "Python 3 (ipykernel)",
   "language": "python",
   "name": "python3"
  },
  "language_info": {
   "codemirror_mode": {
    "name": "ipython",
    "version": 3
   },
   "file_extension": ".py",
   "mimetype": "text/x-python",
   "name": "python",
   "nbconvert_exporter": "python",
   "pygments_lexer": "ipython3",
   "version": "3.8.5"
  },
  "vscode": {
   "interpreter": {
    "hash": "0c1e42d09abd9a7c7967c6caf04ac65128c9e19aa5355439d6e17d7b03582b55"
   }
  }
 },
 "nbformat": 4,
 "nbformat_minor": 5
}
