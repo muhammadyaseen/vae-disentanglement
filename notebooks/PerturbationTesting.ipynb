{
 "cells": [
  {
   "cell_type": "code",
   "execution_count": 1,
   "id": "7a4afd9d",
   "metadata": {},
   "outputs": [
    {
     "name": "stdout",
     "output_type": "stream",
     "text": [
      "/home/c01muya/vae-disentanglement/disentanglement_lib_pl\n"
     ]
    }
   ],
   "source": [
    "cd /home/c01muya/vae-disentanglement/disentanglement_lib_pl"
   ]
  },
  {
   "cell_type": "code",
   "execution_count": 1,
   "id": "bb7f2f15",
   "metadata": {},
   "outputs": [
    {
     "name": "stdout",
     "output_type": "stream",
     "text": [
      "D:\\Saarbrucken\\EDA_Research\\vae-disentanglement\\disentanglement_lib_pl\n"
     ]
    }
   ],
   "source": [
    "cd D:\\\\Saarbrucken\\\\EDA_Research\\\\vae-disentanglement\\\\disentanglement_lib_pl"
   ]
  },
  {
   "cell_type": "code",
   "execution_count": 2,
   "id": "9d10f830",
   "metadata": {},
   "outputs": [],
   "source": [
    "import os\n",
    "import numpy as np\n",
    "import matplotlib.pyplot as plt\n",
    "from matplotlib.offsetbox import OffsetImage, AnnotationBbox\n",
    "import seaborn as sns\n",
    "\n",
    "import torch\n",
    "import torchvision.utils as vutils\n",
    "import torchvision.transforms.functional as T\n",
    "from torch.utils.data import DataLoader\n",
    "from torchvision import transforms\n",
    "\n",
    "from bvae_experiment import BVAEExperiment\n",
    "from common.data_loader import DSpritesDataset, ThreeShapesDataset, ContinumDataset\n",
    "from common.notebook_utils import *\n",
    "from common.utils import CenteredNorm\n",
    "# Change figure aesthetics\n",
    "%matplotlib inline\n",
    "sns.set_context('talk', font_scale=1.2, rc={'lines.linewidth': 1.5})\n",
    "np.set_printoptions(suppress=True,precision=4)"
   ]
  },
  {
   "cell_type": "code",
   "execution_count": 19,
   "id": "78ab0b67",
   "metadata": {},
   "outputs": [],
   "source": [
    "def model_and_activations(current_device,  dataset, checkpoint_path, activation_type,\n",
    "                          batch_size=64, beta=1.0, z_dim=10, l_dim=6, num_batches=1):\n",
    "    \n",
    "    activations, full_dataset, model = load_model_and_data_and_get_activations(\n",
    "                        dset_name=dataset, dset_path='../datasets', \n",
    "                        batch_size=batch_size, z_dim=z_dim , beta=beta, \n",
    "                        checkpoint_path=checkpoint_path, current_device=current_device, \n",
    "                        activation_type=activation_type, seed=123,  batches=num_batches, l_zero_reg=False, l_dim=l_dim\n",
    "        )\n",
    "\n",
    "    data_loader = DataLoader(full_dataset, batch_size=batch_size, shuffle = False,drop_last=True)\n",
    "\n",
    "    return model, activations, data_loader\n",
    "\n",
    "def check_correlated_dimensions(image_batch, vae_model, current_device, perturb_value=None, perturb_mode='fixed'):\n",
    "    \"\"\"\n",
    "    Train a normal Beta-VAE network on the correlated data\n",
    "    Once it has been trained, pass a batch of B examples and do the following:\n",
    "\n",
    "    For each example X:\n",
    "        Pass it thru network to get latent activations then\n",
    "        For each latent dim l from 1 to L do:\n",
    "            perturb unit l which gives an image X_l\n",
    "            pass X_l again thru the network and record the perturbed mean \\mu_l\n",
    "\n",
    "    For each dimension see if passing the image again leads to a change in any dimension other than the perturbed one (correlation)\n",
    "\n",
    "    Ideally, we expect only the unit associated with the originally perturned dimension to change.\n",
    "\n",
    "    If changing unit m consistently results in changes in unit n then we conclude that those two dimensions are correlated.\n",
    "\n",
    "    We can then introduce a layer before that and connect these two dims to a unit in prev layer.\n",
    "    \"\"\"\n",
    "\n",
    "    \n",
    "    with torch.no_grad():\n",
    "        \n",
    "        sq_diff_batch = []\n",
    "        fwd_pass_results = vae_model.model.forward(image_batch, current_device=current_device)\n",
    "        x_recon_orig, mu_orig = fwd_pass_results['x_recon'], fwd_pass_results['mu'] \n",
    "\n",
    "        # for each example X, perturb unit l=1 to L \n",
    "        for mu in mu_orig:\n",
    "            # (dim(mu), mu)\n",
    "            mus_perturbed = _generate_perturbed_copies(mu, mode=perturb_mode,fixed_val=perturb_value)\n",
    "            \n",
    "            # generate and image from these perturbed means\n",
    "            # (dim(mu), X.shape)\n",
    "            x_recons_perturbed = vae_model.model.decode(mus_perturbed, current_device=current_device)\n",
    "            # pass images again and compare with mu_perturbed\n",
    "            # (dim(mu), mu)\n",
    "            mus_perturbed_recon, _ = vae_model.model.encode(x_recons_perturbed, current_device=current_device)\n",
    "\n",
    "            sq_diff = (mus_perturbed_recon - mus_perturbed).pow(2)\n",
    "            sq_diff_batch.append((sq_diff, mus_perturbed_recon, mus_perturbed, x_recons_perturbed))\n",
    "\n",
    "        return sq_diff_batch\n",
    "\n",
    "def _generate_perturbed_copies(vector, dims_to_perturb=None, mode = 'fixed', fixed_val=None):\n",
    "    \"\"\"\n",
    "    Assumes that vector is of shape (vector_dim, )\n",
    "    Returns (vector_dim, vector_dim) shaped vector where in (i, vector_dim)\n",
    "    mode: 'fixed','relative-min','relative-max' \n",
    "    \"\"\"\n",
    "\n",
    "    perturbed_copies = []\n",
    "\n",
    "    for d in range(vector.shape[0]):\n",
    "        if dims_to_perturb is not None and d not in dims_to_perturb:\n",
    "                continue\n",
    "        \n",
    "        vector_d = vector.clone()\n",
    "        lim = vector_d[d] / 2\n",
    "        min_val, max_val = vector_d[d] - lim, vector_d[d] + lim + 0.1\n",
    "        \n",
    "        if mode == 'relative-max':    \n",
    "            vector_d[d] = vector_d[d] + max_val\n",
    "        \n",
    "        if mode == 'relative-min':\n",
    "            vector_d[d] = vector_d[d] - min_val\n",
    "        \n",
    "        if mode == 'fixed':\n",
    "            vector_d[d] = vector_d[d] + fixed_val\n",
    "\n",
    "        perturbed_copies.append(vector_d)\n",
    "\n",
    "    return torch.stack(perturbed_copies, dim=0)"
   ]
  },
  {
   "cell_type": "markdown",
   "id": "3efcbfd6",
   "metadata": {},
   "source": [
    "# Correlation 0.2 Beta 2"
   ]
  },
  {
   "cell_type": "code",
   "execution_count": 3,
   "id": "433ece61",
   "metadata": {
    "scrolled": true
   },
   "outputs": [
    {
     "name": "stdout",
     "output_type": "stream",
     "text": [
      "Experiment class: cpu\n",
      "Model class: cpu\n",
      "Loaded 737280 images\n"
     ]
    },
    {
     "name": "stderr",
     "output_type": "stream",
     "text": [
      "  0%|▏                                                                                                                                                                                                   | 10/10368 [00:01<24:24,  7.07it/s]\n"
     ]
    }
   ],
   "source": [
    "current_device = torch.device(\"cuda:3\")\n",
    "dataset='dsprites_full'\n",
    "checkpoint_path=\"../train-logs/jscmodel/epoch=25-step=299520.ckpt\"\n",
    "\n",
    "model_and_activations(current_device,  dataset, checkpoint_path)"
   ]
  },
  {
   "cell_type": "code",
   "execution_count": 4,
   "id": "dbe99c80",
   "metadata": {},
   "outputs": [],
   "source": [
    "img, labels = next(dsprites_full_loader.__iter__())\n"
   ]
  },
  {
   "cell_type": "code",
   "execution_count": 54,
   "id": "f65de268",
   "metadata": {},
   "outputs": [],
   "source": [
    "diffs = check_correlated_dimensions(img.to(current_device), model_dsprites_full, current_device)\n"
   ]
  },
  {
   "cell_type": "code",
   "execution_count": 48,
   "id": "b30f6966",
   "metadata": {},
   "outputs": [
    {
     "data": {
      "image/png": "[encoded data removed]",
      "text/plain": [
       "<Figure size 432x288 with 10 Axes>"
      ]
     },
     "metadata": {},
     "output_type": "display_data"
    }
   ],
   "source": [
    "visualize_change(diffs[0])"
   ]
  },
  {
   "cell_type": "code",
   "execution_count": 49,
   "id": "4dae80aa",
   "metadata": {},
   "outputs": [
    {
     "data": {
      "image/png": "[encoded data removed]",
      "text/plain": [
       "<Figure size 432x288 with 10 Axes>"
      ]
     },
     "metadata": {},
     "output_type": "display_data"
    }
   ],
   "source": [
    "visualize_change(diffs[1])"
   ]
  },
  {
   "cell_type": "code",
   "execution_count": 51,
   "id": "dd7e912b",
   "metadata": {},
   "outputs": [
    {
     "data": {
      "image/png": "[encoded data removed]",
      "text/plain": [
       "<Figure size 432x288 with 10 Axes>"
      ]
     },
     "metadata": {},
     "output_type": "display_data"
    }
   ],
   "source": [
    "visualize_change(diffs[3])"
   ]
  },
  {
   "cell_type": "code",
   "execution_count": 69,
   "id": "ee3ad3ec",
   "metadata": {},
   "outputs": [
    {
     "data": {
      "text/plain": [
       "<matplotlib.image.AxesImage at 0x7f3101297190>"
      ]
     },
     "execution_count": 69,
     "metadata": {},
     "output_type": "execute_result"
    },
    {
     "data": {
      "image/png": "[encoded data removed]",
      "text/plain": [
       "<Figure size 432x288 with 1 Axes>"
      ]
     },
     "metadata": {
      "needs_background": "light"
     },
     "output_type": "display_data"
    }
   ],
   "source": [
    "import torchvision.utils as vutils\n",
    "\n",
    "recons_side_by_side = torch.cat(diffs[0][3].chunk(10, dim=0), dim = 3)\n",
    "img_input_vs_recon = vutils.make_grid(recons_side_by_side, normalize=True, value_range=(0.0,1.0)).permute(1,2,0).cpu()\n",
    "\n",
    "fig, axs = plt.subplots()\n",
    "axs.imshow(img_input_vs_recon)"
   ]
  },
  {
   "cell_type": "code",
   "execution_count": 70,
   "id": "11d623a5",
   "metadata": {},
   "outputs": [
    {
     "data": {
      "image/png": "[encoded data removed]",
      "text/plain": [
       "<Figure size 432x288 with 10 Axes>"
      ]
     },
     "metadata": {},
     "output_type": "display_data"
    }
   ],
   "source": [
    "visualize_change(diffs[30])"
   ]
  },
  {
   "cell_type": "markdown",
   "id": "561a8038",
   "metadata": {},
   "source": [
    "# Correlation 0.2 Beta 1"
   ]
  },
  {
   "cell_type": "code",
   "execution_count": 6,
   "id": "b36b0116",
   "metadata": {},
   "outputs": [
    {
     "name": "stdout",
     "output_type": "stream",
     "text": [
      "Experiment class: cpu\n",
      "Model class: cpu\n",
      "Loaded 737280 images\n"
     ]
    },
    {
     "name": "stderr",
     "output_type": "stream",
     "text": [
      "  0%|▏                                                                                                                                                                                                   | 10/10368 [00:00<16:03, 10.75it/s]\n"
     ]
    }
   ],
   "source": [
    "current_device = torch.device(\"cuda:3\")\n",
    "batch_size = 64\n",
    "seed = 123\n",
    "beta = 1.0\n",
    "z_dim = 10\n",
    "\n",
    "checkpoint_path=\"../train-logs/jscmodel_bvae_w1corr02_dsprites/epoch=25-step=299520.ckpt\"\n",
    "\n",
    "acts_for_dsprites_full, dsprites_full_dataset, model_dsprites_full  = load_model_and_data_and_get_activations(\n",
    "                    dset_name='dsprites_full', dset_path='../datasets', \n",
    "                    batch_size=batch_size, z_dim=z_dim , beta=beta, \n",
    "                    checkpoint_path=checkpoint_path, current_device=current_device, \n",
    "                    activation_with_label=False, seed=123,  batches=10, l_zero_reg=False\n",
    "    )\n",
    "\n",
    "dsprites_full_loader = DataLoader(dsprites_full_dataset, batch_size=batch_size, shuffle = False,drop_last=True)\n",
    "img, labels = next(dsprites_full_loader.__iter__())\n",
    "\n"
   ]
  },
  {
   "cell_type": "code",
   "execution_count": 7,
   "id": "6555524f",
   "metadata": {},
   "outputs": [],
   "source": [
    "diffs = check_correlated_dimensions(img.to(current_device), model_dsprites_full, current_device)"
   ]
  },
  {
   "cell_type": "code",
   "execution_count": 10,
   "id": "1e123aa0",
   "metadata": {},
   "outputs": [
    {
     "data": {
      "image/png": "[encoded data removed]",
      "text/plain": [
       "<Figure size 432x288 with 10 Axes>"
      ]
     },
     "metadata": {},
     "output_type": "display_data"
    }
   ],
   "source": [
    "visualize_change(diffs[0])"
   ]
  },
  {
   "cell_type": "code",
   "execution_count": 11,
   "id": "1b76d80f",
   "metadata": {},
   "outputs": [],
   "source": [
    "#plt.imshow(diffs[0][0].cpu().numpy().T, cmap='Reds')"
   ]
  },
  {
   "cell_type": "code",
   "execution_count": 77,
   "id": "25ea8884",
   "metadata": {},
   "outputs": [
    {
     "data": {
      "image/png": "[encoded data removed]",
      "text/plain": [
       "<Figure size 432x288 with 10 Axes>"
      ]
     },
     "metadata": {},
     "output_type": "display_data"
    }
   ],
   "source": [
    "visualize_change(diffs[1])"
   ]
  },
  {
   "cell_type": "code",
   "execution_count": 12,
   "id": "89ad801b",
   "metadata": {},
   "outputs": [],
   "source": [
    "#plt.imshow(diffs[1][0].cpu().numpy().T, cmap='Reds')"
   ]
  },
  {
   "cell_type": "code",
   "execution_count": 79,
   "id": "f599f99b",
   "metadata": {},
   "outputs": [
    {
     "data": {
      "image/png": "[encoded data removed]",
      "text/plain": [
       "<Figure size 432x288 with 10 Axes>"
      ]
     },
     "metadata": {},
     "output_type": "display_data"
    }
   ],
   "source": [
    "visualize_change(diffs[2])"
   ]
  },
  {
   "cell_type": "code",
   "execution_count": 80,
   "id": "363a8f4c",
   "metadata": {},
   "outputs": [
    {
     "data": {
      "text/plain": [
       "<matplotlib.image.AxesImage at 0x7f4cf43a9f40>"
      ]
     },
     "execution_count": 80,
     "metadata": {},
     "output_type": "execute_result"
    },
    {
     "data": {
      "image/png": "[encoded data removed]",
      "text/plain": [
       "<Figure size 432x288 with 1 Axes>"
      ]
     },
     "metadata": {
      "needs_background": "light"
     },
     "output_type": "display_data"
    }
   ],
   "source": [
    "plt.imshow(diffs[2][0].cpu().numpy().T, cmap='Reds')"
   ]
  },
  {
   "cell_type": "code",
   "execution_count": 81,
   "id": "e91c90fa",
   "metadata": {},
   "outputs": [
    {
     "data": {
      "text/plain": [
       "<matplotlib.image.AxesImage at 0x7f4cfc12ec70>"
      ]
     },
     "execution_count": 81,
     "metadata": {},
     "output_type": "execute_result"
    },
    {
     "data": {
      "image/png": "[encoded data removed]",
      "text/plain": [
       "<Figure size 432x288 with 1 Axes>"
      ]
     },
     "metadata": {
      "needs_background": "light"
     },
     "output_type": "display_data"
    }
   ],
   "source": [
    "plt.imshow(diffs[2][2].cpu().numpy().T, cmap='Reds')"
   ]
  },
  {
   "cell_type": "markdown",
   "id": "0e6cc9a2",
   "metadata": {},
   "source": [
    "# 50 epochs dsprites 0.2 corr beta=1"
   ]
  },
  {
   "cell_type": "code",
   "execution_count": 4,
   "id": "736580c0",
   "metadata": {},
   "outputs": [
    {
     "name": "stderr",
     "output_type": "stream",
     "text": [
      "WARNING:root:Argument blacklist is deprecated. Please use denylist.\n",
      "WARNING:root:Argument blacklist is deprecated. Please use denylist.\n"
     ]
    },
    {
     "name": "stdout",
     "output_type": "stream",
     "text": [
      "Experiment class: cpu\n",
      "Model class: cpu\n",
      "Initialize [CorrelatedDSpritesDataset] with 737280 examples. Shape (737280, 64, 64).\n"
     ]
    }
   ],
   "source": [
    "current_device = torch.device(\"cuda:0\")\n",
    "dataset='dsprites_correlated'\n",
    "checkpoint_path=\"../models/epoch=49-step=576000.ckpt\"\n",
    "os.environ['DISENTANGLEMENT_LIB_DATA'] = '../datasets'\n",
    "\n",
    "model, activations, data_loader  = model_and_activations(current_device,  dataset, checkpoint_path, l_dim=5, num_batches=150,\n",
    "                                                        activation_type='for_scatter')"
   ]
  },
  {
   "cell_type": "code",
   "execution_count": 74,
   "id": "e09243bf",
   "metadata": {},
   "outputs": [],
   "source": [
    "mus, labels = activations"
   ]
  },
  {
   "cell_type": "code",
   "execution_count": 75,
   "id": "e3ab7119",
   "metadata": {},
   "outputs": [
    {
     "data": {
      "text/plain": [
       "(9600, 9600, bvae_experiment.BVAEExperiment)"
      ]
     },
     "execution_count": 75,
     "metadata": {},
     "output_type": "execute_result"
    }
   ],
   "source": [
    "len(mus), len(labels), type(model)"
   ]
  },
  {
   "cell_type": "code",
   "execution_count": 8,
   "id": "9b90ca69",
   "metadata": {},
   "outputs": [],
   "source": [
    "from sklearn.ensemble import GradientBoostingClassifier\n",
    "\n",
    "mus, labels = activations\n",
    "gbt_models = {}\n",
    "feature_imps = []\n",
    "train_acc = []\n",
    "test_acc = []\n",
    "factors = [\"shape\", \"scale\", \"orientation\", \"position x\", \"position y\"]\n",
    "N = len(mus)\n",
    "T = N - 1000 # 100 points for test\n",
    "\n",
    "for current_factor in range(len(factors)):\n",
    "    \n",
    "    X_train, X_test = mus[:T, :], mus[T:, :] \n",
    "    y_train, y_test = labels[:T, current_factor], labels[T:, current_factor]\n",
    "\n",
    "    gbt_models[factors[current_factor]] = GradientBoostingClassifier().fit(X_train, y_train)\n",
    "\n",
    "    feature_imps.append(gbt_models[factors[current_factor]].feature_importances_.reshape(1, X_train.shape[1]))\n",
    "    \n",
    "    train_acc.append(np.mean(gbt_models[factors[current_factor]].predict(X_train) == y_train))\n",
    "    test_acc.append(np.mean(gbt_models[factors[current_factor]].predict(X_test) == y_test))"
   ]
  },
  {
   "cell_type": "code",
   "execution_count": 60,
   "id": "081fd1b4",
   "metadata": {},
   "outputs": [
    {
     "data": {
      "text/plain": [
       "([<matplotlib.axis.XTick at 0x26baaa07130>,\n",
       "  <matplotlib.axis.XTick at 0x26baaa07100>,\n",
       "  <matplotlib.axis.XTick at 0x26baa9fd820>,\n",
       "  <matplotlib.axis.XTick at 0x26baabb5250>,\n",
       "  <matplotlib.axis.XTick at 0x26baabad2b0>,\n",
       "  <matplotlib.axis.XTick at 0x26baabb55b0>,\n",
       "  <matplotlib.axis.XTick at 0x26baabb5ac0>,\n",
       "  <matplotlib.axis.XTick at 0x26baabb5fd0>,\n",
       "  <matplotlib.axis.XTick at 0x26baabce520>,\n",
       "  <matplotlib.axis.XTick at 0x26baabcea30>],\n",
       " [Text(0, 0, '0'),\n",
       "  Text(1, 0, '1'),\n",
       "  Text(2, 0, '2'),\n",
       "  Text(3, 0, '3'),\n",
       "  Text(4, 0, '4'),\n",
       "  Text(5, 0, '5'),\n",
       "  Text(6, 0, '6'),\n",
       "  Text(7, 0, '7'),\n",
       "  Text(8, 0, '8'),\n",
       "  Text(9, 0, '9')])"
      ]
     },
     "execution_count": 60,
     "metadata": {},
     "output_type": "execute_result"
    },
    {
     "data": {
      "image/png": "[encoded data removed]",
      "text/plain": [
       "<Figure size 432x288 with 2 Axes>"
      ]
     },
     "metadata": {
      "needs_background": "light"
     },
     "output_type": "display_data"
    }
   ],
   "source": [
    "feature_imps_cat =np.concatenate(feature_imps, axis=0)\n",
    "plt.imshow(feature_imps_cat, cmap='Reds')\n",
    "plt.colorbar()\n",
    "plt.yticks(ticks=range(len(factors)), labels=factors)\n",
    "plt.xticks(ticks=range(10), labels=range(10))"
   ]
  },
  {
   "cell_type": "code",
   "execution_count": 70,
   "id": "3e5ddb0a",
   "metadata": {},
   "outputs": [
    {
     "data": {
      "text/plain": [
       "array([[0.2283, 0.1901, 0.1224, 0.071 , 0.0359, 0.0237, 0.1487, 0.0502,\n",
       "        0.0987, 0.0312],\n",
       "       [0.0477, 0.0749, 0.2709, 0.0791, 0.0244, 0.0245, 0.193 , 0.0798,\n",
       "        0.1896, 0.016 ],\n",
       "       [0.1353, 0.1512, 0.076 , 0.1853, 0.0507, 0.0697, 0.0997, 0.0767,\n",
       "        0.0815, 0.074 ],\n",
       "       [0.0361, 0.0925, 0.0455, 0.4671, 0.0298, 0.0268, 0.0653, 0.0491,\n",
       "        0.1215, 0.0662],\n",
       "       [0.1166, 0.0753, 0.1255, 0.0467, 0.0367, 0.0642, 0.1511, 0.0585,\n",
       "        0.2528, 0.0726]])"
      ]
     },
     "execution_count": 70,
     "metadata": {},
     "output_type": "execute_result"
    }
   ],
   "source": [
    "feature_imps_cat"
   ]
  },
  {
   "cell_type": "code",
   "execution_count": 58,
   "id": "4f572174",
   "metadata": {},
   "outputs": [
    {
     "data": {
      "image/png": "[encoded data removed]",
      "text/plain": [
       "<Figure size 432x288 with 5 Axes>"
      ]
     },
     "metadata": {},
     "output_type": "display_data"
    }
   ],
   "source": [
    "fig, ax = plt.subplots(5,1)\n",
    "for i in range(5):\n",
    "    ax[i].imshow(feature_imps_cat[i].reshape(1,10), cmap='Reds')\n",
    "    ax[i].set_yticks([])\n",
    "    ax[i].set_yticklabels([])\n",
    "    ax[i].set_xticklabels([])\n",
    "    ax[i].set_xticks([])"
   ]
  },
  {
   "cell_type": "code",
   "execution_count": 43,
   "id": "0046f3b4",
   "metadata": {},
   "outputs": [
    {
     "data": {
      "text/plain": [
       "<matplotlib.image.AxesImage at 0x26baa7cc1c0>"
      ]
     },
     "execution_count": 43,
     "metadata": {},
     "output_type": "execute_result"
    },
    {
     "data": {
      "image/png": "[encoded data removed]",
      "text/plain": [
       "<Figure size 432x288 with 1 Axes>"
      ]
     },
     "metadata": {
      "needs_background": "light"
     },
     "output_type": "display_data"
    }
   ],
   "source": [
    "plt.imshow(feature_imps_cat[1].reshape(1,10), cmap='Reds')"
   ]
  },
  {
   "cell_type": "code",
   "execution_count": 10,
   "id": "91978114",
   "metadata": {},
   "outputs": [
    {
     "data": {
      "text/plain": [
       "([0.8140697674418604,\n",
       "  0.6846511627906977,\n",
       "  0.8198837209302325,\n",
       "  0.8526744186046512,\n",
       "  0.8348837209302326],\n",
       " [0.754, 0.516, 0.268, 0.404, 0.31])"
      ]
     },
     "execution_count": 10,
     "metadata": {},
     "output_type": "execute_result"
    }
   ],
   "source": [
    "train_acc, test_acc"
   ]
  },
  {
   "cell_type": "code",
   "execution_count": 76,
   "id": "3cbb0fd4",
   "metadata": {},
   "outputs": [
    {
     "data": {
      "text/plain": [
       "<sklearn.metrics._plot.confusion_matrix.ConfusionMatrixDisplay at 0x26ba90587f0>"
      ]
     },
     "execution_count": 76,
     "metadata": {},
     "output_type": "execute_result"
    },
    {
     "data": {
      "image/png": "[encoded data removed]",
      "text/plain": [
       "<Figure size 720x720 with 2 Axes>"
      ]
     },
     "metadata": {
      "needs_background": "light"
     },
     "output_type": "display_data"
    }
   ],
   "source": [
    "from sklearn.metrics import plot_confusion_matrix\n",
    "\n",
    "fig, ax = plt.subplots(figsize=(10,10))\n",
    "plot_confusion_matrix(gbt_models['position x'], mus[T:, :], labels[T:, 3], ax=ax, include_values=False)"
   ]
  },
  {
   "cell_type": "code",
   "execution_count": 77,
   "id": "5fa4d2b6",
   "metadata": {},
   "outputs": [
    {
     "data": {
      "text/plain": [
       "<sklearn.metrics._plot.confusion_matrix.ConfusionMatrixDisplay at 0x26baba130a0>"
      ]
     },
     "execution_count": 77,
     "metadata": {},
     "output_type": "execute_result"
    },
    {
     "data": {
      "image/png": "[encoded data removed]",
      "text/plain": [
       "<Figure size 720x720 with 2 Axes>"
      ]
     },
     "metadata": {
      "needs_background": "light"
     },
     "output_type": "display_data"
    }
   ],
   "source": [
    "fig, ax = plt.subplots(figsize=(10,10))\n",
    "plot_confusion_matrix(gbt_models['orientation'], mus[T:, :], labels[T:, 2], ax=ax, include_values=False)"
   ]
  },
  {
   "cell_type": "code",
   "execution_count": 14,
   "id": "068527e9",
   "metadata": {},
   "outputs": [
    {
     "data": {
      "text/plain": [
       "<sklearn.metrics._plot.confusion_matrix.ConfusionMatrixDisplay at 0x26b135cb250>"
      ]
     },
     "execution_count": 14,
     "metadata": {},
     "output_type": "execute_result"
    },
    {
     "data": {
      "image/png": "[encoded data removed]",
      "text/plain": [
       "<Figure size 432x288 with 2 Axes>"
      ]
     },
     "metadata": {
      "needs_background": "light"
     },
     "output_type": "display_data"
    }
   ],
   "source": [
    "plot_confusion_matrix(gbt_models['shape'], mus[T:, :], labels[T:, 0])"
   ]
  },
  {
   "cell_type": "code",
   "execution_count": 9,
   "id": "87088059",
   "metadata": {},
   "outputs": [],
   "source": [
    "def pairwise_dimension_sactter_plot(mus, labels, xdim, ydim, ldim):\n",
    "    label_names = [\"shape\", \"scale\", \"orientation\", \"position x\", \"position y\"]\n",
    "    sc = plt.scatter(mus[:, xdim], mus[:, ydim], cmap='YlGn', c=labels[:,ldim], s=5) #, norm=CenteredNorm(), s=3)\n",
    "    plt.colorbar(sc)\n",
    "    plt.xlabel(f\"z_{xdim}\")\n",
    "    plt.ylabel(f\"z_{ydim}\")\n",
    "    plt.title(f'Pairwise wrt {label_names[ldim]}')"
   ]
  },
  {
   "cell_type": "code",
   "execution_count": 24,
   "id": "7b52e5e1",
   "metadata": {},
   "outputs": [],
   "source": [
    "#pairwise_dimension_sactter_plot(mus, labels, 1, 3, 2)\n"
   ]
  },
  {
   "cell_type": "code",
   "execution_count": 25,
   "id": "b2509d9a",
   "metadata": {},
   "outputs": [],
   "source": [
    "#pairwise_dimension_sactter_plot(mus, labels, 1, 3, 3)"
   ]
  },
  {
   "cell_type": "code",
   "execution_count": null,
   "id": "7b128afd",
   "metadata": {},
   "outputs": [],
   "source": [
    "img, labels = next(data_loader.__iter__())"
   ]
  },
  {
   "cell_type": "code",
   "execution_count": 63,
   "id": "67dba2fa",
   "metadata": {},
   "outputs": [
    {
     "data": {
      "image/png": "[encoded data removed]",
      "text/plain": [
       "<Figure size 432x288 with 10 Axes>"
      ]
     },
     "metadata": {},
     "output_type": "display_data"
    }
   ],
   "source": [
    "diffs = check_correlated_dimensions(img.to(current_device), model, current_device, perturb_value=0.75, perturb_mode='fixed')\n",
    "visualize_perturbed_dims(diffs[0])"
   ]
  },
  {
   "cell_type": "code",
   "execution_count": 64,
   "id": "121c865f",
   "metadata": {},
   "outputs": [
    {
     "data": {
      "text/plain": [
       "<matplotlib.image.AxesImage at 0x26ba90539d0>"
      ]
     },
     "execution_count": 64,
     "metadata": {},
     "output_type": "execute_result"
    },
    {
     "data": {
      "image/png": "[encoded data removed]",
      "text/plain": [
       "<Figure size 432x288 with 1 Axes>"
      ]
     },
     "metadata": {
      "needs_background": "light"
     },
     "output_type": "display_data"
    }
   ],
   "source": [
    "plt.imshow(diffs[0][0].cpu().numpy().T, cmap='Reds')"
   ]
  },
  {
   "cell_type": "code",
   "execution_count": 65,
   "id": "d3ece808",
   "metadata": {},
   "outputs": [
    {
     "data": {
      "text/plain": [
       "tensor([[4.5182e-04, 1.1423e-03, 1.3873e-03, 1.8727e-03, 2.4626e-06, 2.1884e-06,\n",
       "         7.5777e-02, 3.5864e-06, 1.5851e-03, 2.5356e-07],\n",
       "        [6.3421e-03, 6.1926e-04, 4.0235e-05, 9.8195e-04, 2.4181e-06, 6.8726e-07,\n",
       "         1.4879e-02, 9.8540e-08, 2.1720e-06, 7.3373e-06],\n",
       "        [9.0307e-03, 1.2664e-03, 2.9169e-04, 2.7575e-07, 4.2188e-06, 1.9430e-07,\n",
       "         5.0438e-02, 4.4566e-06, 6.0606e-03, 5.5956e-07],\n",
       "        [7.6600e-03, 2.7948e-03, 1.7236e-03, 6.1130e-05, 7.9607e-06, 1.3011e-05,\n",
       "         1.6785e-02, 2.1462e-07, 2.7537e-04, 3.9356e-05],\n",
       "        [3.3475e-04, 2.5731e-02, 1.1652e-03, 1.0016e-03, 5.6172e-01, 1.3058e-07,\n",
       "         5.9498e-02, 1.1397e-06, 7.0406e-04, 1.9384e-06],\n",
       "        [4.4050e-04, 2.7468e-02, 1.1229e-03, 1.0538e-03, 2.6916e-07, 5.6299e-01,\n",
       "         5.9733e-02, 1.1236e-06, 6.4573e-04, 1.9296e-06],\n",
       "        [3.0786e-02, 2.6671e-02, 4.2208e-03, 5.6959e-05, 2.2823e-06, 1.1681e-05,\n",
       "         4.5398e-02, 3.0931e-07, 5.0254e-03, 7.2840e-07],\n",
       "        [3.1220e-04, 2.5008e-02, 1.0097e-03, 1.0169e-03, 2.6597e-07, 1.2523e-07,\n",
       "         6.0948e-02, 5.6088e-01, 7.3371e-04, 1.9261e-06],\n",
       "        [2.2894e-02, 6.2370e-02, 1.8913e-03, 1.6399e-03, 5.4996e-09, 1.1222e-07,\n",
       "         2.3174e-02, 3.9873e-07, 1.1605e-02, 4.8440e-06],\n",
       "        [5.0319e-04, 2.3764e-02, 1.0876e-03, 9.3174e-04, 2.4975e-07, 1.1671e-07,\n",
       "         6.0305e-02, 1.1891e-06, 6.7958e-04, 5.6457e-01]], device='cuda:0')"
      ]
     },
     "execution_count": 65,
     "metadata": {},
     "output_type": "execute_result"
    }
   ],
   "source": [
    "diffs[0][0]"
   ]
  },
  {
   "cell_type": "code",
   "execution_count": 66,
   "id": "4b888fa2",
   "metadata": {},
   "outputs": [
    {
     "data": {
      "image/png": "[encoded data removed]",
      "text/plain": [
       "<Figure size 432x288 with 10 Axes>"
      ]
     },
     "metadata": {},
     "output_type": "display_data"
    }
   ],
   "source": [
    "visualize_perturbed_dims(diffs[1])"
   ]
  },
  {
   "cell_type": "code",
   "execution_count": 67,
   "id": "9c7e9f5d",
   "metadata": {},
   "outputs": [
    {
     "data": {
      "text/plain": [
       "<matplotlib.image.AxesImage at 0x26b9ff73b80>"
      ]
     },
     "execution_count": 67,
     "metadata": {},
     "output_type": "execute_result"
    },
    {
     "data": {
      "image/png": "[encoded data removed]",
      "text/plain": [
       "<Figure size 432x288 with 1 Axes>"
      ]
     },
     "metadata": {
      "needs_background": "light"
     },
     "output_type": "display_data"
    }
   ],
   "source": [
    "plt.imshow(diffs[1][0].cpu().numpy().T, cmap='Reds')"
   ]
  },
  {
   "cell_type": "code",
   "execution_count": 68,
   "id": "d64b5d82",
   "metadata": {},
   "outputs": [
    {
     "data": {
      "image/png": "[encoded data removed]",
      "text/plain": [
       "<Figure size 432x288 with 10 Axes>"
      ]
     },
     "metadata": {},
     "output_type": "display_data"
    }
   ],
   "source": [
    "visualize_perturbed_dims(diffs[10])"
   ]
  },
  {
   "cell_type": "code",
   "execution_count": 69,
   "id": "04feb176",
   "metadata": {},
   "outputs": [
    {
     "data": {
      "text/plain": [
       "<matplotlib.image.AxesImage at 0x26bab531a90>"
      ]
     },
     "execution_count": 69,
     "metadata": {},
     "output_type": "execute_result"
    },
    {
     "data": {
      "image/png": "[encoded data removed]",
      "text/plain": [
       "<Figure size 432x288 with 1 Axes>"
      ]
     },
     "metadata": {
      "needs_background": "light"
     },
     "output_type": "display_data"
    }
   ],
   "source": [
    "plt.imshow(diffs[10][0].cpu().numpy().T, cmap='Reds')"
   ]
  },
  {
   "cell_type": "code",
   "execution_count": null,
   "id": "dee76174",
   "metadata": {},
   "outputs": [],
   "source": []
  }
 ],
 "metadata": {
  "kernelspec": {
   "display_name": "Python 3 (ipykernel)",
   "language": "python",
   "name": "python3"
  },
  "language_info": {
   "codemirror_mode": {
    "name": "ipython",
    "version": 3
   },
   "file_extension": ".py",
   "mimetype": "text/x-python",
   "name": "python",
   "nbconvert_exporter": "python",
   "pygments_lexer": "ipython3",
   "version": "3.8.5"
  }
 },
 "nbformat": 4,
 "nbformat_minor": 5
}
