{
 "cells": [
  {
   "cell_type": "code",
   "execution_count": 1,
   "id": "7a4afd9d",
   "metadata": {},
   "outputs": [
    {
     "name": "stdout",
     "output_type": "stream",
     "text": [
      "/home/c01muya/vae-disentanglement/disentanglement_lib_pl\n"
     ]
    }
   ],
   "source": [
    "cd /home/c01muya/vae-disentanglement/disentanglement_lib_pl"
   ]
  },
  {
   "cell_type": "code",
   "execution_count": 2,
   "id": "9d10f830",
   "metadata": {},
   "outputs": [],
   "source": [
    "import numpy as np\n",
    "import matplotlib.pyplot as plt\n",
    "from matplotlib.offsetbox import OffsetImage, AnnotationBbox\n",
    "import seaborn as sns\n",
    "\n",
    "import torch\n",
    "import torchvision.utils as vutils\n",
    "import torchvision.transforms.functional as T\n",
    "from torch.utils.data import DataLoader\n",
    "from torchvision import transforms\n",
    "\n",
    "from bvae_experiment import BVAEExperiment\n",
    "from common.data_loader import DSpritesDataset, ThreeShapesDataset, ContinumDataset\n",
    "from notebook_utils import *\n",
    "\n",
    "# Change figure aesthetics\n",
    "%matplotlib inline\n",
    "sns.set_context('talk', font_scale=1.2, rc={'lines.linewidth': 1.5})\n",
    "np.set_printoptions(suppress=True,precision=4)"
   ]
  },
  {
   "cell_type": "code",
   "execution_count": 73,
   "id": "78ab0b67",
   "metadata": {},
   "outputs": [],
   "source": [
    "def check_correlated_dimensions(image_batch, vae_model, current_device):\n",
    "    \n",
    "    with torch.no_grad():\n",
    "        \n",
    "        sq_diff_batch = []\n",
    "        fwd_pass_results = vae_model.model.forward(image_batch, current_device=current_device)\n",
    "        x_recon_orig, mu_orig = fwd_pass_results['x_recon'], fwd_pass_results['mu'] \n",
    "\n",
    "        # for each example X, perturb unit l=1 to L \n",
    "        for mu in mu_orig:\n",
    "            # (dim(mu), mu)\n",
    "            mus_perturbed = _generate_perturbed_copies(mu)\n",
    "            \n",
    "            # generate and image from these perturbed means\n",
    "            # (dim(mu), X.shape)\n",
    "            x_recons_perturbed = vae_model.model.decode(mus_perturbed, current_device=current_device)\n",
    "            # pass images again and compare with mu_perturbed\n",
    "            # (dim(mu), mu)\n",
    "            mus_perturbed_recon, _ = vae_model.model.encode(x_recons_perturbed, current_device=current_device)\n",
    "\n",
    "            sq_diff = (mus_perturbed_recon - mus_perturbed).pow(2)\n",
    "            sq_diff_batch.append((sq_diff, mus_perturbed_recon, mus_perturbed, x_recons_perturbed))\n",
    "    \n",
    "    return sq_diff_batch\n",
    "\n",
    "def _generate_perturbed_copies(vector, dims_to_perturb=None, limit=3, inter=2/3, mode = 'relative'):\n",
    "    \"\"\"\n",
    "    Assumes that vector is of shape (vector_dim, )\n",
    "    Returns (vector_dim, vector_dim) shaped vector where in (i, vector_dim) \n",
    "    \"\"\"\n",
    "\n",
    "    perturbed_copies = []\n",
    "\n",
    "    for d in range(vector.shape[0]):\n",
    "        if dims_to_perturb is not None and d not in dims_to_perturb:\n",
    "                continue\n",
    "        \n",
    "        vector_d = vector.clone()\n",
    "        \n",
    "        if mode == 'relative':\n",
    "            lim = vector_d[d] / 2\n",
    "            min_val, max_val = vector_d[d] - lim, vector_d[d] + lim + 0.1\n",
    "        \n",
    "        vector_d[d] = vector_d[d] + 1.0 # 0.5 # * vector_d[d] # max_val\n",
    "\n",
    "        perturbed_copies.append(vector_d)\n",
    "\n",
    "    return torch.stack(perturbed_copies, dim=0)\n",
    "\n",
    "def visualize_change(diff_entry):\n",
    "    diff_np = diff_entry[0].cpu().numpy()\n",
    "    fig, axs = plt.subplots(1,diff_np.shape[0])\n",
    "    for r in range(diff_np.shape[0]):\n",
    "        axs[r].imshow(np.expand_dims(diff_np[r,:], axis=1), cmap='Reds')\n",
    "        axs[r].set_yticklabels([])\n",
    "        axs[r].set_yticks([])\n",
    "        axs[r].set_xticks([])\n",
    "        axs[r].set_xticklabels([])\n",
    "        \n"
   ]
  },
  {
   "cell_type": "markdown",
   "id": "3efcbfd6",
   "metadata": {},
   "source": [
    "# Correlation 0.2 Beta 2"
   ]
  },
  {
   "cell_type": "code",
   "execution_count": 3,
   "id": "433ece61",
   "metadata": {
    "scrolled": true
   },
   "outputs": [
    {
     "name": "stdout",
     "output_type": "stream",
     "text": [
      "Experiment class: cpu\n",
      "Model class: cpu\n",
      "Loaded 737280 images\n"
     ]
    },
    {
     "name": "stderr",
     "output_type": "stream",
     "text": [
      "  0%|▏                                                                                                                                                                                                   | 10/10368 [00:01<24:24,  7.07it/s]\n"
     ]
    }
   ],
   "source": [
    "current_device = torch.device(\"cuda:3\")\n",
    "batch_size = 64\n",
    "seed = 123\n",
    "beta = 1.0\n",
    "z_dim = 10\n",
    "\n",
    "checkpoint_path=\"../train-logs/jscmodel/epoch=25-step=299520.ckpt\"\n",
    "\n",
    "acts_for_dsprites_full, dsprites_full_dataset, model_dsprites_full  = load_model_and_data_and_get_activations(\n",
    "                    dset_name='dsprites_full', dset_path='../datasets', \n",
    "                    batch_size=batch_size, z_dim=z_dim , beta=beta, \n",
    "                    checkpoint_path=checkpoint_path, current_device=current_device, \n",
    "                    activation_with_label=False, seed=123,  batches=10, l_zero_reg=False\n",
    "    )\n",
    "\n"
   ]
  },
  {
   "cell_type": "code",
   "execution_count": 4,
   "id": "dbe99c80",
   "metadata": {},
   "outputs": [],
   "source": [
    "dsprites_full_loader = DataLoader(dsprites_full_dataset, batch_size=batch_size, shuffle = False,drop_last=True)\n",
    "img, labels = next(dsprites_full_loader.__iter__())\n"
   ]
  },
  {
   "cell_type": "code",
   "execution_count": 54,
   "id": "f65de268",
   "metadata": {},
   "outputs": [],
   "source": [
    "diffs = check_correlated_dimensions(img.to(current_device), model_dsprites_full, current_device)\n"
   ]
  },
  {
   "cell_type": "code",
   "execution_count": 48,
   "id": "b30f6966",
   "metadata": {},
   "outputs": [
    {
     "data": {
      "image/png": "[encoded data removed]",
      "text/plain": [
       "<Figure size 432x288 with 10 Axes>"
      ]
     },
     "metadata": {},
     "output_type": "display_data"
    }
   ],
   "source": [
    "visualize_change(diffs[0])"
   ]
  },
  {
   "cell_type": "code",
   "execution_count": 49,
   "id": "4dae80aa",
   "metadata": {},
   "outputs": [
    {
     "data": {
      "image/png": "[encoded data removed]",
      "text/plain": [
       "<Figure size 432x288 with 10 Axes>"
      ]
     },
     "metadata": {},
     "output_type": "display_data"
    }
   ],
   "source": [
    "visualize_change(diffs[1])"
   ]
  },
  {
   "cell_type": "code",
   "execution_count": 51,
   "id": "dd7e912b",
   "metadata": {},
   "outputs": [
    {
     "data": {
      "image/png": "[encoded data removed]",
      "text/plain": [
       "<Figure size 432x288 with 10 Axes>"
      ]
     },
     "metadata": {},
     "output_type": "display_data"
    }
   ],
   "source": [
    "visualize_change(diffs[3])"
   ]
  },
  {
   "cell_type": "code",
   "execution_count": 69,
   "id": "ee3ad3ec",
   "metadata": {},
   "outputs": [
    {
     "data": {
      "text/plain": [
       "<matplotlib.image.AxesImage at 0x7f3101297190>"
      ]
     },
     "execution_count": 69,
     "metadata": {},
     "output_type": "execute_result"
    },
    {
     "data": {
      "image/png": "[encoded data removed]",
      "text/plain": [
       "<Figure size 432x288 with 1 Axes>"
      ]
     },
     "metadata": {
      "needs_background": "light"
     },
     "output_type": "display_data"
    }
   ],
   "source": [
    "import torchvision.utils as vutils\n",
    "\n",
    "recons_side_by_side = torch.cat(diffs[0][3].chunk(10, dim=0), dim = 3)\n",
    "img_input_vs_recon = vutils.make_grid(recons_side_by_side, normalize=True, value_range=(0.0,1.0)).permute(1,2,0).cpu()\n",
    "\n",
    "fig, axs = plt.subplots()\n",
    "axs.imshow(img_input_vs_recon)"
   ]
  },
  {
   "cell_type": "code",
   "execution_count": 70,
   "id": "11d623a5",
   "metadata": {},
   "outputs": [
    {
     "data": {
      "image/png": "[encoded data removed]",
      "text/plain": [
       "<Figure size 432x288 with 10 Axes>"
      ]
     },
     "metadata": {},
     "output_type": "display_data"
    }
   ],
   "source": [
    "visualize_change(diffs[30])"
   ]
  },
  {
   "cell_type": "markdown",
   "id": "561a8038",
   "metadata": {},
   "source": [
    "# Correlation 0.2 Beta 1"
   ]
  },
  {
   "cell_type": "code",
   "execution_count": 34,
   "id": "b36b0116",
   "metadata": {},
   "outputs": [
    {
     "name": "stdout",
     "output_type": "stream",
     "text": [
      "Experiment class: cpu\n",
      "Model class: cpu\n",
      "Loaded 737280 images\n"
     ]
    },
    {
     "name": "stderr",
     "output_type": "stream",
     "text": [
      "  0%|▏                                                                                                                                                                                                  | 10/10368 [00:00<01:01, 169.38it/s]\n"
     ]
    }
   ],
   "source": [
    "current_device = torch.device(\"cuda:3\")\n",
    "batch_size = 64\n",
    "seed = 123\n",
    "beta = 1.0\n",
    "z_dim = 10\n",
    "\n",
    "checkpoint_path=\"../train-logs/jscmodel_bvae_w1corr02_dsprites/epoch=25-step=299520.ckpt\"\n",
    "\n",
    "acts_for_dsprites_full, dsprites_full_dataset, model_dsprites_full  = load_model_and_data_and_get_activations(\n",
    "                    dset_name='dsprites_full', dset_path='../datasets', \n",
    "                    batch_size=batch_size, z_dim=z_dim , beta=beta, \n",
    "                    checkpoint_path=checkpoint_path, current_device=current_device, \n",
    "                    activation_with_label=False, seed=123,  batches=10, l_zero_reg=False\n",
    "    )\n",
    "\n",
    "dsprites_full_loader = DataLoader(dsprites_full_dataset, batch_size=batch_size, shuffle = False,drop_last=True)\n",
    "img, labels = next(dsprites_full_loader.__iter__())\n",
    "\n"
   ]
  },
  {
   "cell_type": "code",
   "execution_count": 74,
   "id": "6555524f",
   "metadata": {},
   "outputs": [],
   "source": [
    "diffs = check_correlated_dimensions(img.to(current_device), model_dsprites_full, current_device)"
   ]
  },
  {
   "cell_type": "code",
   "execution_count": 75,
   "id": "1e123aa0",
   "metadata": {},
   "outputs": [
    {
     "data": {
      "image/png": "[encoded data removed]",
      "text/plain": [
       "<Figure size 432x288 with 10 Axes>"
      ]
     },
     "metadata": {},
     "output_type": "display_data"
    }
   ],
   "source": [
    "visualize_change(diffs[0])"
   ]
  },
  {
   "cell_type": "code",
   "execution_count": 76,
   "id": "1b76d80f",
   "metadata": {},
   "outputs": [
    {
     "data": {
      "text/plain": [
       "<matplotlib.image.AxesImage at 0x7f4cf47261f0>"
      ]
     },
     "execution_count": 76,
     "metadata": {},
     "output_type": "execute_result"
    },
    {
     "data": {
      "image/png": "[encoded data removed]",
      "text/plain": [
       "<Figure size 432x288 with 1 Axes>"
      ]
     },
     "metadata": {
      "needs_background": "light"
     },
     "output_type": "display_data"
    }
   ],
   "source": [
    "plt.imshow(diffs[0][0].cpu().numpy().T, cmap='Reds')"
   ]
  },
  {
   "cell_type": "code",
   "execution_count": 77,
   "id": "25ea8884",
   "metadata": {},
   "outputs": [
    {
     "data": {
      "image/png": "[encoded data removed]",
      "text/plain": [
       "<Figure size 432x288 with 10 Axes>"
      ]
     },
     "metadata": {},
     "output_type": "display_data"
    }
   ],
   "source": [
    "visualize_change(diffs[1])"
   ]
  },
  {
   "cell_type": "code",
   "execution_count": 78,
   "id": "89ad801b",
   "metadata": {},
   "outputs": [
    {
     "data": {
      "text/plain": [
       "<matplotlib.image.AxesImage at 0x7f4cc57baa60>"
      ]
     },
     "execution_count": 78,
     "metadata": {},
     "output_type": "execute_result"
    },
    {
     "data": {
      "image/png": "[encoded data removed]",
      "text/plain": [
       "<Figure size 432x288 with 1 Axes>"
      ]
     },
     "metadata": {
      "needs_background": "light"
     },
     "output_type": "display_data"
    }
   ],
   "source": [
    "plt.imshow(diffs[1][0].cpu().numpy().T, cmap='Reds')"
   ]
  },
  {
   "cell_type": "code",
   "execution_count": 79,
   "id": "f599f99b",
   "metadata": {},
   "outputs": [
    {
     "data": {
      "image/png": "[encoded data removed]",
      "text/plain": [
       "<Figure size 432x288 with 10 Axes>"
      ]
     },
     "metadata": {},
     "output_type": "display_data"
    }
   ],
   "source": [
    "visualize_change(diffs[2])"
   ]
  },
  {
   "cell_type": "code",
   "execution_count": 80,
   "id": "363a8f4c",
   "metadata": {},
   "outputs": [
    {
     "data": {
      "text/plain": [
       "<matplotlib.image.AxesImage at 0x7f4cf43a9f40>"
      ]
     },
     "execution_count": 80,
     "metadata": {},
     "output_type": "execute_result"
    },
    {
     "data": {
      "image/png": "[encoded data removed]",
      "text/plain": [
       "<Figure size 432x288 with 1 Axes>"
      ]
     },
     "metadata": {
      "needs_background": "light"
     },
     "output_type": "display_data"
    }
   ],
   "source": [
    "plt.imshow(diffs[2][0].cpu().numpy().T, cmap='Reds')"
   ]
  },
  {
   "cell_type": "code",
   "execution_count": 81,
   "id": "e91c90fa",
   "metadata": {},
   "outputs": [
    {
     "data": {
      "text/plain": [
       "<matplotlib.image.AxesImage at 0x7f4cfc12ec70>"
      ]
     },
     "execution_count": 81,
     "metadata": {},
     "output_type": "execute_result"
    },
    {
     "data": {
      "image/png": "[encoded data removed]",
      "text/plain": [
       "<Figure size 432x288 with 1 Axes>"
      ]
     },
     "metadata": {
      "needs_background": "light"
     },
     "output_type": "display_data"
    }
   ],
   "source": [
    "plt.imshow(diffs[2][2].cpu().numpy().T, cmap='Reds')"
   ]
  },
  {
   "cell_type": "code",
   "execution_count": null,
   "id": "03d42dfa",
   "metadata": {},
   "outputs": [],
   "source": []
  }
 ],
 "metadata": {
  "kernelspec": {
   "display_name": "Python 3 (ipykernel)",
   "language": "python",
   "name": "python3"
  },
  "language_info": {
   "codemirror_mode": {
    "name": "ipython",
    "version": 3
   },
   "file_extension": ".py",
   "mimetype": "text/x-python",
   "name": "python",
   "nbconvert_exporter": "python",
   "pygments_lexer": "ipython3",
   "version": "3.9.6"
  }
 },
 "nbformat": 4,
 "nbformat_minor": 5
}
