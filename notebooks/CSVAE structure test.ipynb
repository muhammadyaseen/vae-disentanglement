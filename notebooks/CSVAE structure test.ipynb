{
 "cells": [
  {
   "cell_type": "code",
   "execution_count": 1,
   "id": "8807df7c",
   "metadata": {},
   "outputs": [
    {
     "name": "stdout",
     "output_type": "stream",
     "text": [
      "D:\\Saarbrucken\\EDA_Research\\thesis_code\\disentanglement_lib_pl\n"
     ]
    }
   ],
   "source": [
    "cd D:\\Saarbrucken\\EDA_Research\\thesis_code\\disentanglement_lib_pl"
   ]
  },
  {
   "cell_type": "code",
   "execution_count": 2,
   "id": "6c0a7e8b",
   "metadata": {},
   "outputs": [],
   "source": [
    "import torch\n",
    "import numpy as np\n",
    "import pandas as pd\n",
    "import seaborn, time\n",
    "import torch.nn.functional as F\n",
    "\n",
    "from common import dag_utils\n",
    "from common.special_modules import DAGInteractionLayer\n",
    "from collections import namedtuple\n",
    "from models import cs_vae"
   ]
  },
  {
   "cell_type": "code",
   "execution_count": 3,
   "id": "298ba1bf",
   "metadata": {},
   "outputs": [],
   "source": [
    "adj_mat = [(), (27,), (4,), (0,), (13,), (1,), (31,), (4,), (7,), (1,), \n",
    "           (17,), (27,), (27,), (27,), (24,), (17,), (14,), (13,), (12,), \n",
    "           (12,), (11,), (31,), (11,), (17,), (12,), (13,), (31,), (0,), \n",
    "           (13,), (13,), (1,), (13,), (27,)]\n",
    "parents = [3, 27]\n",
    "children = [1, 11, 12, 13, 32]\n",
    "\n",
    "dag_layer = DAGInteractionLayer(\n",
    "    parents_list=parents, \n",
    "    children_list=children, \n",
    "    adjacency_matrix=adj_mat, \n",
    "    interm_unit_dim=2, \n",
    "    bias=True\n",
    ")\n"
   ]
  },
  {
   "cell_type": "code",
   "execution_count": 4,
   "id": "3fb7481b",
   "metadata": {},
   "outputs": [],
   "source": [
    "from collections import namedtuple\n",
    "\n",
    "NetworkArgs = namedtuple(\"NetworkArgs\", [\"encoder\",\"decoder\",\"interm_unit_dim\", \n",
    "                                         \"z_dim\", \"num_channels\", \"image_size\", \n",
    "                                        \"batch_size\", \"root_dim\"])\n",
    "network_args = NetworkArgs(\n",
    "    ['SimpleGaussianConv64'],\n",
    "    ['SimpleConv64'],\n",
    "    2,\n",
    "    10,\n",
    "    3,\n",
    "    64,\n",
    "    128,\n",
    "    10\n",
    ")\n",
    "adjacency_matrix = [(), (27,), (4,), (0,), (13,), (1,), (31,), (4,), (7,), (1,), \n",
    "           (17,), (27,), (27,), (27,), (24,), (17,), (14,), (13,), (12,), \n",
    "           (12,), (11,), (31,), (11,), (17,), (12,), (13,), (31,), (0,), \n",
    "           (13,), (13,), (1,), (13,), (27,)]\n",
    "test_vae = cs_vae.ConceptStructuredVAE(adjacency_matrix, network_args)\n",
    "\n",
    "#print(test_vae)"
   ]
  },
  {
   "cell_type": "code",
   "execution_count": 5,
   "id": "d4197f63",
   "metadata": {},
   "outputs": [],
   "source": [
    "# len(adjacency_matrix), sum([len(dag_layer) for dag_layer in test_vae.dag_layer_nodes]), test_vae.dag_layer_nodes"
   ]
  },
  {
   "cell_type": "code",
   "execution_count": 5,
   "id": "5696f8cb",
   "metadata": {},
   "outputs": [],
   "source": [
    "# pass an image and see if dims are correct\n",
    "test_imgs = torch.rand(2,3,64,64)"
   ]
  },
  {
   "cell_type": "code",
   "execution_count": 6,
   "id": "e176d976",
   "metadata": {},
   "outputs": [
    {
     "data": {
      "text/plain": [
       "42"
      ]
     },
     "execution_count": 6,
     "metadata": {},
     "output_type": "execute_result"
    }
   ],
   "source": [
    "#bu_net_outs = test_vae._bottom_up_pass(test_imgs)\n",
    "#td_net_outs = test_vae._top_down_pass(bu_net_outs)\n",
    "len(test_vae.adjacency_matrix) - 1 + test_vae.root_dim"
   ]
  },
  {
   "cell_type": "code",
   "execution_count": 7,
   "id": "56ff3b1f",
   "metadata": {},
   "outputs": [
    {
     "data": {
      "text/plain": [
       "SimpleConv64(\n",
       "  (main): Sequential(\n",
       "    (0): Unsqueeze3D()\n",
       "    (1): Conv2d(42, 256, kernel_size=(1, 1), stride=(2, 2))\n",
       "    (2): ReLU(inplace=True)\n",
       "    (3): ConvTranspose2d(256, 256, kernel_size=(4, 4), stride=(2, 2), padding=(1, 1))\n",
       "    (4): ReLU(inplace=True)\n",
       "    (5): ConvTranspose2d(256, 128, kernel_size=(4, 4), stride=(2, 2))\n",
       "    (6): ReLU(inplace=True)\n",
       "    (7): ConvTranspose2d(128, 128, kernel_size=(4, 4), stride=(2, 2))\n",
       "    (8): ReLU(inplace=True)\n",
       "    (9): ConvTranspose2d(128, 64, kernel_size=(4, 4), stride=(2, 2))\n",
       "    (10): ReLU(inplace=True)\n",
       "    (11): ConvTranspose2d(64, 64, kernel_size=(4, 4), stride=(2, 2))\n",
       "    (12): ReLU(inplace=True)\n",
       "    (13): ConvTranspose2d(64, 3, kernel_size=(3, 3), stride=(1, 1))\n",
       "  )\n",
       ")"
      ]
     },
     "execution_count": 7,
     "metadata": {},
     "output_type": "execute_result"
    }
   ],
   "source": [
    "#fwd_pass_results = test_vae(test_imgs)\n",
    "\n",
    "test_vae.decoder"
   ]
  },
  {
   "cell_type": "code",
   "execution_count": 8,
   "id": "b8dd39a1",
   "metadata": {},
   "outputs": [
    {
     "name": "stdout",
     "output_type": "stream",
     "text": [
      "torch.Size([2, 42])\n"
     ]
    }
   ],
   "source": [
    "fwd_pass_results = test_vae(test_imgs)"
   ]
  },
  {
   "cell_type": "code",
   "execution_count": 12,
   "id": "fc6b23a1",
   "metadata": {},
   "outputs": [],
   "source": [
    "import pickle\n",
    "\n",
    "pickle.dump(adjacency_matrix, \n",
    "open('D:\\\\Saarbrucken\\\\EDA_Research\\\\thesis_code\\\\adjacency_matrices\\\\celeba.pkl','wb')\n",
    ")"
   ]
  },
  {
   "cell_type": "code",
   "execution_count": 10,
   "id": "0d3d0159",
   "metadata": {},
   "outputs": [
    {
     "data": {
      "text/plain": [
       "'D:\\\\Saarbrucken\\\\EDA_Research\\\\thesis_code\\\\disentanglement_lib_pl'"
      ]
     },
     "execution_count": 10,
     "metadata": {},
     "output_type": "execute_result"
    }
   ],
   "source": [
    "pwd"
   ]
  },
  {
   "cell_type": "code",
   "execution_count": 14,
   "id": "93caa0c3",
   "metadata": {},
   "outputs": [
    {
     "data": {
      "text/plain": [
       "(True, False)"
      ]
     },
     "execution_count": 14,
     "metadata": {},
     "output_type": "execute_result"
    }
   ],
   "source": [
    "p = 'D:\\\\Saarbrucken\\\\EDA_Research\\\\thesis_code\\\\disentanglement_lib_pl'\n",
    "\n",
    "isinstance(p, str), isinstance(p, list)"
   ]
  },
  {
   "cell_type": "code",
   "execution_count": 17,
   "id": "a24109e8",
   "metadata": {},
   "outputs": [
    {
     "data": {
      "text/plain": [
       "[(),\n",
       " (27,),\n",
       " (4,),\n",
       " (0,),\n",
       " (13,),\n",
       " (1,),\n",
       " (31,),\n",
       " (4,),\n",
       " (7,),\n",
       " (1,),\n",
       " (17,),\n",
       " (27,),\n",
       " (27,),\n",
       " (27,),\n",
       " (24,),\n",
       " (17,),\n",
       " (14,),\n",
       " (13,),\n",
       " (12,),\n",
       " (12,),\n",
       " (11,),\n",
       " (31,),\n",
       " (11,),\n",
       " (17,),\n",
       " (12,),\n",
       " (13,),\n",
       " (31,),\n",
       " (0,),\n",
       " (13,),\n",
       " (13,),\n",
       " (1,),\n",
       " (13,),\n",
       " (27,)]"
      ]
     },
     "execution_count": 17,
     "metadata": {},
     "output_type": "execute_result"
    }
   ],
   "source": [
    "pickle.load(\n",
    "    open('D:\\\\Saarbrucken\\\\EDA_Research\\\\thesis_code\\\\adjacency_matrices\\\\celeba.pkl', \n",
    "'rb'))"
   ]
  },
  {
   "cell_type": "code",
   "execution_count": null,
   "id": "d6136690",
   "metadata": {},
   "outputs": [],
   "source": []
  }
 ],
 "metadata": {
  "interpreter": {
   "hash": "0c1e42d09abd9a7c7967c6caf04ac65128c9e19aa5355439d6e17d7b03582b55"
  },
  "kernelspec": {
   "display_name": "Python 3 (ipykernel)",
   "language": "python",
   "name": "python3"
  },
  "language_info": {
   "codemirror_mode": {
    "name": "ipython",
    "version": 3
   },
   "file_extension": ".py",
   "mimetype": "text/x-python",
   "name": "python",
   "nbconvert_exporter": "python",
   "pygments_lexer": "ipython3",
   "version": "3.8.5"
  }
 },
 "nbformat": 4,
 "nbformat_minor": 5
}
