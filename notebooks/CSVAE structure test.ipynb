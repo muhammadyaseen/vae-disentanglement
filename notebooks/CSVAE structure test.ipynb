{
 "cells": [
  {
   "cell_type": "code",
   "execution_count": 1,
   "id": "8807df7c",
   "metadata": {},
   "outputs": [
    {
     "name": "stdout",
     "output_type": "stream",
     "text": [
      "D:\\Saarbrucken\\EDA_Research\\vae-disentanglement\\disentanglement_lib_pl\n"
     ]
    }
   ],
   "source": [
    "cd D:\\\\Saarbrucken\\\\EDA_Research\\\\vae-disentanglement\\\\disentanglement_lib_pl"
   ]
  },
  {
   "cell_type": "code",
   "execution_count": 2,
   "id": "6c0a7e8b",
   "metadata": {},
   "outputs": [],
   "source": [
    "import torch\n",
    "import numpy as np\n",
    "import pandas as pd\n",
    "import seaborn, time\n",
    "import torch.nn.functional as F\n",
    "\n",
    "from torch.nn import init\n",
    "from torch import nn\n",
    "\n",
    "from common import dag_utils\n",
    "from common.special_modules import DAGInteractionLayer\n",
    "from collections import namedtuple\n",
    "from models import cs_vae"
   ]
  },
  {
   "cell_type": "code",
   "execution_count": 5,
   "id": "298ba1bf",
   "metadata": {},
   "outputs": [
    {
     "name": "stdout",
     "output_type": "stream",
     "text": [
      "DAGInteractionLayer(\n",
      "  (inp_to_interm): InputToIntermediate()\n",
      "  (interm1): Intermediate()\n",
      "  (out): IntermediateToOutput()\n",
      ")\n"
     ]
    }
   ],
   "source": [
    "adj_mat = [(), (27,), (4,), (0,), (13,), (1,), (31,), (4,), (7,), (1,), \n",
    "           (17,), (27,), (27,), (27,), (24,), (17,), (14,), (13,), (12,), \n",
    "           (12,), (11,), (31,), (11,), (17,), (12,), (13,), (31,), (0,), \n",
    "           (13,), (13,), (1,), (13,), (27,)]\n",
    "parents = [3]\n",
    "children = [1, 11, 12, 13, 32]\n",
    "\n",
    "dag_layer = DAGInteractionLayer(\n",
    "    parents_list=parents, \n",
    "    children_list=children, \n",
    "    adjacency_matrix=adj_mat, \n",
    "    interm_unit_dim=2, \n",
    "    bias=True,\n",
    "    parent_is_root=True\n",
    ")\n",
    "print(dag_layer)"
   ]
  },
  {
   "cell_type": "code",
   "execution_count": 8,
   "id": "11a3deb9",
   "metadata": {},
   "outputs": [
    {
     "name": "stdout",
     "output_type": "stream",
     "text": [
      "tensor([[1.0162, 2.7866, 0.0000, 0.9984, 0.0000, 0.8464, 1.2200, 0.0000, 2.7388,\n",
      "         0.0000]], grad_fn=<ReluBackward0>)\n",
      "tensor([[2.5050, 0.0000, 0.5853, 0.0000, 0.1648, 0.0000, 0.0385, 0.3169, 0.0302,\n",
      "         0.5128, 0.6709, 0.5184, 0.0000, 1.3648, 0.0000]],\n",
      "       grad_fn=<ReluBackward0>)\n"
     ]
    },
    {
     "data": {
      "text/plain": [
       "(tensor([[0.7016, 0.0188, 0.0000, 0.0000, 0.0000]], grad_fn=<ReluBackward0>),\n",
       " tensor([[0.0000, 0.0000, 0.1227, 0.0000, 0.0000]], grad_fn=<ReluBackward0>))"
      ]
     },
     "execution_count": 8,
     "metadata": {},
     "output_type": "execute_result"
    }
   ],
   "source": [
    "dag_layer(torch.rand(size=(1, 10)) + 2, current_device=torch.device(\"cpu\"))"
   ]
  },
  {
   "cell_type": "code",
   "execution_count": 5,
   "id": "9770d99d",
   "metadata": {},
   "outputs": [
    {
     "data": {
      "text/plain": [
       "tensor([[ 2.1527, -1.7286]])"
      ]
     },
     "execution_count": 5,
     "metadata": {},
     "output_type": "execute_result"
    }
   ],
   "source": [
    "torch.randn(size=(1, 2)) + 1"
   ]
  },
  {
   "cell_type": "code",
   "execution_count": 8,
   "id": "3fb7481b",
   "metadata": {},
   "outputs": [
    {
     "ename": "TypeError",
     "evalue": "__init__() takes 2 positional arguments but 3 were given",
     "output_type": "error",
     "traceback": [
      "\u001b[1;31m---------------------------------------------------------------------------\u001b[0m",
      "\u001b[1;31mTypeError\u001b[0m                                 Traceback (most recent call last)",
      "\u001b[1;32mC:\\Users\\MUHAMM~1\\AppData\\Local\\Temp/ipykernel_16424/4137603721.py\u001b[0m in \u001b[0;36m<module>\u001b[1;34m\u001b[0m\n\u001b[0;32m     18\u001b[0m            \u001b[1;33m(\u001b[0m\u001b[1;36m12\u001b[0m\u001b[1;33m,\u001b[0m\u001b[1;33m)\u001b[0m\u001b[1;33m,\u001b[0m \u001b[1;33m(\u001b[0m\u001b[1;36m11\u001b[0m\u001b[1;33m,\u001b[0m\u001b[1;33m)\u001b[0m\u001b[1;33m,\u001b[0m \u001b[1;33m(\u001b[0m\u001b[1;36m31\u001b[0m\u001b[1;33m,\u001b[0m\u001b[1;33m)\u001b[0m\u001b[1;33m,\u001b[0m \u001b[1;33m(\u001b[0m\u001b[1;36m11\u001b[0m\u001b[1;33m,\u001b[0m\u001b[1;33m)\u001b[0m\u001b[1;33m,\u001b[0m \u001b[1;33m(\u001b[0m\u001b[1;36m17\u001b[0m\u001b[1;33m,\u001b[0m\u001b[1;33m)\u001b[0m\u001b[1;33m,\u001b[0m \u001b[1;33m(\u001b[0m\u001b[1;36m12\u001b[0m\u001b[1;33m,\u001b[0m\u001b[1;33m)\u001b[0m\u001b[1;33m,\u001b[0m \u001b[1;33m(\u001b[0m\u001b[1;36m13\u001b[0m\u001b[1;33m,\u001b[0m\u001b[1;33m)\u001b[0m\u001b[1;33m,\u001b[0m \u001b[1;33m(\u001b[0m\u001b[1;36m31\u001b[0m\u001b[1;33m,\u001b[0m\u001b[1;33m)\u001b[0m\u001b[1;33m,\u001b[0m \u001b[1;33m(\u001b[0m\u001b[1;36m0\u001b[0m\u001b[1;33m,\u001b[0m\u001b[1;33m)\u001b[0m\u001b[1;33m,\u001b[0m\u001b[1;33m\u001b[0m\u001b[1;33m\u001b[0m\u001b[0m\n\u001b[0;32m     19\u001b[0m            (13,), (13,), (1,), (13,), (27,)]\n\u001b[1;32m---> 20\u001b[1;33m \u001b[0mtest_vae\u001b[0m \u001b[1;33m=\u001b[0m \u001b[0mcs_vae\u001b[0m\u001b[1;33m.\u001b[0m\u001b[0mConceptStructuredVAE\u001b[0m\u001b[1;33m(\u001b[0m\u001b[0madjacency_matrix\u001b[0m\u001b[1;33m,\u001b[0m \u001b[0mnetwork_args\u001b[0m\u001b[1;33m)\u001b[0m\u001b[1;33m\u001b[0m\u001b[1;33m\u001b[0m\u001b[0m\n\u001b[0m\u001b[0;32m     21\u001b[0m \u001b[1;33m\u001b[0m\u001b[0m\n\u001b[0;32m     22\u001b[0m \u001b[1;31m#print(test_vae)\u001b[0m\u001b[1;33m\u001b[0m\u001b[1;33m\u001b[0m\u001b[1;33m\u001b[0m\u001b[0m\n",
      "\u001b[1;31mTypeError\u001b[0m: __init__() takes 2 positional arguments but 3 were given"
     ]
    }
   ],
   "source": [
    "from collections import namedtuple\n",
    "\n",
    "NetworkArgs = namedtuple(\"NetworkArgs\", [\"encoder\",\"decoder\",\"interm_unit_dim\", \n",
    "                                         \"z_dim\", \"num_channels\", \"image_size\", \n",
    "                                        \"batch_size\", \"root_dim\"])\n",
    "network_args = NetworkArgs(\n",
    "    ['SimpleGaussianConv64'],\n",
    "    ['SimpleConv64'],\n",
    "    2,\n",
    "    10,\n",
    "    3,\n",
    "    64,\n",
    "    128,\n",
    "    10\n",
    ")\n",
    "adjacency_matrix = [(), (27,), (4,), (0,), (13,), (1,), (31,), (4,), (7,), (1,), \n",
    "           (17,), (27,), (27,), (27,), (24,), (17,), (14,), (13,), (12,), \n",
    "           (12,), (11,), (31,), (11,), (17,), (12,), (13,), (31,), (0,), \n",
    "           (13,), (13,), (1,), (13,), (27,)]\n",
    "test_vae = cs_vae.ConceptStructuredVAE(adjacency_matrix, network_args)\n",
    "\n",
    "#print(test_vae)"
   ]
  },
  {
   "cell_type": "code",
   "execution_count": 5,
   "id": "d4197f63",
   "metadata": {},
   "outputs": [],
   "source": [
    "# len(adjacency_matrix), sum([len(dag_layer) for dag_layer in test_vae.dag_layer_nodes]), test_vae.dag_layer_nodes"
   ]
  },
  {
   "cell_type": "code",
   "execution_count": 5,
   "id": "5696f8cb",
   "metadata": {},
   "outputs": [],
   "source": [
    "# pass an image and see if dims are correct\n",
    "test_imgs = torch.rand(2,3,64,64)"
   ]
  },
  {
   "cell_type": "code",
   "execution_count": 6,
   "id": "e176d976",
   "metadata": {},
   "outputs": [
    {
     "data": {
      "text/plain": [
       "42"
      ]
     },
     "execution_count": 6,
     "metadata": {},
     "output_type": "execute_result"
    }
   ],
   "source": [
    "#bu_net_outs = test_vae._bottom_up_pass(test_imgs)\n",
    "#td_net_outs = test_vae._top_down_pass(bu_net_outs)\n",
    "len(test_vae.adjacency_matrix) - 1 + test_vae.root_dim"
   ]
  },
  {
   "cell_type": "code",
   "execution_count": 7,
   "id": "56ff3b1f",
   "metadata": {},
   "outputs": [
    {
     "data": {
      "text/plain": [
       "SimpleConv64(\n",
       "  (main): Sequential(\n",
       "    (0): Unsqueeze3D()\n",
       "    (1): Conv2d(42, 256, kernel_size=(1, 1), stride=(2, 2))\n",
       "    (2): ReLU(inplace=True)\n",
       "    (3): ConvTranspose2d(256, 256, kernel_size=(4, 4), stride=(2, 2), padding=(1, 1))\n",
       "    (4): ReLU(inplace=True)\n",
       "    (5): ConvTranspose2d(256, 128, kernel_size=(4, 4), stride=(2, 2))\n",
       "    (6): ReLU(inplace=True)\n",
       "    (7): ConvTranspose2d(128, 128, kernel_size=(4, 4), stride=(2, 2))\n",
       "    (8): ReLU(inplace=True)\n",
       "    (9): ConvTranspose2d(128, 64, kernel_size=(4, 4), stride=(2, 2))\n",
       "    (10): ReLU(inplace=True)\n",
       "    (11): ConvTranspose2d(64, 64, kernel_size=(4, 4), stride=(2, 2))\n",
       "    (12): ReLU(inplace=True)\n",
       "    (13): ConvTranspose2d(64, 3, kernel_size=(3, 3), stride=(1, 1))\n",
       "  )\n",
       ")"
      ]
     },
     "execution_count": 7,
     "metadata": {},
     "output_type": "execute_result"
    }
   ],
   "source": [
    "#fwd_pass_results = test_vae(test_imgs)\n",
    "\n",
    "test_vae.decoder"
   ]
  },
  {
   "cell_type": "code",
   "execution_count": 8,
   "id": "b8dd39a1",
   "metadata": {},
   "outputs": [
    {
     "name": "stdout",
     "output_type": "stream",
     "text": [
      "torch.Size([2, 42])\n"
     ]
    }
   ],
   "source": [
    "fwd_pass_results = test_vae(test_imgs)"
   ]
  },
  {
   "cell_type": "code",
   "execution_count": 12,
   "id": "fc6b23a1",
   "metadata": {},
   "outputs": [],
   "source": [
    "import pickle\n",
    "\n",
    "pickle.dump(adjacency_matrix, \n",
    "open('D:\\\\Saarbrucken\\\\EDA_Research\\\\thesis_code\\\\adjacency_matrices\\\\celeba.pkl','wb')\n",
    ")"
   ]
  },
  {
   "cell_type": "code",
   "execution_count": 10,
   "id": "0d3d0159",
   "metadata": {},
   "outputs": [
    {
     "data": {
      "text/plain": [
       "'D:\\\\Saarbrucken\\\\EDA_Research\\\\thesis_code\\\\disentanglement_lib_pl'"
      ]
     },
     "execution_count": 10,
     "metadata": {},
     "output_type": "execute_result"
    }
   ],
   "source": [
    "pwd"
   ]
  },
  {
   "cell_type": "code",
   "execution_count": 14,
   "id": "93caa0c3",
   "metadata": {},
   "outputs": [
    {
     "data": {
      "text/plain": [
       "(True, False)"
      ]
     },
     "execution_count": 14,
     "metadata": {},
     "output_type": "execute_result"
    }
   ],
   "source": [
    "p = 'D:\\\\Saarbrucken\\\\EDA_Research\\\\thesis_code\\\\disentanglement_lib_pl'\n",
    "\n",
    "isinstance(p, str), isinstance(p, list)"
   ]
  },
  {
   "cell_type": "code",
   "execution_count": 17,
   "id": "a24109e8",
   "metadata": {},
   "outputs": [
    {
     "data": {
      "text/plain": [
       "[(),\n",
       " (27,),\n",
       " (4,),\n",
       " (0,),\n",
       " (13,),\n",
       " (1,),\n",
       " (31,),\n",
       " (4,),\n",
       " (7,),\n",
       " (1,),\n",
       " (17,),\n",
       " (27,),\n",
       " (27,),\n",
       " (27,),\n",
       " (24,),\n",
       " (17,),\n",
       " (14,),\n",
       " (13,),\n",
       " (12,),\n",
       " (12,),\n",
       " (11,),\n",
       " (31,),\n",
       " (11,),\n",
       " (17,),\n",
       " (12,),\n",
       " (13,),\n",
       " (31,),\n",
       " (0,),\n",
       " (13,),\n",
       " (13,),\n",
       " (1,),\n",
       " (13,),\n",
       " (27,)]"
      ]
     },
     "execution_count": 17,
     "metadata": {},
     "output_type": "execute_result"
    }
   ],
   "source": [
    "pickle.load(\n",
    "    open('D:\\\\Saarbrucken\\\\EDA_Research\\\\thesis_code\\\\adjacency_matrices\\\\celeba.pkl', \n",
    "'rb'))"
   ]
  },
  {
   "cell_type": "code",
   "execution_count": 46,
   "id": "d6136690",
   "metadata": {},
   "outputs": [],
   "source": [
    "class PriorGNNLayer(nn.Module):\n",
    "    \"\"\"\n",
    "    For now in this impl. all prior nodes have 1-D features \n",
    "    \"\"\"\n",
    "    def __init__(self, num_nodes, adj_mat, is_final_layer=False):\n",
    "        super().__init__()\n",
    "\n",
    "        self.num_nodes = num_nodes\n",
    "        self.is_final_layer = is_final_layer\n",
    "        self.A = adj_mat.T # this is reqd because the stored mat is in from-to form but the impl needs to-from\n",
    "\n",
    "        self.num_neighbours = self.A.sum(dim=0, keepdims=True)\n",
    "\n",
    "        # Represents a diagonal weight matrix W so that all dims can be \n",
    "        # multiplied by a unique scalar i.e. z = Wg + b\n",
    "        # Features are 1-D\n",
    "        self.projection_W = nn.Parameter(torch.Tensor(1, self.num_nodes))\n",
    "        self.projection_b = nn.Parameter(torch.Tensor(self.num_nodes))\n",
    "\n",
    "        self._init_params()\n",
    "    \n",
    "    def _init_params(self):\n",
    "        \n",
    "        init.kaiming_normal_(self.projection_W)\n",
    "        self.projection_b.data.fill_(0)\n",
    "    \n",
    "    def forward(self, node_feats):\n",
    "        \n",
    "        self.A = self.A.to(node_feats.device)\n",
    "        self.num_neighbours = self.num_neighbours.to(node_feats.device)\n",
    "        self.projection_W = self.projection_W.to(node_feats.device)\n",
    "        self.projection_b = self.projection_b.to(node_feats.device)\n",
    "\n",
    "        node_feats = self.projection_W.mul(node_feats) + self.projection_b\n",
    "        print(node_feats)\n",
    "        node_feats = torch.matmul(node_feats, self.A)\n",
    "        print(node_feats)\n",
    "        print(self.num_neighbours)\n",
    "        node_feats = node_feats / self.num_neighbours\n",
    "\n",
    "        return node_feats if self.is_final_layer else torch.tanh(node_feats)\n"
   ]
  },
  {
   "cell_type": "code",
   "execution_count": 56,
   "id": "4829099f",
   "metadata": {},
   "outputs": [],
   "source": [
    "A = torch.Tensor(\n",
    "        [[1., 0., 0., 0.],\n",
    "        [0., 1., 0., 0.],\n",
    "        [1., 1., 1., 0.],\n",
    "        [1., 1., 0., 1.]])\n",
    "\n",
    "prior_layer = PriorGNNLayer(4, A, True)"
   ]
  },
  {
   "cell_type": "code",
   "execution_count": 48,
   "id": "41b4a87a",
   "metadata": {},
   "outputs": [
    {
     "name": "stdout",
     "output_type": "stream",
     "text": [
      "tensor([[3., 0., 0., 3.],\n",
      "        [3., 2., 1., 2.]])\n"
     ]
    }
   ],
   "source": [
    "node_feats = torch.from_numpy( np.random.choice(a=4, size=(2, 4))).type(torch.FloatTensor)\n",
    "print(node_feats)"
   ]
  },
  {
   "cell_type": "code",
   "execution_count": 49,
   "id": "a450e3ad",
   "metadata": {},
   "outputs": [
    {
     "data": {
      "text/plain": [
       "(Parameter containing:\n",
       " tensor([[-0.8105, -0.6637,  0.1299, -0.6581]], requires_grad=True),\n",
       " Parameter containing:\n",
       " tensor([0., 0., 0., 0.], requires_grad=True))"
      ]
     },
     "execution_count": 49,
     "metadata": {},
     "output_type": "execute_result"
    }
   ],
   "source": [
    "prior_layer.projection_W, prior_layer.projection_b"
   ]
  },
  {
   "cell_type": "code",
   "execution_count": 57,
   "id": "99216e31",
   "metadata": {},
   "outputs": [
    {
     "name": "stdout",
     "output_type": "stream",
     "text": [
      "tensor([[ 1.6835,  0.0000,  0.0000, -2.1513],\n",
      "        [ 1.6835, -2.2840,  0.1927, -1.4342]], grad_fn=<AddBackward0>)\n",
      "tensor([[ 1.6835,  0.0000,  1.6835, -0.4678],\n",
      "        [ 1.6835, -2.2840, -0.4078, -2.0346]], grad_fn=<MmBackward>)\n",
      "tensor([[1., 1., 3., 3.]])\n"
     ]
    },
    {
     "data": {
      "text/plain": [
       "tensor([[ 1.6835,  0.0000,  0.5612, -0.1559],\n",
       "        [ 1.6835, -2.2840, -0.1359, -0.6782]], grad_fn=<DivBackward0>)"
      ]
     },
     "execution_count": 57,
     "metadata": {},
     "output_type": "execute_result"
    }
   ],
   "source": [
    "prior_layer(node_feats)"
   ]
  },
  {
   "cell_type": "code",
   "execution_count": 55,
   "id": "f6c23b6a",
   "metadata": {},
   "outputs": [
    {
     "data": {
      "text/plain": [
       "-5.0751"
      ]
     },
     "execution_count": 55,
     "metadata": {},
     "output_type": "execute_result"
    }
   ],
   "source": [
    "-2.4315 -1.3274 - 1.3162"
   ]
  },
  {
   "cell_type": "code",
   "execution_count": 61,
   "id": "02a5a0aa",
   "metadata": {},
   "outputs": [
    {
     "data": {
      "text/plain": [
       "tensor(3.)"
      ]
     },
     "execution_count": 61,
     "metadata": {},
     "output_type": "execute_result"
    }
   ],
   "source": [
    "prior_layer.num_neighbours[0][2]"
   ]
  },
  {
   "cell_type": "code",
   "execution_count": 24,
   "id": "085ee764",
   "metadata": {},
   "outputs": [],
   "source": [
    "An = np.array(\n",
    "        [[1., 0., 0., 0.],\n",
    "        [0., 1., 0., 0.],\n",
    "        [1., 1., 1., 0.],\n",
    "        [1., 1., 0., 1.]])"
   ]
  },
  {
   "cell_type": "code",
   "execution_count": 28,
   "id": "c0ff72a5",
   "metadata": {},
   "outputs": [],
   "source": [
    "nn=An.sum(axis=-1, keepdims=True)"
   ]
  },
  {
   "cell_type": "code",
   "execution_count": 32,
   "id": "1ec71040",
   "metadata": {},
   "outputs": [
    {
     "data": {
      "text/plain": [
       "array([[1.],\n",
       "       [1.],\n",
       "       [3.],\n",
       "       [3.]])"
      ]
     },
     "execution_count": 32,
     "metadata": {},
     "output_type": "execute_result"
    }
   ],
   "source": [
    "nn"
   ]
  },
  {
   "cell_type": "code",
   "execution_count": 31,
   "id": "99a6f52b",
   "metadata": {},
   "outputs": [
    {
     "data": {
      "text/plain": [
       "1"
      ]
     },
     "execution_count": 31,
     "metadata": {},
     "output_type": "execute_result"
    }
   ],
   "source": [
    "int(nn[0])"
   ]
  },
  {
   "cell_type": "code",
   "execution_count": 69,
   "id": "c0a257e3",
   "metadata": {},
   "outputs": [],
   "source": [
    "L = np.random.choice(10,(2,5))"
   ]
  },
  {
   "cell_type": "code",
   "execution_count": 86,
   "id": "f76342e2",
   "metadata": {},
   "outputs": [
    {
     "data": {
      "text/plain": [
       "(array([0, 1, 2, 2, 2, 3, 3, 3], dtype=int64),\n",
       " array([0, 1, 0, 1, 2, 0, 1, 3], dtype=int64))"
      ]
     },
     "execution_count": 86,
     "metadata": {},
     "output_type": "execute_result"
    }
   ],
   "source": [
    "np.nonzero(An == 1)"
   ]
  },
  {
   "cell_type": "code",
   "execution_count": 84,
   "id": "e21d17d1",
   "metadata": {},
   "outputs": [
    {
     "ename": "IndexError",
     "evalue": "index 2 is out of bounds for axis 0 with size 2",
     "output_type": "error",
     "traceback": [
      "\u001b[1;31m---------------------------------------------------------------------------\u001b[0m",
      "\u001b[1;31mIndexError\u001b[0m                                Traceback (most recent call last)",
      "\u001b[1;32mC:\\Users\\MUHAMM~1\\AppData\\Local\\Temp/ipykernel_13940/3606810467.py\u001b[0m in \u001b[0;36m<module>\u001b[1;34m\u001b[0m\n\u001b[0;32m      1\u001b[0m \u001b[1;31m#pa = An[2].nonzero()[0]\u001b[0m\u001b[1;33m\u001b[0m\u001b[1;33m\u001b[0m\u001b[1;33m\u001b[0m\u001b[0m\n\u001b[0;32m      2\u001b[0m \u001b[1;33m\u001b[0m\u001b[0m\n\u001b[1;32m----> 3\u001b[1;33m \u001b[0mL\u001b[0m\u001b[1;33m[\u001b[0m\u001b[0mnp\u001b[0m\u001b[1;33m.\u001b[0m\u001b[0mnonzero\u001b[0m\u001b[1;33m(\u001b[0m\u001b[0mAn\u001b[0m \u001b[1;33m==\u001b[0m \u001b[1;36m1\u001b[0m\u001b[1;33m)\u001b[0m\u001b[1;33m]\u001b[0m\u001b[1;33m\u001b[0m\u001b[1;33m\u001b[0m\u001b[0m\n\u001b[0m",
      "\u001b[1;31mIndexError\u001b[0m: index 2 is out of bounds for axis 0 with size 2"
     ]
    }
   ],
   "source": [
    "#pa = An[2].nonzero()[0]\n",
    "\n",
    "L[np.nonzero(An == 1)]"
   ]
  },
  {
   "cell_type": "code",
   "execution_count": 75,
   "id": "ef208aa2",
   "metadata": {},
   "outputs": [
    {
     "data": {
      "text/plain": [
       "array([[8, 4, 0, 4, 2],\n",
       "       [6, 5, 1, 5, 7]])"
      ]
     },
     "execution_count": 75,
     "metadata": {},
     "output_type": "execute_result"
    }
   ],
   "source": [
    "L"
   ]
  },
  {
   "cell_type": "code",
   "execution_count": 78,
   "id": "447016c8",
   "metadata": {},
   "outputs": [
    {
     "data": {
      "text/plain": [
       "(2, 3)"
      ]
     },
     "execution_count": 78,
     "metadata": {},
     "output_type": "execute_result"
    }
   ],
   "source": [
    "L[: ,[0, 1, 2]].shape"
   ]
  },
  {
   "cell_type": "code",
   "execution_count": 3,
   "id": "dfa5a45d",
   "metadata": {},
   "outputs": [],
   "source": [
    "L=torch.from_numpy(np.random.choice(10,(2,5)))"
   ]
  },
  {
   "cell_type": "code",
   "execution_count": 4,
   "id": "ad6343eb",
   "metadata": {},
   "outputs": [
    {
     "data": {
      "text/plain": [
       "tensor([[2, 2, 9, 2, 1],\n",
       "        [7, 4, 8, 4, 8]], dtype=torch.int32)"
      ]
     },
     "execution_count": 4,
     "metadata": {},
     "output_type": "execute_result"
    }
   ],
   "source": [
    "L"
   ]
  },
  {
   "cell_type": "code",
   "execution_count": 5,
   "id": "10d8a94b",
   "metadata": {},
   "outputs": [
    {
     "data": {
      "text/plain": [
       "tensor([[2, 9, 2],\n",
       "        [7, 8, 4]], dtype=torch.int32)"
      ]
     },
     "execution_count": 5,
     "metadata": {},
     "output_type": "execute_result"
    }
   ],
   "source": [
    "L[:,[0,2,3]]"
   ]
  },
  {
   "cell_type": "code",
   "execution_count": 12,
   "id": "b924f60d",
   "metadata": {},
   "outputs": [],
   "source": [
    "a,b=torch.rand(size=(10,1)),torch.rand(size=(10,1))"
   ]
  },
  {
   "cell_type": "code",
   "execution_count": 33,
   "id": "0fd39d9e",
   "metadata": {},
   "outputs": [],
   "source": [
    "c=torch.cat([a,b],dim=1).reshape(10,2,1)"
   ]
  },
  {
   "cell_type": "code",
   "execution_count": 34,
   "id": "d19c4827",
   "metadata": {},
   "outputs": [
    {
     "data": {
      "text/plain": [
       "torch.Size([10, 2, 1])"
      ]
     },
     "execution_count": 34,
     "metadata": {},
     "output_type": "execute_result"
    }
   ],
   "source": [
    "c.shape"
   ]
  },
  {
   "cell_type": "code",
   "execution_count": 36,
   "id": "4583d68f",
   "metadata": {},
   "outputs": [
    {
     "data": {
      "text/plain": [
       "(1, 2, 3)"
      ]
     },
     "execution_count": 36,
     "metadata": {},
     "output_type": "execute_result"
    }
   ],
   "source": [
    "(*(1,2),3)"
   ]
  },
  {
   "cell_type": "code",
   "execution_count": null,
   "id": "5d62e458",
   "metadata": {},
   "outputs": [],
   "source": []
  }
 ],
 "metadata": {
  "interpreter": {
   "hash": "0c1e42d09abd9a7c7967c6caf04ac65128c9e19aa5355439d6e17d7b03582b55"
  },
  "kernelspec": {
   "display_name": "Python 3 (ipykernel)",
   "language": "python",
   "name": "python3"
  },
  "language_info": {
   "codemirror_mode": {
    "name": "ipython",
    "version": 3
   },
   "file_extension": ".py",
   "mimetype": "text/x-python",
   "name": "python",
   "nbconvert_exporter": "python",
   "pygments_lexer": "ipython3",
   "version": "3.8.5"
  }
 },
 "nbformat": 4,
 "nbformat_minor": 5
}
