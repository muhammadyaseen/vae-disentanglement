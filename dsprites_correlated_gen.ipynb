{
 "cells": [
  {
   "cell_type": "markdown",
   "metadata": {
    "colab_type": "text",
    "id": "26ScWNvYSgQg"
   },
   "source": [
    "# dSprites - Disentanglement testing Sprites dataset\n",
    "\n",
    "## Description\n",
    "Procedurally generated 2D shapes dataset. This dataset uses 6 latents, controlling the color, shape, scale, rotation and position of a sprite (color isn't varying here, its value is fixed).\n",
    "\n",
    "All possible combinations of the latents are present.\n",
    "\n",
    "The ordering of images in the dataset (i.e. shape[0] in all ndarrays) is fixed and meaningful, see below.\n",
    "\n",
    "We chose the smallest changes in latent values that generated different pixel outputs at our 64x64 resolution after rasterization.\n",
    "\n",
    "No noise added, single image sample for a given latent setting.\n",
    "\n",
    "## Details about the ordering of the dataset\n",
    "\n",
    "Latent dim meanings: ('color', 'shape', 'scale', 'orientation', 'posX', 'posY')\n",
    "\n",
    "The dataset was generated procedurally, and its order is deterministic.\n",
    "For example, the image at index 0 corresponds to the latents (0, 0, 0, 0, 0, 0).\n",
    "\n",
    "Then the image at index 1 increases the least significant \"bit\" of the latent:\n",
    "(0, 0, 0, 0, 0, 1)\n",
    "\n",
    "And similarly, till we reach index 32, where we get (0, 0, 0, 0, 1, 0). \n",
    "\n",
    "Hence the dataset is sequentially addressable using variable bases for every \"bit\".\n",
    "Using dataset['metadata']['latents_sizes'] makes this conversion trivial, see below."
   ]
  },
  {
   "cell_type": "code",
   "execution_count": 1,
   "metadata": {
    "cellView": "both",
    "colab": {
     "autoexec": {
      "startup": false,
      "wait_interval": 0
     }
    },
    "colab_type": "code",
    "id": "jJ02BsnqSa96"
   },
   "outputs": [],
   "source": [
    "from __future__ import absolute_import\n",
    "from __future__ import division\n",
    "from __future__ import print_function\n",
    "from matplotlib import pyplot as plt\n",
    "import numpy as np\n",
    "import seaborn as sns\n",
    "\n",
    "# Change figure aesthetics\n",
    "%matplotlib inline\n",
    "sns.set_context('talk', font_scale=1.2, rc={'lines.linewidth': 1.5})\n"
   ]
  },
  {
   "cell_type": "code",
   "execution_count": 2,
   "metadata": {
    "colab": {
     "autoexec": {
      "startup": false,
      "wait_interval": 0
     },
     "output_extras": [
      {
       "item_id": 2
      }
     ]
    },
    "colab_type": "code",
    "executionInfo": {
     "elapsed": 10952,
     "status": "ok",
     "timestamp": 1495021223246,
     "user": {
      "displayName": "",
      "photoUrl": "",
      "userId": ""
     },
     "user_tz": -60
    },
    "id": "uDL3Iw0WFw1L",
    "outputId": "1a3ce845-1add-41c3-ee3d-6018d09423bc"
   },
   "outputs": [
    {
     "name": "stdout",
     "output_type": "stream",
     "text": [
      "Keys in the dataset: KeysView(<numpy.lib.npyio.NpzFile object at 0x7f65544ce910>)\n",
      "Metadata: \n",
      " {'date': 'April 2017', 'description': 'Disentanglement test Sprites dataset.Procedurally generated 2D shapes, from 6 disentangled latent factors.This dataset uses 6 latents, controlling the color, shape, scale, rotation and position of a sprite. All possible variations of the latents are present. Ordering along dimension 1 is fixed and can be mapped back to the exact latent values that generated that image.We made sure that the pixel outputs are different. No noise added.', 'version': 1, 'latents_names': ('color', 'shape', 'scale', 'orientation', 'posX', 'posY'), 'latents_possible_values': {'orientation': array([0.        , 0.16110732, 0.32221463, 0.48332195, 0.64442926,\n",
      "       0.80553658, 0.96664389, 1.12775121, 1.28885852, 1.44996584,\n",
      "       1.61107316, 1.77218047, 1.93328779, 2.0943951 , 2.25550242,\n",
      "       2.41660973, 2.57771705, 2.73882436, 2.89993168, 3.061039  ,\n",
      "       3.22214631, 3.38325363, 3.54436094, 3.70546826, 3.86657557,\n",
      "       4.02768289, 4.1887902 , 4.34989752, 4.51100484, 4.67211215,\n",
      "       4.83321947, 4.99432678, 5.1554341 , 5.31654141, 5.47764873,\n",
      "       5.63875604, 5.79986336, 5.96097068, 6.12207799, 6.28318531]), 'posX': array([0.        , 0.03225806, 0.06451613, 0.09677419, 0.12903226,\n",
      "       0.16129032, 0.19354839, 0.22580645, 0.25806452, 0.29032258,\n",
      "       0.32258065, 0.35483871, 0.38709677, 0.41935484, 0.4516129 ,\n",
      "       0.48387097, 0.51612903, 0.5483871 , 0.58064516, 0.61290323,\n",
      "       0.64516129, 0.67741935, 0.70967742, 0.74193548, 0.77419355,\n",
      "       0.80645161, 0.83870968, 0.87096774, 0.90322581, 0.93548387,\n",
      "       0.96774194, 1.        ]), 'posY': array([0.        , 0.03225806, 0.06451613, 0.09677419, 0.12903226,\n",
      "       0.16129032, 0.19354839, 0.22580645, 0.25806452, 0.29032258,\n",
      "       0.32258065, 0.35483871, 0.38709677, 0.41935484, 0.4516129 ,\n",
      "       0.48387097, 0.51612903, 0.5483871 , 0.58064516, 0.61290323,\n",
      "       0.64516129, 0.67741935, 0.70967742, 0.74193548, 0.77419355,\n",
      "       0.80645161, 0.83870968, 0.87096774, 0.90322581, 0.93548387,\n",
      "       0.96774194, 1.        ]), 'scale': array([0.5, 0.6, 0.7, 0.8, 0.9, 1. ]), 'shape': array([1., 2., 3.]), 'color': array([1.])}, 'latents_sizes': array([ 1,  3,  6, 40, 32, 32]), 'author': 'lmatthey@google.com', 'title': 'dSprites dataset'}\n",
      "[[ 0  0  0  0  0  0]\n",
      " [ 0  0  0  0  0  1]\n",
      " [ 0  0  0  0  0  2]\n",
      " ...\n",
      " [ 0  2  5 39 31 29]\n",
      " [ 0  2  5 39 31 30]\n",
      " [ 0  2  5 39 31 31]]\n",
      "[737280 245760  40960   1024     32      1]\n",
      "[ 1  3  6 40 32 32]\n"
     ]
    }
   ],
   "source": [
    "# Load dataset\n",
    "dataset_zip = np.load('dsprites_ndarray_co1sh3sc6or40x32y32_64x64.npz', allow_pickle=True, encoding='latin1')\n",
    "\n",
    "print('Keys in the dataset:', dataset_zip.keys())\n",
    "imgs = dataset_zip['imgs']\n",
    "latents_values = dataset_zip['latents_values']\n",
    "latents_classes = dataset_zip['latents_classes']\n",
    "metadata = dataset_zip['metadata'][()]\n",
    "\n",
    "print('Metadata: \\n', metadata)\n",
    "print(latents_classes)\n",
    "\n",
    "# Define number of values per latents and functions to convert to indices\n",
    "latents_sizes = metadata['latents_sizes']\n",
    "latents_bases = np.concatenate((latents_sizes[::-1].cumprod()[::-1][1:],\n",
    "                                np.array([1,])))\n",
    "\n",
    "print(latents_bases)\n",
    "print(latents_sizes)\n"
   ]
  },
  {
   "cell_type": "code",
   "execution_count": 3,
   "metadata": {
    "colab": {
     "autoexec": {
      "startup": false,
      "wait_interval": 0
     }
    },
    "colab_type": "code",
    "id": "9RWpIJtiHYUL"
   },
   "outputs": [],
   "source": [
    "COLOR=0\n",
    "ORIENTATION=3\n",
    "\n",
    "def latent_to_index(latents):\n",
    "    \n",
    "    # when indexing we have to fix color because of how they generated \n",
    "    # the dataset\n",
    "    latents[:,0] = np.zeros(len(latents)) \n",
    "    return np.dot(latents, latents_bases).astype(int)\n",
    "\n",
    "\n",
    "def sample_latent(size=1, correlated=False, in_idx=None, out_idx=None, map_fn=None):\n",
    "    samples = np.zeros((size, latents_sizes.size))\n",
    "    for lat_i, lat_size in enumerate(latents_sizes):\n",
    "        samples[:, lat_i] = np.random.randint(lat_size, size=size)\n",
    "\n",
    "    if correlated:\n",
    "        samples[:, out_idx] = map_fn(samples[:,in_idx])\n",
    "    \n",
    "    return samples\n"
   ]
  },
  {
   "cell_type": "code",
   "execution_count": 4,
   "metadata": {
    "colab": {
     "autoexec": {
      "startup": false,
      "wait_interval": 0
     }
    },
    "colab_type": "code",
    "id": "W8LKpGjGKaiN"
   },
   "outputs": [],
   "source": [
    "from matplotlib import cm\n",
    "\n",
    "# Helper function to show images\n",
    "def show_images_grid(imgs_, num_images=25):\n",
    "    ncols = int(np.ceil(num_images**0.5))\n",
    "    nrows = int(np.ceil(num_images / ncols))\n",
    "    _, axes = plt.subplots(ncols, nrows, figsize=(nrows * 3, ncols * 3))\n",
    "    axes = axes.flatten()\n",
    "\n",
    "    norm = cm.colors.Normalize(vmax=1.0, vmin=0.0)\n",
    "    for ax_i, ax in enumerate(axes):\n",
    "        if ax_i < num_images:\n",
    "            ax.imshow(imgs_[ax_i], cmap='gray',  norm=norm)#, interpolation='nearest')\n",
    "            ax.set_xticks([])\n",
    "            ax.set_yticks([])\n",
    "    else:\n",
    "        ax.axis('off')\n",
    "\n",
    "def show_density(imgs):\n",
    "    _, ax = plt.subplots()\n",
    "    ax.imshow(imgs.mean(axis=0), interpolation='nearest', cmap='Greys_r')\n",
    "    ax.grid('off')\n",
    "    ax.set_xticks([])\n",
    "    ax.set_yticks([])"
   ]
  },
  {
   "cell_type": "markdown",
   "metadata": {
    "colab_type": "text",
    "id": "lXSlqKKAJirL"
   },
   "source": [
    "## Randomly sampling into the dataset"
   ]
  },
  {
   "cell_type": "code",
   "execution_count": null,
   "metadata": {
    "colab": {
     "autoexec": {
      "startup": false,
      "wait_interval": 0
     },
     "output_extras": [
      {
       "item_id": 1
      }
     ]
    },
    "colab_type": "code",
    "executionInfo": {
     "elapsed": 1282,
     "status": "ok",
     "timestamp": 1495021397861,
     "user": {
      "displayName": "",
      "photoUrl": "",
      "userId": ""
     },
     "user_tz": -60
    },
    "id": "MFJLYKK5RzbH",
    "outputId": "270d35ee-f376-47a1-9f88-1b279f70c2ca"
   },
   "outputs": [],
   "source": [
    "# Sample latents randomly\n",
    "latents_sampled = sample_latent(size=5000)\n",
    "\n",
    "# Select images\n",
    "indices_sampled = latent_to_index(latents_sampled)\n",
    "imgs_sampled = imgs[indices_sampled]\n",
    "\n",
    "# Show images\n",
    "#show_images_grid(imgs_sampled)\n",
    "\n",
    "# Compute the density of the data to show that no pixel ever goes out of\n",
    "# the boundary. Obviously it also means that the main support of the pixels is in the center\n",
    "# half. \n",
    "# Locations cover a square, which make the aligned X-Y latents more likely for\n",
    "# models to discover.\n",
    "\n",
    "#show_density(imgs_sampled)"
   ]
  },
  {
   "cell_type": "markdown",
   "metadata": {
    "colab_type": "text",
    "id": "peJaYLHyLKDu"
   },
   "source": [
    "## Conditional sampling of the dataset"
   ]
  },
  {
   "cell_type": "code",
   "execution_count": null,
   "metadata": {
    "colab": {
     "autoexec": {
      "startup": false,
      "wait_interval": 0
     },
     "output_extras": [
      {
       "item_id": 1
      },
      {
       "item_id": 2
      }
     ]
    },
    "colab_type": "code",
    "executionInfo": {
     "elapsed": 551,
     "status": "ok",
     "timestamp": 1495021412038,
     "user": {
      "displayName": "",
      "photoUrl": "",
      "userId": ""
     },
     "user_tz": -60
    },
    "id": "6DYLZkFJQjb9",
    "outputId": "601edffd-fa13-474b-e61c-0c476f00b52d"
   },
   "outputs": [],
   "source": [
    "latents_sampled = sample_latent(size=5000)\n",
    "## Fix posX (2nd last coord in latent z) to left(=0)\n",
    "latents_sampled[:, -2] = 0\n",
    "indices_sampled = latent_to_index(latents_sampled)\n",
    "imgs_sampled = imgs[indices_sampled]\n",
    "\n",
    "# Samples\n",
    "show_images_grid(imgs_sampled, 9)\n",
    "\n",
    "# Show the density too to check\n",
    "show_density(imgs_sampled)"
   ]
  },
  {
   "cell_type": "code",
   "execution_count": null,
   "metadata": {
    "colab": {
     "autoexec": {
      "startup": false,
      "wait_interval": 0
     },
     "output_extras": [
      {
       "item_id": 1
      },
      {
       "item_id": 2
      }
     ]
    },
    "colab_type": "code",
    "executionInfo": {
     "elapsed": 708,
     "status": "ok",
     "timestamp": 1495021438003,
     "user": {
      "displayName": "",
      "photoUrl": "",
      "userId": ""
     },
     "user_tz": -60
    },
    "id": "l2g-xquoTJaG",
    "outputId": "3e3df869-eab7-4428-9749-81440506f0d6"
   },
   "outputs": [],
   "source": [
    "## Fix orientation to 0.8 rad\n",
    "latents_sampled = sample_latent(size=5000)\n",
    "latents_sampled[:, 3] = 5\n",
    "indices_sampled = latent_to_index(latents_sampled)\n",
    "imgs_sampled = imgs[indices_sampled]\n",
    "\n",
    "# Samples\n",
    "show_images_grid(imgs_sampled, 9)\n",
    "\n",
    "# Density should not be different than for all orientations\n",
    "show_density(imgs_sampled)"
   ]
  },
  {
   "cell_type": "code",
   "execution_count": null,
   "metadata": {},
   "outputs": [],
   "source": [
    "#plt.imshow(imgs[10], cmap='gray')\n",
    "#from PIL import Image\n",
    "#t=np.stack((imgs[10]*255,imgs[10]*255,imgs[10]*255), axis=-1)\n",
    "#plt.imshow(t)"
   ]
  },
  {
   "cell_type": "code",
   "execution_count": 10,
   "metadata": {},
   "outputs": [],
   "source": [
    "from tqdm import tqdm\n",
    "\n",
    "def create_correlated_data():\n",
    "    \n",
    "    dataset_zip = np.load('dsprites_ndarray_co1sh3sc6or40x32y32_64x64.npz', allow_pickle=True, encoding='latin1')\n",
    "    imgs = dataset_zip['imgs']\n",
    "    mod_images = np.zeros_like(imgs, dtype=np.float32)\n",
    "    \n",
    "    latents_values = dataset_zip['latents_values']\n",
    "    latents_classes = dataset_zip['latents_classes']\n",
    "    metadata = dataset_zip['metadata'][()]\n",
    "    ORIENTATION = 3\n",
    "    orientation_values = metadata['latents_possible_values']['orientation']\n",
    "    \n",
    "    ONE_TWENTY_DEG, TWO_FORTY_DEG = orientation_values[13], orientation_values[26] #2.0943951, 4.1887902\n",
    "    COLOR = 0\n",
    "    \n",
    "    # go thru all the images and alter the color depending on the value of rotation\n",
    "    \n",
    "    hist = {\n",
    "        'a':0,'b':0,'c':0\n",
    "    }\n",
    "    \n",
    "    for i, latent_value in tqdm(enumerate(latents_values)):\n",
    "        \n",
    "        #print(latent_value[ORIENTATION])\n",
    "        \n",
    "        # Compare orientation and depending on the value dim the image brightness\n",
    "        if latent_value[ORIENTATION] >= 0 and latent_value[ORIENTATION] <= ONE_TWENTY_DEG:\n",
    "            \n",
    "            latents_values[i][COLOR] = 1\n",
    "            latents_classes[i][COLOR] = 1\n",
    "            mod_images[i] = imgs[i] * 0.50\n",
    "            hist['a'] += 1\n",
    "        \n",
    "        elif latent_value[ORIENTATION] > ONE_TWENTY_DEG and latent_value[ORIENTATION] <= TWO_FORTY_DEG:\n",
    "            \n",
    "            latents_values[i][COLOR] = 2\n",
    "            latents_classes[i][COLOR] = 2\n",
    "            mod_images[i] = imgs[i] * 0.75\n",
    "            hist['b'] += 1\n",
    "        \n",
    "        else: \n",
    "            \n",
    "            # If greater than 120 degrees, then no modification\n",
    "            mod_images[i] = imgs[i]\n",
    "            hist['c'] += 1\n",
    "        \n",
    "    return hist, mod_images, latents_values, latents_classes\n"
   ]
  },
  {
   "cell_type": "code",
   "execution_count": 11,
   "metadata": {},
   "outputs": [
    {
     "name": "stderr",
     "output_type": "stream",
     "text": [
      "737280it [00:04, 157083.11it/s]\n"
     ]
    }
   ],
   "source": [
    "h, mod_imgs, mod_latents_values, mod_latents_classes = create_correlated_data()"
   ]
  },
  {
   "cell_type": "code",
   "execution_count": 12,
   "metadata": {},
   "outputs": [
    {
     "name": "stdout",
     "output_type": "stream",
     "text": [
      "{'a': 258048, 'b': 239616, 'c': 239616}\n"
     ]
    }
   ],
   "source": [
    "#from matplotlib import cm\n",
    "#norm = cm.colors.Normalize(vmax=1.0, vmin=0.0)\n",
    "#plt.imshow(imgs[0],cmap='gray', norm=norm)\n",
    "print(h)\n",
    "#print(0,2*np.pi/3)\n",
    "#print(2*np.pi/3,(4*np.pi)/3)\n",
    "#print(4*np.pi/3,2*np.pi)"
   ]
  },
  {
   "cell_type": "code",
   "execution_count": null,
   "metadata": {},
   "outputs": [],
   "source": [
    "# {'orientation': array([\n",
    "\n",
    "# DIMMEST (0 to 120deg)\n",
    "#        0.        , 0.16110732, 0.32221463, 0.48332195, 0.64442926,\n",
    "#        0.80553658, 0.96664389, 1.12775121, 1.28885852, 1.44996584,\n",
    "#        1.61107316, 1.77218047, 1.93328779, 2.0943951 , \n",
    "\n",
    "# DiM (120deg to 240deg)\n",
    "#        2.25550242,\n",
    "#        2.41660973, 2.57771705, 2.73882436, 2.89993168, 3.061039  ,\n",
    "#        3.22214631, 3.38325363, 3.54436094, 3.70546826, 3.86657557,\n",
    "#        4.02768289, 4.1887902 , \n",
    "\n",
    "# WHITE (240deg to 360deg)\n",
    "#        4.34989752, 4.51100484, 4.67211215,\n",
    "#        4.83321947, 4.99432678, 5.1554341 , 5.31654141, 5.47764873,\n",
    "#        5.63875604, 5.79986336, 5.96097068, 6.12207799, 6.28318531])}\n",
    "\n",
    "# 0.0 2.0943951023931957\n",
    "# 2.2555024179619028 4.188790204786391\n",
    "# 4.349897520355098 6.283185307179586\n",
    "\n",
    "latents_sampled = sample_latent(size=12)\n",
    "latents_sampled[:, 3] =  35 #20 , 35\n",
    "indices_sampled = latent_to_index(latents_sampled)\n",
    "imgs_sampled_0 = mod_imgs[indices_sampled]\n",
    "show_images_grid(imgs_sampled_0, 12)"
   ]
  },
  {
   "cell_type": "code",
   "execution_count": 13,
   "metadata": {},
   "outputs": [],
   "source": [
    "# TODO: Save the data back somehow\n",
    "\n",
    "COLOR = 0\n",
    "metadata['latents_sizes'][COLOR] = 3\n",
    "\n",
    "np.savez_compressed(\n",
    "    \"dsprites_ndarray_co3sh3sc6or40x32y32_64x64.npz\",\n",
    "    imgs=mod_imgs,\n",
    "    latents_values=mod_latents_values,\n",
    "    latents_classes=mod_latents_classes,\n",
    "    metadata=metadata\n",
    ")"
   ]
  },
  {
   "cell_type": "code",
   "execution_count": 14,
   "metadata": {},
   "outputs": [
    {
     "name": "stdout",
     "output_type": "stream",
     "text": [
      "Keys in the dataset: KeysView(<numpy.lib.npyio.NpzFile object at 0x7f5ecad84df0>)\n",
      "Metadata: \n",
      " {'date': 'April 2017', 'description': 'Disentanglement test Sprites dataset.Procedurally generated 2D shapes, from 6 disentangled latent factors.This dataset uses 6 latents, controlling the color, shape, scale, rotation and position of a sprite. All possible variations of the latents are present. Ordering along dimension 1 is fixed and can be mapped back to the exact latent values that generated that image.We made sure that the pixel outputs are different. No noise added.', 'version': 1, 'latents_names': ('color', 'shape', 'scale', 'orientation', 'posX', 'posY'), 'latents_possible_values': {'orientation': array([0.        , 0.16110732, 0.32221463, 0.48332195, 0.64442926,\n",
      "       0.80553658, 0.96664389, 1.12775121, 1.28885852, 1.44996584,\n",
      "       1.61107316, 1.77218047, 1.93328779, 2.0943951 , 2.25550242,\n",
      "       2.41660973, 2.57771705, 2.73882436, 2.89993168, 3.061039  ,\n",
      "       3.22214631, 3.38325363, 3.54436094, 3.70546826, 3.86657557,\n",
      "       4.02768289, 4.1887902 , 4.34989752, 4.51100484, 4.67211215,\n",
      "       4.83321947, 4.99432678, 5.1554341 , 5.31654141, 5.47764873,\n",
      "       5.63875604, 5.79986336, 5.96097068, 6.12207799, 6.28318531]), 'posX': array([0.        , 0.03225806, 0.06451613, 0.09677419, 0.12903226,\n",
      "       0.16129032, 0.19354839, 0.22580645, 0.25806452, 0.29032258,\n",
      "       0.32258065, 0.35483871, 0.38709677, 0.41935484, 0.4516129 ,\n",
      "       0.48387097, 0.51612903, 0.5483871 , 0.58064516, 0.61290323,\n",
      "       0.64516129, 0.67741935, 0.70967742, 0.74193548, 0.77419355,\n",
      "       0.80645161, 0.83870968, 0.87096774, 0.90322581, 0.93548387,\n",
      "       0.96774194, 1.        ]), 'posY': array([0.        , 0.03225806, 0.06451613, 0.09677419, 0.12903226,\n",
      "       0.16129032, 0.19354839, 0.22580645, 0.25806452, 0.29032258,\n",
      "       0.32258065, 0.35483871, 0.38709677, 0.41935484, 0.4516129 ,\n",
      "       0.48387097, 0.51612903, 0.5483871 , 0.58064516, 0.61290323,\n",
      "       0.64516129, 0.67741935, 0.70967742, 0.74193548, 0.77419355,\n",
      "       0.80645161, 0.83870968, 0.87096774, 0.90322581, 0.93548387,\n",
      "       0.96774194, 1.        ]), 'scale': array([0.5, 0.6, 0.7, 0.8, 0.9, 1. ]), 'shape': array([1., 2., 3.]), 'color': array([1.])}, 'latents_sizes': array([ 3,  3,  6, 40, 32, 32]), 'author': 'lmatthey@google.com', 'title': 'dSprites dataset'}\n",
      "[[ 1  0  0  0  0  0]\n",
      " [ 1  0  0  0  0  1]\n",
      " [ 1  0  0  0  0  2]\n",
      " ...\n",
      " [ 0  2  5 39 31 29]\n",
      " [ 0  2  5 39 31 30]\n",
      " [ 0  2  5 39 31 31]]\n",
      "[ 3  3  6 40 32 32]\n",
      "[737280 245760  40960   1024     32      1]\n"
     ]
    }
   ],
   "source": [
    "# Load dataset again to test \n",
    "\n",
    "dataset_zip = np.load('dsprites_ndarray_co3sh3sc6or40x32y32_64x64.npz', allow_pickle=True)\n",
    "\n",
    "print('Keys in the dataset:', dataset_zip.keys())\n",
    "imgs = dataset_zip['imgs']\n",
    "latents_values = dataset_zip['latents_values']\n",
    "latents_classes = dataset_zip['latents_classes']\n",
    "metadata = dataset_zip['metadata'][()]\n",
    "\n",
    "print('Metadata: \\n', metadata)\n",
    "print(latents_classes)\n",
    "\n",
    "# Define number of values per latents and functions to convert to indices\n",
    "latents_sizes = metadata['latents_sizes']\n",
    "latents_bases = np.concatenate((latents_sizes[::-1].cumprod()[::-1][1:], np.array([1,])))\n",
    "\n",
    "print(latents_sizes)\n",
    "print(latents_bases)"
   ]
  },
  {
   "cell_type": "code",
   "execution_count": 15,
   "metadata": {},
   "outputs": [],
   "source": [
    "\n",
    "FULL_BRIGHTNESS_RANGE = range(0,14)\n",
    "FIFTY_PCT_BRIGHTNESS_RANGE = range(14,27)\n",
    "SEVENTY_FIVE_PCT_BRIGHTNESS_RANGE = range(27,40)\n",
    "\n",
    "def map_fn(orientation_values):\n",
    "    \n",
    "    def get_color_from_orientation(orientation):\n",
    "        \n",
    "        FIFTY_PCT_BRIGHTNESS_RANGE = range(0,14)\n",
    "        SEVENTY_FIVE_PCT_BRIGHTNESS_RANGE = range(14,27)\n",
    "        FULL_BRIGHTNESS_RANGE = range(27,40)\n",
    "\n",
    "        if orientation in FULL_BRIGHTNESS_RANGE:\n",
    "            return 0\n",
    "        if orientation in FIFTY_PCT_BRIGHTNESS_RANGE:\n",
    "            return 1\n",
    "        if orientation in SEVENTY_FIVE_PCT_BRIGHTNESS_RANGE:\n",
    "            return 2\n",
    "        raise NotImplemented()\n",
    "        \n",
    "    return np.vectorize(get_color_from_orientation)(orientation_values)\n",
    "\n"
   ]
  },
  {
   "cell_type": "code",
   "execution_count": 20,
   "metadata": {},
   "outputs": [
    {
     "name": "stdout",
     "output_type": "stream",
     "text": [
      "[[ 1.  0.  1.  3. 28. 13.]\n",
      " [ 2.  1.  5. 17. 13.  0.]\n",
      " [ 1.  1.  2. 11. 23.  8.]\n",
      " [ 2.  1.  2. 24. 17. 22.]\n",
      " [ 0.  0.  5. 31. 29. 12.]\n",
      " [ 0.  1.  1. 32. 14. 22.]\n",
      " [ 1.  1.  4.  9.  2.  6.]\n",
      " [ 1.  0.  4. 13. 11.  3.]\n",
      " [ 0.  2.  4. 30.  0. 20.]\n",
      " [ 0.  0.  1. 36.  2. 29.]\n",
      " [ 0.  0.  1. 32. 24.  5.]\n",
      " [ 0.  1.  4. 35. 11. 22.]\n",
      " [ 1.  0.  3.  5. 30.  8.]\n",
      " [ 2.  0.  4. 21. 28.  6.]\n",
      " [ 2.  1.  5. 26. 13. 22.]\n",
      " [ 2.  1.  1. 20.  8. 19.]]\n"
     ]
    },
    {
     "data": {
      "image/png": "[encoded data removed]",
      "text/plain": [
       "<Figure size 864x864 with 16 Axes>"
      ]
     },
     "metadata": {},
     "output_type": "display_data"
    }
   ],
   "source": [
    "# Sample latents randomly\n",
    "latents_sampled = sample_latent(size=16,correlated=True, \n",
    "                                in_idx=ORIENTATION, out_idx=COLOR, map_fn=map_fn)\n",
    "print(latents_sampled)\n",
    "# Select images\n",
    "indices_sampled = latent_to_index(latents_sampled)\n",
    "imgs_sampled = imgs[indices_sampled]\n",
    "# Show images\n",
    "show_images_grid(imgs_sampled, 16)"
   ]
  },
  {
   "cell_type": "code",
   "execution_count": null,
   "metadata": {
    "scrolled": true
   },
   "outputs": [],
   "source": [
    "# Sample latents randomly\n",
    "latents_sampled = sample_latent(size=16,correlated=True, \n",
    "                                in_idx=ORIENTATION, out_idx=COLOR, map_fn=map_fn)\n",
    "print(latents_sampled)\n",
    "# Select images\n",
    "indices_sampled = latent_to_index(latents_sampled)\n",
    "imgs_sampled = imgs[indices_sampled]\n",
    "# Show images\n",
    "show_images_grid(imgs_sampled, 16)"
   ]
  },
  {
   "cell_type": "code",
   "execution_count": null,
   "metadata": {},
   "outputs": [],
   "source": [
    "print(latents_sampled[:,COLOR])\n",
    "print(latents_sampled[:,ORIENTATION])\n",
    "\n",
    "latents_sampled[:,COLOR] = map_fn(latents_sampled[:,ORIENTATION])\n",
    "\n",
    "print(latents_sampled[:,COLOR])\n",
    "print(map_fn(latents_sampled[:,ORIENTATION]))"
   ]
  },
  {
   "cell_type": "code",
   "execution_count": null,
   "metadata": {},
   "outputs": [],
   "source": [
    "print(metadata['latents_possible_values']['orientation'][0],metadata['latents_possible_values']['orientation'][13])\n",
    "print(metadata['latents_possible_values']['orientation'][14],metadata['latents_possible_values']['orientation'][26])\n",
    "print(metadata['latents_possible_values']['orientation'][27],metadata['latents_possible_values']['orientation'][39])\n"
   ]
  },
  {
   "cell_type": "code",
   "execution_count": null,
   "metadata": {},
   "outputs": [],
   "source": [
    "4.1887902 < metadata['latents_possible_values']['orientation'][26]"
   ]
  },
  {
   "cell_type": "code",
   "execution_count": null,
   "metadata": {},
   "outputs": [],
   "source": [
    "from disentanglement_lib.data.ground_truth import ground_truth_data\n",
    "from disentanglement_lib.data.ground_truth import util\n",
    "from disentanglement_lib.data.ground_truth import dsprites\n",
    "from tensorflow.compat.v1 import gfile\n",
    "import numpy as np\n",
    "\n",
    "CORRELATED_DSPRITES_PATH = \"dsprites_ndarray_co3sh3sc6or40x32y32_64x64.npz\"\n",
    "\n",
    "class CorrelatedDSprites(dsprites.DSprites):\n",
    "  \"\"\"\n",
    "  The ground-truth factors of variation are (in the default setting):\n",
    "  0 - color (3 shades of gray)\n",
    "  1 - shape (3 different values)\n",
    "  2 - scale (6 different values)\n",
    "  3 - orientation (40 different values)\n",
    "  4 - position x (32 different values)\n",
    "  5 - position y (32 different values)\n",
    "  \"\"\"\n",
    "\n",
    "  def __init__(self, latent_factor_indices=None):\n",
    "    # By default, all factors (including shape) are considered ground truth\n",
    "    # factors.\n",
    "    if latent_factor_indices is None:\n",
    "      latent_factor_indices = list(range(6))\n",
    "    self.latent_factor_indices = latent_factor_indices\n",
    "    self.data_shape = [64, 64, 1]\n",
    "    # Load the data so that we can sample from it.\n",
    "    with gfile.Open(CORRELATED_DSPRITES_PATH, \"rb\") as data_file:\n",
    "      data = np.load(data_file, allow_pickle=True)\n",
    "      self.images = np.array(data[\"imgs\"])\n",
    "      self.factor_sizes = np.array(\n",
    "          data[\"metadata\"][()][\"latents_sizes\"], dtype=np.int64)\n",
    "    self.full_factor_sizes = [1, 3, 6, 40, 32, 32]\n",
    "    self.factor_bases = np.prod(self.factor_sizes) / np.cumprod(\n",
    "        self.factor_sizes)\n",
    "    self.state_space = util.SplitDiscreteStateSpace(self.factor_sizes,\n",
    "                                                    self.latent_factor_indices)\n",
    "\n",
    "  @property\n",
    "  def num_factors(self):\n",
    "    return self.state_space.num_latent_factors\n",
    "\n",
    "  @property\n",
    "  def factors_num_values(self):\n",
    "    return [self.full_factor_sizes[i] for i in self.latent_factor_indices]\n",
    "\n",
    "  @property\n",
    "  def observation_shape(self):\n",
    "    return self.data_shape\n",
    "\n",
    "\n",
    "  def sample_factors(self, num, random_state):\n",
    "    \"\"\"Sample a batch of factors Y.\"\"\"\n",
    "    return self.state_space.sample_latent_factors(num, random_state)\n",
    "\n",
    "  def sample_observations_from_factors(self, factors, random_state):\n",
    "    return self.sample_observations_from_factors_no_color(factors, random_state)\n",
    "\n",
    "  def sample_observations_from_factors_no_color(self, factors, random_state):\n",
    "    \"\"\"Sample a batch of observations X given a batch of factors Y.\"\"\"\n",
    "    \n",
    "    # We have to ignore the color factor since it depends on rotation\n",
    "    # and is not sequentially generated. Hence we reset it to full-white factor\n",
    "    factors[:,0] = np.zeros(len(factors))\n",
    "    all_factors = self.state_space.sample_all_factors(factors, random_state)\n",
    "    indices = np.array(np.dot(all_factors, self.factor_bases), dtype=np.int64)\n",
    "    return np.expand_dims(self.images[indices].astype(np.float32), axis=3)\n",
    "\n",
    "  def _sample_factor(self, i, num, random_state):\n",
    "    return random_state.randint(self.factor_sizes[i], size=num)"
   ]
  },
  {
   "cell_type": "code",
   "execution_count": null,
   "metadata": {},
   "outputs": [],
   "source": []
  },
  {
   "cell_type": "code",
   "execution_count": null,
   "metadata": {},
   "outputs": [],
   "source": [
    "cdsprites = CorrelatedDSprites()"
   ]
  },
  {
   "cell_type": "code",
   "execution_count": null,
   "metadata": {},
   "outputs": [],
   "source": [
    "import matplotlib.pyplot as plt\n",
    "from matplotlib import cm\n",
    "\n",
    "rs = np.random.RandomState(44)\n",
    "\n",
    "factors = cdsprites.sample_factors(16, rs)\n",
    "print(factors)\n",
    "obs = cdsprites.sample_observations_from_factors_no_color(factors, rs)\n",
    "norm = cm.colors.Normalize(vmax=1.0, vmin=0.0)\n",
    "show_images_grid(obs, len(obs))"
   ]
  },
  {
   "cell_type": "code",
   "execution_count": null,
   "metadata": {},
   "outputs": [],
   "source": []
  }
 ],
 "metadata": {
  "colab": {
   "default_view": {},
   "last_runtime": {
    "build_target": "",
    "kind": "local"
   },
   "name": "deepmind_2d_shapes_dataset_public.ipynb",
   "provenance": [
    {
     "file_id": "/piper/depot/google3/experimental/deepmind/concepts/dataset2dshapes/public/deepmind_2d_shapes_dataset.ipynb?workspaceId=lmatthey:lmatthey-2dshapes-dataset:580:citc",
     "timestamp": 1493149332589
    },
    {
     "file_id": "0BxLiVtkN33-wbmVnbVQwcUhjY0U",
     "timestamp": 1493149291483
    }
   ],
   "version": "0.3.2",
   "views": {}
  },
  "kernelspec": {
   "display_name": "Python 3 (ipykernel)",
   "language": "python",
   "name": "python3"
  },
  "language_info": {
   "codemirror_mode": {
    "name": "ipython",
    "version": 3
   },
   "file_extension": ".py",
   "mimetype": "text/x-python",
   "name": "python",
   "nbconvert_exporter": "python",
   "pygments_lexer": "ipython3",
   "version": "3.9.6"
  }
 },
 "nbformat": 4,
 "nbformat_minor": 1
}
