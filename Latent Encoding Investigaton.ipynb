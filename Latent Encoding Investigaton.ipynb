{
 "cells": [
  {
   "cell_type": "code",
   "execution_count": 1,
   "id": "b053d40e",
   "metadata": {},
   "outputs": [
    {
     "name": "stdout",
     "output_type": "stream",
     "text": [
      "/home/c01muya/vae-disentanglement/disentanglement_lib_pl\n"
     ]
    }
   ],
   "source": [
    "cd /home/c01muya/vae-disentanglement/disentanglement_lib_pl"
   ]
  },
  {
   "cell_type": "code",
   "execution_count": 2,
   "id": "997811d0",
   "metadata": {},
   "outputs": [],
   "source": [
    "import yaml\n",
    "import numpy as np\n",
    "import pandas as pd\n",
    "import os\n",
    "import matplotlib.pyplot as plt\n",
    "from matplotlib.pyplot import figure\n",
    "import seaborn as sns\n",
    "from collections import defaultdict, namedtuple\n",
    "from tqdm import tqdm\n",
    "\n",
    "import torch\n",
    "import torchvision.utils as vutils\n",
    "import torchvision.transforms.functional as T\n",
    "from torch.utils.data import DataLoader\n",
    "from torchvision import transforms\n",
    "\n",
    "from vae_experiment import VAEExperiment\n",
    "from common.data_loader import DSpritesDataset, ThreeShapesDataset, ContinumDataset\n",
    "# import (correlated)dsprites\n",
    "\n",
    "# Change figure aesthetics\n",
    "%matplotlib inline\n",
    "sns.set_context('talk', font_scale=1.2, rc={'lines.linewidth': 1.5})"
   ]
  },
  {
   "cell_type": "code",
   "execution_count": 5,
   "id": "7363deb7",
   "metadata": {},
   "outputs": [],
   "source": [
    "curr_dev = torch.device(\"cuda:1\")\n",
    "dset_name = 'dsprites_correlated'\n",
    "dset_dir = '../datasets'\n",
    "batch_size = 144\n",
    "seed = 123\n",
    "\n",
    "ModelParams = namedtuple('ModelParams', [\"z_dim\", \"l_dim\", \"num_labels\" , \"in_channels\", \n",
    "                                        \"image_size\", \"batch_size\", \"w_recon\", \"w_kld\", \n",
    "                                         \"controlled_capacity_increase\", \"max_c\", \"iterations_c\",\n",
    "                                        \"w_tc\", \"w_infovae\", \"w_dipvae\", \"lambda_od\", \"lambda_d_factor\",\n",
    "                                        \"encoder\", \"decoder\", \"loss_terms\"])\n",
    "\n",
    "\n",
    "experiment_config = dict(\n",
    "        in_channels=1,\n",
    "        image_size=64,\n",
    "        LR=1e-4,\n",
    "        weight_decay=0.0,       \n",
    "        dataset=dset_name,\n",
    "        datapath=dset_dir,\n",
    "        droplast=True,        \n",
    "        batch_size=batch_size,\n",
    "        num_workers=8,\n",
    "        pin_memory=True,\n",
    "        seed=seed,\n",
    "        evaluation_metrics=None,\n",
    "        visdom_on=False,\n",
    "        save_dir=None\n",
    ")\n",
    "\n",
    "def load_vae_model(algo_name, checkpoint_path, curr_dev, \n",
    "                   model_params, exp_params):\n",
    "    \n",
    "    import models\n",
    "    \n",
    "    vae_model_class = getattr(models, algo_name)\n",
    "    vae_model = vae_model_class(model_params)\n",
    "        \n",
    "    vae_experiment = VAEExperiment.load_from_checkpoint(\n",
    "        checkpoint_path,\n",
    "        map_location=curr_dev,\n",
    "        vae_model=vae_model, \n",
    "        params=exp_params)\n",
    "\n",
    "    vae_experiment = vae_experiment.to(curr_dev)\n",
    "\n",
    "    return vae_experiment\n",
    "\n",
    "def get_latent_activations(dataset, vae_model, batch_size = 32, batches = None):\n",
    "   \n",
    "    loader = DataLoader(dataset, batch_size=batch_size, shuffle = True, drop_last=True)\n",
    "    latent_act_dict = defaultdict(list)\n",
    "    batches_processed = 0\n",
    "    for x_batch, label_batch in tqdm(loader):\n",
    "        \n",
    "        if batches is not None and batches_processed >= batches:\n",
    "            break\n",
    "        \n",
    "        # First we encode this batch\n",
    "        x_batch = x_batch.to(curr_dev)\n",
    "        #print(x_batch.shape)\n",
    "        mu_batch, log_var_batch = vae_model.model.encode(x_batch)\n",
    "\n",
    "        # Then, we get \\mu and \\sigma for this batch\n",
    "        mu_batch = mu_batch.detach().cpu().numpy()\n",
    "        log_var_batch = log_var_batch.detach().cpu().numpy()\n",
    "\n",
    "        # and labels\n",
    "        label_batch = label_batch.cpu().numpy()\n",
    "        \n",
    "        # using labels, we place all \\mu's belonging to same class together\n",
    "        for b in range(batch_size):\n",
    "\n",
    "            mu_of_this_x = mu_batch[b]\n",
    "            \n",
    "            # for reach dimension\n",
    "            for m, m_dim in enumerate(mu_of_this_x): \n",
    "                \n",
    "                latent_act_dict[m].append(m_dim.item())\n",
    "                \n",
    "        batches_processed += 1\n",
    "    \n",
    "    return latent_act_dict\n",
    "\n",
    "def plot_latent_dist(activations, label=\"Factor X\"):\n",
    "\n",
    "    fig, axes = plt.subplots(1)\n",
    "    axes.hist(activations, label=label, align='mid')\n",
    "    axes.legend(prop={'size': 10},loc='upper left')"
   ]
  },
  {
   "cell_type": "markdown",
   "id": "6e902eea",
   "metadata": {},
   "source": [
    "# $\\beta$-VAE on dsprites with $\\beta$-VAE metric"
   ]
  },
  {
   "cell_type": "code",
   "execution_count": null,
   "id": "7abd070b",
   "metadata": {},
   "outputs": [],
   "source": []
  },
  {
   "cell_type": "markdown",
   "id": "c0f2b9d0",
   "metadata": {},
   "source": [
    "# $\\beta$-VAE on dsprites_correlated with $\\beta$-VAE metric"
   ]
  },
  {
   "cell_type": "code",
   "execution_count": null,
   "id": "c592b2da",
   "metadata": {},
   "outputs": [],
   "source": [
    "beta = 1.0\n",
    "z_dim = 6\n",
    "bvae_model_params = ModelParams(\n",
    "    z_dim, 6, 0, 1, 64, batch_size, 1.0, beta,\n",
    "    False, 0, 0,\n",
    "    0, 0, 0, 0, 0,\n",
    "    ['SimpleGaussianConv64'],['SimpleConv64'], None\n",
    ")\n",
    "\n",
    "checkpoint_path=\"../pl-dt-test/dsprites_uncorrelated_beta1_vae/version_0/checkpoints/epoch=29-step=115199.ckpt\",\n",
    "\n",
    "model_for_correlated_dsprites = load_vae_model(\n",
    "    algo_name='BetaVAE', \n",
    "    checkpoint_path=checkpoint_path, \n",
    "    curr_dev=curr_dev,\n",
    "    model_params=bvae_model_params,\n",
    "    exp_params=experiment_config\n",
    ")\n",
    "\n",
    "\n",
    "correlated_dsprites_dataset = DSpritesDataset(root=\"../datasets/dsprites/\", \n",
    "                                              split=\"train\", correlated=True, transforms=transforms.ToTensor())\n",
    "\n",
    "activations_for_correlated_dsprites = get_latent_activations(correlated_dsprites_dataset, \n",
    "                                                             model_for_correlated_dsprites,\n",
    "                                                            batch_size=256,\n",
    "                                                            batches=None)"
   ]
  },
  {
   "cell_type": "code",
   "execution_count": null,
   "id": "4a92118d",
   "metadata": {},
   "outputs": [],
   "source": [
    "checkpoint_path = \"../pl-dt-test/dsprites_noncorrelated_beta1_vae/version_0/checkpoints/epoch=29-step=115199.ckpt\"\n",
    "\n",
    "model_for_dsprites = load_vae_model(\n",
    "    algo_name='BetaVAE', \n",
    "    checkpoint_path=checkpoint_path, \n",
    "    curr_dev=curr_dev,\n",
    "    model_params=bvae_model_params,\n",
    "    exp_params=experiment_config\n",
    ")\n",
    "\n",
    "\n",
    "dsprites_dataset = DSpritesDataset(root=\"../datasets/dsprites/\", \n",
    "                                              split=\"train\", correlated=False, transforms=transforms.ToTensor())\n",
    "\n",
    "activations_for_dsprites = get_latent_activations(dsprites_dataset, \n",
    "                                                             model_for_dsprites,\n",
    "                                                            batch_size=256,\n",
    "                                                            batches=None)\n"
   ]
  },
  {
   "cell_type": "code",
   "execution_count": null,
   "id": "f6cf5526",
   "metadata": {},
   "outputs": [],
   "source": [
    "activations_for_dsprites.keys()"
   ]
  },
  {
   "cell_type": "code",
   "execution_count": null,
   "id": "59322016",
   "metadata": {},
   "outputs": [],
   "source": [
    "plot_latent_dist(activations_for_correlated_dsprites[0], label=\"Factor 0\")"
   ]
  },
  {
   "cell_type": "code",
   "execution_count": null,
   "id": "53160d8a",
   "metadata": {},
   "outputs": [],
   "source": [
    "plot_latent_dist(activations_for_correlated_dsprites[1], label=\"Factor 1\")"
   ]
  },
  {
   "cell_type": "code",
   "execution_count": null,
   "id": "51d34012",
   "metadata": {},
   "outputs": [],
   "source": [
    "activations_for_dsprites = get_latent_activations(dsprites_dataset, \n",
    "                                                             model_for_correlated_dsprites,\n",
    "                                                            batch_size=256,\n",
    "                                                            batches=None)"
   ]
  },
  {
   "cell_type": "code",
   "execution_count": 6,
   "id": "5b8e6925",
   "metadata": {},
   "outputs": [],
   "source": [
    "beta = 1.0\n",
    "z_dim = 2\n",
    "bvae_model_params = ModelParams(\n",
    "    z_dim, 6, 0, 1, 64, batch_size, 1.0, beta,\n",
    "    False, 0, 0,\n",
    "    0, 0, 0, 0, 0,\n",
    "    ['SimpleGaussianConv64'],['SimpleConv64'], None\n",
    ")\n",
    "\n",
    "# checkpoint_path=\"../pl-dt-test/dsprites_correlated_beta1_vae/version_5/checkpoints/epoch=30-step=119039.ckpt\",\n",
    "checkpoint_path=\"../pl-dt-test/3shapesnoisy_beta1/version_0/checkpoints/epoch=99-step=13999.ckpt\"\n",
    "\n",
    "model = load_vae_model(\n",
    "    algo_name='BetaVAE', \n",
    "    checkpoint_path=checkpoint_path, \n",
    "    curr_dev=curr_dev,\n",
    "    model_params=bvae_model_params,\n",
    "    exp_params=experiment_config\n",
    ")\n",
    "\n",
    "threeshapes_dataset = ThreeShapesDataset(root=\"../datasets/threeshapesnoisy/\", \n",
    "                                              split=\"train\", transforms=transforms.ToTensor())\n"
   ]
  },
  {
   "cell_type": "code",
   "execution_count": 7,
   "id": "71f618d5",
   "metadata": {},
   "outputs": [
    {
     "name": "stderr",
     "output_type": "stream",
     "text": [
      "100%|██████████████████████████████████████████████████| 9/9 [00:03<00:00,  2.47it/s]\n"
     ]
    },
    {
     "data": {
      "image/png": "[encoded data removed]",
      "text/plain": [
       "<Figure size 432x288 with 1 Axes>"
      ]
     },
     "metadata": {
      "needs_background": "light"
     },
     "output_type": "display_data"
    }
   ],
   "source": [
    "\n",
    "activations_for_threeshapes_dataset = get_latent_activations(threeshapes_dataset, \n",
    "                                                             model,\n",
    "                                                            batch_size=1000,\n",
    "                                                            batches=None)\n",
    "\n",
    "plot_latent_dist(activations_for_threeshapes_dataset[0], label=\"Factor 0\")"
   ]
  },
  {
   "cell_type": "code",
   "execution_count": null,
   "id": "ab28a2f7",
   "metadata": {},
   "outputs": [],
   "source": [
    "checkpoint_path=\"../pl-dt-test/threeshapes_beta1_vae/version_0/checkpoints/epoch=99-step=5199.ckpt\"\n",
    "\n",
    "model_ = load_vae_model(\n",
    "    algo_name='BetaVAE', \n",
    "    checkpoint_path=checkpoint_path, \n",
    "    curr_dev=curr_dev,\n",
    "    model_params=bvae_model_params,\n",
    "    exp_params=experiment_config\n",
    ")\n",
    "\n",
    "threeshapes_dataset = ThreeShapesDataset(root=\"../datasets/threeshapes/\", \n",
    "                                              split=\"train\", transforms=transforms.ToTensor())\n",
    "activations_for_threeshapes_dataset = get_latent_activations(threeshapes_dataset, \n",
    "                                                             model_,\n",
    "                                                            batch_size=9000,\n",
    "                                                            batches=None)\n",
    "\n",
    "plot_latent_dist(activations_for_threeshapes_dataset[0], label=\"Factor 0\")"
   ]
  },
  {
   "cell_type": "code",
   "execution_count": null,
   "id": "33fc4395",
   "metadata": {},
   "outputs": [],
   "source": [
    "activations_for_threeshapes_dataset.keys()"
   ]
  },
  {
   "cell_type": "code",
   "execution_count": null,
   "id": "eacabc8b",
   "metadata": {},
   "outputs": [],
   "source": []
  }
 ],
 "metadata": {
  "kernelspec": {
   "display_name": "Python 3 (ipykernel)",
   "language": "python",
   "name": "python3"
  },
  "language_info": {
   "codemirror_mode": {
    "name": "ipython",
    "version": 3
   },
   "file_extension": ".py",
   "mimetype": "text/x-python",
   "name": "python",
   "nbconvert_exporter": "python",
   "pygments_lexer": "ipython3",
   "version": "3.9.6"
  }
 },
 "nbformat": 4,
 "nbformat_minor": 5
}
