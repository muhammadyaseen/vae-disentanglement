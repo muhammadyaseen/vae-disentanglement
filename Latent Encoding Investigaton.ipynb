{
 "cells": [
  {
   "cell_type": "code",
   "execution_count": 7,
   "id": "b053d40e",
   "metadata": {},
   "outputs": [
    {
     "name": "stdout",
     "output_type": "stream",
     "text": [
      "/home/c01muya/vae-disentanglement/disentanglement_lib_pl\n"
     ]
    }
   ],
   "source": [
    "cd /home/c01muya/vae-disentanglement/disentanglement_lib_pl"
   ]
  },
  {
   "cell_type": "code",
   "execution_count": 8,
   "id": "997811d0",
   "metadata": {},
   "outputs": [],
   "source": [
    "import yaml\n",
    "import numpy as np\n",
    "import pandas as pd\n",
    "import os\n",
    "import matplotlib.pyplot as plt\n",
    "from matplotlib.pyplot import figure\n",
    "import seaborn as sns\n",
    "from collections import defaultdict, namedtuple\n",
    "from tqdm import tqdm\n",
    "\n",
    "import torch\n",
    "import torchvision.utils as vutils\n",
    "import torchvision.transforms.functional as T\n",
    "from torch.utils.data import DataLoader\n",
    "from torchvision import transforms\n",
    "\n",
    "from vae_experiment import VAEExperiment\n",
    "from common.data_loader import DSpritesDataset, ThreeShapesDataset, ContinumDataset\n",
    "# import (correlated)dsprites\n",
    "\n",
    "# Change figure aesthetics\n",
    "%matplotlib inline\n",
    "sns.set_context('talk', font_scale=1.2, rc={'lines.linewidth': 1.5})"
   ]
  },
  {
   "cell_type": "code",
   "execution_count": 3,
   "id": "a7762cc1",
   "metadata": {},
   "outputs": [],
   "source": [
    "curr_dev = torch.device(\"cuda:1\")\n",
    "dset_name = 'dsprites_correlated'\n",
    "dset_dir = '../datasets'\n",
    "batch_size = 144\n",
    "seed = 123\n",
    "\n",
    "ModelParams = namedtuple('ModelParams', [\"z_dim\", \"l_dim\", \"num_labels\" , \"in_channels\", \n",
    "                                        \"image_size\", \"batch_size\", \"w_recon\", \"w_kld\", \n",
    "                                         \"controlled_capacity_increase\", \"max_c\", \"iterations_c\",\n",
    "                                        \"w_tc\", \"w_infovae\", \"w_dipvae\", \"lambda_od\", \"lambda_d_factor\",\n",
    "                                        \"encoder\", \"decoder\", \"loss_terms\"])\n",
    "\n",
    "\n",
    "experiment_config = dict(\n",
    "        in_channels=1,\n",
    "        image_size=64,\n",
    "        LR=1e-4,\n",
    "        weight_decay=0.0,       \n",
    "        dataset=dset_name,\n",
    "        datapath=dset_dir,\n",
    "        droplast=True,        \n",
    "        batch_size=batch_size,\n",
    "        num_workers=8,\n",
    "        pin_memory=True,\n",
    "        seed=seed,\n",
    "        evaluation_metrics=None,\n",
    "        visdom_on=False,\n",
    "        save_dir=None\n",
    ")"
   ]
  },
  {
   "cell_type": "code",
   "execution_count": 4,
   "id": "7363deb7",
   "metadata": {},
   "outputs": [],
   "source": [
    "def load_vae_model(algo_name, checkpoint_path, curr_dev, \n",
    "                   model_params, exp_params):\n",
    "    \n",
    "    import models\n",
    "    \n",
    "    vae_model_class = getattr(models, algo_name)\n",
    "    vae_model = vae_model_class(model_params)\n",
    "        \n",
    "    vae_experiment = VAEExperiment.load_from_checkpoint(\n",
    "        checkpoint_path,\n",
    "        map_location=curr_dev,\n",
    "        vae_model=vae_model, \n",
    "        params=exp_params)\n",
    "\n",
    "    vae_experiment = vae_experiment.to(curr_dev)\n",
    "\n",
    "    return vae_experiment\n",
    "\n",
    "def get_latent_activations(dataset, vae_model, batch_size = 32, batches = None):\n",
    "   \n",
    "    loader = DataLoader(dataset, batch_size=batch_size, shuffle = True, drop_last=True)\n",
    "    latent_act_dict = defaultdict(list)\n",
    "    latent_acts = []\n",
    "    for _ in range(vae_model.model.z_dim):\n",
    "        latent_acts.append([])\n",
    "    \n",
    "    batches_processed = 0\n",
    "    for x_batch, label_batch in tqdm(loader):\n",
    "        \n",
    "        if batches is not None and batches_processed >= batches:\n",
    "            break\n",
    "        \n",
    "        # First we encode this batch\n",
    "        x_batch = x_batch.to(curr_dev)\n",
    "        #print(x_batch.shape)\n",
    "        mu_batch, log_var_batch = vae_model.model.encode(x_batch)\n",
    "\n",
    "        # Then, we get \\mu and \\sigma for this batch\n",
    "        mu_batch = mu_batch.detach().cpu().numpy()\n",
    "        log_var_batch = log_var_batch.detach().cpu().numpy()\n",
    "\n",
    "        # and labels\n",
    "        label_batch = label_batch.cpu().numpy()\n",
    "        \n",
    "        # using labels, we place all \\mu's belonging to same class together\n",
    "        for b in range(batch_size):\n",
    "\n",
    "            mu_of_this_x = mu_batch[b]\n",
    "            \n",
    "            # for reach dimension\n",
    "            for m, m_dim in enumerate(mu_of_this_x): \n",
    "                \n",
    "                #latent_act_dict[m].append(m_dim.item())\n",
    "                latent_acts[m].append(m_dim.item())\n",
    "                \n",
    "        batches_processed += 1\n",
    "    \n",
    "    return latent_acts #latent_act_dict\n",
    "\n",
    "def plot_latent_dist(activations, label=\"Factor X\"):\n",
    "\n",
    "    fig, axes = plt.subplots(1)\n",
    "    axes.hist(activations, label=label, align='mid')\n",
    "    axes.legend(prop={'size': 10},loc='upper left')"
   ]
  },
  {
   "cell_type": "code",
   "execution_count": 5,
   "id": "fbb8a476",
   "metadata": {},
   "outputs": [],
   "source": [
    "def get_latent_activations_with_labels(dataset, vae_model, batch_size = 32, batches = None):\n",
    "   \n",
    "    loader = DataLoader(dataset, batch_size=batch_size, shuffle = True, drop_last=True)\n",
    "    label_and_latent_act_dict = defaultdict(list)\n",
    "    \n",
    "    batches_processed = 0\n",
    "    \n",
    "    for x_batch, label_batch in tqdm(loader):\n",
    "        \n",
    "        if batches is not None and batches_processed >= batches:\n",
    "            break\n",
    "        \n",
    "        # First we encode this batch and get \\mu and \\sigma\n",
    "        x_batch = x_batch.to(curr_dev)\n",
    "        mu_batch, log_var_batch = vae_model.model.encode(x_batch)\n",
    "        \n",
    "        # convert to numpy format so that we can easily use in matplotlib\n",
    "        mu_batch = mu_batch.detach().cpu().numpy()\n",
    "        log_var_batch = log_var_batch.detach().cpu().numpy()\n",
    "        label_batch = label_batch.cpu().numpy()\n",
    "        \n",
    "        # using labels, we place all \\mu's belonging to same class together\n",
    "        for b in range(batch_size):\n",
    "\n",
    "            mu_of_this_x = mu_batch[b]\n",
    "            \n",
    "            # this only words if label is 1-dim\n",
    "            label_of_this_x = label_batch[b].item()\n",
    "            label_and_latent_act_dict[label_of_this_x].append(mu_of_this_x)\n",
    "        \n",
    "        batches_processed += 1\n",
    "    \n",
    "    # convert to numpy for easier manipulation / indexing\n",
    "    for k,v in label_and_latent_act_dict.items():\n",
    "        label_and_latent_act_dict[k] = np.array(label_and_latent_act_dict[k])\n",
    "    \n",
    "    return label_and_latent_act_dict"
   ]
  },
  {
   "cell_type": "markdown",
   "id": "c0f2b9d0",
   "metadata": {},
   "source": [
    "# $\\beta$-VAE on 3shapesNoisy"
   ]
  },
  {
   "cell_type": "code",
   "execution_count": 4,
   "id": "c592b2da",
   "metadata": {},
   "outputs": [
    {
     "name": "stderr",
     "output_type": "stream",
     "text": [
      "100%|████████████████████████████████████████████████| 35/35 [00:03<00:00, 10.34it/s]\n"
     ]
    }
   ],
   "source": [
    "beta = 1.0\n",
    "z_dim = 2\n",
    "batch_size = 64\n",
    "bvae_model_params = ModelParams(\n",
    "    z_dim, 6, 0, 1, 64, batch_size, 1.0, beta,\n",
    "    False, 0, 0,\n",
    "    0, 0, 0, 0, 0,\n",
    "    ['SimpleGaussianConv64'],['SimpleConv64'], None\n",
    ")\n",
    "experiment_config = dict(\n",
    "        in_channels=1,\n",
    "        image_size=64,\n",
    "        LR=1e-4,\n",
    "        weight_decay=0.0,       \n",
    "        dataset='threeshapesnoisy',\n",
    "        datapath='../datasets',\n",
    "        droplast=True,        \n",
    "        batch_size=batch_size,\n",
    "        num_workers=8,\n",
    "        pin_memory=True,\n",
    "        seed=seed,\n",
    "        evaluation_metrics=None,\n",
    "        visdom_on=False,\n",
    "        save_dir=None\n",
    ")\n",
    "\n",
    "checkpoint_path=\"../pl-dt-test/3shapesnoisy_beta1/version_0/checkpoints/epoch=99-step=13999.ckpt\"\n",
    "\n",
    "model_for_threeshapesn_dataset = load_vae_model(\n",
    "    algo_name='BetaVAE', \n",
    "    checkpoint_path=checkpoint_path, \n",
    "    curr_dev=curr_dev,\n",
    "    model_params=bvae_model_params,\n",
    "    exp_params=experiment_config\n",
    ")\n",
    "\n",
    "\n",
    "threeshapesn_dataset = ThreeShapesDataset(root=\"../datasets/threeshapesnoisy/\", \n",
    "                                              split=\"train\", transforms=transforms.ToTensor())\n",
    "\n",
    "activations_for_threeshapesn_dataset = get_latent_activations(threeshapesn_dataset, \n",
    "                                                             model_for_threeshapesn_dataset,\n",
    "                                                            batch_size=256)"
   ]
  },
  {
   "cell_type": "code",
   "execution_count": 23,
   "id": "0d432cd6",
   "metadata": {},
   "outputs": [
    {
     "name": "stderr",
     "output_type": "stream",
     "text": [
      "100%|████████████████████████████████████████████████| 35/35 [00:01<00:00, 19.17it/s]\n"
     ]
    }
   ],
   "source": [
    "acts = get_latent_activations_with_labels(threeshapesn_dataset, model_for_threeshapesn_dataset, batch_size = 256)"
   ]
  },
  {
   "cell_type": "code",
   "execution_count": 37,
   "id": "b91de9db",
   "metadata": {},
   "outputs": [
    {
     "data": {
      "text/plain": [
       "<matplotlib.legend.Legend at 0x7f412c3d60a0>"
      ]
     },
     "execution_count": 37,
     "metadata": {},
     "output_type": "execute_result"
    },
    {
     "data": {
      "image/png": "[encoded data removed]",
      "text/plain": [
       "<Figure size 432x288 with 1 Axes>"
      ]
     },
     "metadata": {
      "needs_background": "light"
     },
     "output_type": "display_data"
    }
   ],
   "source": [
    "plt.hist(acts[4.0][:,0], label=\"Factor 4.0\",color='limegreen')\n",
    "plt.hist(acts[3.0][:,0], label=\"Factor 3.0\",color='orange')\n",
    "plt.hist(acts[500.0][:,0], label=\"Factor 500.0\", color='cornflowerblue')\n",
    "plt.legend(prop={'size': 10}, loc='upper left')"
   ]
  },
  {
   "cell_type": "code",
   "execution_count": 38,
   "id": "33ed7810",
   "metadata": {},
   "outputs": [
    {
     "data": {
      "text/plain": [
       "<matplotlib.legend.Legend at 0x7f412c578a60>"
      ]
     },
     "execution_count": 38,
     "metadata": {},
     "output_type": "execute_result"
    },
    {
     "data": {
      "image/png": "[encoded data removed]",
      "text/plain": [
       "<Figure size 432x288 with 1 Axes>"
      ]
     },
     "metadata": {
      "needs_background": "light"
     },
     "output_type": "display_data"
    }
   ],
   "source": [
    "plt.hist(acts[4.0][:,1], label=\"Factor 4.0\",color='limegreen')\n",
    "plt.hist(acts[3.0][:,1], label=\"Factor 3.0\",color='orange')\n",
    "plt.hist(acts[500.0][:,1], label=\"Factor 500.0\", color='cornflowerblue')\n",
    "plt.legend(prop={'size': 10}, loc='upper left')"
   ]
  },
  {
   "cell_type": "markdown",
   "id": "ddff2810",
   "metadata": {},
   "source": [
    "# $\\beta$-VAE on dsprites_full"
   ]
  },
  {
   "cell_type": "code",
   "execution_count": 45,
   "id": "a706a633",
   "metadata": {},
   "outputs": [
    {
     "name": "stderr",
     "output_type": "stream",
     "text": [
      "  0%|▏                                             | 10/2592 [00:00<00:46, 55.26it/s]\n"
     ]
    }
   ],
   "source": [
    "beta = 1.0\n",
    "z_dim = 6\n",
    "batch_size = 64\n",
    "bvae_model_params = ModelParams(\n",
    "    z_dim, 6, 0, 1, 64, batch_size, 1.0, beta,\n",
    "    False, 0, 0,\n",
    "    0, 0, 0, 0, 0,\n",
    "    ['SimpleGaussianConv64'],['SimpleConv64'], None\n",
    ")\n",
    "experiment_config = dict(\n",
    "        in_channels=1,\n",
    "        image_size=64,\n",
    "        LR=1e-4,\n",
    "        weight_decay=0.0,       \n",
    "        dataset='dsprites_full',\n",
    "        datapath='../datasets',\n",
    "        droplast=True,        \n",
    "        batch_size=batch_size,\n",
    "        num_workers=8,\n",
    "        pin_memory=True,\n",
    "        seed=seed,\n",
    "        evaluation_metrics=None,\n",
    "        visdom_on=False,\n",
    "        save_dir=None\n",
    ")\n",
    "\n",
    "checkpoint_path=\"../pl-dt-test/dsprites_full_beta1/version_0/checkpoints/epoch=51-step=539135.ckpt\"\n",
    "\n",
    "model_for_dsprites = load_vae_model(\n",
    "    algo_name='BetaVAE', \n",
    "    checkpoint_path=checkpoint_path, \n",
    "    curr_dev=curr_dev,\n",
    "    model_params=bvae_model_params,\n",
    "    exp_params=experiment_config\n",
    ")\n",
    "\n",
    "model_for_dsprites.eval()\n",
    "\n",
    "dsprites_dataset = DSpritesDataset(root=\"../datasets/dsprites/\", \n",
    "                                              split=\"train\", transforms=transforms.ToTensor())"
   ]
  },
  {
   "cell_type": "code",
   "execution_count": 60,
   "id": "33bebe16",
   "metadata": {},
   "outputs": [
    {
     "name": "stderr",
     "output_type": "stream",
     "text": [
      " 39%|████████████████▌                          | 1000/2592 [00:07<00:11, 137.22it/s]\n"
     ]
    }
   ],
   "source": [
    "dsprites_acts = get_latent_activations(dsprites_dataset, \n",
    "                                                             model_for_dsprites,\n",
    "                                                            batch_size=256,\n",
    "                                                              batches=1000)"
   ]
  },
  {
   "cell_type": "code",
   "execution_count": 61,
   "id": "6326fa0f",
   "metadata": {},
   "outputs": [
    {
     "data": {
      "image/png": "[encoded data removed]",
      "text/plain": [
       "<Figure size 720x1080 with 6 Axes>"
      ]
     },
     "metadata": {
      "needs_background": "light"
     },
     "output_type": "display_data"
    }
   ],
   "source": [
    "fig, axes = plt.subplots(6, figsize=(10,15))\n",
    "\n",
    "for a in range(6):\n",
    "    axes[a].hist(dsprites_acts[a], label=f\"Factor {a}\", color='limegreen')\n",
    "    axes[a].tick_params(axis='both', which='major', labelsize=10)\n",
    "    axes[a].legend(prop={'size': 10}, loc='upper left')\n",
    "    axes[a].set_xlim(-5,5)"
   ]
  },
  {
   "cell_type": "markdown",
   "id": "6f121956",
   "metadata": {},
   "source": [
    "# $\\beta$-VAE on dsprites_correlated"
   ]
  },
  {
   "cell_type": "code",
   "execution_count": 16,
   "id": "b9fcf721",
   "metadata": {},
   "outputs": [],
   "source": [
    "beta = 1.0\n",
    "z_dim = 6\n",
    "batch_size = 64\n",
    "bvae_model_params = ModelParams(\n",
    "    z_dim, 6, 0, 1, 64, batch_size, 1.0, beta,\n",
    "    False, 0, 0,\n",
    "    0, 0, 0, 0, 0,\n",
    "    ['SimpleGaussianConv64'],['SimpleConv64'], None\n",
    ")\n",
    "experiment_config = dict(\n",
    "        in_channels=1,\n",
    "        image_size=64,\n",
    "        LR=1e-4,\n",
    "        weight_decay=0.0,       \n",
    "        dataset='dsprites_correlated',\n",
    "        datapath='../datasets',\n",
    "        droplast=True,        \n",
    "        batch_size=batch_size,\n",
    "        num_workers=8,\n",
    "        pin_memory=True,\n",
    "        seed=seed,\n",
    "        evaluation_metrics=None,\n",
    "        visdom_on=False,\n",
    "        save_dir=None\n",
    ")\n",
    "\n",
    "checkpoint_path=\"../pl-dt-test/dsprites_correlated_beta1/version_0/checkpoints/epoch=53-step=279935.ckpt\"\n",
    "\n",
    "model_for_dsprites = load_vae_model(\n",
    "    algo_name='BetaVAE', \n",
    "    checkpoint_path=checkpoint_path, \n",
    "    curr_dev=curr_dev,\n",
    "    model_params=bvae_model_params,\n",
    "    exp_params=experiment_config\n",
    ")\n",
    "\n",
    "model_for_dsprites.eval()\n",
    "\n",
    "dsprites_dataset = DSpritesDataset(root=\"../datasets/dsprites/\", \n",
    "                                              split=\"train\", correlated=True, transforms=transforms.ToTensor())"
   ]
  },
  {
   "cell_type": "code",
   "execution_count": 17,
   "id": "29b136e4",
   "metadata": {},
   "outputs": [
    {
     "name": "stderr",
     "output_type": "stream",
     "text": [
      " 77%|█████████████████████████████████▏         | 2000/2592 [00:16<00:05, 117.67it/s]\n"
     ]
    }
   ],
   "source": [
    "dsprites_acts = get_latent_activations(dsprites_dataset, \n",
    "                                                             model_for_dsprites,\n",
    "                                                            batch_size=256,\n",
    "                                                              batches=2000)"
   ]
  },
  {
   "cell_type": "code",
   "execution_count": 18,
   "id": "e52c3b6b",
   "metadata": {},
   "outputs": [
    {
     "data": {
      "image/png": "[encoded data removed]",
      "text/plain": [
       "<Figure size 720x1080 with 6 Axes>"
      ]
     },
     "metadata": {
      "needs_background": "light"
     },
     "output_type": "display_data"
    }
   ],
   "source": [
    "fig, axes = plt.subplots(6, figsize=(10,15))\n",
    "\n",
    "for a in range(6):\n",
    "    axes[a].hist(dsprites_acts[a], label=f\"Factor {a}\", color='limegreen')\n",
    "    axes[a].tick_params(axis='both', which='major', labelsize=10)\n",
    "    axes[a].legend(prop={'size': 10}, loc='upper left')\n",
    "    axes[a].set_xlim(-5,5)"
   ]
  },
  {
   "cell_type": "code",
   "execution_count": 35,
   "id": "1a78be32",
   "metadata": {},
   "outputs": [],
   "source": [
    "def viz_traverse(vae_model, random_img, limit=3, inter=2/3, loc=-1):\n",
    "\n",
    "    import random\n",
    "    \n",
    "    with torch.no_grad():\n",
    "\n",
    "        interpolation = torch.arange(-limit, limit+0.1, inter)\n",
    "        random_img_z, _ = vae_model.model.encode(random_img)\n",
    "        #print(random_img_z, random_img_z.shape)\n",
    "        \n",
    "        samples = []\n",
    "\n",
    "        for row in range(vae_model.model.z_dim):\n",
    "            if loc != -1 and row != loc:\n",
    "                continue\n",
    "\n",
    "            z = random_img_z.clone()\n",
    "\n",
    "            for val in interpolation:\n",
    "                z[:, row] = val\n",
    "                sample = vae_model.model.decode(z).data\n",
    "                samples.append(sample)\n",
    "\n",
    "            samples = torch.cat(samples, dim=0).cpu()\n",
    "\n",
    "    return samples"
   ]
  },
  {
   "cell_type": "code",
   "execution_count": 48,
   "id": "23ca8bb9",
   "metadata": {},
   "outputs": [
    {
     "name": "stdout",
     "output_type": "stream",
     "text": [
      "tensor([[-0.8438,  0.0042, -1.7147,  1.2606,  0.6605,  0.2610]],\n",
      "       device='cuda:1') torch.Size([1, 6])\n",
      "tensor([[-0.8438,  0.0042, -1.7147,  1.2606,  0.6605,  0.2610]],\n",
      "       device='cuda:1') torch.Size([1, 6])\n",
      "tensor([[-0.8438,  0.0042, -1.7147,  1.2606,  0.6605,  0.2610]],\n",
      "       device='cuda:1') torch.Size([1, 6])\n",
      "tensor([[-0.8438,  0.0042, -1.7147,  1.2606,  0.6605,  0.2610]],\n",
      "       device='cuda:1') torch.Size([1, 6])\n",
      "tensor([[-0.8438,  0.0042, -1.7147,  1.2606,  0.6605,  0.2610]],\n",
      "       device='cuda:1') torch.Size([1, 6])\n",
      "tensor([[-0.8438,  0.0042, -1.7147,  1.2606,  0.6605,  0.2610]],\n",
      "       device='cuda:1') torch.Size([1, 6])\n",
      "torch.Size([60, 1, 64, 64])\n"
     ]
    }
   ],
   "source": [
    "rnd_image = dsprites_dataset.__getitem__(10)[0].unsqueeze(0).to(curr_dev)\n",
    "\n",
    "gifs = []\n",
    "\n",
    "for i in range(6):\n",
    "    gifs.append(\n",
    "        viz_traverse(model_for_dsprites, rnd_image, limit=3, inter=2/3, loc=i)\n",
    "    )\n",
    "\n",
    "all_gifs = torch.cat(gifs, dim=0)\n",
    "\n",
    "print(all_gifs.shape)"
   ]
  },
  {
   "cell_type": "code",
   "execution_count": 37,
   "id": "ffb077c7",
   "metadata": {},
   "outputs": [
    {
     "data": {
      "text/plain": [
       "torch.Size([10, 1, 64, 64])"
      ]
     },
     "execution_count": 37,
     "metadata": {},
     "output_type": "execute_result"
    }
   ],
   "source": [
    "gifs.shape"
   ]
  },
  {
   "cell_type": "code",
   "execution_count": 50,
   "id": "5c16559a",
   "metadata": {},
   "outputs": [],
   "source": [
    "gif_grid = vutils.make_grid(all_gifs, nrow=10)"
   ]
  },
  {
   "cell_type": "code",
   "execution_count": 51,
   "id": "8c714500",
   "metadata": {},
   "outputs": [
    {
     "data": {
      "text/plain": [
       "<matplotlib.image.AxesImage at 0x7fb048594250>"
      ]
     },
     "execution_count": 51,
     "metadata": {},
     "output_type": "execute_result"
    },
    {
     "data": {
      "image/png": "[encoded data removed]",
      "text/plain": [
       "<Figure size 720x1080 with 1 Axes>"
      ]
     },
     "metadata": {
      "needs_background": "light"
     },
     "output_type": "display_data"
    }
   ],
   "source": [
    "fig, axes = plt.subplots(1,figsize=(10,15))\n",
    "axes.imshow(gif_grid.permute(1,2,0))"
   ]
  },
  {
   "cell_type": "code",
   "execution_count": null,
   "id": "55d21700",
   "metadata": {},
   "outputs": [],
   "source": []
  }
 ],
 "metadata": {
  "kernelspec": {
   "display_name": "Python 3 (ipykernel)",
   "language": "python",
   "name": "python3"
  },
  "language_info": {
   "codemirror_mode": {
    "name": "ipython",
    "version": 3
   },
   "file_extension": ".py",
   "mimetype": "text/x-python",
   "name": "python",
   "nbconvert_exporter": "python",
   "pygments_lexer": "ipython3",
   "version": "3.9.6"
  }
 },
 "nbformat": 4,
 "nbformat_minor": 5
}
